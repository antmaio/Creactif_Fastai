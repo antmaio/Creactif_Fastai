{
  "nbformat": 4,
  "nbformat_minor": 0,
  "metadata": {
    "colab": {
      "provenance": []
    },
    "kernelspec": {
      "name": "python3",
      "display_name": "Python 3"
    },
    "language_info": {
      "name": "python"
    }
  },
  "cells": [
    {
      "cell_type": "markdown",
      "source": [
        "Ce notebook est un complément d'information avec des exercices sur la manipulation des commandes Linux dans Google Colab"
      ],
      "metadata": {
        "id": "MBu0KU-ELtQr"
      }
    },
    {
      "cell_type": "code",
      "source": [
        "!ls #Affiche les dossiers et fichiers présents"
      ],
      "metadata": {
        "colab": {
          "base_uri": "https://localhost:8080/"
        },
        "id": "U4rPQW1mLzTV",
        "outputId": "890f996c-7f49-4125-e651-2dcf8b7b6569"
      },
      "execution_count": null,
      "outputs": [
        {
          "output_type": "stream",
          "name": "stdout",
          "text": [
            "anscombe.json\t\t      data\t\t     README.md\n",
            "california_housing_test.csv   mnist_test.csv\n",
            "california_housing_train.csv  mnist_train_small.csv\n"
          ]
        }
      ]
    },
    {
      "cell_type": "code",
      "execution_count": null,
      "metadata": {
        "colab": {
          "base_uri": "https://localhost:8080/"
        },
        "id": "G4TGgQLVLmEJ",
        "outputId": "c8e53024-0406-473c-8103-6efafd466066"
      },
      "outputs": [
        {
          "output_type": "stream",
          "name": "stdout",
          "text": [
            "/content/sample_data\n",
            "/content/sample_data\n"
          ]
        }
      ],
      "source": [
        "#Navigue dans le dossier sample_data à partir de la racine\n",
        "%cd ./sample_data \n",
        "#Visualise l'espace de travail courant\n",
        "!pwd"
      ]
    },
    {
      "cell_type": "code",
      "source": [
        "!mkdir data \n",
        "#Créée le dossier data dans l'espace de travail"
      ],
      "metadata": {
        "id": "gDYgwwc5MC1F",
        "colab": {
          "base_uri": "https://localhost:8080/"
        },
        "outputId": "7beb2ead-3595-4a86-f72c-6a798f5ce815"
      },
      "execution_count": null,
      "outputs": [
        {
          "output_type": "stream",
          "name": "stdout",
          "text": [
            "mkdir: cannot create directory ‘data’: File exists\n"
          ]
        }
      ]
    },
    {
      "cell_type": "code",
      "source": [
        "%cd .. \n",
        "#le .. indique le dossier parent. Cette commande permet donc de retourner en arrière dans l'arborescence des dossiers"
      ],
      "metadata": {
        "id": "3QBtrsY7N913",
        "colab": {
          "base_uri": "https://localhost:8080/"
        },
        "outputId": "3dd5eb05-361b-41d7-b70b-f5f054490bd5"
      },
      "execution_count": null,
      "outputs": [
        {
          "output_type": "stream",
          "name": "stdout",
          "text": [
            "/content\n"
          ]
        }
      ]
    },
    {
      "cell_type": "code",
      "source": [
        "%cd sample_data/data"
      ],
      "metadata": {
        "colab": {
          "base_uri": "https://localhost:8080/"
        },
        "id": "-pjiv4a5MFPf",
        "outputId": "754cc89f-284c-4437-a9c9-a16de89aedb9"
      },
      "execution_count": null,
      "outputs": [
        {
          "output_type": "stream",
          "name": "stdout",
          "text": [
            "/content/sample_data/data\n"
          ]
        }
      ]
    },
    {
      "cell_type": "code",
      "source": [
        "!mkdir cat\n",
        "!mkdir dog\n",
        "!mkdir fish\n",
        "!mkdir bird"
      ],
      "metadata": {
        "id": "qkgQYNDOMXls"
      },
      "execution_count": null,
      "outputs": []
    },
    {
      "cell_type": "code",
      "source": [
        "#la commande !rm -r supprime le dossier bird de manière récursive (c'est-à-dire avec tout son contenu)\n",
        "!rm -r bird"
      ],
      "metadata": {
        "id": "xNmoUtKrNi8G"
      },
      "execution_count": null,
      "outputs": []
    },
    {
      "cell_type": "code",
      "source": [
        "!pwd"
      ],
      "metadata": {
        "id": "LwuhgaFUN3dm",
        "colab": {
          "base_uri": "https://localhost:8080/"
        },
        "outputId": "22cc90a9-4976-4c20-bfc3-d8dc8cbcc6d3"
      },
      "execution_count": null,
      "outputs": [
        {
          "output_type": "stream",
          "name": "stdout",
          "text": [
            "/content/sample_data/data\n"
          ]
        }
      ]
    },
    {
      "cell_type": "code",
      "source": [
        "%cd cat"
      ],
      "metadata": {
        "colab": {
          "base_uri": "https://localhost:8080/"
        },
        "id": "7LqYiaNhTFKo",
        "outputId": "f83a40de-7a73-4816-9a99-beeafa59e70e"
      },
      "execution_count": null,
      "outputs": [
        {
          "output_type": "stream",
          "name": "stdout",
          "text": [
            "/content/sample_data/data/cat\n"
          ]
        }
      ]
    },
    {
      "cell_type": "code",
      "source": [
        "# Ecrit un fichier texte appelé my_cat.txt\n",
        "with open('my_cat.txt', 'w') as writefile: \n",
        "    writefile.write(\"Meow Meow!\")"
      ],
      "metadata": {
        "id": "of7YdRAqTRtI"
      },
      "execution_count": null,
      "outputs": []
    },
    {
      "cell_type": "code",
      "source": [
        "#Copie-Colle le contenu du fichier my_cat.txt dans my_dog.txt \n",
        "!cp my_cat.txt ../dog/my_dog.txt"
      ],
      "metadata": {
        "id": "2WYa9j3-TZdO"
      },
      "execution_count": null,
      "outputs": []
    },
    {
      "cell_type": "code",
      "source": [
        "#Coupe-Colle le fichier my_cat.txt dans my_bird.txt\n",
        "!mv my_cat.txt ../fish/my_fish.txt"
      ],
      "metadata": {
        "id": "9oWrOEH8T84m"
      },
      "execution_count": null,
      "outputs": []
    },
    {
      "cell_type": "markdown",
      "source": [
        "## Exercices\n",
        "\n",
        "1. Créez un dossier 'Fastai' dans '/content'\n",
        "2. Ecrivez un document texte dans Fastai, peu importe le contenu\n",
        "3. Copiez ce contenu dans un dossier 'data' dans Fastai\n",
        "4. Supprimer le document texte dans le dossier 'Fastai'\n",
        "5. Naviguer dans l'espace de travail 'data'. "
      ],
      "metadata": {
        "id": "hHYcgCMKVR-R"
      }
    },
    {
      "cell_type": "code",
      "source": [
        "#Votre code ici"
      ],
      "metadata": {
        "id": "eL1WoTGaVJW-"
      },
      "execution_count": 17,
      "outputs": []
    }
  ]
}