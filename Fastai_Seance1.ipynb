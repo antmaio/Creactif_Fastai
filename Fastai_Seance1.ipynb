{
  "nbformat": 4,
  "nbformat_minor": 0,
  "metadata": {
    "colab": {
      "provenance": [],
      "collapsed_sections": []
    },
    "kernelspec": {
      "name": "python3",
      "display_name": "Python 3"
    },
    "language_info": {
      "name": "python"
    }
  },
  "cells": [
    {
      "cell_type": "markdown",
      "source": [
        "# **Introduction à Python et au notebook Google Colab**\n",
        "\n",
        "Le notebook s'organise en cellules. Le code Python s'écrit dans les cellules de code. Il est également possible d'avoir des cellules de texte.\n",
        "\n",
        "Pour éxecuter le code Python dans une cellule, il suffit de cliquer sur la flèche *play* à la gauche de la cellule. Il est également possible d'utiliser les raccourcis clavier :\n",
        "- ctrl + Enter pour éxecuter.\n",
        "- shift + Enter pour éxecuter et passer à la cellule suivante.\n",
        "\n",
        "\n",
        "Python permet d'assigner des valeurs à des variables. Dans l'exemple ci-dessous, la valeur 4 est assignée à la variable *a*"
      ],
      "metadata": {
        "id": "TGyaM94PJJjM"
      }
    },
    {
      "cell_type": "code",
      "execution_count": null,
      "metadata": {
        "id": "N3xxl4daucFA"
      },
      "outputs": [],
      "source": [
        "a = 4"
      ]
    },
    {
      "cell_type": "markdown",
      "source": [
        "La fonction print() permet d'afficher la valeur de n'importe quelle variable python"
      ],
      "metadata": {
        "id": "eLXnTruzLIu2"
      }
    },
    {
      "cell_type": "code",
      "source": [
        "print(a)"
      ],
      "metadata": {
        "colab": {
          "base_uri": "https://localhost:8080/"
        },
        "id": "mODGgrYSK6Gh",
        "outputId": "2c47e309-d7dd-41d9-d99f-2a38e61f741a"
      },
      "execution_count": null,
      "outputs": [
        {
          "output_type": "stream",
          "name": "stdout",
          "text": [
            "4\n"
          ]
        }
      ]
    },
    {
      "cell_type": "markdown",
      "source": [
        "Les commentaires son des portions du code source ignorées lors de l'éxecution du code car destinées en général à un lecteur humain et non censées influencer l’exécution du programme. "
      ],
      "metadata": {
        "id": "jS-Me30nLahO"
      }
    },
    {
      "cell_type": "code",
      "source": [
        "#Ceci est un commentaire : cette ligne de code sera ignorée lors de l'éxecution du code\n",
        "\"\"\"\n",
        "Ceci sont des lignes\n",
        "de codes à ignorer\n",
        "\"\"\"\n"
      ],
      "metadata": {
        "colab": {
          "base_uri": "https://localhost:8080/",
          "height": 35
        },
        "id": "8NsSMym6LDix",
        "outputId": "0d8e466a-9100-4fbc-f767-89360a8624c9"
      },
      "execution_count": null,
      "outputs": [
        {
          "output_type": "execute_result",
          "data": {
            "text/plain": [
              "'\\nCeci sont des lignes\\nde codes à ignorer\\n'"
            ],
            "application/vnd.google.colaboratory.intrinsic+json": {
              "type": "string"
            }
          },
          "metadata": {},
          "execution_count": 13
        }
      ]
    },
    {
      "cell_type": "markdown",
      "source": [
        "Il existe plusieurs types de variables définies dans Python. Nous allons nous expliquer certains d'entre eux"
      ],
      "metadata": {
        "id": "rrvpG3O7MS1r"
      }
    },
    {
      "cell_type": "code",
      "source": [
        "my_string = \"Hello !\" #le type de donnée 'string' est relatif aux données textuelles\n",
        "my_float = 4.0 #le type de donnée 'float' est relatif aux nombres réels\n",
        "my_int = 4 #le type de donnée 'integer' est relatif aux nombres entiers\n",
        "my_bool = True #le type de donnée 'boolean' est relatif aux données binaires  \n",
        "my_list = [my_string, my_float, my_int] #le type de donnée 'list' permet de concatener plusieurs variables\n",
        "my_tuple = (my_string, my_float, my_int) #le type de donnée 'tuple' permet de concatener plusieurs variables (read-only)"
      ],
      "metadata": {
        "id": "POtf-zExL3gk"
      },
      "execution_count": 2,
      "outputs": []
    },
    {
      "cell_type": "code",
      "source": [
        "#Nous accédons à chaque variable de la liste à partir de l'indice (la position de l'élément dans la liste) \n",
        "print(my_list[0], my_list[1], my_list[2])"
      ],
      "metadata": {
        "colab": {
          "base_uri": "https://localhost:8080/"
        },
        "id": "RPXFKHKTM2Ky",
        "outputId": "f972f462-c6e0-458f-b30b-028a2b92ddce"
      },
      "execution_count": null,
      "outputs": [
        {
          "output_type": "stream",
          "name": "stdout",
          "text": [
            "Hello ! 4.0 4\n"
          ]
        }
      ]
    },
    {
      "cell_type": "markdown",
      "source": [
        "Les opérations (liste non exhaustive)"
      ],
      "metadata": {
        "id": "Q0Dtsp7fO5eE"
      }
    },
    {
      "cell_type": "code",
      "source": [
        "a = 3 \n",
        "b = 5\n",
        "\n",
        "#Les opérateurs standards\n",
        "c = a+b\n",
        "d = a-b\n",
        "e = a/b\n",
        "f = a*b \n",
        "\n",
        "print(c, d, e, f)\n",
        "\n",
        "#Les opérations particulières\n",
        "g = a**b #a exposant b\n",
        "h = a//b #a divisé par b et arrondi à l'unité inférieur \n",
        "\n",
        "print(g, h)"
      ],
      "metadata": {
        "colab": {
          "base_uri": "https://localhost:8080/"
        },
        "id": "ktWSaCkGOfwi",
        "outputId": "7e2fb93c-bb77-438d-a866-f1b4c28432d8"
      },
      "execution_count": null,
      "outputs": [
        {
          "output_type": "stream",
          "name": "stdout",
          "text": [
            "8 -2 0.6 15\n",
            "243 0\n"
          ]
        }
      ]
    },
    {
      "cell_type": "code",
      "source": [
        "#Opérations de comparaison\n",
        "print(a == b) #Est-ce que a est égal à b ?\n",
        "print(a<b)\n",
        "print(a>b)"
      ],
      "metadata": {
        "colab": {
          "base_uri": "https://localhost:8080/"
        },
        "id": "GsQwV6fPeqWm",
        "outputId": "e329b4bd-fb74-4fa0-974c-cbe1998bda77"
      },
      "execution_count": null,
      "outputs": [
        {
          "output_type": "stream",
          "name": "stdout",
          "text": [
            "False\n",
            "True\n",
            "False\n"
          ]
        }
      ]
    },
    {
      "cell_type": "markdown",
      "source": [
        "Remarque : Les variables prennent toujours comme valeur la dernière qui leur est assignée !"
      ],
      "metadata": {
        "id": "BcPIiS5qP6HV"
      }
    },
    {
      "cell_type": "code",
      "source": [
        "a = 5\n",
        "a = 4\n",
        "print(a)"
      ],
      "metadata": {
        "colab": {
          "base_uri": "https://localhost:8080/"
        },
        "id": "d3jJhlnqP355",
        "outputId": "d2571141-f19f-42f9-876a-919c2d29dbda"
      },
      "execution_count": null,
      "outputs": [
        {
          "output_type": "stream",
          "name": "stdout",
          "text": [
            "4\n"
          ]
        }
      ]
    },
    {
      "cell_type": "markdown",
      "source": [
        "### **Exercice**\n",
        "\n",
        "1.   Vérifiez si l'addition de deux nombres est plus petite que leur produit\n",
        "2.   Essayez d'additioner deux strings. Que constatez vous ?\n",
        "3.   Essayez d'additioner deux listes. Que constatez vous ? \n",
        "4.   Créez deux listes d'entier et additioner les éléments la liste un par un.\n",
        "\n",
        "Veuillez à afficher les résultats pour chacun des points."
      ],
      "metadata": {
        "id": "BK3fW00O-HiA"
      }
    },
    {
      "cell_type": "code",
      "source": [
        "#Votre code ici"
      ],
      "metadata": {
        "id": "7BOmKfPUAc6N"
      },
      "execution_count": 55,
      "outputs": []
    },
    {
      "cell_type": "markdown",
      "source": [
        "# Librairies utiles"
      ],
      "metadata": {
        "id": "FIEHM1Xldrdt"
      }
    },
    {
      "cell_type": "markdown",
      "source": [
        "Dans un cas d'utilisation concret de Python, nous serons amener à travailler sur un grand nombre de données structurées. C'est pourquoi il est essentiel de maîtriser la gestion de large matrice de données. Pour ce faire, il existe un outil relatif à Python : **Numpy**\n",
        "\n",
        "Numpy est ce qu'on appelle une librairie externe qui peut être importée dans le programme. Les librairies doivent d'abord être installée avant d'être importée dans le code. Sur l'environnement Google Colab, un certain nombre de librairies usuelles sont déjà installées, dont Numpy. Il n'est donc pas nécessaire de faire l'installation ici.\n",
        "\n",
        "Cependant, nous allons montrer ici la démarche d'installation : \n",
        "Python inclut ce qu'on appelle un gestionnaire de paquet (package manager en anglais) : **pip**\n",
        "\n",
        "pip est un outil qui va se charger lui même d'aller chercher la librairie demandée et de l'installer au bon endroit"
      ],
      "metadata": {
        "id": "NJ83yIWZQMZI"
      }
    },
    {
      "cell_type": "code",
      "source": [
        "#pip install numpy # Dans Google Colab \n",
        "import numpy as np #La librairie est importée dans le code et nous pouvons accéder à toutes ses fonctionnalités"
      ],
      "metadata": {
        "id": "c-OHt3ZLPYUT"
      },
      "execution_count": 4,
      "outputs": []
    },
    {
      "cell_type": "markdown",
      "source": [
        "# Numpy et Les images"
      ],
      "metadata": {
        "id": "7tBFBSj3gr6U"
      }
    },
    {
      "cell_type": "markdown",
      "source": [
        "Un exemple de donnée structurée est une image : \n",
        "Une image est une matrice 2D dont chaque élement de cette matrice correspond à un pixel sur l'image. La taille de cette matrice définit la taille de l'image."
      ],
      "metadata": {
        "id": "TvVgt2jTTfDd"
      }
    },
    {
      "cell_type": "code",
      "source": [
        "hauteur = 50\n",
        "largeur = 100\n",
        " \n",
        "image = np.zeros((hauteur, largeur)) #Matrice dont chaque élément (valeur de chaque pixel) = 0"
      ],
      "metadata": {
        "id": "uba6MYrxTXvf"
      },
      "execution_count": 16,
      "outputs": []
    },
    {
      "cell_type": "markdown",
      "source": [
        "Ici, nous avons créé une variable image de taille largeur x hauteur dont chaque élément de la matrice vaut 0. La variable image est ce qu'on appelle une **numpy array**. Nous accédons un élément donné de la matrice de la même manière que pour les listes : à partir des indices des éléments dans la matrice."
      ],
      "metadata": {
        "id": "b6kEi3USV7RI"
      }
    },
    {
      "cell_type": "code",
      "source": [
        "print(image[0,0]) #Le 1er élément de la matrice =>indice 0"
      ],
      "metadata": {
        "colab": {
          "base_uri": "https://localhost:8080/"
        },
        "id": "4rxYQPITVQ3o",
        "outputId": "a6f111e8-d39d-4ffe-f94e-c2dcfea12b24"
      },
      "execution_count": 24,
      "outputs": [
        {
          "output_type": "stream",
          "name": "stdout",
          "text": [
            "0.0\n"
          ]
        }
      ]
    },
    {
      "cell_type": "markdown",
      "source": [
        "Il est possible de visualiser la taille de la matrice grâce à la fonction **shape** relative aux numpy arrays "
      ],
      "metadata": {
        "id": "FhM_QbWAWlLb"
      }
    },
    {
      "cell_type": "code",
      "source": [
        "print(image.shape) #Nombre d'élément par dimension\n",
        "print(image.size) #Nombre d'élément total\n",
        "print(len(image)) #Nombre d'élément de la 1ère dimension"
      ],
      "metadata": {
        "colab": {
          "base_uri": "https://localhost:8080/"
        },
        "id": "JC74OtnIWdD2",
        "outputId": "8a28ac72-84e6-4d3c-87ae-3b10e69f2088"
      },
      "execution_count": 23,
      "outputs": [
        {
          "output_type": "stream",
          "name": "stdout",
          "text": [
            "(50, 100)\n",
            "5000\n",
            "50\n"
          ]
        }
      ]
    },
    {
      "cell_type": "markdown",
      "source": [
        "Comment vérifier la taille de notre image visuellement ? La librairie **matplotlib** nous permet d'utiliser tout un tas de fonctions permettant de visualiser nos données"
      ],
      "metadata": {
        "id": "k8CxwqT5Xmur"
      }
    },
    {
      "cell_type": "code",
      "source": [
        "import matplotlib.pyplot as plt\n",
        "plt.imshow(image) #Affiche une numpy array en considérant qu'elle correspond à un format d'image"
      ],
      "metadata": {
        "colab": {
          "base_uri": "https://localhost:8080/",
          "height": 254
        },
        "id": "enVPspxcXEOY",
        "outputId": "cddc80f8-8484-4d89-ad00-5d4350c97a60"
      },
      "execution_count": 28,
      "outputs": [
        {
          "output_type": "stream",
          "name": "stderr",
          "text": [
            "WARNING:matplotlib.image:Clipping input data to the valid range for imshow with RGB data ([0..1] for floats or [0..255] for integers).\n"
          ]
        },
        {
          "output_type": "execute_result",
          "data": {
            "text/plain": [
              "<matplotlib.image.AxesImage at 0x7fd3b1126b10>"
            ]
          },
          "metadata": {},
          "execution_count": 28
        },
        {
          "output_type": "display_data",
          "data": {
            "text/plain": [
              "<Figure size 432x288 with 1 Axes>"
            ],
            "image/png": "[encoded data removed]"
          },
          "metadata": {
            "needs_background": "light"
          }
        }
      ]
    },
    {
      "cell_type": "markdown",
      "source": [
        "Une numpy array peut être facilement modifiée en accédant à ses éléments"
      ],
      "metadata": {
        "id": "RE2l5gdhalOt"
      }
    },
    {
      "cell_type": "code",
      "source": [
        "image[24,49] = 1 \n",
        "plt.imshow(image)"
      ],
      "metadata": {
        "colab": {
          "base_uri": "https://localhost:8080/",
          "height": 236
        },
        "id": "aybWoewmXhuP",
        "outputId": "33108f27-bb30-4176-d5f8-70cc9dd23c3e"
      },
      "execution_count": null,
      "outputs": [
        {
          "output_type": "execute_result",
          "data": {
            "text/plain": [
              "<matplotlib.image.AxesImage at 0x7fe6b172b2d0>"
            ]
          },
          "metadata": {},
          "execution_count": 66
        },
        {
          "output_type": "display_data",
          "data": {
            "text/plain": [
              "<Figure size 432x288 with 1 Axes>"
            ],
            "image/png": "[encoded data removed]"
          },
          "metadata": {
            "needs_background": "light"
          }
        }
      ]
    },
    {
      "cell_type": "markdown",
      "source": [
        "On peut également modifier la valeur de plusieurs éléments à la fois (une ou plusieurs lignes, une ou plusieurs colonnes)"
      ],
      "metadata": {
        "id": "pIY83TgDbzSw"
      }
    },
    {
      "cell_type": "code",
      "source": [
        "image[0,:] = 1 #Tous les éléments de la première ligne (celle d'indice 0) sont modifiées (image[0] = 1 a le même effet)\n",
        "plt.imshow(image) "
      ],
      "metadata": {
        "colab": {
          "base_uri": "https://localhost:8080/",
          "height": 236
        },
        "id": "b5ZiJjXvat_g",
        "outputId": "26f59223-6735-44bc-a9e3-6a175151b78b"
      },
      "execution_count": null,
      "outputs": [
        {
          "output_type": "execute_result",
          "data": {
            "text/plain": [
              "<matplotlib.image.AxesImage at 0x7fe6b11a5c50>"
            ]
          },
          "metadata": {},
          "execution_count": 67
        },
        {
          "output_type": "display_data",
          "data": {
            "text/plain": [
              "<Figure size 432x288 with 1 Axes>"
            ],
            "image/png": "[encoded data removed]"
          },
          "metadata": {
            "needs_background": "light"
          }
        }
      ]
    },
    {
      "cell_type": "code",
      "source": [
        "image[:,0] = 1 #Tous les éléments de la première colonne (celle d'indice 0) sont modifiées\n",
        "plt.imshow(image) "
      ],
      "metadata": {
        "colab": {
          "base_uri": "https://localhost:8080/",
          "height": 236
        },
        "id": "AGVHnnaNb_BW",
        "outputId": "ab7cc967-ee0a-45b2-eeb9-1cfd5b635ffc"
      },
      "execution_count": null,
      "outputs": [
        {
          "output_type": "execute_result",
          "data": {
            "text/plain": [
              "<matplotlib.image.AxesImage at 0x7fe6b1013850>"
            ]
          },
          "metadata": {},
          "execution_count": 68
        },
        {
          "output_type": "display_data",
          "data": {
            "text/plain": [
              "<Figure size 432x288 with 1 Axes>"
            ],
            "image/png": "[encoded data removed]"
          },
          "metadata": {
            "needs_background": "light"
          }
        }
      ]
    },
    {
      "cell_type": "markdown",
      "source": [
        "Il est également possible de modifier la taille d'une numpy array"
      ],
      "metadata": {
        "id": "rl12cppNcUd4"
      }
    },
    {
      "cell_type": "code",
      "source": [
        "plt.imshow(image.reshape(largeur, hauteur))"
      ],
      "metadata": {
        "colab": {
          "base_uri": "https://localhost:8080/",
          "height": 286
        },
        "id": "CpUizRyqcN3m",
        "outputId": "c440285c-3566-4b0b-d48e-5ca72bde0cfd"
      },
      "execution_count": null,
      "outputs": [
        {
          "output_type": "execute_result",
          "data": {
            "text/plain": [
              "<matplotlib.image.AxesImage at 0x7fe6b0f83410>"
            ]
          },
          "metadata": {},
          "execution_count": 69
        },
        {
          "output_type": "display_data",
          "data": {
            "text/plain": [
              "<Figure size 432x288 with 1 Axes>"
            ],
            "image/png": "[encoded data removed]"
          },
          "metadata": {
            "needs_background": "light"
          }
        }
      ]
    },
    {
      "cell_type": "code",
      "source": [
        "plt.imshow(np.transpose(image))"
      ],
      "metadata": {
        "colab": {
          "base_uri": "https://localhost:8080/",
          "height": 569
        },
        "id": "aohgI5iycdNT",
        "outputId": "e60d9c40-c44f-4346-dba7-a57e25bb4c4c"
      },
      "execution_count": 34,
      "outputs": [
        {
          "output_type": "error",
          "ename": "TypeError",
          "evalue": "ignored",
          "traceback": [
            "\u001b[0;31m---------------------------------------------------------------------------\u001b[0m",
            "\u001b[0;31mTypeError\u001b[0m                                 Traceback (most recent call last)",
            "\u001b[0;32m<ipython-input-34-7bff9dcc77c7>\u001b[0m in \u001b[0;36m<module>\u001b[0;34m\u001b[0m\n\u001b[0;32m----> 1\u001b[0;31m \u001b[0mplt\u001b[0m\u001b[0;34m.\u001b[0m\u001b[0mimshow\u001b[0m\u001b[0;34m(\u001b[0m\u001b[0mnp\u001b[0m\u001b[0;34m.\u001b[0m\u001b[0mtranspose\u001b[0m\u001b[0;34m(\u001b[0m\u001b[0mimage\u001b[0m\u001b[0;34m)\u001b[0m\u001b[0;34m)\u001b[0m\u001b[0;34m\u001b[0m\u001b[0;34m\u001b[0m\u001b[0m\n\u001b[0m",
            "\u001b[0;32m/usr/local/lib/python3.7/dist-packages/matplotlib/pyplot.py\u001b[0m in \u001b[0;36mimshow\u001b[0;34m(X, cmap, norm, aspect, interpolation, alpha, vmin, vmax, origin, extent, shape, filternorm, filterrad, imlim, resample, url, data, **kwargs)\u001b[0m\n\u001b[1;32m   2649\u001b[0m         \u001b[0mfilternorm\u001b[0m\u001b[0;34m=\u001b[0m\u001b[0mfilternorm\u001b[0m\u001b[0;34m,\u001b[0m \u001b[0mfilterrad\u001b[0m\u001b[0;34m=\u001b[0m\u001b[0mfilterrad\u001b[0m\u001b[0;34m,\u001b[0m \u001b[0mimlim\u001b[0m\u001b[0;34m=\u001b[0m\u001b[0mimlim\u001b[0m\u001b[0;34m,\u001b[0m\u001b[0;34m\u001b[0m\u001b[0;34m\u001b[0m\u001b[0m\n\u001b[1;32m   2650\u001b[0m         resample=resample, url=url, **({\"data\": data} if data is not\n\u001b[0;32m-> 2651\u001b[0;31m         None else {}), **kwargs)\n\u001b[0m\u001b[1;32m   2652\u001b[0m     \u001b[0msci\u001b[0m\u001b[0;34m(\u001b[0m\u001b[0m__ret\u001b[0m\u001b[0;34m)\u001b[0m\u001b[0;34m\u001b[0m\u001b[0;34m\u001b[0m\u001b[0m\n\u001b[1;32m   2653\u001b[0m     \u001b[0;32mreturn\u001b[0m \u001b[0m__ret\u001b[0m\u001b[0;34m\u001b[0m\u001b[0;34m\u001b[0m\u001b[0m\n",
            "\u001b[0;32m/usr/local/lib/python3.7/dist-packages/matplotlib/__init__.py\u001b[0m in \u001b[0;36minner\u001b[0;34m(ax, data, *args, **kwargs)\u001b[0m\n\u001b[1;32m   1563\u001b[0m     \u001b[0;32mdef\u001b[0m \u001b[0minner\u001b[0m\u001b[0;34m(\u001b[0m\u001b[0max\u001b[0m\u001b[0;34m,\u001b[0m \u001b[0;34m*\u001b[0m\u001b[0margs\u001b[0m\u001b[0;34m,\u001b[0m \u001b[0mdata\u001b[0m\u001b[0;34m=\u001b[0m\u001b[0;32mNone\u001b[0m\u001b[0;34m,\u001b[0m \u001b[0;34m**\u001b[0m\u001b[0mkwargs\u001b[0m\u001b[0;34m)\u001b[0m\u001b[0;34m:\u001b[0m\u001b[0;34m\u001b[0m\u001b[0;34m\u001b[0m\u001b[0m\n\u001b[1;32m   1564\u001b[0m         \u001b[0;32mif\u001b[0m \u001b[0mdata\u001b[0m \u001b[0;32mis\u001b[0m \u001b[0;32mNone\u001b[0m\u001b[0;34m:\u001b[0m\u001b[0;34m\u001b[0m\u001b[0;34m\u001b[0m\u001b[0m\n\u001b[0;32m-> 1565\u001b[0;31m             \u001b[0;32mreturn\u001b[0m \u001b[0mfunc\u001b[0m\u001b[0;34m(\u001b[0m\u001b[0max\u001b[0m\u001b[0;34m,\u001b[0m \u001b[0;34m*\u001b[0m\u001b[0mmap\u001b[0m\u001b[0;34m(\u001b[0m\u001b[0msanitize_sequence\u001b[0m\u001b[0;34m,\u001b[0m \u001b[0margs\u001b[0m\u001b[0;34m)\u001b[0m\u001b[0;34m,\u001b[0m \u001b[0;34m**\u001b[0m\u001b[0mkwargs\u001b[0m\u001b[0;34m)\u001b[0m\u001b[0;34m\u001b[0m\u001b[0;34m\u001b[0m\u001b[0m\n\u001b[0m\u001b[1;32m   1566\u001b[0m \u001b[0;34m\u001b[0m\u001b[0m\n\u001b[1;32m   1567\u001b[0m         \u001b[0mbound\u001b[0m \u001b[0;34m=\u001b[0m \u001b[0mnew_sig\u001b[0m\u001b[0;34m.\u001b[0m\u001b[0mbind\u001b[0m\u001b[0;34m(\u001b[0m\u001b[0max\u001b[0m\u001b[0;34m,\u001b[0m \u001b[0;34m*\u001b[0m\u001b[0margs\u001b[0m\u001b[0;34m,\u001b[0m \u001b[0;34m**\u001b[0m\u001b[0mkwargs\u001b[0m\u001b[0;34m)\u001b[0m\u001b[0;34m\u001b[0m\u001b[0;34m\u001b[0m\u001b[0m\n",
            "\u001b[0;32m/usr/local/lib/python3.7/dist-packages/matplotlib/cbook/deprecation.py\u001b[0m in \u001b[0;36mwrapper\u001b[0;34m(*args, **kwargs)\u001b[0m\n\u001b[1;32m    356\u001b[0m                 \u001b[0;34mf\"%(removal)s.  If any parameter follows {name!r}, they \"\u001b[0m\u001b[0;34m\u001b[0m\u001b[0;34m\u001b[0m\u001b[0m\n\u001b[1;32m    357\u001b[0m                 f\"should be pass as keyword, not positionally.\")\n\u001b[0;32m--> 358\u001b[0;31m         \u001b[0;32mreturn\u001b[0m \u001b[0mfunc\u001b[0m\u001b[0;34m(\u001b[0m\u001b[0;34m*\u001b[0m\u001b[0margs\u001b[0m\u001b[0;34m,\u001b[0m \u001b[0;34m**\u001b[0m\u001b[0mkwargs\u001b[0m\u001b[0;34m)\u001b[0m\u001b[0;34m\u001b[0m\u001b[0;34m\u001b[0m\u001b[0m\n\u001b[0m\u001b[1;32m    359\u001b[0m \u001b[0;34m\u001b[0m\u001b[0m\n\u001b[1;32m    360\u001b[0m     \u001b[0;32mreturn\u001b[0m \u001b[0mwrapper\u001b[0m\u001b[0;34m\u001b[0m\u001b[0;34m\u001b[0m\u001b[0m\n",
            "\u001b[0;32m/usr/local/lib/python3.7/dist-packages/matplotlib/cbook/deprecation.py\u001b[0m in \u001b[0;36mwrapper\u001b[0;34m(*args, **kwargs)\u001b[0m\n\u001b[1;32m    356\u001b[0m                 \u001b[0;34mf\"%(removal)s.  If any parameter follows {name!r}, they \"\u001b[0m\u001b[0;34m\u001b[0m\u001b[0;34m\u001b[0m\u001b[0m\n\u001b[1;32m    357\u001b[0m                 f\"should be pass as keyword, not positionally.\")\n\u001b[0;32m--> 358\u001b[0;31m         \u001b[0;32mreturn\u001b[0m \u001b[0mfunc\u001b[0m\u001b[0;34m(\u001b[0m\u001b[0;34m*\u001b[0m\u001b[0margs\u001b[0m\u001b[0;34m,\u001b[0m \u001b[0;34m**\u001b[0m\u001b[0mkwargs\u001b[0m\u001b[0;34m)\u001b[0m\u001b[0;34m\u001b[0m\u001b[0;34m\u001b[0m\u001b[0m\n\u001b[0m\u001b[1;32m    359\u001b[0m \u001b[0;34m\u001b[0m\u001b[0m\n\u001b[1;32m    360\u001b[0m     \u001b[0;32mreturn\u001b[0m \u001b[0mwrapper\u001b[0m\u001b[0;34m\u001b[0m\u001b[0;34m\u001b[0m\u001b[0m\n",
            "\u001b[0;32m/usr/local/lib/python3.7/dist-packages/matplotlib/axes/_axes.py\u001b[0m in \u001b[0;36mimshow\u001b[0;34m(self, X, cmap, norm, aspect, interpolation, alpha, vmin, vmax, origin, extent, shape, filternorm, filterrad, imlim, resample, url, **kwargs)\u001b[0m\n\u001b[1;32m   5624\u001b[0m                               resample=resample, **kwargs)\n\u001b[1;32m   5625\u001b[0m \u001b[0;34m\u001b[0m\u001b[0m\n\u001b[0;32m-> 5626\u001b[0;31m         \u001b[0mim\u001b[0m\u001b[0;34m.\u001b[0m\u001b[0mset_data\u001b[0m\u001b[0;34m(\u001b[0m\u001b[0mX\u001b[0m\u001b[0;34m)\u001b[0m\u001b[0;34m\u001b[0m\u001b[0;34m\u001b[0m\u001b[0m\n\u001b[0m\u001b[1;32m   5627\u001b[0m         \u001b[0mim\u001b[0m\u001b[0;34m.\u001b[0m\u001b[0mset_alpha\u001b[0m\u001b[0;34m(\u001b[0m\u001b[0malpha\u001b[0m\u001b[0;34m)\u001b[0m\u001b[0;34m\u001b[0m\u001b[0;34m\u001b[0m\u001b[0m\n\u001b[1;32m   5628\u001b[0m         \u001b[0;32mif\u001b[0m \u001b[0mim\u001b[0m\u001b[0;34m.\u001b[0m\u001b[0mget_clip_path\u001b[0m\u001b[0;34m(\u001b[0m\u001b[0;34m)\u001b[0m \u001b[0;32mis\u001b[0m \u001b[0;32mNone\u001b[0m\u001b[0;34m:\u001b[0m\u001b[0;34m\u001b[0m\u001b[0;34m\u001b[0m\u001b[0m\n",
            "\u001b[0;32m/usr/local/lib/python3.7/dist-packages/matplotlib/image.py\u001b[0m in \u001b[0;36mset_data\u001b[0;34m(self, A)\u001b[0m\n\u001b[1;32m    697\u001b[0m                 or self._A.ndim == 3 and self._A.shape[-1] in [3, 4]):\n\u001b[1;32m    698\u001b[0m             raise TypeError(\"Invalid shape {} for image data\"\n\u001b[0;32m--> 699\u001b[0;31m                             .format(self._A.shape))\n\u001b[0m\u001b[1;32m    700\u001b[0m \u001b[0;34m\u001b[0m\u001b[0m\n\u001b[1;32m    701\u001b[0m         \u001b[0;32mif\u001b[0m \u001b[0mself\u001b[0m\u001b[0;34m.\u001b[0m\u001b[0m_A\u001b[0m\u001b[0;34m.\u001b[0m\u001b[0mndim\u001b[0m \u001b[0;34m==\u001b[0m \u001b[0;36m3\u001b[0m\u001b[0;34m:\u001b[0m\u001b[0;34m\u001b[0m\u001b[0;34m\u001b[0m\u001b[0m\n",
            "\u001b[0;31mTypeError\u001b[0m: Invalid shape (3, 100, 50) for image data"
          ]
        },
        {
          "output_type": "display_data",
          "data": {
            "text/plain": [
              "<Figure size 432x288 with 1 Axes>"
            ],
            "image/png": "[encoded data removed]"
          },
          "metadata": {
            "needs_background": "light"
          }
        }
      ]
    },
    {
      "cell_type": "markdown",
      "source": [
        "En informatique, une image possède une 3ème dimension qui définit sa couleur. Grâce au format RGB (red, green, blue). Ce format est très connu et devenu un standard pour représenter dans le monde de la vision par ordinateur.\n",
        "\n",
        "![rgb.png](data:image/png;base64,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)\n",
        "\n",
        "Nous pouvons donc plot des images de couleur différente en utilisant des arrays à 3 dimensions. De manière générale, la couleur des images est codée sur 8 bits ce qui veut dire concrètement que la valeur des couleurs ne peuvent prendre des valeurs que de 0 à 255. \n",
        "\n",
        "La première dimension R représente l'intensité de la couleur rouge sur l'image."
      ],
      "metadata": {
        "id": "54f4Gv3vgNxS"
      }
    },
    {
      "cell_type": "code",
      "source": [
        "image = np.empty((hauteur, largeur, 3)) #Créer une image RGB vide. La 3eme dimension ici est dans l'ordre RGB\n",
        "\n",
        "image[...,0].fill(255) # = image[:,:,0].fill(255) Remplit l'image avec des valeurs de 255\n",
        "image[...,1].fill(0)\n",
        "image[...,2].fill(0)\n",
        "\n",
        "plt.imshow(image)"
      ],
      "metadata": {
        "colab": {
          "base_uri": "https://localhost:8080/",
          "height": 254
        },
        "id": "iDXxUmyruazO",
        "outputId": "adfe7f1a-3d1b-4b43-81f1-fe907c26cb91"
      },
      "execution_count": 38,
      "outputs": [
        {
          "output_type": "stream",
          "name": "stderr",
          "text": [
            "WARNING:matplotlib.image:Clipping input data to the valid range for imshow with RGB data ([0..1] for floats or [0..255] for integers).\n"
          ]
        },
        {
          "output_type": "execute_result",
          "data": {
            "text/plain": [
              "<matplotlib.image.AxesImage at 0x7fd3a8fbc8d0>"
            ]
          },
          "metadata": {},
          "execution_count": 38
        },
        {
          "output_type": "display_data",
          "data": {
            "text/plain": [
              "<Figure size 432x288 with 1 Axes>"
            ],
            "image/png": "[encoded data removed]"
          },
          "metadata": {
            "needs_background": "light"
          }
        }
      ]
    },
    {
      "cell_type": "code",
      "source": [
        "image = np.empty((hauteur, largeur, 3))\n",
        "\n",
        "image[...,0].fill(0) \n",
        "image[...,1].fill(255)\n",
        "image[...,2].fill(0)\n",
        "\n",
        "plt.imshow(image)"
      ],
      "metadata": {
        "colab": {
          "base_uri": "https://localhost:8080/",
          "height": 254
        },
        "id": "VEcr0TN82yFj",
        "outputId": "391fa79c-b845-4f29-a4a1-faebdc888d4f"
      },
      "execution_count": 48,
      "outputs": [
        {
          "output_type": "stream",
          "name": "stderr",
          "text": [
            "WARNING:matplotlib.image:Clipping input data to the valid range for imshow with RGB data ([0..1] for floats or [0..255] for integers).\n"
          ]
        },
        {
          "output_type": "execute_result",
          "data": {
            "text/plain": [
              "<matplotlib.image.AxesImage at 0x7fd3a8a30390>"
            ]
          },
          "metadata": {},
          "execution_count": 48
        },
        {
          "output_type": "display_data",
          "data": {
            "text/plain": [
              "<Figure size 432x288 with 1 Axes>"
            ],
            "image/png": "[encoded data removed]"
          },
          "metadata": {
            "needs_background": "light"
          }
        }
      ]
    },
    {
      "cell_type": "code",
      "source": [
        "image = np.empty((hauteur, largeur, 3))\n",
        "\n",
        "image[...,0].fill(0) \n",
        "image[...,1].fill(0)\n",
        "image[...,2].fill(255)\n",
        "\n",
        "plt.imshow(image)"
      ],
      "metadata": {
        "colab": {
          "base_uri": "https://localhost:8080/",
          "height": 254
        },
        "id": "VSi9LNj325ra",
        "outputId": "2eb40a37-d301-4f80-9c2e-b3cf1d4f6b89"
      },
      "execution_count": 49,
      "outputs": [
        {
          "output_type": "stream",
          "name": "stderr",
          "text": [
            "WARNING:matplotlib.image:Clipping input data to the valid range for imshow with RGB data ([0..1] for floats or [0..255] for integers).\n"
          ]
        },
        {
          "output_type": "execute_result",
          "data": {
            "text/plain": [
              "<matplotlib.image.AxesImage at 0x7fd3a898db90>"
            ]
          },
          "metadata": {},
          "execution_count": 49
        },
        {
          "output_type": "display_data",
          "data": {
            "text/plain": [
              "<Figure size 432x288 with 1 Axes>"
            ],
            "image/png": "[encoded data removed]"
          },
          "metadata": {
            "needs_background": "light"
          }
        }
      ]
    },
    {
      "cell_type": "code",
      "source": [
        "image = np.empty((hauteur, largeur, 3))\n",
        "\n",
        "#L'image RGB = 000 représente l'absence de couleur => noir\n",
        "\n",
        "image[...,0].fill(0) \n",
        "image[...,1].fill(0)\n",
        "image[...,2].fill(0)\n",
        "\n",
        "plt.imshow(image)\n",
        "\n",
        "plt.figure()\n",
        "\n",
        "#L'image RGB = 255,255,255 représente la totalité des couleurs mélangées => blanche\n",
        "\n",
        "image[...,0].fill(255) \n",
        "image[...,1].fill(255)\n",
        "image[...,2].fill(255)\n",
        "\n",
        "plt.imshow(image)"
      ],
      "metadata": {
        "colab": {
          "base_uri": "https://localhost:8080/",
          "height": 455
        },
        "id": "bWFZAnxL28rE",
        "outputId": "19b4ef8f-9b3e-4b8f-fa54-920b7a102c6f"
      },
      "execution_count": 50,
      "outputs": [
        {
          "output_type": "stream",
          "name": "stderr",
          "text": [
            "WARNING:matplotlib.image:Clipping input data to the valid range for imshow with RGB data ([0..1] for floats or [0..255] for integers).\n"
          ]
        },
        {
          "output_type": "execute_result",
          "data": {
            "text/plain": [
              "<matplotlib.image.AxesImage at 0x7fd3a88c0b50>"
            ]
          },
          "metadata": {},
          "execution_count": 50
        },
        {
          "output_type": "display_data",
          "data": {
            "text/plain": [
              "<Figure size 432x288 with 1 Axes>"
            ],
            "image/png": "[encoded data removed]"
          },
          "metadata": {
            "needs_background": "light"
          }
        },
        {
          "output_type": "display_data",
          "data": {
            "text/plain": [
              "<Figure size 432x288 with 1 Axes>"
            ],
            "image/png": "[encoded data removed]"
          },
          "metadata": {
            "needs_background": "light"
          }
        }
      ]
    },
    {
      "cell_type": "code",
      "source": [
        "image = np.empty((hauteur, largeur, 3))\n",
        "\n",
        "hauteur_step = len(image)//3\n",
        "\n",
        "#Haut du drapeau\n",
        "image[:hauteur_step, :, 0].fill(255)\n",
        "image[:hauteur_step, :, 1].fill(0)\n",
        "image[:hauteur_step, :, 2].fill(0)\n",
        "\n",
        "#Milieu\n",
        "image[hauteur_step:2*hauteur_step, :, 0].fill(255)\n",
        "image[:hauteur_step:2*hauteur_step, :, 1].fill(255)\n",
        "image[:hauteur_step:2*hauteur_step, :, 2].fill(255)\n",
        "\n",
        "#Bas\n",
        "image[2*hauteur_step:, :, 0].fill(0)\n",
        "image[2*hauteur_step:, :, 1].fill(0)\n",
        "image[2*hauteur_step:, :, 2].fill(255)\n",
        "\n",
        "plt.imshow(image)"
      ],
      "metadata": {
        "colab": {
          "base_uri": "https://localhost:8080/",
          "height": 254
        },
        "id": "T4fpPEbh0zlu",
        "outputId": "4c2f3400-5940-4713-b615-f4297ee3e98e"
      },
      "execution_count": 51,
      "outputs": [
        {
          "output_type": "stream",
          "name": "stderr",
          "text": [
            "WARNING:matplotlib.image:Clipping input data to the valid range for imshow with RGB data ([0..1] for floats or [0..255] for integers).\n"
          ]
        },
        {
          "output_type": "execute_result",
          "data": {
            "text/plain": [
              "<matplotlib.image.AxesImage at 0x7fd3a8855450>"
            ]
          },
          "metadata": {},
          "execution_count": 51
        },
        {
          "output_type": "display_data",
          "data": {
            "text/plain": [
              "<Figure size 432x288 with 1 Axes>"
            ],
            "image/png": "[encoded data removed]"
          },
          "metadata": {
            "needs_background": "light"
          }
        }
      ]
    },
    {
      "cell_type": "markdown",
      "source": [
        "### **Exercice** \n",
        "Afficher le drapeau belge"
      ],
      "metadata": {
        "id": "uRrVf4C-36dk"
      }
    },
    {
      "cell_type": "code",
      "source": [
        "#Votre code ici"
      ],
      "metadata": {
        "colab": {
          "base_uri": "https://localhost:8080/",
          "height": 254
        },
        "id": "aa_KR30F7pvC",
        "outputId": "225fa83d-dfc6-4c01-8978-f4cb90e33105"
      },
      "execution_count": 54,
      "outputs": [
        {
          "output_type": "stream",
          "name": "stderr",
          "text": [
            "WARNING:matplotlib.image:Clipping input data to the valid range for imshow with RGB data ([0..1] for floats or [0..255] for integers).\n"
          ]
        },
        {
          "output_type": "execute_result",
          "data": {
            "text/plain": [
              "<matplotlib.image.AxesImage at 0x7fd3a8708c50>"
            ]
          },
          "metadata": {},
          "execution_count": 54
        },
        {
          "output_type": "display_data",
          "data": {
            "text/plain": [
              "<Figure size 432x288 with 1 Axes>"
            ],
            "image/png": "[encoded data removed]"
          },
          "metadata": {
            "needs_background": "light"
          }
        }
      ]
    },
    {
      "cell_type": "markdown",
      "source": [
        "# Autres fonctionalités de Numpy"
      ],
      "metadata": {
        "id": "KNHt03dIg2Yr"
      }
    },
    {
      "cell_type": "markdown",
      "source": [
        "Certaines fonctions de Numpy peuvent nous être très utile également"
      ],
      "metadata": {
        "id": "2byUvdbrdZ_3"
      }
    },
    {
      "cell_type": "code",
      "source": [
        "# Crée une numpy array de 0 jusqu'à 15 par pas de 1\n",
        "a = np.arange(15)\n",
        "print(a)\n",
        "\n",
        "# conversion de liste de nombre en numpy array\n",
        "list_of_numbers = [8,2,5,4]\n",
        "a = np.array(list_of_numbers)\n",
        "print(a)\n",
        "\n",
        "#Vérifier le type de données à l'intérieur de notre numpy array\n",
        "print(a.dtype)\n",
        "\n",
        "#Fixer le type de données à l'intérieur de notre numpy array\n",
        "a = np.array(list_of_numbers, dtype=np.float32)\n",
        "print(a.dtype)"
      ],
      "metadata": {
        "colab": {
          "base_uri": "https://localhost:8080/"
        },
        "id": "49UVev5ndGSL",
        "outputId": "275024c2-783d-4a4a-84e0-531d9a382e45"
      },
      "execution_count": 25,
      "outputs": [
        {
          "output_type": "stream",
          "name": "stdout",
          "text": [
            "[ 0  1  2  3  4  5  6  7  8  9 10 11 12 13 14]\n",
            "[8 2 5 4]\n",
            "int64\n",
            "float32\n"
          ]
        }
      ]
    },
    {
      "cell_type": "markdown",
      "source": [
        "Les opérations basiques des np arrays sont définies de la même manière que pour les nombres"
      ],
      "metadata": {
        "id": "pHKQFK2-fvCy"
      }
    },
    {
      "cell_type": "code",
      "source": [
        "a = np.array([[2,2,4,5],[1,0,0,1]])\n",
        "b = np.array([[3,4,4,4],[1,1,1,1]])"
      ],
      "metadata": {
        "id": "0V9TWD4bfruk"
      },
      "execution_count": null,
      "outputs": []
    },
    {
      "cell_type": "code",
      "source": [
        "#Opérations éléments par éléments\n",
        "print('Opérations éléments par éléments')\n",
        "print(a+b)\n",
        "print(a-b)\n",
        "print(a/b)\n",
        "print(a*b)\n",
        "print(np.sqrt(a)) #racine carrée\n",
        "\n",
        "#Opérations matriciels (attention à la taille des matrices)\n",
        "print('\\n Opérations matriciels')\n",
        "print(a@np.transpose(b))"
      ],
      "metadata": {
        "colab": {
          "base_uri": "https://localhost:8080/"
        },
        "id": "n-KIXe_adh1M",
        "outputId": "8c2d3b4e-98c4-4038-ecfa-2d26b17ca816"
      },
      "execution_count": null,
      "outputs": [
        {
          "output_type": "stream",
          "name": "stdout",
          "text": [
            "Opérations éléments par éléments\n",
            "[[5 6 8 9]\n",
            " [2 1 1 2]]\n",
            "[[-1 -2  0  1]\n",
            " [ 0 -1 -1  0]]\n",
            "[[0.66666667 0.5        1.         1.25      ]\n",
            " [1.         0.         0.         1.        ]]\n",
            "[[ 6  8 16 20]\n",
            " [ 1  0  0  1]]\n",
            "[[1.41421356 1.41421356 2.         2.23606798]\n",
            " [1.         0.         0.         1.        ]]\n",
            "\n",
            " Opérations matriciels\n",
            "[[50 13]\n",
            " [ 7  2]]\n"
          ]
        }
      ]
    },
    {
      "cell_type": "markdown",
      "source": [
        "Numpy permet aussi de générer des arrays aléatoires"
      ],
      "metadata": {
        "id": "BYor1Dg2igPA"
      }
    },
    {
      "cell_type": "code",
      "source": [
        "a = np.random.randn(10,10) #valeurs aléatoires selon la distribution normale centrée réduite\n",
        "print(a, '\\n')\n",
        "a = np.random.rand(10,10)\n",
        "print(a, '\\n') #valeurs aléatoires entre 0 et 1"
      ],
      "metadata": {
        "colab": {
          "base_uri": "https://localhost:8080/"
        },
        "id": "NJJirP4VifnM",
        "outputId": "2c91c134-0d8c-422a-c7a6-955daad00e87"
      },
      "execution_count": null,
      "outputs": [
        {
          "output_type": "stream",
          "name": "stdout",
          "text": [
            "[[ 0.52978059 -0.4731392   0.88320142  0.06667605 -0.84223193 -0.24070022\n",
            "  -1.12512499  1.56044906 -1.28199402 -0.96411339]\n",
            " [-0.27747328  0.17017178  0.54471466 -0.72806226  0.68089347 -0.27566105\n",
            "   2.93749048 -0.28277477 -0.45657604  1.11590266]\n",
            " [-1.51712853  0.59213907  0.98946271 -1.16657433  1.12342348 -0.32927086\n",
            "  -0.81367411  1.17768895 -1.94754908  0.69261494]\n",
            " [-0.34462301  0.44405126  2.25034406 -1.21604498  0.72457321 -1.6645082\n",
            "   0.92475669  1.05159981 -0.67430045 -0.06022173]\n",
            " [ 0.75449486 -0.38518381 -0.34973703  1.22136638 -1.70908881 -0.21025885\n",
            "  -0.99190178  0.27906005  1.18850802 -0.68323728]\n",
            " [-0.34472336 -0.2972946   0.11202139  0.38734015 -1.25437099 -1.47718447\n",
            "   2.41937386 -0.05923876 -0.8929624  -0.96061871]\n",
            " [ 1.0179807   1.45769014 -0.84196327  1.37283026  0.84174626 -0.3302021\n",
            "  -0.17167527 -0.41682474  0.34011295  0.02665696]\n",
            " [ 0.14901617 -0.10319633  0.23459475  1.98520339  0.19084361 -0.23123103\n",
            "   0.64342946 -0.38953604  1.89204584 -1.79673198]\n",
            " [-0.58734513 -0.98676981 -0.11825159 -0.00638704  2.0378524   0.39042908\n",
            "   1.87850954 -0.22012936 -0.6833356  -0.56026378]\n",
            " [ 1.26590309  0.32666316 -1.12766972  0.7334277   0.35110935  0.19333953\n",
            "   0.74923485  0.27622142  0.72487412 -0.12665251]] \n",
            "\n",
            "[[0.56791002 0.95150143 0.86144885 0.6661933  0.01994164 0.99764118\n",
            "  0.77102497 0.27778189 0.4159456  0.84812197]\n",
            " [0.73070284 0.33075216 0.50297632 0.22761032 0.84294831 0.80409108\n",
            "  0.46079782 0.59602286 0.37548053 0.42254779]\n",
            " [0.49857246 0.1164456  0.32107818 0.1722656  0.18079894 0.09289275\n",
            "  0.42112575 0.29930123 0.91843707 0.51283007]\n",
            " [0.18444532 0.70259821 0.25486829 0.14627404 0.3017451  0.32453764\n",
            "  0.52435326 0.3833542  0.09231403 0.91518955]\n",
            " [0.17824723 0.44128642 0.04447453 0.75368566 0.39966826 0.1380185\n",
            "  0.66146475 0.77461296 0.10135729 0.5422463 ]\n",
            " [0.51396934 0.02727179 0.16029043 0.99589911 0.1657084  0.08620474\n",
            "  0.7731673  0.56593052 0.5968967  0.52000138]\n",
            " [0.91466892 0.6635441  0.94886012 0.58363084 0.11984156 0.80111021\n",
            "  0.11783942 0.8587044  0.40416954 0.85429951]\n",
            " [0.3498567  0.3918444  0.37314151 0.03614401 0.81799194 0.39292946\n",
            "  0.61809194 0.9562611  0.07945291 0.39997317]\n",
            " [0.04875103 0.75994985 0.71125321 0.98777769 0.94071442 0.66960981\n",
            "  0.02775867 0.52247362 0.5198703  0.5365874 ]\n",
            " [0.80326877 0.42095509 0.67815053 0.90147432 0.43243326 0.97855924\n",
            "  0.40486945 0.59815615 0.52528622 0.2465654 ]] \n",
            "\n"
          ]
        }
      ]
    },
    {
      "cell_type": "markdown",
      "source": [
        "# Pytorch"
      ],
      "metadata": {
        "id": "yJOuwC_8g-bA"
      }
    },
    {
      "cell_type": "markdown",
      "source": [
        "PyTorch est une librairie Python orientée vers le développement d'intelligence artificielle. De la même manière que Numpy, PyTorch utilise ses propres formats de données que l'on appelle des **torch tensor**. Ceux-ci fonctionnent de la même manière que les numpy arrays. "
      ],
      "metadata": {
        "id": "sRiJCmFaYNZT"
      }
    },
    {
      "cell_type": "code",
      "source": [
        "import torch\n",
        "\n",
        "list_of_numbers = [8,2,5,4]\n",
        "a = torch.tensor(list_of_numbers, dtype=torch.float32)\n",
        "print(a.dtype)"
      ],
      "metadata": {
        "colab": {
          "base_uri": "https://localhost:8080/"
        },
        "id": "TCjul5EhjCKE",
        "outputId": "0778d4e2-f2fc-4465-dd9c-e7781fb4884c"
      },
      "execution_count": null,
      "outputs": [
        {
          "output_type": "stream",
          "name": "stdout",
          "text": [
            "torch.float32\n"
          ]
        }
      ]
    },
    {
      "cell_type": "code",
      "source": [
        "import torch\n",
        "a = torch.zeros((12, 32, 32))"
      ],
      "metadata": {
        "id": "6DKCurEGemOl"
      },
      "execution_count": 11,
      "outputs": []
    },
    {
      "cell_type": "code",
      "source": [
        "a.size()"
      ],
      "metadata": {
        "colab": {
          "base_uri": "https://localhost:8080/"
        },
        "id": "Bt7AZGbIerzZ",
        "outputId": "a2ba7350-6bba-453f-bb0c-d09339e13614"
      },
      "execution_count": 14,
      "outputs": [
        {
          "output_type": "execute_result",
          "data": {
            "text/plain": [
              "torch.Size([12, 32, 32])"
            ]
          },
          "metadata": {},
          "execution_count": 14
        }
      ]
    }
  ]
}