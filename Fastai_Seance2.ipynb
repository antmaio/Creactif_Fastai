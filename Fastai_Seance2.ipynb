{
  "nbformat": 4,
  "nbformat_minor": 0,
  "metadata": {
    "colab": {
      "provenance": [],
      "collapsed_sections": []
    },
    "kernelspec": {
      "name": "python3",
      "display_name": "Python 3"
    },
    "language_info": {
      "name": "python"
    }
  },
  "cells": [
    {
      "cell_type": "markdown",
      "source": [
        "# L'environnement dans Google Colab\n",
        "\n",
        "Google Colab permet facilement d'explorer son environnement à partir de commandes Linux. Afin de vérifier quels sont les librairies déjà installées dans l'environnement, nous pouvons exécuter la cellule suivante"
      ],
      "metadata": {
        "id": "DpQMjmlujtiP"
      }
    },
    {
      "cell_type": "code",
      "source": [
        "!pip list -v"
      ],
      "metadata": {
        "colab": {
          "base_uri": "https://localhost:8080/"
        },
        "id": "LAMP6rHPkwVk",
        "outputId": "002c24c2-0e64-46dd-b894-d1895a3b7b21"
      },
      "execution_count": 3,
      "outputs": [
        {
          "output_type": "stream",
          "name": "stdout",
          "text": [
            "Package                       Version                      Location                               Installer\n",
            "----------------------------- ---------------------------- -------------------------------------- ---------\n",
            "absl-py                       1.2.0                        /usr/local/lib/python3.7/dist-packages pip\n",
            "aeppl                         0.0.33                       /usr/local/lib/python3.7/dist-packages pip\n",
            "aesara                        2.7.9                        /usr/local/lib/python3.7/dist-packages pip\n",
            "aiohttp                       3.8.1                        /usr/local/lib/python3.7/dist-packages pip\n",
            "aiosignal                     1.2.0                        /usr/local/lib/python3.7/dist-packages pip\n",
            "alabaster                     0.7.12                       /usr/local/lib/python3.7/dist-packages pip\n",
            "albumentations                1.2.1                        /usr/local/lib/python3.7/dist-packages pip\n",
            "altair                        4.2.0                        /usr/local/lib/python3.7/dist-packages pip\n",
            "appdirs                       1.4.4                        /usr/local/lib/python3.7/dist-packages pip\n",
            "arviz                         0.12.1                       /usr/local/lib/python3.7/dist-packages pip\n",
            "astor                         0.8.1                        /usr/local/lib/python3.7/dist-packages pip\n",
            "astropy                       4.3.1                        /usr/local/lib/python3.7/dist-packages pip\n",
            "astunparse                    1.6.3                        /usr/local/lib/python3.7/dist-packages pip\n",
            "async-timeout                 4.0.2                        /usr/local/lib/python3.7/dist-packages pip\n",
            "asynctest                     0.13.0                       /usr/local/lib/python3.7/dist-packages pip\n",
            "atari-py                      0.2.9                        /usr/local/lib/python3.7/dist-packages pip\n",
            "atomicwrites                  1.4.1                        /usr/local/lib/python3.7/dist-packages pip\n",
            "attrs                         22.1.0                       /usr/local/lib/python3.7/dist-packages pip\n",
            "audioread                     3.0.0                        /usr/local/lib/python3.7/dist-packages pip\n",
            "autograd                      1.4                          /usr/local/lib/python3.7/dist-packages pip\n",
            "Babel                         2.10.3                       /usr/local/lib/python3.7/dist-packages pip\n",
            "backcall                      0.2.0                        /usr/local/lib/python3.7/dist-packages pip\n",
            "beautifulsoup4                4.6.3                        /usr/local/lib/python3.7/dist-packages pip\n",
            "bleach                        5.0.1                        /usr/local/lib/python3.7/dist-packages pip\n",
            "blis                          0.7.8                        /usr/local/lib/python3.7/dist-packages pip\n",
            "bokeh                         2.3.3                        /usr/local/lib/python3.7/dist-packages pip\n",
            "branca                        0.5.0                        /usr/local/lib/python3.7/dist-packages pip\n",
            "bs4                           0.0.1                        /usr/local/lib/python3.7/dist-packages pip\n",
            "CacheControl                  0.12.11                      /usr/local/lib/python3.7/dist-packages pip\n",
            "cached-property               1.5.2                        /usr/local/lib/python3.7/dist-packages pip\n",
            "cachetools                    4.2.4                        /usr/local/lib/python3.7/dist-packages pip\n",
            "catalogue                     2.0.8                        /usr/local/lib/python3.7/dist-packages pip\n",
            "certifi                       2022.6.15                    /usr/local/lib/python3.7/dist-packages pip\n",
            "cffi                          1.15.1                       /usr/local/lib/python3.7/dist-packages pip\n",
            "cftime                        1.6.1                        /usr/local/lib/python3.7/dist-packages pip\n",
            "chardet                       3.0.4                        /usr/local/lib/python3.7/dist-packages pip\n",
            "charset-normalizer            2.1.1                        /usr/local/lib/python3.7/dist-packages pip\n",
            "click                         7.1.2                        /usr/local/lib/python3.7/dist-packages pip\n",
            "clikit                        0.6.2                        /usr/local/lib/python3.7/dist-packages pip\n",
            "cloudpickle                   1.5.0                        /usr/local/lib/python3.7/dist-packages pip\n",
            "cmake                         3.22.6                       /usr/local/lib/python3.7/dist-packages pip\n",
            "cmdstanpy                     1.0.7                        /usr/local/lib/python3.7/dist-packages pip\n",
            "colorcet                      3.0.0                        /usr/local/lib/python3.7/dist-packages pip\n",
            "colorlover                    0.3.0                        /usr/local/lib/python3.7/dist-packages pip\n",
            "community                     1.0.0b1                      /usr/local/lib/python3.7/dist-packages pip\n",
            "cons                          0.4.5                        /usr/local/lib/python3.7/dist-packages pip\n",
            "contextlib2                   0.5.5                        /usr/local/lib/python3.7/dist-packages pip\n",
            "convertdate                   2.4.0                        /usr/local/lib/python3.7/dist-packages pip\n",
            "crashtest                     0.3.1                        /usr/local/lib/python3.7/dist-packages pip\n",
            "crcmod                        1.7                          /usr/local/lib/python3.7/dist-packages pip\n",
            "cufflinks                     0.17.3                       /usr/local/lib/python3.7/dist-packages pip\n",
            "cvxopt                        1.3.0                        /usr/local/lib/python3.7/dist-packages pip\n",
            "cvxpy                         1.2.1                        /usr/local/lib/python3.7/dist-packages pip\n",
            "cycler                        0.11.0                       /usr/local/lib/python3.7/dist-packages pip\n",
            "cymem                         2.0.6                        /usr/local/lib/python3.7/dist-packages pip\n",
            "Cython                        0.29.32                      /usr/local/lib/python3.7/dist-packages pip\n",
            "daft                          0.0.4                        /usr/local/lib/python3.7/dist-packages pip\n",
            "dask                          2022.2.0                     /usr/local/lib/python3.7/dist-packages pip\n",
            "datascience                   0.17.5                       /usr/local/lib/python3.7/dist-packages pip\n",
            "debugpy                       1.0.0                        /usr/local/lib/python3.7/dist-packages pip\n",
            "decorator                     4.4.2                        /usr/local/lib/python3.7/dist-packages pip\n",
            "defusedxml                    0.7.1                        /usr/local/lib/python3.7/dist-packages pip\n",
            "descartes                     1.1.0                        /usr/local/lib/python3.7/dist-packages pip\n",
            "dill                          0.3.5.1                      /usr/local/lib/python3.7/dist-packages pip\n",
            "distributed                   2022.2.0                     /usr/local/lib/python3.7/dist-packages pip\n",
            "dlib                          19.24.0                      /usr/local/lib/python3.7/dist-packages pip\n",
            "dm-tree                       0.1.7                        /usr/local/lib/python3.7/dist-packages pip\n",
            "docutils                      0.17.1                       /usr/local/lib/python3.7/dist-packages pip\n",
            "dopamine-rl                   1.0.5                        /usr/local/lib/python3.7/dist-packages pip\n",
            "earthengine-api               0.1.323                      /usr/local/lib/python3.7/dist-packages pip\n",
            "easydict                      1.9                          /usr/local/lib/python3.7/dist-packages pip\n",
            "ecos                          2.0.10                       /usr/local/lib/python3.7/dist-packages pip\n",
            "editdistance                  0.5.3                        /usr/local/lib/python3.7/dist-packages pip\n",
            "en-core-web-sm                3.4.0                        /usr/local/lib/python3.7/dist-packages pip\n",
            "entrypoints                   0.4                          /usr/local/lib/python3.7/dist-packages pip\n",
            "ephem                         4.1.3                        /usr/local/lib/python3.7/dist-packages pip\n",
            "et-xmlfile                    1.1.0                        /usr/local/lib/python3.7/dist-packages pip\n",
            "etils                         0.7.1                        /usr/local/lib/python3.7/dist-packages pip\n",
            "etuples                       0.3.8                        /usr/local/lib/python3.7/dist-packages pip\n",
            "fa2                           0.3.5                        /usr/local/lib/python3.7/dist-packages pip\n",
            "fastai                        2.7.9                        /usr/local/lib/python3.7/dist-packages pip\n",
            "fastcore                      1.5.25                       /usr/local/lib/python3.7/dist-packages pip\n",
            "fastdownload                  0.0.7                        /usr/local/lib/python3.7/dist-packages pip\n",
            "fastdtw                       0.3.4                        /usr/local/lib/python3.7/dist-packages pip\n",
            "fastjsonschema                2.16.1                       /usr/local/lib/python3.7/dist-packages pip\n",
            "fastprogress                  1.0.3                        /usr/local/lib/python3.7/dist-packages pip\n",
            "fastrlock                     0.8                          /usr/local/lib/python3.7/dist-packages pip\n",
            "feather-format                0.4.1                        /usr/local/lib/python3.7/dist-packages pip\n",
            "filelock                      3.8.0                        /usr/local/lib/python3.7/dist-packages pip\n",
            "firebase-admin                4.4.0                        /usr/local/lib/python3.7/dist-packages pip\n",
            "fix-yahoo-finance             0.0.22                       /usr/local/lib/python3.7/dist-packages pip\n",
            "Flask                         1.1.4                        /usr/local/lib/python3.7/dist-packages pip\n",
            "flatbuffers                   2.0.7                        /usr/local/lib/python3.7/dist-packages pip\n",
            "folium                        0.12.1.post1                 /usr/local/lib/python3.7/dist-packages pip\n",
            "frozenlist                    1.3.1                        /usr/local/lib/python3.7/dist-packages pip\n",
            "fsspec                        2022.8.2                     /usr/local/lib/python3.7/dist-packages pip\n",
            "future                        0.16.0                       /usr/local/lib/python3.7/dist-packages pip\n",
            "gast                          0.5.3                        /usr/local/lib/python3.7/dist-packages pip\n",
            "GDAL                          2.2.2                        /usr/local/lib/python3.7/dist-packages pip\n",
            "gdown                         4.4.0                        /usr/local/lib/python3.7/dist-packages pip\n",
            "gensim                        3.6.0                        /usr/local/lib/python3.7/dist-packages pip\n",
            "geographiclib                 1.52                         /usr/local/lib/python3.7/dist-packages pip\n",
            "geopy                         1.17.0                       /usr/local/lib/python3.7/dist-packages pip\n",
            "gin-config                    0.5.0                        /usr/local/lib/python3.7/dist-packages pip\n",
            "glob2                         0.7                          /usr/local/lib/python3.7/dist-packages pip\n",
            "google                        2.0.3                        /usr/local/lib/python3.7/dist-packages pip\n",
            "google-api-core               1.31.6                       /usr/local/lib/python3.7/dist-packages pip\n",
            "google-api-python-client      1.12.11                      /usr/local/lib/python3.7/dist-packages pip\n",
            "google-auth                   1.35.0                       /usr/local/lib/python3.7/dist-packages pip\n",
            "google-auth-httplib2          0.0.4                        /usr/local/lib/python3.7/dist-packages pip\n",
            "google-auth-oauthlib          0.4.6                        /usr/local/lib/python3.7/dist-packages pip\n",
            "google-cloud-bigquery         1.21.0                       /usr/local/lib/python3.7/dist-packages pip\n",
            "google-cloud-bigquery-storage 1.1.2                        /usr/local/lib/python3.7/dist-packages pip\n",
            "google-cloud-core             1.0.3                        /usr/local/lib/python3.7/dist-packages pip\n",
            "google-cloud-datastore        1.8.0                        /usr/local/lib/python3.7/dist-packages pip\n",
            "google-cloud-firestore        1.7.0                        /usr/local/lib/python3.7/dist-packages pip\n",
            "google-cloud-language         1.2.0                        /usr/local/lib/python3.7/dist-packages pip\n",
            "google-cloud-storage          1.18.1                       /usr/local/lib/python3.7/dist-packages pip\n",
            "google-cloud-translate        1.5.0                        /usr/local/lib/python3.7/dist-packages pip\n",
            "google-colab                  1.0.0                        /usr/local/lib/python3.7/dist-packages pip\n",
            "google-pasta                  0.2.0                        /usr/local/lib/python3.7/dist-packages pip\n",
            "google-resumable-media        0.4.1                        /usr/local/lib/python3.7/dist-packages pip\n",
            "googleapis-common-protos      1.56.4                       /usr/local/lib/python3.7/dist-packages pip\n",
            "googledrivedownloader         0.4                          /usr/local/lib/python3.7/dist-packages pip\n",
            "graphviz                      0.10.1                       /usr/local/lib/python3.7/dist-packages pip\n",
            "greenlet                      1.1.3                        /usr/local/lib/python3.7/dist-packages pip\n",
            "grpcio                        1.48.1                       /usr/local/lib/python3.7/dist-packages pip\n",
            "gspread                       3.4.2                        /usr/local/lib/python3.7/dist-packages pip\n",
            "gspread-dataframe             3.0.8                        /usr/local/lib/python3.7/dist-packages pip\n",
            "gym                           0.25.2                       /usr/local/lib/python3.7/dist-packages pip\n",
            "gym-notices                   0.0.8                        /usr/local/lib/python3.7/dist-packages pip\n",
            "h5py                          3.1.0                        /usr/local/lib/python3.7/dist-packages pip\n",
            "HeapDict                      1.0.1                        /usr/local/lib/python3.7/dist-packages pip\n",
            "hijri-converter               2.2.4                        /usr/local/lib/python3.7/dist-packages pip\n",
            "holidays                      0.15                         /usr/local/lib/python3.7/dist-packages pip\n",
            "holoviews                     1.14.9                       /usr/local/lib/python3.7/dist-packages pip\n",
            "html5lib                      1.0.1                        /usr/local/lib/python3.7/dist-packages pip\n",
            "httpimport                    0.5.18                       /usr/local/lib/python3.7/dist-packages pip\n",
            "httplib2                      0.17.4                       /usr/local/lib/python3.7/dist-packages pip\n",
            "httplib2shim                  0.0.3                        /usr/local/lib/python3.7/dist-packages pip\n",
            "httpstan                      4.6.1                        /usr/local/lib/python3.7/dist-packages pip\n",
            "humanize                      0.5.1                        /usr/local/lib/python3.7/dist-packages pip\n",
            "hyperopt                      0.1.2                        /usr/local/lib/python3.7/dist-packages pip\n",
            "idna                          2.10                         /usr/local/lib/python3.7/dist-packages pip\n",
            "imageio                       2.9.0                        /usr/local/lib/python3.7/dist-packages pip\n",
            "imagesize                     1.4.1                        /usr/local/lib/python3.7/dist-packages pip\n",
            "imbalanced-learn              0.8.1                        /usr/local/lib/python3.7/dist-packages pip\n",
            "imblearn                      0.0                          /usr/local/lib/python3.7/dist-packages pip\n",
            "imgaug                        0.4.0                        /usr/local/lib/python3.7/dist-packages pip\n",
            "importlib-metadata            4.12.0                       /usr/local/lib/python3.7/dist-packages pip\n",
            "importlib-resources           5.9.0                        /usr/local/lib/python3.7/dist-packages pip\n",
            "imutils                       0.5.4                        /usr/local/lib/python3.7/dist-packages pip\n",
            "inflect                       2.1.0                        /usr/local/lib/python3.7/dist-packages pip\n",
            "intel-openmp                  2022.1.0                     /usr/local/lib/python3.7/dist-packages pip\n",
            "intervaltree                  2.1.0                        /usr/local/lib/python3.7/dist-packages pip\n",
            "ipykernel                     5.3.4                        /usr/local/lib/python3.7/dist-packages pip\n",
            "ipython                       7.9.0                        /usr/local/lib/python3.7/dist-packages pip\n",
            "ipython-genutils              0.2.0                        /usr/local/lib/python3.7/dist-packages pip\n",
            "ipython-sql                   0.3.9                        /usr/local/lib/python3.7/dist-packages pip\n",
            "ipywidgets                    7.7.1                        /usr/local/lib/python3.7/dist-packages pip\n",
            "itsdangerous                  1.1.0                        /usr/local/lib/python3.7/dist-packages pip\n",
            "jax                           0.3.17                       /usr/local/lib/python3.7/dist-packages pip\n",
            "jaxlib                        0.3.15+cuda11.cudnn805       /usr/local/lib/python3.7/dist-packages pip\n",
            "jieba                         0.42.1                       /usr/local/lib/python3.7/dist-packages pip\n",
            "Jinja2                        2.11.3                       /usr/local/lib/python3.7/dist-packages pip\n",
            "joblib                        1.1.0                        /usr/local/lib/python3.7/dist-packages pip\n",
            "jpeg4py                       0.1.4                        /usr/local/lib/python3.7/dist-packages pip\n",
            "jsonschema                    4.3.3                        /usr/local/lib/python3.7/dist-packages pip\n",
            "jupyter-client                6.1.12                       /usr/local/lib/python3.7/dist-packages pip\n",
            "jupyter-console               6.1.0                        /usr/local/lib/python3.7/dist-packages pip\n",
            "jupyter-core                  4.11.1                       /usr/local/lib/python3.7/dist-packages pip\n",
            "jupyterlab-widgets            3.0.3                        /usr/local/lib/python3.7/dist-packages pip\n",
            "kaggle                        1.5.12                       /usr/local/lib/python3.7/dist-packages pip\n",
            "kapre                         0.3.7                        /usr/local/lib/python3.7/dist-packages pip\n",
            "keras                         2.8.0                        /usr/local/lib/python3.7/dist-packages pip\n",
            "Keras-Preprocessing           1.1.2                        /usr/local/lib/python3.7/dist-packages pip\n",
            "keras-vis                     0.4.1                        /usr/local/lib/python3.7/dist-packages pip\n",
            "kiwisolver                    1.4.4                        /usr/local/lib/python3.7/dist-packages pip\n",
            "korean-lunar-calendar         0.2.1                        /usr/local/lib/python3.7/dist-packages pip\n",
            "langcodes                     3.3.0                        /usr/local/lib/python3.7/dist-packages pip\n",
            "libclang                      14.0.6                       /usr/local/lib/python3.7/dist-packages pip\n",
            "librosa                       0.8.1                        /usr/local/lib/python3.7/dist-packages pip\n",
            "lightgbm                      2.2.3                        /usr/local/lib/python3.7/dist-packages pip\n",
            "llvmlite                      0.39.1                       /usr/local/lib/python3.7/dist-packages pip\n",
            "lmdb                          0.99                         /usr/local/lib/python3.7/dist-packages pip\n",
            "locket                        1.0.0                        /usr/local/lib/python3.7/dist-packages pip\n",
            "logical-unification           0.4.5                        /usr/local/lib/python3.7/dist-packages pip\n",
            "LunarCalendar                 0.0.9                        /usr/local/lib/python3.7/dist-packages pip\n",
            "lxml                          4.9.1                        /usr/local/lib/python3.7/dist-packages pip\n",
            "Markdown                      3.4.1                        /usr/local/lib/python3.7/dist-packages pip\n",
            "MarkupSafe                    2.0.1                        /usr/local/lib/python3.7/dist-packages pip\n",
            "marshmallow                   3.17.1                       /usr/local/lib/python3.7/dist-packages pip\n",
            "matplotlib                    3.2.2                        /usr/local/lib/python3.7/dist-packages pip\n",
            "matplotlib-venn               0.11.7                       /usr/local/lib/python3.7/dist-packages pip\n",
            "miniKanren                    1.0.3                        /usr/local/lib/python3.7/dist-packages pip\n",
            "missingno                     0.5.1                        /usr/local/lib/python3.7/dist-packages pip\n",
            "mistune                       0.8.4                        /usr/local/lib/python3.7/dist-packages pip\n",
            "mizani                        0.7.3                        /usr/local/lib/python3.7/dist-packages pip\n",
            "mkl                           2019.0                       /usr/local/lib/python3.7/dist-packages pip\n",
            "mlxtend                       0.14.0                       /usr/local/lib/python3.7/dist-packages pip\n",
            "more-itertools                8.14.0                       /usr/local/lib/python3.7/dist-packages pip\n",
            "moviepy                       0.2.3.5                      /usr/local/lib/python3.7/dist-packages pip\n",
            "mpmath                        1.2.1                        /usr/local/lib/python3.7/dist-packages pip\n",
            "msgpack                       1.0.4                        /usr/local/lib/python3.7/dist-packages pip\n",
            "multidict                     6.0.2                        /usr/local/lib/python3.7/dist-packages pip\n",
            "multipledispatch              0.6.0                        /usr/local/lib/python3.7/dist-packages pip\n",
            "multitasking                  0.0.11                       /usr/local/lib/python3.7/dist-packages pip\n",
            "murmurhash                    1.0.8                        /usr/local/lib/python3.7/dist-packages pip\n",
            "music21                       5.5.0                        /usr/local/lib/python3.7/dist-packages pip\n",
            "natsort                       5.5.0                        /usr/local/lib/python3.7/dist-packages pip\n",
            "nbconvert                     5.6.1                        /usr/local/lib/python3.7/dist-packages pip\n",
            "nbformat                      5.4.0                        /usr/local/lib/python3.7/dist-packages pip\n",
            "netCDF4                       1.6.0                        /usr/local/lib/python3.7/dist-packages pip\n",
            "networkx                      2.6.3                        /usr/local/lib/python3.7/dist-packages pip\n",
            "nibabel                       3.0.2                        /usr/local/lib/python3.7/dist-packages pip\n",
            "nltk                          3.7                          /usr/local/lib/python3.7/dist-packages pip\n",
            "notebook                      5.3.1                        /usr/local/lib/python3.7/dist-packages pip\n",
            "numba                         0.56.2                       /usr/local/lib/python3.7/dist-packages pip\n",
            "numexpr                       2.8.3                        /usr/local/lib/python3.7/dist-packages pip\n",
            "numpy                         1.21.6                       /usr/local/lib/python3.7/dist-packages pip\n",
            "oauth2client                  4.1.3                        /usr/local/lib/python3.7/dist-packages pip\n",
            "oauthlib                      3.2.0                        /usr/local/lib/python3.7/dist-packages pip\n",
            "okgrade                       0.4.3                        /usr/local/lib/python3.7/dist-packages pip\n",
            "opencv-contrib-python         4.6.0.66                     /usr/local/lib/python3.7/dist-packages pip\n",
            "opencv-python                 4.6.0.66                     /usr/local/lib/python3.7/dist-packages pip\n",
            "opencv-python-headless        4.6.0.66                     /usr/local/lib/python3.7/dist-packages pip\n",
            "openpyxl                      3.0.10                       /usr/local/lib/python3.7/dist-packages pip\n",
            "opt-einsum                    3.3.0                        /usr/local/lib/python3.7/dist-packages pip\n",
            "osqp                          0.6.2.post0                  /usr/local/lib/python3.7/dist-packages pip\n",
            "packaging                     21.3                         /usr/local/lib/python3.7/dist-packages pip\n",
            "palettable                    3.3.0                        /usr/local/lib/python3.7/dist-packages pip\n",
            "pandas                        1.3.5                        /usr/local/lib/python3.7/dist-packages pip\n",
            "pandas-datareader             0.9.0                        /usr/local/lib/python3.7/dist-packages pip\n",
            "pandas-gbq                    0.13.3                       /usr/local/lib/python3.7/dist-packages pip\n",
            "pandas-profiling              1.4.1                        /usr/local/lib/python3.7/dist-packages pip\n",
            "pandocfilters                 1.5.0                        /usr/local/lib/python3.7/dist-packages pip\n",
            "panel                         0.12.1                       /usr/local/lib/python3.7/dist-packages pip\n",
            "param                         1.12.2                       /usr/local/lib/python3.7/dist-packages pip\n",
            "parso                         0.8.3                        /usr/local/lib/python3.7/dist-packages pip\n",
            "partd                         1.3.0                        /usr/local/lib/python3.7/dist-packages pip\n",
            "pastel                        0.2.1                        /usr/local/lib/python3.7/dist-packages pip\n",
            "pathlib                       1.0.1                        /usr/local/lib/python3.7/dist-packages pip\n",
            "pathy                         0.6.2                        /usr/local/lib/python3.7/dist-packages pip\n",
            "patsy                         0.5.2                        /usr/local/lib/python3.7/dist-packages pip\n",
            "pep517                        0.13.0                       /usr/local/lib/python3.7/dist-packages pip\n",
            "pexpect                       4.8.0                        /usr/local/lib/python3.7/dist-packages pip\n",
            "pickleshare                   0.7.5                        /usr/local/lib/python3.7/dist-packages pip\n",
            "Pillow                        7.1.2                        /usr/local/lib/python3.7/dist-packages pip\n",
            "pip                           21.1.3                       /usr/local/lib/python3.7/dist-packages pip\n",
            "pip-tools                     6.2.0                        /usr/local/lib/python3.7/dist-packages pip\n",
            "plotly                        5.5.0                        /usr/local/lib/python3.7/dist-packages pip\n",
            "plotnine                      0.8.0                        /usr/local/lib/python3.7/dist-packages pip\n",
            "pluggy                        0.7.1                        /usr/local/lib/python3.7/dist-packages pip\n",
            "pooch                         1.6.0                        /usr/local/lib/python3.7/dist-packages pip\n",
            "portpicker                    1.3.9                        /usr/local/lib/python3.7/dist-packages pip\n",
            "prefetch-generator            1.0.1                        /usr/local/lib/python3.7/dist-packages pip\n",
            "preshed                       3.0.7                        /usr/local/lib/python3.7/dist-packages pip\n",
            "prettytable                   3.4.1                        /usr/local/lib/python3.7/dist-packages pip\n",
            "progressbar2                  3.38.0                       /usr/local/lib/python3.7/dist-packages pip\n",
            "promise                       2.3                          /usr/local/lib/python3.7/dist-packages pip\n",
            "prompt-toolkit                2.0.10                       /usr/local/lib/python3.7/dist-packages pip\n",
            "prophet                       1.1                          /usr/local/lib/python3.7/dist-packages pip\n",
            "protobuf                      3.17.3                       /usr/local/lib/python3.7/dist-packages pip\n",
            "psutil                        5.4.8                        /usr/local/lib/python3.7/dist-packages pip\n",
            "psycopg2                      2.9.3                        /usr/local/lib/python3.7/dist-packages pip\n",
            "ptyprocess                    0.7.0                        /usr/local/lib/python3.7/dist-packages pip\n",
            "py                            1.11.0                       /usr/local/lib/python3.7/dist-packages pip\n",
            "pyarrow                       6.0.1                        /usr/local/lib/python3.7/dist-packages pip\n",
            "pyasn1                        0.4.8                        /usr/local/lib/python3.7/dist-packages pip\n",
            "pyasn1-modules                0.2.8                        /usr/local/lib/python3.7/dist-packages pip\n",
            "pycocotools                   2.0.4                        /usr/local/lib/python3.7/dist-packages pip\n",
            "pycparser                     2.21                         /usr/local/lib/python3.7/dist-packages pip\n",
            "pyct                          0.4.8                        /usr/local/lib/python3.7/dist-packages pip\n",
            "pydantic                      1.9.2                        /usr/local/lib/python3.7/dist-packages pip\n",
            "pydata-google-auth            1.4.0                        /usr/local/lib/python3.7/dist-packages pip\n",
            "pydot                         1.3.0                        /usr/local/lib/python3.7/dist-packages pip\n",
            "pydot-ng                      2.0.0                        /usr/local/lib/python3.7/dist-packages pip\n",
            "pydotplus                     2.0.2                        /usr/local/lib/python3.7/dist-packages pip\n",
            "PyDrive                       1.3.1                        /usr/local/lib/python3.7/dist-packages pip\n",
            "pyemd                         0.5.1                        /usr/local/lib/python3.7/dist-packages pip\n",
            "pyerfa                        2.0.0.1                      /usr/local/lib/python3.7/dist-packages pip\n",
            "Pygments                      2.6.1                        /usr/local/lib/python3.7/dist-packages pip\n",
            "pygobject                     3.26.1                       /usr/lib/python3/dist-packages\n",
            "pylev                         1.4.0                        /usr/local/lib/python3.7/dist-packages pip\n",
            "pymc                          4.1.4                        /usr/local/lib/python3.7/dist-packages pip\n",
            "PyMeeus                       0.5.11                       /usr/local/lib/python3.7/dist-packages pip\n",
            "pymongo                       4.2.0                        /usr/local/lib/python3.7/dist-packages pip\n",
            "pymystem3                     0.2.0                        /usr/local/lib/python3.7/dist-packages pip\n",
            "PyOpenGL                      3.1.6                        /usr/local/lib/python3.7/dist-packages pip\n",
            "pyparsing                     3.0.9                        /usr/local/lib/python3.7/dist-packages pip\n",
            "pyrsistent                    0.18.1                       /usr/local/lib/python3.7/dist-packages pip\n",
            "pysimdjson                    3.2.0                        /usr/local/lib/python3.7/dist-packages pip\n",
            "pysndfile                     1.3.8                        /usr/local/lib/python3.7/dist-packages pip\n",
            "PySocks                       1.7.1                        /usr/local/lib/python3.7/dist-packages pip\n",
            "pystan                        3.3.0                        /usr/local/lib/python3.7/dist-packages pip\n",
            "pytest                        3.6.4                        /usr/local/lib/python3.7/dist-packages pip\n",
            "python-apt                    0.0.0                        /usr/local/lib/python3.7/dist-packages\n",
            "python-chess                  0.23.11                      /usr/local/lib/python3.7/dist-packages pip\n",
            "python-dateutil               2.8.2                        /usr/local/lib/python3.7/dist-packages pip\n",
            "python-louvain                0.16                         /usr/local/lib/python3.7/dist-packages pip\n",
            "python-slugify                6.1.2                        /usr/local/lib/python3.7/dist-packages pip\n",
            "python-utils                  3.3.3                        /usr/local/lib/python3.7/dist-packages pip\n",
            "pytz                          2022.2.1                     /usr/local/lib/python3.7/dist-packages pip\n",
            "pyviz-comms                   2.2.1                        /usr/local/lib/python3.7/dist-packages pip\n",
            "PyWavelets                    1.3.0                        /usr/local/lib/python3.7/dist-packages pip\n",
            "PyYAML                        6.0                          /usr/local/lib/python3.7/dist-packages pip\n",
            "pyzmq                         23.2.1                       /usr/local/lib/python3.7/dist-packages pip\n",
            "qdldl                         0.1.5.post2                  /usr/local/lib/python3.7/dist-packages pip\n",
            "qudida                        0.0.4                        /usr/local/lib/python3.7/dist-packages pip\n",
            "regex                         2022.6.2                     /usr/local/lib/python3.7/dist-packages pip\n",
            "requests                      2.23.0                       /usr/local/lib/python3.7/dist-packages pip\n",
            "requests-oauthlib             1.3.1                        /usr/local/lib/python3.7/dist-packages pip\n",
            "resampy                       0.4.0                        /usr/local/lib/python3.7/dist-packages pip\n",
            "rpy2                          3.4.5                        /usr/local/lib/python3.7/dist-packages pip\n",
            "rsa                           4.9                          /usr/local/lib/python3.7/dist-packages pip\n",
            "scikit-image                  0.18.3                       /usr/local/lib/python3.7/dist-packages pip\n",
            "scikit-learn                  1.0.2                        /usr/local/lib/python3.7/dist-packages pip\n",
            "scipy                         1.7.3                        /usr/local/lib/python3.7/dist-packages pip\n",
            "screen-resolution-extra       0.0.0                        /usr/lib/python3/dist-packages\n",
            "scs                           3.2.0                        /usr/local/lib/python3.7/dist-packages pip\n",
            "seaborn                       0.11.2                       /usr/local/lib/python3.7/dist-packages pip\n",
            "Send2Trash                    1.8.0                        /usr/local/lib/python3.7/dist-packages pip\n",
            "setuptools                    57.4.0                       /usr/local/lib/python3.7/dist-packages pip\n",
            "setuptools-git                1.2                          /usr/local/lib/python3.7/dist-packages pip\n",
            "Shapely                       1.8.4                        /usr/local/lib/python3.7/dist-packages pip\n",
            "six                           1.15.0                       /usr/local/lib/python3.7/dist-packages pip\n",
            "sklearn-pandas                1.8.0                        /usr/local/lib/python3.7/dist-packages pip\n",
            "smart-open                    5.2.1                        /usr/local/lib/python3.7/dist-packages pip\n",
            "snowballstemmer               2.2.0                        /usr/local/lib/python3.7/dist-packages pip\n",
            "sortedcontainers              2.4.0                        /usr/local/lib/python3.7/dist-packages pip\n",
            "SoundFile                     0.10.3.post1                 /usr/local/lib/python3.7/dist-packages pip\n",
            "spacy                         3.4.1                        /usr/local/lib/python3.7/dist-packages pip\n",
            "spacy-legacy                  3.0.10                       /usr/local/lib/python3.7/dist-packages pip\n",
            "spacy-loggers                 1.0.3                        /usr/local/lib/python3.7/dist-packages pip\n",
            "Sphinx                        1.8.6                        /usr/local/lib/python3.7/dist-packages pip\n",
            "sphinxcontrib-serializinghtml 1.1.5                        /usr/local/lib/python3.7/dist-packages pip\n",
            "sphinxcontrib-websupport      1.2.4                        /usr/local/lib/python3.7/dist-packages pip\n",
            "SQLAlchemy                    1.4.41                       /usr/local/lib/python3.7/dist-packages pip\n",
            "sqlparse                      0.4.2                        /usr/local/lib/python3.7/dist-packages pip\n",
            "srsly                         2.4.4                        /usr/local/lib/python3.7/dist-packages pip\n",
            "statsmodels                   0.12.2                       /usr/local/lib/python3.7/dist-packages pip\n",
            "sympy                         1.7.1                        /usr/local/lib/python3.7/dist-packages pip\n",
            "tables                        3.7.0                        /usr/local/lib/python3.7/dist-packages pip\n",
            "tabulate                      0.8.10                       /usr/local/lib/python3.7/dist-packages pip\n",
            "tblib                         1.7.0                        /usr/local/lib/python3.7/dist-packages pip\n",
            "tenacity                      8.0.1                        /usr/local/lib/python3.7/dist-packages pip\n",
            "tensorboard                   2.8.0                        /usr/local/lib/python3.7/dist-packages pip\n",
            "tensorboard-data-server       0.6.1                        /usr/local/lib/python3.7/dist-packages pip\n",
            "tensorboard-plugin-wit        1.8.1                        /usr/local/lib/python3.7/dist-packages pip\n",
            "tensorflow                    2.8.2+zzzcolab20220719082949 /usr/local/lib/python3.7/dist-packages pip\n",
            "tensorflow-datasets           4.6.0                        /usr/local/lib/python3.7/dist-packages pip\n",
            "tensorflow-estimator          2.8.0                        /usr/local/lib/python3.7/dist-packages pip\n",
            "tensorflow-gcs-config         2.8.0                        /usr/local/lib/python3.7/dist-packages pip\n",
            "tensorflow-hub                0.12.0                       /usr/local/lib/python3.7/dist-packages pip\n",
            "tensorflow-io-gcs-filesystem  0.26.0                       /usr/local/lib/python3.7/dist-packages pip\n",
            "tensorflow-metadata           1.10.0                       /usr/local/lib/python3.7/dist-packages pip\n",
            "tensorflow-probability        0.16.0                       /usr/local/lib/python3.7/dist-packages pip\n",
            "termcolor                     1.1.0                        /usr/local/lib/python3.7/dist-packages pip\n",
            "terminado                     0.13.3                       /usr/local/lib/python3.7/dist-packages pip\n",
            "testpath                      0.6.0                        /usr/local/lib/python3.7/dist-packages pip\n",
            "text-unidecode                1.3                          /usr/local/lib/python3.7/dist-packages pip\n",
            "textblob                      0.15.3                       /usr/local/lib/python3.7/dist-packages pip\n",
            "thinc                         8.1.0                        /usr/local/lib/python3.7/dist-packages pip\n",
            "threadpoolctl                 3.1.0                        /usr/local/lib/python3.7/dist-packages pip\n",
            "tifffile                      2021.11.2                    /usr/local/lib/python3.7/dist-packages pip\n",
            "toml                          0.10.2                       /usr/local/lib/python3.7/dist-packages pip\n",
            "tomli                         2.0.1                        /usr/local/lib/python3.7/dist-packages pip\n",
            "toolz                         0.12.0                       /usr/local/lib/python3.7/dist-packages pip\n",
            "torch                         1.12.1+cu113                 /usr/local/lib/python3.7/dist-packages pip\n",
            "torchaudio                    0.12.1+cu113                 /usr/local/lib/python3.7/dist-packages pip\n",
            "torchsummary                  1.5.1                        /usr/local/lib/python3.7/dist-packages pip\n",
            "torchtext                     0.13.1                       /usr/local/lib/python3.7/dist-packages pip\n",
            "torchvision                   0.13.1+cu113                 /usr/local/lib/python3.7/dist-packages pip\n",
            "tornado                       5.1.1                        /usr/local/lib/python3.7/dist-packages pip\n",
            "tqdm                          4.64.1                       /usr/local/lib/python3.7/dist-packages pip\n",
            "traitlets                     5.1.1                        /usr/local/lib/python3.7/dist-packages pip\n",
            "tweepy                        3.10.0                       /usr/local/lib/python3.7/dist-packages pip\n",
            "typeguard                     2.7.1                        /usr/local/lib/python3.7/dist-packages pip\n",
            "typer                         0.4.2                        /usr/local/lib/python3.7/dist-packages pip\n",
            "typing-extensions             4.1.1                        /usr/local/lib/python3.7/dist-packages pip\n",
            "tzlocal                       1.5.1                        /usr/local/lib/python3.7/dist-packages pip\n",
            "ujson                         5.4.0                        /usr/local/lib/python3.7/dist-packages pip\n",
            "uritemplate                   3.0.1                        /usr/local/lib/python3.7/dist-packages pip\n",
            "urllib3                       1.24.3                       /usr/local/lib/python3.7/dist-packages pip\n",
            "vega-datasets                 0.9.0                        /usr/local/lib/python3.7/dist-packages pip\n",
            "wasabi                        0.10.1                       /usr/local/lib/python3.7/dist-packages pip\n",
            "wcwidth                       0.2.5                        /usr/local/lib/python3.7/dist-packages pip\n",
            "webargs                       8.2.0                        /usr/local/lib/python3.7/dist-packages pip\n",
            "webencodings                  0.5.1                        /usr/local/lib/python3.7/dist-packages pip\n",
            "Werkzeug                      1.0.1                        /usr/local/lib/python3.7/dist-packages pip\n",
            "wheel                         0.37.1                       /usr/local/lib/python3.7/dist-packages pip\n",
            "widgetsnbextension            3.6.1                        /usr/local/lib/python3.7/dist-packages pip\n",
            "wordcloud                     1.8.2.2                      /usr/local/lib/python3.7/dist-packages pip\n",
            "wrapt                         1.14.1                       /usr/local/lib/python3.7/dist-packages pip\n",
            "xarray                        0.20.2                       /usr/local/lib/python3.7/dist-packages pip\n",
            "xarray-einstats               0.2.2                        /usr/local/lib/python3.7/dist-packages pip\n",
            "xgboost                       0.90                         /usr/local/lib/python3.7/dist-packages pip\n",
            "xkit                          0.0.0                        /usr/lib/python3/dist-packages\n",
            "xlrd                          1.1.0                        /usr/local/lib/python3.7/dist-packages pip\n",
            "xlwt                          1.3.0                        /usr/local/lib/python3.7/dist-packages pip\n",
            "yarl                          1.8.1                        /usr/local/lib/python3.7/dist-packages pip\n",
            "yellowbrick                   1.5                          /usr/local/lib/python3.7/dist-packages pip\n",
            "zict                          2.2.0                        /usr/local/lib/python3.7/dist-packages pip\n",
            "zipp                          3.8.1                        /usr/local/lib/python3.7/dist-packages pip\n"
          ]
        }
      ]
    },
    {
      "cell_type": "markdown",
      "source": [
        "Nous pouvons vérifier si le package désiré est déjà installé"
      ],
      "metadata": {
        "id": "-mtAdFZZrkYr"
      }
    },
    {
      "cell_type": "code",
      "execution_count": 4,
      "metadata": {
        "id": "ejPJX6qhf_ay",
        "colab": {
          "base_uri": "https://localhost:8080/"
        },
        "outputId": "f7f23009-03d8-44d9-9c7f-cc2f698c58ad"
      },
      "outputs": [
        {
          "output_type": "stream",
          "name": "stdout",
          "text": [
            "fastai                        2.7.9                        /usr/local/lib/python3.7/dist-packages pip\n"
          ]
        }
      ],
      "source": [
        "!pip list -v | grep fastai "
      ]
    },
    {
      "cell_type": "markdown",
      "source": [
        "Si une autre version de ce package est requise, il est également possible de modifier la version de cette librairie en la réinstallant"
      ],
      "metadata": {
        "id": "kcL3hyQprs-e"
      }
    },
    {
      "cell_type": "code",
      "source": [
        "!pip install fastai==2.5.0"
      ],
      "metadata": {
        "colab": {
          "base_uri": "https://localhost:8080/"
        },
        "id": "zaLkHaH5ksn1",
        "outputId": "80543225-9808-44c4-ae67-46138b6323d8"
      },
      "execution_count": 5,
      "outputs": [
        {
          "output_type": "stream",
          "name": "stdout",
          "text": [
            "Looking in indexes: https://pypi.org/simple, https://us-python.pkg.dev/colab-wheels/public/simple/\n",
            "Collecting fastai==2.5.0\n",
            "  Downloading fastai-2.5.0-py3-none-any.whl (188 kB)\n",
            "\u001b[K     |████████████████████████████████| 188 kB 27.1 MB/s \n",
            "\u001b[?25hRequirement already satisfied: pillow>6.0.0 in /usr/local/lib/python3.7/dist-packages (from fastai==2.5.0) (7.1.2)\n",
            "Requirement already satisfied: packaging in /usr/local/lib/python3.7/dist-packages (from fastai==2.5.0) (21.3)\n",
            "Requirement already satisfied: scikit-learn in /usr/local/lib/python3.7/dist-packages (from fastai==2.5.0) (1.0.2)\n",
            "Requirement already satisfied: pip in /usr/local/lib/python3.7/dist-packages (from fastai==2.5.0) (21.1.3)\n",
            "Collecting torch<1.10,>=1.7.0\n",
            "  Downloading torch-1.9.1-cp37-cp37m-manylinux1_x86_64.whl (831.4 MB)\n",
            "\u001b[K     |████████████████████████████████| 831.4 MB 8.0 kB/s \n",
            "\u001b[?25hCollecting fastcore<1.4,>=1.3.8\n",
            "  Downloading fastcore-1.3.29-py3-none-any.whl (55 kB)\n",
            "\u001b[K     |████████████████████████████████| 55 kB 4.1 MB/s \n",
            "\u001b[?25hRequirement already satisfied: fastdownload in /usr/local/lib/python3.7/dist-packages (from fastai==2.5.0) (0.0.7)\n",
            "Requirement already satisfied: pandas in /usr/local/lib/python3.7/dist-packages (from fastai==2.5.0) (1.3.5)\n",
            "Requirement already satisfied: torchvision>=0.8.2 in /usr/local/lib/python3.7/dist-packages (from fastai==2.5.0) (0.13.1+cu113)\n",
            "Requirement already satisfied: matplotlib in /usr/local/lib/python3.7/dist-packages (from fastai==2.5.0) (3.2.2)\n",
            "Requirement already satisfied: pyyaml in /usr/local/lib/python3.7/dist-packages (from fastai==2.5.0) (6.0)\n",
            "Requirement already satisfied: fastprogress>=0.2.4 in /usr/local/lib/python3.7/dist-packages (from fastai==2.5.0) (1.0.3)\n",
            "Requirement already satisfied: spacy<4 in /usr/local/lib/python3.7/dist-packages (from fastai==2.5.0) (3.4.1)\n",
            "Requirement already satisfied: scipy in /usr/local/lib/python3.7/dist-packages (from fastai==2.5.0) (1.7.3)\n",
            "Requirement already satisfied: requests in /usr/local/lib/python3.7/dist-packages (from fastai==2.5.0) (2.23.0)\n",
            "Requirement already satisfied: catalogue<2.1.0,>=2.0.6 in /usr/local/lib/python3.7/dist-packages (from spacy<4->fastai==2.5.0) (2.0.8)\n",
            "Requirement already satisfied: pathy>=0.3.5 in /usr/local/lib/python3.7/dist-packages (from spacy<4->fastai==2.5.0) (0.6.2)\n",
            "Requirement already satisfied: spacy-loggers<2.0.0,>=1.0.0 in /usr/local/lib/python3.7/dist-packages (from spacy<4->fastai==2.5.0) (1.0.3)\n",
            "Requirement already satisfied: pydantic!=1.8,!=1.8.1,<1.10.0,>=1.7.4 in /usr/local/lib/python3.7/dist-packages (from spacy<4->fastai==2.5.0) (1.9.2)\n",
            "Requirement already satisfied: typing-extensions<4.2.0,>=3.7.4 in /usr/local/lib/python3.7/dist-packages (from spacy<4->fastai==2.5.0) (4.1.1)\n",
            "Requirement already satisfied: spacy-legacy<3.1.0,>=3.0.9 in /usr/local/lib/python3.7/dist-packages (from spacy<4->fastai==2.5.0) (3.0.10)\n",
            "Requirement already satisfied: thinc<8.2.0,>=8.1.0 in /usr/local/lib/python3.7/dist-packages (from spacy<4->fastai==2.5.0) (8.1.0)\n",
            "Requirement already satisfied: srsly<3.0.0,>=2.4.3 in /usr/local/lib/python3.7/dist-packages (from spacy<4->fastai==2.5.0) (2.4.4)\n",
            "Requirement already satisfied: typer<0.5.0,>=0.3.0 in /usr/local/lib/python3.7/dist-packages (from spacy<4->fastai==2.5.0) (0.4.2)\n",
            "Requirement already satisfied: cymem<2.1.0,>=2.0.2 in /usr/local/lib/python3.7/dist-packages (from spacy<4->fastai==2.5.0) (2.0.6)\n",
            "Requirement already satisfied: preshed<3.1.0,>=3.0.2 in /usr/local/lib/python3.7/dist-packages (from spacy<4->fastai==2.5.0) (3.0.7)\n",
            "Requirement already satisfied: murmurhash<1.1.0,>=0.28.0 in /usr/local/lib/python3.7/dist-packages (from spacy<4->fastai==2.5.0) (1.0.8)\n",
            "Requirement already satisfied: langcodes<4.0.0,>=3.2.0 in /usr/local/lib/python3.7/dist-packages (from spacy<4->fastai==2.5.0) (3.3.0)\n",
            "Requirement already satisfied: numpy>=1.15.0 in /usr/local/lib/python3.7/dist-packages (from spacy<4->fastai==2.5.0) (1.21.6)\n",
            "Requirement already satisfied: wasabi<1.1.0,>=0.9.1 in /usr/local/lib/python3.7/dist-packages (from spacy<4->fastai==2.5.0) (0.10.1)\n",
            "Requirement already satisfied: tqdm<5.0.0,>=4.38.0 in /usr/local/lib/python3.7/dist-packages (from spacy<4->fastai==2.5.0) (4.64.1)\n",
            "Requirement already satisfied: setuptools in /usr/local/lib/python3.7/dist-packages (from spacy<4->fastai==2.5.0) (57.4.0)\n",
            "Requirement already satisfied: jinja2 in /usr/local/lib/python3.7/dist-packages (from spacy<4->fastai==2.5.0) (2.11.3)\n",
            "Requirement already satisfied: zipp>=0.5 in /usr/local/lib/python3.7/dist-packages (from catalogue<2.1.0,>=2.0.6->spacy<4->fastai==2.5.0) (3.8.1)\n",
            "Requirement already satisfied: pyparsing!=3.0.5,>=2.0.2 in /usr/local/lib/python3.7/dist-packages (from packaging->fastai==2.5.0) (3.0.9)\n",
            "Requirement already satisfied: smart-open<6.0.0,>=5.2.1 in /usr/local/lib/python3.7/dist-packages (from pathy>=0.3.5->spacy<4->fastai==2.5.0) (5.2.1)\n",
            "Requirement already satisfied: chardet<4,>=3.0.2 in /usr/local/lib/python3.7/dist-packages (from requests->fastai==2.5.0) (3.0.4)\n",
            "Requirement already satisfied: certifi>=2017.4.17 in /usr/local/lib/python3.7/dist-packages (from requests->fastai==2.5.0) (2022.6.15)\n",
            "Requirement already satisfied: idna<3,>=2.5 in /usr/local/lib/python3.7/dist-packages (from requests->fastai==2.5.0) (2.10)\n",
            "Requirement already satisfied: urllib3!=1.25.0,!=1.25.1,<1.26,>=1.21.1 in /usr/local/lib/python3.7/dist-packages (from requests->fastai==2.5.0) (1.24.3)\n",
            "Requirement already satisfied: blis<0.8.0,>=0.7.8 in /usr/local/lib/python3.7/dist-packages (from thinc<8.2.0,>=8.1.0->spacy<4->fastai==2.5.0) (0.7.8)\n",
            "Collecting torchvision>=0.8.2\n",
            "  Downloading torchvision-0.13.1-cp37-cp37m-manylinux1_x86_64.whl (19.1 MB)\n",
            "\u001b[K     |████████████████████████████████| 19.1 MB 791 kB/s \n",
            "\u001b[?25h  Downloading torchvision-0.13.0-cp37-cp37m-manylinux1_x86_64.whl (19.1 MB)\n",
            "\u001b[K     |████████████████████████████████| 19.1 MB 1.1 MB/s \n",
            "\u001b[?25h  Downloading torchvision-0.12.0-cp37-cp37m-manylinux1_x86_64.whl (21.0 MB)\n",
            "\u001b[K     |████████████████████████████████| 21.0 MB 81.2 MB/s \n",
            "\u001b[?25h  Downloading torchvision-0.11.3-cp37-cp37m-manylinux1_x86_64.whl (23.2 MB)\n",
            "\u001b[K     |████████████████████████████████| 23.2 MB 1.2 MB/s \n",
            "\u001b[?25h  Downloading torchvision-0.11.2-cp37-cp37m-manylinux1_x86_64.whl (23.3 MB)\n",
            "\u001b[K     |████████████████████████████████| 23.3 MB 1.3 MB/s \n",
            "\u001b[?25h  Downloading torchvision-0.11.1-cp37-cp37m-manylinux1_x86_64.whl (23.3 MB)\n",
            "\u001b[K     |████████████████████████████████| 23.3 MB 1.3 MB/s \n",
            "\u001b[?25h  Downloading torchvision-0.10.1-cp37-cp37m-manylinux1_x86_64.whl (22.1 MB)\n",
            "\u001b[K     |████████████████████████████████| 22.1 MB 1.4 MB/s \n",
            "\u001b[?25hRequirement already satisfied: click<9.0.0,>=7.1.1 in /usr/local/lib/python3.7/dist-packages (from typer<0.5.0,>=0.3.0->spacy<4->fastai==2.5.0) (7.1.2)\n",
            "Requirement already satisfied: MarkupSafe>=0.23 in /usr/local/lib/python3.7/dist-packages (from jinja2->spacy<4->fastai==2.5.0) (2.0.1)\n",
            "Requirement already satisfied: kiwisolver>=1.0.1 in /usr/local/lib/python3.7/dist-packages (from matplotlib->fastai==2.5.0) (1.4.4)\n",
            "Requirement already satisfied: cycler>=0.10 in /usr/local/lib/python3.7/dist-packages (from matplotlib->fastai==2.5.0) (0.11.0)\n",
            "Requirement already satisfied: python-dateutil>=2.1 in /usr/local/lib/python3.7/dist-packages (from matplotlib->fastai==2.5.0) (2.8.2)\n",
            "Requirement already satisfied: six>=1.5 in /usr/local/lib/python3.7/dist-packages (from python-dateutil>=2.1->matplotlib->fastai==2.5.0) (1.15.0)\n",
            "Requirement already satisfied: pytz>=2017.3 in /usr/local/lib/python3.7/dist-packages (from pandas->fastai==2.5.0) (2022.2.1)\n",
            "Requirement already satisfied: threadpoolctl>=2.0.0 in /usr/local/lib/python3.7/dist-packages (from scikit-learn->fastai==2.5.0) (3.1.0)\n",
            "Requirement already satisfied: joblib>=0.11 in /usr/local/lib/python3.7/dist-packages (from scikit-learn->fastai==2.5.0) (1.1.0)\n",
            "Installing collected packages: torch, fastcore, torchvision, fastai\n",
            "  Attempting uninstall: torch\n",
            "    Found existing installation: torch 1.12.1+cu113\n",
            "    Uninstalling torch-1.12.1+cu113:\n",
            "      Successfully uninstalled torch-1.12.1+cu113\n",
            "  Attempting uninstall: fastcore\n",
            "    Found existing installation: fastcore 1.5.25\n",
            "    Uninstalling fastcore-1.5.25:\n",
            "      Successfully uninstalled fastcore-1.5.25\n",
            "  Attempting uninstall: torchvision\n",
            "    Found existing installation: torchvision 0.13.1+cu113\n",
            "    Uninstalling torchvision-0.13.1+cu113:\n",
            "      Successfully uninstalled torchvision-0.13.1+cu113\n",
            "  Attempting uninstall: fastai\n",
            "    Found existing installation: fastai 2.7.9\n",
            "    Uninstalling fastai-2.7.9:\n",
            "      Successfully uninstalled fastai-2.7.9\n",
            "\u001b[31mERROR: pip's dependency resolver does not currently take into account all the packages that are installed. This behaviour is the source of the following dependency conflicts.\n",
            "torchtext 0.13.1 requires torch==1.12.1, but you have torch 1.9.1 which is incompatible.\n",
            "torchaudio 0.12.1+cu113 requires torch==1.12.1, but you have torch 1.9.1 which is incompatible.\u001b[0m\n",
            "Successfully installed fastai-2.5.0 fastcore-1.3.29 torch-1.9.1 torchvision-0.10.1\n"
          ]
        }
      ]
    },
    {
      "cell_type": "markdown",
      "source": [
        "# Les fonctions dans Python\n",
        "Les fonctions sont des modules de code qui peuvent être appelés et utilisés pour réaliser une fonctionnalité donnée. Par exemple, print() est une fonction de Python permettant d'afficher la valeur d'une variabe. Il est tout à fait possible de créer des fonctions et de les utiliser.\n",
        "\n",
        "/!\\ Aux indentations /!\\"
      ],
      "metadata": {
        "id": "pLMs3GsUt6lu"
      }
    },
    {
      "cell_type": "code",
      "source": [
        "#Réalise une tâche donnée\n",
        "def say_hello():\n",
        "  print('hello!')"
      ],
      "metadata": {
        "id": "pO2GozF9vcx2"
      },
      "execution_count": 9,
      "outputs": []
    },
    {
      "cell_type": "code",
      "source": [
        "say_hello()"
      ],
      "metadata": {
        "colab": {
          "base_uri": "https://localhost:8080/"
        },
        "id": "q8kUHI2XvgsO",
        "outputId": "976d89b6-e651-40a4-c908-68cb20ef9fd6"
      },
      "execution_count": 10,
      "outputs": [
        {
          "output_type": "stream",
          "name": "stdout",
          "text": [
            "hello!\n"
          ]
        }
      ]
    },
    {
      "cell_type": "code",
      "source": [
        "#Retourne une valeur\n",
        "def add(a, b):\n",
        "  return a+b"
      ],
      "metadata": {
        "id": "hSAH1JLtrPqq"
      },
      "execution_count": 11,
      "outputs": []
    },
    {
      "cell_type": "code",
      "source": [
        "a = 3\n",
        "b = 4\n",
        "res = add(a,b)\n",
        "print(f'Le résultat de l addition de {a} et {b} vaut : {res}')"
      ],
      "metadata": {
        "colab": {
          "base_uri": "https://localhost:8080/"
        },
        "id": "pvpe6mR5s51z",
        "outputId": "3a4b6e36-aea5-45fd-fc21-9d68941238c2"
      },
      "execution_count": 14,
      "outputs": [
        {
          "output_type": "stream",
          "name": "stdout",
          "text": [
            "Le résultat de l addition de 3 et 4 vaut : 7\n"
          ]
        }
      ]
    },
    {
      "cell_type": "markdown",
      "source": [
        "Il est possible de fixer certaines valeurs par défaut  à des arguments de la fonction "
      ],
      "metadata": {
        "id": "ChNLLvZbwQJ7"
      }
    },
    {
      "cell_type": "code",
      "source": [
        "def mult(a, b=1):\n",
        "  return a*b\n",
        "\n",
        "a = 4\n",
        "b = 3\n",
        "\n",
        "res = mult(a, b)\n",
        "print(f'Le résultat de la multiplication de {a} par {b} vaut : {res}')\n",
        "res = mult(a)\n",
        "print(f'Le résultat de la multiplication de {a} par {b} vaut : {res} :(')"
      ],
      "metadata": {
        "colab": {
          "base_uri": "https://localhost:8080/"
        },
        "id": "sTxKs_q7uxED",
        "outputId": "76bdebb2-9470-4189-8d73-06abcc236ee7"
      },
      "execution_count": 15,
      "outputs": [
        {
          "output_type": "stream",
          "name": "stdout",
          "text": [
            "Le résultat de la multiplication de 4 par 3 vaut : 12\n",
            "Le résultat de la multiplication de 4 par 3 vaut : 4 :( \n"
          ]
        }
      ]
    },
    {
      "cell_type": "markdown",
      "source": [
        "Une fonctionnalité très intéressante de Python est de permettre à la fonction de prendre n'importe quelle nombre d'arguments"
      ],
      "metadata": {
        "id": "BvZqinc6xQYL"
      }
    },
    {
      "cell_type": "code",
      "source": [
        "def print_all_values(*args): #sans 'keywords'\n",
        "  print(args)\n",
        "\n",
        "print_all_values(2, 3, 4, 5)\n",
        "print_all_values(2, 3, 4, 5, 6, 7, 8)"
      ],
      "metadata": {
        "colab": {
          "base_uri": "https://localhost:8080/"
        },
        "id": "SkyIhcQJw2xB",
        "outputId": "79fc994c-71d7-4d7e-d108-18b301b21c96"
      },
      "execution_count": 22,
      "outputs": [
        {
          "output_type": "stream",
          "name": "stdout",
          "text": [
            "2 3 4 5\n",
            "2 3 4 5 6 7 8\n"
          ]
        }
      ]
    },
    {
      "cell_type": "code",
      "source": [
        "def return_data_from_user(**kwargs): #avec 'keywords'\n",
        "  return kwargs\n",
        "\n",
        "print(return_data_from_user(name=\"Luca\", affiliation=\"UMONS\", gender=\"M\"))\n",
        "\n",
        "data_luca = return_data_from_user(name=\"Luca\", affiliation=\"UMONS\", gender=\"M\", cool_dude=True)\n",
        "print(data_luca)\n",
        "print(data_luca['name'])"
      ],
      "metadata": {
        "colab": {
          "base_uri": "https://localhost:8080/"
        },
        "id": "5XxyT31Sya55",
        "outputId": "f606f071-fe5f-4b3d-b70c-7ecb4a92d611"
      },
      "execution_count": 27,
      "outputs": [
        {
          "output_type": "stream",
          "name": "stdout",
          "text": [
            "{'name': 'Luca', 'affiliation': 'UMONS', 'gender': 'M'}\n",
            "{'name': 'Luca', 'affiliation': 'UMONS', 'gender': 'M', 'cool_dude': True}\n",
            "Luca\n"
          ]
        }
      ]
    },
    {
      "cell_type": "code",
      "source": [
        "''' \n",
        "TO DO :\n",
        "Loop\n",
        "Classes\n",
        "'''\n",
        "\n"
      ],
      "metadata": {
        "id": "aq6BohqjzKZv"
      },
      "execution_count": null,
      "outputs": []
    }
  ]
}