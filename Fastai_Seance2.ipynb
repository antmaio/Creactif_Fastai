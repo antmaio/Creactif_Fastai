{
  "nbformat": 4,
  "nbformat_minor": 0,
  "metadata": {
    "colab": {
      "provenance": [],
      "collapsed_sections": []
    },
    "kernelspec": {
      "name": "python3",
      "display_name": "Python 3"
    },
    "language_info": {
      "name": "python"
    },
    "accelerator": "GPU",
    "gpuClass": "standard"
  },
  "cells": [
    {
      "cell_type": "markdown",
      "source": [
        "# L'environnement dans Google Colab\n",
        "\n",
        "Google Colab permet facilement d'explorer son environnement à partir de commandes Linux. Afin de vérifier quels sont les librairies déjà installées dans l'environnement, nous pouvons exécuter la cellule suivante"
      ],
      "metadata": {
        "id": "DpQMjmlujtiP"
      }
    },
    {
      "cell_type": "code",
      "source": [
        "!pip list -v"
      ],
      "metadata": {
        "colab": {
          "base_uri": "https://localhost:8080/"
        },
        "id": "LAMP6rHPkwVk",
        "outputId": "002c24c2-0e64-46dd-b894-d1895a3b7b21"
      },
      "execution_count": null,
      "outputs": [
        {
          "output_type": "stream",
          "name": "stdout",
          "text": [
            "Package                       Version                      Location                               Installer\n",
            "----------------------------- ---------------------------- -------------------------------------- ---------\n",
            "absl-py                       1.2.0                        /usr/local/lib/python3.7/dist-packages pip\n",
            "aeppl                         0.0.33                       /usr/local/lib/python3.7/dist-packages pip\n",
            "aesara                        2.7.9                        /usr/local/lib/python3.7/dist-packages pip\n",
            "aiohttp                       3.8.1                        /usr/local/lib/python3.7/dist-packages pip\n",
            "aiosignal                     1.2.0                        /usr/local/lib/python3.7/dist-packages pip\n",
            "alabaster                     0.7.12                       /usr/local/lib/python3.7/dist-packages pip\n",
            "albumentations                1.2.1                        /usr/local/lib/python3.7/dist-packages pip\n",
            "altair                        4.2.0                        /usr/local/lib/python3.7/dist-packages pip\n",
            "appdirs                       1.4.4                        /usr/local/lib/python3.7/dist-packages pip\n",
            "arviz                         0.12.1                       /usr/local/lib/python3.7/dist-packages pip\n",
            "astor                         0.8.1                        /usr/local/lib/python3.7/dist-packages pip\n",
            "astropy                       4.3.1                        /usr/local/lib/python3.7/dist-packages pip\n",
            "astunparse                    1.6.3                        /usr/local/lib/python3.7/dist-packages pip\n",
            "async-timeout                 4.0.2                        /usr/local/lib/python3.7/dist-packages pip\n",
            "asynctest                     0.13.0                       /usr/local/lib/python3.7/dist-packages pip\n",
            "atari-py                      0.2.9                        /usr/local/lib/python3.7/dist-packages pip\n",
            "atomicwrites                  1.4.1                        /usr/local/lib/python3.7/dist-packages pip\n",
            "attrs                         22.1.0                       /usr/local/lib/python3.7/dist-packages pip\n",
            "audioread                     3.0.0                        /usr/local/lib/python3.7/dist-packages pip\n",
            "autograd                      1.4                          /usr/local/lib/python3.7/dist-packages pip\n",
            "Babel                         2.10.3                       /usr/local/lib/python3.7/dist-packages pip\n",
            "backcall                      0.2.0                        /usr/local/lib/python3.7/dist-packages pip\n",
            "beautifulsoup4                4.6.3                        /usr/local/lib/python3.7/dist-packages pip\n",
            "bleach                        5.0.1                        /usr/local/lib/python3.7/dist-packages pip\n",
            "blis                          0.7.8                        /usr/local/lib/python3.7/dist-packages pip\n",
            "bokeh                         2.3.3                        /usr/local/lib/python3.7/dist-packages pip\n",
            "branca                        0.5.0                        /usr/local/lib/python3.7/dist-packages pip\n",
            "bs4                           0.0.1                        /usr/local/lib/python3.7/dist-packages pip\n",
            "CacheControl                  0.12.11                      /usr/local/lib/python3.7/dist-packages pip\n",
            "cached-property               1.5.2                        /usr/local/lib/python3.7/dist-packages pip\n",
            "cachetools                    4.2.4                        /usr/local/lib/python3.7/dist-packages pip\n",
            "catalogue                     2.0.8                        /usr/local/lib/python3.7/dist-packages pip\n",
            "certifi                       2022.6.15                    /usr/local/lib/python3.7/dist-packages pip\n",
            "cffi                          1.15.1                       /usr/local/lib/python3.7/dist-packages pip\n",
            "cftime                        1.6.1                        /usr/local/lib/python3.7/dist-packages pip\n",
            "chardet                       3.0.4                        /usr/local/lib/python3.7/dist-packages pip\n",
            "charset-normalizer            2.1.1                        /usr/local/lib/python3.7/dist-packages pip\n",
            "click                         7.1.2                        /usr/local/lib/python3.7/dist-packages pip\n",
            "clikit                        0.6.2                        /usr/local/lib/python3.7/dist-packages pip\n",
            "cloudpickle                   1.5.0                        /usr/local/lib/python3.7/dist-packages pip\n",
            "cmake                         3.22.6                       /usr/local/lib/python3.7/dist-packages pip\n",
            "cmdstanpy                     1.0.7                        /usr/local/lib/python3.7/dist-packages pip\n",
            "colorcet                      3.0.0                        /usr/local/lib/python3.7/dist-packages pip\n",
            "colorlover                    0.3.0                        /usr/local/lib/python3.7/dist-packages pip\n",
            "community                     1.0.0b1                      /usr/local/lib/python3.7/dist-packages pip\n",
            "cons                          0.4.5                        /usr/local/lib/python3.7/dist-packages pip\n",
            "contextlib2                   0.5.5                        /usr/local/lib/python3.7/dist-packages pip\n",
            "convertdate                   2.4.0                        /usr/local/lib/python3.7/dist-packages pip\n",
            "crashtest                     0.3.1                        /usr/local/lib/python3.7/dist-packages pip\n",
            "crcmod                        1.7                          /usr/local/lib/python3.7/dist-packages pip\n",
            "cufflinks                     0.17.3                       /usr/local/lib/python3.7/dist-packages pip\n",
            "cvxopt                        1.3.0                        /usr/local/lib/python3.7/dist-packages pip\n",
            "cvxpy                         1.2.1                        /usr/local/lib/python3.7/dist-packages pip\n",
            "cycler                        0.11.0                       /usr/local/lib/python3.7/dist-packages pip\n",
            "cymem                         2.0.6                        /usr/local/lib/python3.7/dist-packages pip\n",
            "Cython                        0.29.32                      /usr/local/lib/python3.7/dist-packages pip\n",
            "daft                          0.0.4                        /usr/local/lib/python3.7/dist-packages pip\n",
            "dask                          2022.2.0                     /usr/local/lib/python3.7/dist-packages pip\n",
            "datascience                   0.17.5                       /usr/local/lib/python3.7/dist-packages pip\n",
            "debugpy                       1.0.0                        /usr/local/lib/python3.7/dist-packages pip\n",
            "decorator                     4.4.2                        /usr/local/lib/python3.7/dist-packages pip\n",
            "defusedxml                    0.7.1                        /usr/local/lib/python3.7/dist-packages pip\n",
            "descartes                     1.1.0                        /usr/local/lib/python3.7/dist-packages pip\n",
            "dill                          0.3.5.1                      /usr/local/lib/python3.7/dist-packages pip\n",
            "distributed                   2022.2.0                     /usr/local/lib/python3.7/dist-packages pip\n",
            "dlib                          19.24.0                      /usr/local/lib/python3.7/dist-packages pip\n",
            "dm-tree                       0.1.7                        /usr/local/lib/python3.7/dist-packages pip\n",
            "docutils                      0.17.1                       /usr/local/lib/python3.7/dist-packages pip\n",
            "dopamine-rl                   1.0.5                        /usr/local/lib/python3.7/dist-packages pip\n",
            "earthengine-api               0.1.323                      /usr/local/lib/python3.7/dist-packages pip\n",
            "easydict                      1.9                          /usr/local/lib/python3.7/dist-packages pip\n",
            "ecos                          2.0.10                       /usr/local/lib/python3.7/dist-packages pip\n",
            "editdistance                  0.5.3                        /usr/local/lib/python3.7/dist-packages pip\n",
            "en-core-web-sm                3.4.0                        /usr/local/lib/python3.7/dist-packages pip\n",
            "entrypoints                   0.4                          /usr/local/lib/python3.7/dist-packages pip\n",
            "ephem                         4.1.3                        /usr/local/lib/python3.7/dist-packages pip\n",
            "et-xmlfile                    1.1.0                        /usr/local/lib/python3.7/dist-packages pip\n",
            "etils                         0.7.1                        /usr/local/lib/python3.7/dist-packages pip\n",
            "etuples                       0.3.8                        /usr/local/lib/python3.7/dist-packages pip\n",
            "fa2                           0.3.5                        /usr/local/lib/python3.7/dist-packages pip\n",
            "fastai                        2.7.9                        /usr/local/lib/python3.7/dist-packages pip\n",
            "fastcore                      1.5.25                       /usr/local/lib/python3.7/dist-packages pip\n",
            "fastdownload                  0.0.7                        /usr/local/lib/python3.7/dist-packages pip\n",
            "fastdtw                       0.3.4                        /usr/local/lib/python3.7/dist-packages pip\n",
            "fastjsonschema                2.16.1                       /usr/local/lib/python3.7/dist-packages pip\n",
            "fastprogress                  1.0.3                        /usr/local/lib/python3.7/dist-packages pip\n",
            "fastrlock                     0.8                          /usr/local/lib/python3.7/dist-packages pip\n",
            "feather-format                0.4.1                        /usr/local/lib/python3.7/dist-packages pip\n",
            "filelock                      3.8.0                        /usr/local/lib/python3.7/dist-packages pip\n",
            "firebase-admin                4.4.0                        /usr/local/lib/python3.7/dist-packages pip\n",
            "fix-yahoo-finance             0.0.22                       /usr/local/lib/python3.7/dist-packages pip\n",
            "Flask                         1.1.4                        /usr/local/lib/python3.7/dist-packages pip\n",
            "flatbuffers                   2.0.7                        /usr/local/lib/python3.7/dist-packages pip\n",
            "folium                        0.12.1.post1                 /usr/local/lib/python3.7/dist-packages pip\n",
            "frozenlist                    1.3.1                        /usr/local/lib/python3.7/dist-packages pip\n",
            "fsspec                        2022.8.2                     /usr/local/lib/python3.7/dist-packages pip\n",
            "future                        0.16.0                       /usr/local/lib/python3.7/dist-packages pip\n",
            "gast                          0.5.3                        /usr/local/lib/python3.7/dist-packages pip\n",
            "GDAL                          2.2.2                        /usr/local/lib/python3.7/dist-packages pip\n",
            "gdown                         4.4.0                        /usr/local/lib/python3.7/dist-packages pip\n",
            "gensim                        3.6.0                        /usr/local/lib/python3.7/dist-packages pip\n",
            "geographiclib                 1.52                         /usr/local/lib/python3.7/dist-packages pip\n",
            "geopy                         1.17.0                       /usr/local/lib/python3.7/dist-packages pip\n",
            "gin-config                    0.5.0                        /usr/local/lib/python3.7/dist-packages pip\n",
            "glob2                         0.7                          /usr/local/lib/python3.7/dist-packages pip\n",
            "google                        2.0.3                        /usr/local/lib/python3.7/dist-packages pip\n",
            "google-api-core               1.31.6                       /usr/local/lib/python3.7/dist-packages pip\n",
            "google-api-python-client      1.12.11                      /usr/local/lib/python3.7/dist-packages pip\n",
            "google-auth                   1.35.0                       /usr/local/lib/python3.7/dist-packages pip\n",
            "google-auth-httplib2          0.0.4                        /usr/local/lib/python3.7/dist-packages pip\n",
            "google-auth-oauthlib          0.4.6                        /usr/local/lib/python3.7/dist-packages pip\n",
            "google-cloud-bigquery         1.21.0                       /usr/local/lib/python3.7/dist-packages pip\n",
            "google-cloud-bigquery-storage 1.1.2                        /usr/local/lib/python3.7/dist-packages pip\n",
            "google-cloud-core             1.0.3                        /usr/local/lib/python3.7/dist-packages pip\n",
            "google-cloud-datastore        1.8.0                        /usr/local/lib/python3.7/dist-packages pip\n",
            "google-cloud-firestore        1.7.0                        /usr/local/lib/python3.7/dist-packages pip\n",
            "google-cloud-language         1.2.0                        /usr/local/lib/python3.7/dist-packages pip\n",
            "google-cloud-storage          1.18.1                       /usr/local/lib/python3.7/dist-packages pip\n",
            "google-cloud-translate        1.5.0                        /usr/local/lib/python3.7/dist-packages pip\n",
            "google-colab                  1.0.0                        /usr/local/lib/python3.7/dist-packages pip\n",
            "google-pasta                  0.2.0                        /usr/local/lib/python3.7/dist-packages pip\n",
            "google-resumable-media        0.4.1                        /usr/local/lib/python3.7/dist-packages pip\n",
            "googleapis-common-protos      1.56.4                       /usr/local/lib/python3.7/dist-packages pip\n",
            "googledrivedownloader         0.4                          /usr/local/lib/python3.7/dist-packages pip\n",
            "graphviz                      0.10.1                       /usr/local/lib/python3.7/dist-packages pip\n",
            "greenlet                      1.1.3                        /usr/local/lib/python3.7/dist-packages pip\n",
            "grpcio                        1.48.1                       /usr/local/lib/python3.7/dist-packages pip\n",
            "gspread                       3.4.2                        /usr/local/lib/python3.7/dist-packages pip\n",
            "gspread-dataframe             3.0.8                        /usr/local/lib/python3.7/dist-packages pip\n",
            "gym                           0.25.2                       /usr/local/lib/python3.7/dist-packages pip\n",
            "gym-notices                   0.0.8                        /usr/local/lib/python3.7/dist-packages pip\n",
            "h5py                          3.1.0                        /usr/local/lib/python3.7/dist-packages pip\n",
            "HeapDict                      1.0.1                        /usr/local/lib/python3.7/dist-packages pip\n",
            "hijri-converter               2.2.4                        /usr/local/lib/python3.7/dist-packages pip\n",
            "holidays                      0.15                         /usr/local/lib/python3.7/dist-packages pip\n",
            "holoviews                     1.14.9                       /usr/local/lib/python3.7/dist-packages pip\n",
            "html5lib                      1.0.1                        /usr/local/lib/python3.7/dist-packages pip\n",
            "httpimport                    0.5.18                       /usr/local/lib/python3.7/dist-packages pip\n",
            "httplib2                      0.17.4                       /usr/local/lib/python3.7/dist-packages pip\n",
            "httplib2shim                  0.0.3                        /usr/local/lib/python3.7/dist-packages pip\n",
            "httpstan                      4.6.1                        /usr/local/lib/python3.7/dist-packages pip\n",
            "humanize                      0.5.1                        /usr/local/lib/python3.7/dist-packages pip\n",
            "hyperopt                      0.1.2                        /usr/local/lib/python3.7/dist-packages pip\n",
            "idna                          2.10                         /usr/local/lib/python3.7/dist-packages pip\n",
            "imageio                       2.9.0                        /usr/local/lib/python3.7/dist-packages pip\n",
            "imagesize                     1.4.1                        /usr/local/lib/python3.7/dist-packages pip\n",
            "imbalanced-learn              0.8.1                        /usr/local/lib/python3.7/dist-packages pip\n",
            "imblearn                      0.0                          /usr/local/lib/python3.7/dist-packages pip\n",
            "imgaug                        0.4.0                        /usr/local/lib/python3.7/dist-packages pip\n",
            "importlib-metadata            4.12.0                       /usr/local/lib/python3.7/dist-packages pip\n",
            "importlib-resources           5.9.0                        /usr/local/lib/python3.7/dist-packages pip\n",
            "imutils                       0.5.4                        /usr/local/lib/python3.7/dist-packages pip\n",
            "inflect                       2.1.0                        /usr/local/lib/python3.7/dist-packages pip\n",
            "intel-openmp                  2022.1.0                     /usr/local/lib/python3.7/dist-packages pip\n",
            "intervaltree                  2.1.0                        /usr/local/lib/python3.7/dist-packages pip\n",
            "ipykernel                     5.3.4                        /usr/local/lib/python3.7/dist-packages pip\n",
            "ipython                       7.9.0                        /usr/local/lib/python3.7/dist-packages pip\n",
            "ipython-genutils              0.2.0                        /usr/local/lib/python3.7/dist-packages pip\n",
            "ipython-sql                   0.3.9                        /usr/local/lib/python3.7/dist-packages pip\n",
            "ipywidgets                    7.7.1                        /usr/local/lib/python3.7/dist-packages pip\n",
            "itsdangerous                  1.1.0                        /usr/local/lib/python3.7/dist-packages pip\n",
            "jax                           0.3.17                       /usr/local/lib/python3.7/dist-packages pip\n",
            "jaxlib                        0.3.15+cuda11.cudnn805       /usr/local/lib/python3.7/dist-packages pip\n",
            "jieba                         0.42.1                       /usr/local/lib/python3.7/dist-packages pip\n",
            "Jinja2                        2.11.3                       /usr/local/lib/python3.7/dist-packages pip\n",
            "joblib                        1.1.0                        /usr/local/lib/python3.7/dist-packages pip\n",
            "jpeg4py                       0.1.4                        /usr/local/lib/python3.7/dist-packages pip\n",
            "jsonschema                    4.3.3                        /usr/local/lib/python3.7/dist-packages pip\n",
            "jupyter-client                6.1.12                       /usr/local/lib/python3.7/dist-packages pip\n",
            "jupyter-console               6.1.0                        /usr/local/lib/python3.7/dist-packages pip\n",
            "jupyter-core                  4.11.1                       /usr/local/lib/python3.7/dist-packages pip\n",
            "jupyterlab-widgets            3.0.3                        /usr/local/lib/python3.7/dist-packages pip\n",
            "kaggle                        1.5.12                       /usr/local/lib/python3.7/dist-packages pip\n",
            "kapre                         0.3.7                        /usr/local/lib/python3.7/dist-packages pip\n",
            "keras                         2.8.0                        /usr/local/lib/python3.7/dist-packages pip\n",
            "Keras-Preprocessing           1.1.2                        /usr/local/lib/python3.7/dist-packages pip\n",
            "keras-vis                     0.4.1                        /usr/local/lib/python3.7/dist-packages pip\n",
            "kiwisolver                    1.4.4                        /usr/local/lib/python3.7/dist-packages pip\n",
            "korean-lunar-calendar         0.2.1                        /usr/local/lib/python3.7/dist-packages pip\n",
            "langcodes                     3.3.0                        /usr/local/lib/python3.7/dist-packages pip\n",
            "libclang                      14.0.6                       /usr/local/lib/python3.7/dist-packages pip\n",
            "librosa                       0.8.1                        /usr/local/lib/python3.7/dist-packages pip\n",
            "lightgbm                      2.2.3                        /usr/local/lib/python3.7/dist-packages pip\n",
            "llvmlite                      0.39.1                       /usr/local/lib/python3.7/dist-packages pip\n",
            "lmdb                          0.99                         /usr/local/lib/python3.7/dist-packages pip\n",
            "locket                        1.0.0                        /usr/local/lib/python3.7/dist-packages pip\n",
            "logical-unification           0.4.5                        /usr/local/lib/python3.7/dist-packages pip\n",
            "LunarCalendar                 0.0.9                        /usr/local/lib/python3.7/dist-packages pip\n",
            "lxml                          4.9.1                        /usr/local/lib/python3.7/dist-packages pip\n",
            "Markdown                      3.4.1                        /usr/local/lib/python3.7/dist-packages pip\n",
            "MarkupSafe                    2.0.1                        /usr/local/lib/python3.7/dist-packages pip\n",
            "marshmallow                   3.17.1                       /usr/local/lib/python3.7/dist-packages pip\n",
            "matplotlib                    3.2.2                        /usr/local/lib/python3.7/dist-packages pip\n",
            "matplotlib-venn               0.11.7                       /usr/local/lib/python3.7/dist-packages pip\n",
            "miniKanren                    1.0.3                        /usr/local/lib/python3.7/dist-packages pip\n",
            "missingno                     0.5.1                        /usr/local/lib/python3.7/dist-packages pip\n",
            "mistune                       0.8.4                        /usr/local/lib/python3.7/dist-packages pip\n",
            "mizani                        0.7.3                        /usr/local/lib/python3.7/dist-packages pip\n",
            "mkl                           2019.0                       /usr/local/lib/python3.7/dist-packages pip\n",
            "mlxtend                       0.14.0                       /usr/local/lib/python3.7/dist-packages pip\n",
            "more-itertools                8.14.0                       /usr/local/lib/python3.7/dist-packages pip\n",
            "moviepy                       0.2.3.5                      /usr/local/lib/python3.7/dist-packages pip\n",
            "mpmath                        1.2.1                        /usr/local/lib/python3.7/dist-packages pip\n",
            "msgpack                       1.0.4                        /usr/local/lib/python3.7/dist-packages pip\n",
            "multidict                     6.0.2                        /usr/local/lib/python3.7/dist-packages pip\n",
            "multipledispatch              0.6.0                        /usr/local/lib/python3.7/dist-packages pip\n",
            "multitasking                  0.0.11                       /usr/local/lib/python3.7/dist-packages pip\n",
            "murmurhash                    1.0.8                        /usr/local/lib/python3.7/dist-packages pip\n",
            "music21                       5.5.0                        /usr/local/lib/python3.7/dist-packages pip\n",
            "natsort                       5.5.0                        /usr/local/lib/python3.7/dist-packages pip\n",
            "nbconvert                     5.6.1                        /usr/local/lib/python3.7/dist-packages pip\n",
            "nbformat                      5.4.0                        /usr/local/lib/python3.7/dist-packages pip\n",
            "netCDF4                       1.6.0                        /usr/local/lib/python3.7/dist-packages pip\n",
            "networkx                      2.6.3                        /usr/local/lib/python3.7/dist-packages pip\n",
            "nibabel                       3.0.2                        /usr/local/lib/python3.7/dist-packages pip\n",
            "nltk                          3.7                          /usr/local/lib/python3.7/dist-packages pip\n",
            "notebook                      5.3.1                        /usr/local/lib/python3.7/dist-packages pip\n",
            "numba                         0.56.2                       /usr/local/lib/python3.7/dist-packages pip\n",
            "numexpr                       2.8.3                        /usr/local/lib/python3.7/dist-packages pip\n",
            "numpy                         1.21.6                       /usr/local/lib/python3.7/dist-packages pip\n",
            "oauth2client                  4.1.3                        /usr/local/lib/python3.7/dist-packages pip\n",
            "oauthlib                      3.2.0                        /usr/local/lib/python3.7/dist-packages pip\n",
            "okgrade                       0.4.3                        /usr/local/lib/python3.7/dist-packages pip\n",
            "opencv-contrib-python         4.6.0.66                     /usr/local/lib/python3.7/dist-packages pip\n",
            "opencv-python                 4.6.0.66                     /usr/local/lib/python3.7/dist-packages pip\n",
            "opencv-python-headless        4.6.0.66                     /usr/local/lib/python3.7/dist-packages pip\n",
            "openpyxl                      3.0.10                       /usr/local/lib/python3.7/dist-packages pip\n",
            "opt-einsum                    3.3.0                        /usr/local/lib/python3.7/dist-packages pip\n",
            "osqp                          0.6.2.post0                  /usr/local/lib/python3.7/dist-packages pip\n",
            "packaging                     21.3                         /usr/local/lib/python3.7/dist-packages pip\n",
            "palettable                    3.3.0                        /usr/local/lib/python3.7/dist-packages pip\n",
            "pandas                        1.3.5                        /usr/local/lib/python3.7/dist-packages pip\n",
            "pandas-datareader             0.9.0                        /usr/local/lib/python3.7/dist-packages pip\n",
            "pandas-gbq                    0.13.3                       /usr/local/lib/python3.7/dist-packages pip\n",
            "pandas-profiling              1.4.1                        /usr/local/lib/python3.7/dist-packages pip\n",
            "pandocfilters                 1.5.0                        /usr/local/lib/python3.7/dist-packages pip\n",
            "panel                         0.12.1                       /usr/local/lib/python3.7/dist-packages pip\n",
            "param                         1.12.2                       /usr/local/lib/python3.7/dist-packages pip\n",
            "parso                         0.8.3                        /usr/local/lib/python3.7/dist-packages pip\n",
            "partd                         1.3.0                        /usr/local/lib/python3.7/dist-packages pip\n",
            "pastel                        0.2.1                        /usr/local/lib/python3.7/dist-packages pip\n",
            "pathlib                       1.0.1                        /usr/local/lib/python3.7/dist-packages pip\n",
            "pathy                         0.6.2                        /usr/local/lib/python3.7/dist-packages pip\n",
            "patsy                         0.5.2                        /usr/local/lib/python3.7/dist-packages pip\n",
            "pep517                        0.13.0                       /usr/local/lib/python3.7/dist-packages pip\n",
            "pexpect                       4.8.0                        /usr/local/lib/python3.7/dist-packages pip\n",
            "pickleshare                   0.7.5                        /usr/local/lib/python3.7/dist-packages pip\n",
            "Pillow                        7.1.2                        /usr/local/lib/python3.7/dist-packages pip\n",
            "pip                           21.1.3                       /usr/local/lib/python3.7/dist-packages pip\n",
            "pip-tools                     6.2.0                        /usr/local/lib/python3.7/dist-packages pip\n",
            "plotly                        5.5.0                        /usr/local/lib/python3.7/dist-packages pip\n",
            "plotnine                      0.8.0                        /usr/local/lib/python3.7/dist-packages pip\n",
            "pluggy                        0.7.1                        /usr/local/lib/python3.7/dist-packages pip\n",
            "pooch                         1.6.0                        /usr/local/lib/python3.7/dist-packages pip\n",
            "portpicker                    1.3.9                        /usr/local/lib/python3.7/dist-packages pip\n",
            "prefetch-generator            1.0.1                        /usr/local/lib/python3.7/dist-packages pip\n",
            "preshed                       3.0.7                        /usr/local/lib/python3.7/dist-packages pip\n",
            "prettytable                   3.4.1                        /usr/local/lib/python3.7/dist-packages pip\n",
            "progressbar2                  3.38.0                       /usr/local/lib/python3.7/dist-packages pip\n",
            "promise                       2.3                          /usr/local/lib/python3.7/dist-packages pip\n",
            "prompt-toolkit                2.0.10                       /usr/local/lib/python3.7/dist-packages pip\n",
            "prophet                       1.1                          /usr/local/lib/python3.7/dist-packages pip\n",
            "protobuf                      3.17.3                       /usr/local/lib/python3.7/dist-packages pip\n",
            "psutil                        5.4.8                        /usr/local/lib/python3.7/dist-packages pip\n",
            "psycopg2                      2.9.3                        /usr/local/lib/python3.7/dist-packages pip\n",
            "ptyprocess                    0.7.0                        /usr/local/lib/python3.7/dist-packages pip\n",
            "py                            1.11.0                       /usr/local/lib/python3.7/dist-packages pip\n",
            "pyarrow                       6.0.1                        /usr/local/lib/python3.7/dist-packages pip\n",
            "pyasn1                        0.4.8                        /usr/local/lib/python3.7/dist-packages pip\n",
            "pyasn1-modules                0.2.8                        /usr/local/lib/python3.7/dist-packages pip\n",
            "pycocotools                   2.0.4                        /usr/local/lib/python3.7/dist-packages pip\n",
            "pycparser                     2.21                         /usr/local/lib/python3.7/dist-packages pip\n",
            "pyct                          0.4.8                        /usr/local/lib/python3.7/dist-packages pip\n",
            "pydantic                      1.9.2                        /usr/local/lib/python3.7/dist-packages pip\n",
            "pydata-google-auth            1.4.0                        /usr/local/lib/python3.7/dist-packages pip\n",
            "pydot                         1.3.0                        /usr/local/lib/python3.7/dist-packages pip\n",
            "pydot-ng                      2.0.0                        /usr/local/lib/python3.7/dist-packages pip\n",
            "pydotplus                     2.0.2                        /usr/local/lib/python3.7/dist-packages pip\n",
            "PyDrive                       1.3.1                        /usr/local/lib/python3.7/dist-packages pip\n",
            "pyemd                         0.5.1                        /usr/local/lib/python3.7/dist-packages pip\n",
            "pyerfa                        2.0.0.1                      /usr/local/lib/python3.7/dist-packages pip\n",
            "Pygments                      2.6.1                        /usr/local/lib/python3.7/dist-packages pip\n",
            "pygobject                     3.26.1                       /usr/lib/python3/dist-packages\n",
            "pylev                         1.4.0                        /usr/local/lib/python3.7/dist-packages pip\n",
            "pymc                          4.1.4                        /usr/local/lib/python3.7/dist-packages pip\n",
            "PyMeeus                       0.5.11                       /usr/local/lib/python3.7/dist-packages pip\n",
            "pymongo                       4.2.0                        /usr/local/lib/python3.7/dist-packages pip\n",
            "pymystem3                     0.2.0                        /usr/local/lib/python3.7/dist-packages pip\n",
            "PyOpenGL                      3.1.6                        /usr/local/lib/python3.7/dist-packages pip\n",
            "pyparsing                     3.0.9                        /usr/local/lib/python3.7/dist-packages pip\n",
            "pyrsistent                    0.18.1                       /usr/local/lib/python3.7/dist-packages pip\n",
            "pysimdjson                    3.2.0                        /usr/local/lib/python3.7/dist-packages pip\n",
            "pysndfile                     1.3.8                        /usr/local/lib/python3.7/dist-packages pip\n",
            "PySocks                       1.7.1                        /usr/local/lib/python3.7/dist-packages pip\n",
            "pystan                        3.3.0                        /usr/local/lib/python3.7/dist-packages pip\n",
            "pytest                        3.6.4                        /usr/local/lib/python3.7/dist-packages pip\n",
            "python-apt                    0.0.0                        /usr/local/lib/python3.7/dist-packages\n",
            "python-chess                  0.23.11                      /usr/local/lib/python3.7/dist-packages pip\n",
            "python-dateutil               2.8.2                        /usr/local/lib/python3.7/dist-packages pip\n",
            "python-louvain                0.16                         /usr/local/lib/python3.7/dist-packages pip\n",
            "python-slugify                6.1.2                        /usr/local/lib/python3.7/dist-packages pip\n",
            "python-utils                  3.3.3                        /usr/local/lib/python3.7/dist-packages pip\n",
            "pytz                          2022.2.1                     /usr/local/lib/python3.7/dist-packages pip\n",
            "pyviz-comms                   2.2.1                        /usr/local/lib/python3.7/dist-packages pip\n",
            "PyWavelets                    1.3.0                        /usr/local/lib/python3.7/dist-packages pip\n",
            "PyYAML                        6.0                          /usr/local/lib/python3.7/dist-packages pip\n",
            "pyzmq                         23.2.1                       /usr/local/lib/python3.7/dist-packages pip\n",
            "qdldl                         0.1.5.post2                  /usr/local/lib/python3.7/dist-packages pip\n",
            "qudida                        0.0.4                        /usr/local/lib/python3.7/dist-packages pip\n",
            "regex                         2022.6.2                     /usr/local/lib/python3.7/dist-packages pip\n",
            "requests                      2.23.0                       /usr/local/lib/python3.7/dist-packages pip\n",
            "requests-oauthlib             1.3.1                        /usr/local/lib/python3.7/dist-packages pip\n",
            "resampy                       0.4.0                        /usr/local/lib/python3.7/dist-packages pip\n",
            "rpy2                          3.4.5                        /usr/local/lib/python3.7/dist-packages pip\n",
            "rsa                           4.9                          /usr/local/lib/python3.7/dist-packages pip\n",
            "scikit-image                  0.18.3                       /usr/local/lib/python3.7/dist-packages pip\n",
            "scikit-learn                  1.0.2                        /usr/local/lib/python3.7/dist-packages pip\n",
            "scipy                         1.7.3                        /usr/local/lib/python3.7/dist-packages pip\n",
            "screen-resolution-extra       0.0.0                        /usr/lib/python3/dist-packages\n",
            "scs                           3.2.0                        /usr/local/lib/python3.7/dist-packages pip\n",
            "seaborn                       0.11.2                       /usr/local/lib/python3.7/dist-packages pip\n",
            "Send2Trash                    1.8.0                        /usr/local/lib/python3.7/dist-packages pip\n",
            "setuptools                    57.4.0                       /usr/local/lib/python3.7/dist-packages pip\n",
            "setuptools-git                1.2                          /usr/local/lib/python3.7/dist-packages pip\n",
            "Shapely                       1.8.4                        /usr/local/lib/python3.7/dist-packages pip\n",
            "six                           1.15.0                       /usr/local/lib/python3.7/dist-packages pip\n",
            "sklearn-pandas                1.8.0                        /usr/local/lib/python3.7/dist-packages pip\n",
            "smart-open                    5.2.1                        /usr/local/lib/python3.7/dist-packages pip\n",
            "snowballstemmer               2.2.0                        /usr/local/lib/python3.7/dist-packages pip\n",
            "sortedcontainers              2.4.0                        /usr/local/lib/python3.7/dist-packages pip\n",
            "SoundFile                     0.10.3.post1                 /usr/local/lib/python3.7/dist-packages pip\n",
            "spacy                         3.4.1                        /usr/local/lib/python3.7/dist-packages pip\n",
            "spacy-legacy                  3.0.10                       /usr/local/lib/python3.7/dist-packages pip\n",
            "spacy-loggers                 1.0.3                        /usr/local/lib/python3.7/dist-packages pip\n",
            "Sphinx                        1.8.6                        /usr/local/lib/python3.7/dist-packages pip\n",
            "sphinxcontrib-serializinghtml 1.1.5                        /usr/local/lib/python3.7/dist-packages pip\n",
            "sphinxcontrib-websupport      1.2.4                        /usr/local/lib/python3.7/dist-packages pip\n",
            "SQLAlchemy                    1.4.41                       /usr/local/lib/python3.7/dist-packages pip\n",
            "sqlparse                      0.4.2                        /usr/local/lib/python3.7/dist-packages pip\n",
            "srsly                         2.4.4                        /usr/local/lib/python3.7/dist-packages pip\n",
            "statsmodels                   0.12.2                       /usr/local/lib/python3.7/dist-packages pip\n",
            "sympy                         1.7.1                        /usr/local/lib/python3.7/dist-packages pip\n",
            "tables                        3.7.0                        /usr/local/lib/python3.7/dist-packages pip\n",
            "tabulate                      0.8.10                       /usr/local/lib/python3.7/dist-packages pip\n",
            "tblib                         1.7.0                        /usr/local/lib/python3.7/dist-packages pip\n",
            "tenacity                      8.0.1                        /usr/local/lib/python3.7/dist-packages pip\n",
            "tensorboard                   2.8.0                        /usr/local/lib/python3.7/dist-packages pip\n",
            "tensorboard-data-server       0.6.1                        /usr/local/lib/python3.7/dist-packages pip\n",
            "tensorboard-plugin-wit        1.8.1                        /usr/local/lib/python3.7/dist-packages pip\n",
            "tensorflow                    2.8.2+zzzcolab20220719082949 /usr/local/lib/python3.7/dist-packages pip\n",
            "tensorflow-datasets           4.6.0                        /usr/local/lib/python3.7/dist-packages pip\n",
            "tensorflow-estimator          2.8.0                        /usr/local/lib/python3.7/dist-packages pip\n",
            "tensorflow-gcs-config         2.8.0                        /usr/local/lib/python3.7/dist-packages pip\n",
            "tensorflow-hub                0.12.0                       /usr/local/lib/python3.7/dist-packages pip\n",
            "tensorflow-io-gcs-filesystem  0.26.0                       /usr/local/lib/python3.7/dist-packages pip\n",
            "tensorflow-metadata           1.10.0                       /usr/local/lib/python3.7/dist-packages pip\n",
            "tensorflow-probability        0.16.0                       /usr/local/lib/python3.7/dist-packages pip\n",
            "termcolor                     1.1.0                        /usr/local/lib/python3.7/dist-packages pip\n",
            "terminado                     0.13.3                       /usr/local/lib/python3.7/dist-packages pip\n",
            "testpath                      0.6.0                        /usr/local/lib/python3.7/dist-packages pip\n",
            "text-unidecode                1.3                          /usr/local/lib/python3.7/dist-packages pip\n",
            "textblob                      0.15.3                       /usr/local/lib/python3.7/dist-packages pip\n",
            "thinc                         8.1.0                        /usr/local/lib/python3.7/dist-packages pip\n",
            "threadpoolctl                 3.1.0                        /usr/local/lib/python3.7/dist-packages pip\n",
            "tifffile                      2021.11.2                    /usr/local/lib/python3.7/dist-packages pip\n",
            "toml                          0.10.2                       /usr/local/lib/python3.7/dist-packages pip\n",
            "tomli                         2.0.1                        /usr/local/lib/python3.7/dist-packages pip\n",
            "toolz                         0.12.0                       /usr/local/lib/python3.7/dist-packages pip\n",
            "torch                         1.12.1+cu113                 /usr/local/lib/python3.7/dist-packages pip\n",
            "torchaudio                    0.12.1+cu113                 /usr/local/lib/python3.7/dist-packages pip\n",
            "torchsummary                  1.5.1                        /usr/local/lib/python3.7/dist-packages pip\n",
            "torchtext                     0.13.1                       /usr/local/lib/python3.7/dist-packages pip\n",
            "torchvision                   0.13.1+cu113                 /usr/local/lib/python3.7/dist-packages pip\n",
            "tornado                       5.1.1                        /usr/local/lib/python3.7/dist-packages pip\n",
            "tqdm                          4.64.1                       /usr/local/lib/python3.7/dist-packages pip\n",
            "traitlets                     5.1.1                        /usr/local/lib/python3.7/dist-packages pip\n",
            "tweepy                        3.10.0                       /usr/local/lib/python3.7/dist-packages pip\n",
            "typeguard                     2.7.1                        /usr/local/lib/python3.7/dist-packages pip\n",
            "typer                         0.4.2                        /usr/local/lib/python3.7/dist-packages pip\n",
            "typing-extensions             4.1.1                        /usr/local/lib/python3.7/dist-packages pip\n",
            "tzlocal                       1.5.1                        /usr/local/lib/python3.7/dist-packages pip\n",
            "ujson                         5.4.0                        /usr/local/lib/python3.7/dist-packages pip\n",
            "uritemplate                   3.0.1                        /usr/local/lib/python3.7/dist-packages pip\n",
            "urllib3                       1.24.3                       /usr/local/lib/python3.7/dist-packages pip\n",
            "vega-datasets                 0.9.0                        /usr/local/lib/python3.7/dist-packages pip\n",
            "wasabi                        0.10.1                       /usr/local/lib/python3.7/dist-packages pip\n",
            "wcwidth                       0.2.5                        /usr/local/lib/python3.7/dist-packages pip\n",
            "webargs                       8.2.0                        /usr/local/lib/python3.7/dist-packages pip\n",
            "webencodings                  0.5.1                        /usr/local/lib/python3.7/dist-packages pip\n",
            "Werkzeug                      1.0.1                        /usr/local/lib/python3.7/dist-packages pip\n",
            "wheel                         0.37.1                       /usr/local/lib/python3.7/dist-packages pip\n",
            "widgetsnbextension            3.6.1                        /usr/local/lib/python3.7/dist-packages pip\n",
            "wordcloud                     1.8.2.2                      /usr/local/lib/python3.7/dist-packages pip\n",
            "wrapt                         1.14.1                       /usr/local/lib/python3.7/dist-packages pip\n",
            "xarray                        0.20.2                       /usr/local/lib/python3.7/dist-packages pip\n",
            "xarray-einstats               0.2.2                        /usr/local/lib/python3.7/dist-packages pip\n",
            "xgboost                       0.90                         /usr/local/lib/python3.7/dist-packages pip\n",
            "xkit                          0.0.0                        /usr/lib/python3/dist-packages\n",
            "xlrd                          1.1.0                        /usr/local/lib/python3.7/dist-packages pip\n",
            "xlwt                          1.3.0                        /usr/local/lib/python3.7/dist-packages pip\n",
            "yarl                          1.8.1                        /usr/local/lib/python3.7/dist-packages pip\n",
            "yellowbrick                   1.5                          /usr/local/lib/python3.7/dist-packages pip\n",
            "zict                          2.2.0                        /usr/local/lib/python3.7/dist-packages pip\n",
            "zipp                          3.8.1                        /usr/local/lib/python3.7/dist-packages pip\n"
          ]
        }
      ]
    },
    {
      "cell_type": "markdown",
      "source": [
        "Nous pouvons vérifier si le package désiré est déjà installé"
      ],
      "metadata": {
        "id": "-mtAdFZZrkYr"
      }
    },
    {
      "cell_type": "code",
      "execution_count": null,
      "metadata": {
        "id": "ejPJX6qhf_ay",
        "colab": {
          "base_uri": "https://localhost:8080/"
        },
        "outputId": "8ef49277-f4d2-4ee6-be9e-65b26115bd61"
      },
      "outputs": [
        {
          "output_type": "stream",
          "name": "stdout",
          "text": [
            "fastai                        2.7.10                 /usr/local/lib/python3.7/dist-packages pip\n"
          ]
        }
      ],
      "source": [
        "!pip list -v | grep fastai"
      ]
    },
    {
      "cell_type": "markdown",
      "source": [
        "Si une autre version de ce package est requise, il est également possible de modifier la version de cette librairie en la réinstallant"
      ],
      "metadata": {
        "id": "kcL3hyQprs-e"
      }
    },
    {
      "cell_type": "code",
      "source": [
        "!pip install fastai==2.5.0"
      ],
      "metadata": {
        "colab": {
          "base_uri": "https://localhost:8080/"
        },
        "id": "zaLkHaH5ksn1",
        "outputId": "80543225-9808-44c4-ae67-46138b6323d8"
      },
      "execution_count": null,
      "outputs": [
        {
          "output_type": "stream",
          "name": "stdout",
          "text": [
            "Looking in indexes: https://pypi.org/simple, https://us-python.pkg.dev/colab-wheels/public/simple/\n",
            "Collecting fastai==2.5.0\n",
            "  Downloading fastai-2.5.0-py3-none-any.whl (188 kB)\n",
            "\u001b[K     |████████████████████████████████| 188 kB 27.1 MB/s \n",
            "\u001b[?25hRequirement already satisfied: pillow>6.0.0 in /usr/local/lib/python3.7/dist-packages (from fastai==2.5.0) (7.1.2)\n",
            "Requirement already satisfied: packaging in /usr/local/lib/python3.7/dist-packages (from fastai==2.5.0) (21.3)\n",
            "Requirement already satisfied: scikit-learn in /usr/local/lib/python3.7/dist-packages (from fastai==2.5.0) (1.0.2)\n",
            "Requirement already satisfied: pip in /usr/local/lib/python3.7/dist-packages (from fastai==2.5.0) (21.1.3)\n",
            "Collecting torch<1.10,>=1.7.0\n",
            "  Downloading torch-1.9.1-cp37-cp37m-manylinux1_x86_64.whl (831.4 MB)\n",
            "\u001b[K     |████████████████████████████████| 831.4 MB 8.0 kB/s \n",
            "\u001b[?25hCollecting fastcore<1.4,>=1.3.8\n",
            "  Downloading fastcore-1.3.29-py3-none-any.whl (55 kB)\n",
            "\u001b[K     |████████████████████████████████| 55 kB 4.1 MB/s \n",
            "\u001b[?25hRequirement already satisfied: fastdownload in /usr/local/lib/python3.7/dist-packages (from fastai==2.5.0) (0.0.7)\n",
            "Requirement already satisfied: pandas in /usr/local/lib/python3.7/dist-packages (from fastai==2.5.0) (1.3.5)\n",
            "Requirement already satisfied: torchvision>=0.8.2 in /usr/local/lib/python3.7/dist-packages (from fastai==2.5.0) (0.13.1+cu113)\n",
            "Requirement already satisfied: matplotlib in /usr/local/lib/python3.7/dist-packages (from fastai==2.5.0) (3.2.2)\n",
            "Requirement already satisfied: pyyaml in /usr/local/lib/python3.7/dist-packages (from fastai==2.5.0) (6.0)\n",
            "Requirement already satisfied: fastprogress>=0.2.4 in /usr/local/lib/python3.7/dist-packages (from fastai==2.5.0) (1.0.3)\n",
            "Requirement already satisfied: spacy<4 in /usr/local/lib/python3.7/dist-packages (from fastai==2.5.0) (3.4.1)\n",
            "Requirement already satisfied: scipy in /usr/local/lib/python3.7/dist-packages (from fastai==2.5.0) (1.7.3)\n",
            "Requirement already satisfied: requests in /usr/local/lib/python3.7/dist-packages (from fastai==2.5.0) (2.23.0)\n",
            "Requirement already satisfied: catalogue<2.1.0,>=2.0.6 in /usr/local/lib/python3.7/dist-packages (from spacy<4->fastai==2.5.0) (2.0.8)\n",
            "Requirement already satisfied: pathy>=0.3.5 in /usr/local/lib/python3.7/dist-packages (from spacy<4->fastai==2.5.0) (0.6.2)\n",
            "Requirement already satisfied: spacy-loggers<2.0.0,>=1.0.0 in /usr/local/lib/python3.7/dist-packages (from spacy<4->fastai==2.5.0) (1.0.3)\n",
            "Requirement already satisfied: pydantic!=1.8,!=1.8.1,<1.10.0,>=1.7.4 in /usr/local/lib/python3.7/dist-packages (from spacy<4->fastai==2.5.0) (1.9.2)\n",
            "Requirement already satisfied: typing-extensions<4.2.0,>=3.7.4 in /usr/local/lib/python3.7/dist-packages (from spacy<4->fastai==2.5.0) (4.1.1)\n",
            "Requirement already satisfied: spacy-legacy<3.1.0,>=3.0.9 in /usr/local/lib/python3.7/dist-packages (from spacy<4->fastai==2.5.0) (3.0.10)\n",
            "Requirement already satisfied: thinc<8.2.0,>=8.1.0 in /usr/local/lib/python3.7/dist-packages (from spacy<4->fastai==2.5.0) (8.1.0)\n",
            "Requirement already satisfied: srsly<3.0.0,>=2.4.3 in /usr/local/lib/python3.7/dist-packages (from spacy<4->fastai==2.5.0) (2.4.4)\n",
            "Requirement already satisfied: typer<0.5.0,>=0.3.0 in /usr/local/lib/python3.7/dist-packages (from spacy<4->fastai==2.5.0) (0.4.2)\n",
            "Requirement already satisfied: cymem<2.1.0,>=2.0.2 in /usr/local/lib/python3.7/dist-packages (from spacy<4->fastai==2.5.0) (2.0.6)\n",
            "Requirement already satisfied: preshed<3.1.0,>=3.0.2 in /usr/local/lib/python3.7/dist-packages (from spacy<4->fastai==2.5.0) (3.0.7)\n",
            "Requirement already satisfied: murmurhash<1.1.0,>=0.28.0 in /usr/local/lib/python3.7/dist-packages (from spacy<4->fastai==2.5.0) (1.0.8)\n",
            "Requirement already satisfied: langcodes<4.0.0,>=3.2.0 in /usr/local/lib/python3.7/dist-packages (from spacy<4->fastai==2.5.0) (3.3.0)\n",
            "Requirement already satisfied: numpy>=1.15.0 in /usr/local/lib/python3.7/dist-packages (from spacy<4->fastai==2.5.0) (1.21.6)\n",
            "Requirement already satisfied: wasabi<1.1.0,>=0.9.1 in /usr/local/lib/python3.7/dist-packages (from spacy<4->fastai==2.5.0) (0.10.1)\n",
            "Requirement already satisfied: tqdm<5.0.0,>=4.38.0 in /usr/local/lib/python3.7/dist-packages (from spacy<4->fastai==2.5.0) (4.64.1)\n",
            "Requirement already satisfied: setuptools in /usr/local/lib/python3.7/dist-packages (from spacy<4->fastai==2.5.0) (57.4.0)\n",
            "Requirement already satisfied: jinja2 in /usr/local/lib/python3.7/dist-packages (from spacy<4->fastai==2.5.0) (2.11.3)\n",
            "Requirement already satisfied: zipp>=0.5 in /usr/local/lib/python3.7/dist-packages (from catalogue<2.1.0,>=2.0.6->spacy<4->fastai==2.5.0) (3.8.1)\n",
            "Requirement already satisfied: pyparsing!=3.0.5,>=2.0.2 in /usr/local/lib/python3.7/dist-packages (from packaging->fastai==2.5.0) (3.0.9)\n",
            "Requirement already satisfied: smart-open<6.0.0,>=5.2.1 in /usr/local/lib/python3.7/dist-packages (from pathy>=0.3.5->spacy<4->fastai==2.5.0) (5.2.1)\n",
            "Requirement already satisfied: chardet<4,>=3.0.2 in /usr/local/lib/python3.7/dist-packages (from requests->fastai==2.5.0) (3.0.4)\n",
            "Requirement already satisfied: certifi>=2017.4.17 in /usr/local/lib/python3.7/dist-packages (from requests->fastai==2.5.0) (2022.6.15)\n",
            "Requirement already satisfied: idna<3,>=2.5 in /usr/local/lib/python3.7/dist-packages (from requests->fastai==2.5.0) (2.10)\n",
            "Requirement already satisfied: urllib3!=1.25.0,!=1.25.1,<1.26,>=1.21.1 in /usr/local/lib/python3.7/dist-packages (from requests->fastai==2.5.0) (1.24.3)\n",
            "Requirement already satisfied: blis<0.8.0,>=0.7.8 in /usr/local/lib/python3.7/dist-packages (from thinc<8.2.0,>=8.1.0->spacy<4->fastai==2.5.0) (0.7.8)\n",
            "Collecting torchvision>=0.8.2\n",
            "  Downloading torchvision-0.13.1-cp37-cp37m-manylinux1_x86_64.whl (19.1 MB)\n",
            "\u001b[K     |████████████████████████████████| 19.1 MB 791 kB/s \n",
            "\u001b[?25h  Downloading torchvision-0.13.0-cp37-cp37m-manylinux1_x86_64.whl (19.1 MB)\n",
            "\u001b[K     |████████████████████████████████| 19.1 MB 1.1 MB/s \n",
            "\u001b[?25h  Downloading torchvision-0.12.0-cp37-cp37m-manylinux1_x86_64.whl (21.0 MB)\n",
            "\u001b[K     |████████████████████████████████| 21.0 MB 81.2 MB/s \n",
            "\u001b[?25h  Downloading torchvision-0.11.3-cp37-cp37m-manylinux1_x86_64.whl (23.2 MB)\n",
            "\u001b[K     |████████████████████████████████| 23.2 MB 1.2 MB/s \n",
            "\u001b[?25h  Downloading torchvision-0.11.2-cp37-cp37m-manylinux1_x86_64.whl (23.3 MB)\n",
            "\u001b[K     |████████████████████████████████| 23.3 MB 1.3 MB/s \n",
            "\u001b[?25h  Downloading torchvision-0.11.1-cp37-cp37m-manylinux1_x86_64.whl (23.3 MB)\n",
            "\u001b[K     |████████████████████████████████| 23.3 MB 1.3 MB/s \n",
            "\u001b[?25h  Downloading torchvision-0.10.1-cp37-cp37m-manylinux1_x86_64.whl (22.1 MB)\n",
            "\u001b[K     |████████████████████████████████| 22.1 MB 1.4 MB/s \n",
            "\u001b[?25hRequirement already satisfied: click<9.0.0,>=7.1.1 in /usr/local/lib/python3.7/dist-packages (from typer<0.5.0,>=0.3.0->spacy<4->fastai==2.5.0) (7.1.2)\n",
            "Requirement already satisfied: MarkupSafe>=0.23 in /usr/local/lib/python3.7/dist-packages (from jinja2->spacy<4->fastai==2.5.0) (2.0.1)\n",
            "Requirement already satisfied: kiwisolver>=1.0.1 in /usr/local/lib/python3.7/dist-packages (from matplotlib->fastai==2.5.0) (1.4.4)\n",
            "Requirement already satisfied: cycler>=0.10 in /usr/local/lib/python3.7/dist-packages (from matplotlib->fastai==2.5.0) (0.11.0)\n",
            "Requirement already satisfied: python-dateutil>=2.1 in /usr/local/lib/python3.7/dist-packages (from matplotlib->fastai==2.5.0) (2.8.2)\n",
            "Requirement already satisfied: six>=1.5 in /usr/local/lib/python3.7/dist-packages (from python-dateutil>=2.1->matplotlib->fastai==2.5.0) (1.15.0)\n",
            "Requirement already satisfied: pytz>=2017.3 in /usr/local/lib/python3.7/dist-packages (from pandas->fastai==2.5.0) (2022.2.1)\n",
            "Requirement already satisfied: threadpoolctl>=2.0.0 in /usr/local/lib/python3.7/dist-packages (from scikit-learn->fastai==2.5.0) (3.1.0)\n",
            "Requirement already satisfied: joblib>=0.11 in /usr/local/lib/python3.7/dist-packages (from scikit-learn->fastai==2.5.0) (1.1.0)\n",
            "Installing collected packages: torch, fastcore, torchvision, fastai\n",
            "  Attempting uninstall: torch\n",
            "    Found existing installation: torch 1.12.1+cu113\n",
            "    Uninstalling torch-1.12.1+cu113:\n",
            "      Successfully uninstalled torch-1.12.1+cu113\n",
            "  Attempting uninstall: fastcore\n",
            "    Found existing installation: fastcore 1.5.25\n",
            "    Uninstalling fastcore-1.5.25:\n",
            "      Successfully uninstalled fastcore-1.5.25\n",
            "  Attempting uninstall: torchvision\n",
            "    Found existing installation: torchvision 0.13.1+cu113\n",
            "    Uninstalling torchvision-0.13.1+cu113:\n",
            "      Successfully uninstalled torchvision-0.13.1+cu113\n",
            "  Attempting uninstall: fastai\n",
            "    Found existing installation: fastai 2.7.9\n",
            "    Uninstalling fastai-2.7.9:\n",
            "      Successfully uninstalled fastai-2.7.9\n",
            "\u001b[31mERROR: pip's dependency resolver does not currently take into account all the packages that are installed. This behaviour is the source of the following dependency conflicts.\n",
            "torchtext 0.13.1 requires torch==1.12.1, but you have torch 1.9.1 which is incompatible.\n",
            "torchaudio 0.12.1+cu113 requires torch==1.12.1, but you have torch 1.9.1 which is incompatible.\u001b[0m\n",
            "Successfully installed fastai-2.5.0 fastcore-1.3.29 torch-1.9.1 torchvision-0.10.1\n"
          ]
        }
      ]
    },
    {
      "cell_type": "markdown",
      "source": [
        "Google Colab fournit un environnement Linux afin de pouvoir naviguer dans les fichiers"
      ],
      "metadata": {
        "id": "0-WFCueRtzvw"
      }
    },
    {
      "cell_type": "code",
      "source": [
        "!ls #Affiche les dossiers et fichiers présents"
      ],
      "metadata": {
        "colab": {
          "base_uri": "https://localhost:8080/"
        },
        "id": "YAAElrpmt9rU",
        "outputId": "17a3e49f-91f5-46d3-f600-e9d155042cad"
      },
      "execution_count": null,
      "outputs": [
        {
          "output_type": "stream",
          "name": "stdout",
          "text": [
            "sample_data\n"
          ]
        }
      ]
    },
    {
      "cell_type": "code",
      "source": [
        "!cd ./sample_data\n",
        "print('listing folders in directory')\n",
        "!ls\n",
        "print('Change directory')\n",
        "%cd ./sample_data\n",
        "print('listing folders in directory')\n",
        "!ls"
      ],
      "metadata": {
        "id": "IoH5j54z2hRd",
        "colab": {
          "base_uri": "https://localhost:8080/"
        },
        "outputId": "df158325-e0ab-4531-b758-bec9094a492a"
      },
      "execution_count": 6,
      "outputs": [
        {
          "output_type": "stream",
          "name": "stdout",
          "text": [
            "listing folders in directory\n",
            "sample_data\n",
            "Change directory\n",
            "/content/sample_data\n",
            "listing folders in directory\n",
            "anscombe.json\t\t      mnist_test.csv\n",
            "california_housing_test.csv   mnist_train_small.csv\n",
            "california_housing_train.csv  README.md\n"
          ]
        }
      ]
    },
    {
      "cell_type": "code",
      "source": [
        "#Visualiser l'esapce de travail\n",
        "!pwd"
      ],
      "metadata": {
        "colab": {
          "base_uri": "https://localhost:8080/"
        },
        "id": "DEAPK6_zxv2J",
        "outputId": "f863d9bd-5cba-4340-bf1b-2a6a4699ab7a"
      },
      "execution_count": null,
      "outputs": [
        {
          "output_type": "stream",
          "name": "stdout",
          "text": [
            "/content\n"
          ]
        }
      ]
    },
    {
      "cell_type": "code",
      "source": [
        "#Télécharge une image ou un dossier et le place dans l'esapce de travail\n",
        "!wget https://upload.wikimedia.org/wikipedia/commons/thumb/6/69/June_odd-eyed-cat_cropped.jpg/1216px-June_odd-eyed-cat_cropped.jpg \n"
      ],
      "metadata": {
        "colab": {
          "base_uri": "https://localhost:8080/"
        },
        "id": "vQH7MdmtvrKn",
        "outputId": "3083ecc3-5c12-4401-9d7e-476f13f4b970"
      },
      "execution_count": null,
      "outputs": [
        {
          "output_type": "stream",
          "name": "stdout",
          "text": [
            "--2022-11-15 10:10:18--  https://upload.wikimedia.org/wikipedia/commons/thumb/6/69/June_odd-eyed-cat_cropped.jpg/1216px-June_odd-eyed-cat_cropped.jpg\n",
            "Resolving upload.wikimedia.org (upload.wikimedia.org)... 208.80.154.240, 2620:0:861:ed1a::2:b\n",
            "Connecting to upload.wikimedia.org (upload.wikimedia.org)|208.80.154.240|:443... connected.\n",
            "HTTP request sent, awaiting response... 200 OK\n",
            "Length: 286421 (280K) [image/jpeg]\n",
            "Saving to: ‘1216px-June_odd-eyed-cat_cropped.jpg’\n",
            "\n",
            "\r          1216px-Ju   0%[                    ]       0  --.-KB/s               \r1216px-June_odd-eye 100%[===================>] 279.71K  --.-KB/s    in 0.05s   \n",
            "\n",
            "2022-11-15 10:10:18 (5.90 MB/s) - ‘1216px-June_odd-eyed-cat_cropped.jpg’ saved [286421/286421]\n",
            "\n"
          ]
        }
      ]
    },
    {
      "cell_type": "markdown",
      "source": [
        "En plus du noyau linux, Google Colab offre un accès limité à ses cartes graphiques. Il est cependant nécessaire d'activer l'accès à ses GPU.\n",
        "\n",
        "[Exécution->Modifier le type d'éxecution->GPU]"
      ],
      "metadata": {
        "id": "Cl8p8fZ0yIxp"
      }
    },
    {
      "cell_type": "code",
      "source": [
        "!nvidia-smi"
      ],
      "metadata": {
        "colab": {
          "base_uri": "https://localhost:8080/"
        },
        "id": "F2tmvutmxbyO",
        "outputId": "61096351-6931-4722-c777-131f30d18356"
      },
      "execution_count": null,
      "outputs": [
        {
          "output_type": "stream",
          "name": "stdout",
          "text": [
            "Tue Nov 15 10:17:50 2022       \n",
            "+-----------------------------------------------------------------------------+\n",
            "| NVIDIA-SMI 460.32.03    Driver Version: 460.32.03    CUDA Version: 11.2     |\n",
            "|-------------------------------+----------------------+----------------------+\n",
            "| GPU  Name        Persistence-M| Bus-Id        Disp.A | Volatile Uncorr. ECC |\n",
            "| Fan  Temp  Perf  Pwr:Usage/Cap|         Memory-Usage | GPU-Util  Compute M. |\n",
            "|                               |                      |               MIG M. |\n",
            "|===============================+======================+======================|\n",
            "|   0  Tesla T4            Off  | 00000000:00:04.0 Off |                    0 |\n",
            "| N/A   70C    P8    11W /  70W |      0MiB / 15109MiB |      0%      Default |\n",
            "|                               |                      |                  N/A |\n",
            "+-------------------------------+----------------------+----------------------+\n",
            "                                                                               \n",
            "+-----------------------------------------------------------------------------+\n",
            "| Processes:                                                                  |\n",
            "|  GPU   GI   CI        PID   Type   Process name                  GPU Memory |\n",
            "|        ID   ID                                                   Usage      |\n",
            "|=============================================================================|\n",
            "|  No running processes found                                                 |\n",
            "+-----------------------------------------------------------------------------+\n"
          ]
        }
      ]
    },
    {
      "cell_type": "markdown",
      "source": [
        "Pourquoi l'accès à une carte graphique est-il important dans l'IA et le Deep Learning ? \n",
        "\n",
        "![GPUvsCPU.png](data:image/png;base64,iVBORw0KGgoAAAANSUhEUgAABPYAAAOMCAYAAADOmj1wAACAAElEQVR42uzda3Bd9X03+t+WbEmWLN+ELeOLbGNwDAQjjJvpFAxOSNMmDYUk9DRtnhfQTpo0l5nDlLacnDPnZYfAUPqi4UXT5yFnpqTJaZrDkLx5EgIUyKXFMXZsEwd8AxmMMMJXybZu+8xe1vazL5KxkLS2lvz5zEhb1l9775/+e+398/7qv9aqCwAAAAAgcwR7AAAAAJBBgj0AAAAAyCDBHgAAAABkkGAPAAAAADJIsAcAAAAAGSTYAwAAAIAMEuwBAAAAQAYJ9gAAAAAggwR7AAAAAJBBgj0AAAAAyCDBHgAAAABkkGAPAAAAADJIsAcAAAAAGSTYAwAAAIAMEuwBAAAAQAYJ9gAAAAAggwR7AAAAAJBBgj0AAAAAyCDBHgAAAABkkGAPAAAAADJIsAcAAAAAGSTYAwAAAIAMEuwBAAAAQAYJ9gAAAAAggwR7AAAAAJBBgj0AAAAAyCDBHgAAAABkkGAPAAAAADJIsAcAAAAAGSTYAwAAAIAMEuwBAAAAQAYJ9gAAAAAggwR7AAAAAJBBgj0AAAAAyCDBHgAAAABkkGAPAAAAADJIsAcAAAAAGSTYAwAAAIAMEuwBAAAAQAYJ9gAAAAAgg2aZAoAqj0RE5wSuvz0i7lWDGmZYDYAe53VVDXocwDQj2AOoVvjP5RY1qEENgB6nBjXocQDTmV1xAQAAACCDBHsAAAAAkEGCPQAAAADIIMEeAAAAAGSQYA8AAAAAMkiwBwAAAAAZJNgDAAAAgAwS7AEAAABABgn2AAAAACCDBHsAAAAAkEGCPQAAAADIIMEeAAAAAGSQYA8AAAAAMkiwBwAAAAAZJNgDAAAAgAwS7AEAAABABgn2AAAAACCDBHsAAAAAkEGCPQAAAADIIMEeAAAAAGSQYA8AAAAAMkiwBwAAAAAZJNgDAAAAgAwS7AEAAABABgn2AAAAACCDBHsAAAAAkEGCPQAAAADIoJwpAKjSHhFNE7j+mYjoVoMaZlgNgB7ndVUNehwAAAAAAMBE2RUXAAAAADJIsAcAAAAAGSTYAwAAAIAMEuwBAAAAQAYJ9gAAAAAggwR7AAAAAJBBgj0AAAAAyCDBHgAAAABkkGAPAAAAADJIsAcAAAAAGSTYAwAAAIAMEuwBAAAAQAYJ9gAAAAAggwR7AAAAAJBBs0wBcAmqj4grImJtRMyPiKaIyJkWLiH5iDgTEccjYl9E7I+IIdMCehzocQDZItgDLhUtEfGZiPijiLg1IlpNCZx3MiL+IyL+LSL+PSJ6TQnocaDHAQBQa80R8X9HxLsjf8H14cPHhT/eHXnONHv5AD3Ohw89DmB6sywfmMk+GhH/PSI6TAWM2+sR8ecR8ZSpAD0O9DiA6aneFAAz1Nci4n9ExAJTAe/L/Ij4bxExGBHPmw7Q40CPA5h+BHvATPRIRPyfViXDhBWeQ7eNhAf/03SAHgd6HMD0ItgDZpqvjbzhASbPb0fEgFUNoMeBHgcwvfhLHzCTfHTkL651pgIm3XBE/J7jEYEeB3ocwPQh2ANmiuaI+LWDiMOUej0iro6IPlMBehzocQC1Z1dcYKb4PyLiTtMAU2p+RPRHxH+YCtDjQI8DqD0r9oCZoCUiuiJioamAKXc0IlZGRK+pAD0O9DiA2nKMDmAm+Iw3PJCahSPPOUCPAz0OoMYEe8BM8L+ZAkjVH5kC0ONAjwOoPbviAllXP7LbRKupgNScHFnVMGQqQI8DPQ6gdqzYA7LuCm94IHWtI889QI8DPQ6ghgR7QNatNQXguQeeZ4DnHnApEuwBWbfAFEBNzDcFoMeBHgdQW4I9IOsaTQHURJMpAD0O9DiA2hLsAVnnJEDguQeeZ4DnHnBJEuwBAAAAQAYJ9gAAAAAgg2aZAqDEIxHRmfJ9fjYiuk09XHLaI+I7Kd/n9oi419TrcXocoMcBM4VgDyhVeMOzJeX7dHBiuDQ11eD1Bj1OjwP0OGBGsSsuAAAAAGSQYA8AAAAAMkiwBwAAAAAZJNgDAAAAgAwS7AEAAABABgn2AAAAACCDBHsAAAAAkEGCPQAAAADIIMEeAAAAAGSQYA8AAAAAMkiwBwAAAAAZJNgDAAAAgAwS7AEAAABABgn2AAAAACCDZpkCoMT2GtznGdMOl6TCc//ZS+A1Dj0O0OP0OGDKCPaAUveaAiAl3RHxYdOAHgfocQDvn11xAQAAACCDBHsAAAAAkEF2xQWYekMRccg0MA4rIqLeNAB6HHocABci2AOYeoU3PKtNA+NwMCJWmQZAj0OPA+BC7IoLAAAAABkk2AMAAACADBLsAQAAAEAGCfYAAAAAIIMEewAAAACQQYI9AAAAAMggwR4AAAAAZJBgDwAAAAAySLAHAAAAABkk2AMAAACADJplCgCml3w+vz0i1kTEvojonaG/ZmNEfCAizkbEb2bww3l5RCyOiMdyudz/busG9Lj8v0fERyPizYh4p2J4YUSsjIijEdFVMdYUEesi4kxEvDLKTX9wZNHCzsLdVIytjYiWMfrqsoi4bBLr+eAYiydK60qznjTm579yudzv2roBakOwB5R6JCI6U77Pz0ZEt6kvsyoi5kXEDZfI77v4Evgdr7BZV2mPiO+kfJ/bI+JeU6/H6XE1fz2cN/IxlnkjvXCssSUXuO5NFxi74T3ucyrquVBdtahnKuZHj9PjgBoS7AGlCm94tqR8n02mvcqrEfFb3/j/9sfeN2bmgr3FCxrja/9tXRw5djb+7l9embEP5B03LY0tNywu/meb6uf+FtOAHnfJeanwWDy374nYcej5soEPtG+Kj63/k9jT/cv48Z5vl40tammPz236m3i3rzsef/HBqhv90uYHor5udjz6wv0xNDRQNvaZzq/Esvlr4nvb/zEOHz9QNnbL2jvj+hWbY7LqKdZRqbSuNOtJY35GVgGixwE1ItgDmH6SNO/A4b7YdeDEjPwFVyyek1yeHRiesb9jwU0fXFT88rjNGiCRvOj39L4V+3t2lw0salmaXJ46e6xqrG/gZHLZP3S2aizO7eKbXB7oeTkGh/rLxs4M9iWXbx4/EAcqrnv98s0xmfUU66hUWlea9aQxP8XHFIDacPIMAAAAAMggwR4AAAAAZJBgDwAAAAAyyDH2AACAtKwtfNqw7KZoa15aNrCkdWVyuXLhuvjUhi+WjTU3tCaX8xoXVo0V1NXVJ5d3XPf5GB4eKhtrGzkW3C1X3hmdI8eMO1/MZdfFZNZTrKNSaV1p1jOV89M+Uk9ErLFZA9SOYA8AAEjLihgJjIqhUaX21pWloVGZ5obWJIAay81X3D7mWGVoVWqq6rlQXbWoZyrmJyKW2awBakewBwAApGVvRHT+6s2fxr53dpYNdCxcFzeu/Eh0HX0ltnY9XTY2r2lh3Lbuj+PE2aPxk998t+pG7/jg55NVaU/u/GYM5ctXpN2y9s5kVdpze5+Inr63ysY2LLspCawmq55iHZVK60qznjTmJyIO2KwBakewBwAApOWNwqd97+xMgqRSmzpuS4Ki7pNdVWNL53UkwVVf/8mqsYLbr/2zqIv6eH7/D2JwqL9s7Prlm5Pgavsbz8eBnt1lY23NS5PgarLqKdZRqbSuNOtJY34i4k2bNUDtOHkGAAAAAGSQYA8AAAAAMkiwBwAAAAAZ5Bh7AABAWpZEcuKFq2JTx0fKBta0XZNctrUsrRqbP+ey5HLO7JaqsYJc7tx6hY0rt8Tw8GDZ2NzGBcnl+vYbo62lvbyYkbPLrly4blLqKdZRqbSuNOtJY34iYrHNGqB2cqYAKPFMRGxJ+T5XR8RrE7j+3RHx2DSf19dGfs+Lks/nk8fhvkd3xY59x2fkhrZi8Zx47P6NcejI6bjngW0z9gn1hdtXx11blhe+vC+Xyz08jqsejIhV0/zXuycivjWB668a+T3T9GxEfNhLvR6nx9W0x70UEZ02xxllfy6XW6vH6XFAbVixBwAApKW78Knr6KvJ2V1LtbUsTVaB9fS+FQd6Xi4bmzO7Oa69/Lfj9EBv7D78n1U3euPKLcmqtG1dz8ZwfrhsbH37xmRV2p7uX8aps+V/MOtYeFWyKq3r6CvRffLQhOsp1lGptK4060ljfiLiiM0aoHYEe0Cp7TW4zzOmHS5JZ0ZWF8z01zj0OMrtiYjf29r1k3hu7xNlA5s6bkuCogM9u+PxrQ+VjS2d15EEV8fP9MTjWx+sutHO5TfHrPqG+Ndtfx+DQ/1lY1+99eEkuPrRnm8nt13qUxu+mARXW7uenpR6inVUKq0rzXrSmJ+IeMVmrccBtSPYA0rdawqAlHTbZQg9DtDjACbGWXEBAAAAIIMEewAAAACQQXbFBQAA0tJc+NTauDDaWzvKBuY3tSWXTbNbqsbaWi4/9+albnbVWEEucsnlktaVMTQ0UDY2u74xuVzU3B59/SfLi2lojcmsp1hHpdK60qwnjfmJiDk2a4DayZkCIOPujojHpnmNr0XE6ov94Xw+/0xEbLnv0V2xY9/xGfmgrVg8Jx67f2McOnI67nlg24zdOL9w++q4a8vywpf35XK5h8dx1YMRsWqa/3r3RMS3vASBHjfOHvdSRHR6aGeU/blcbq0eB1AbVuwBAABp6S18Onn2aNXqsKbZLckqsDMDvcnZXcvetNTNTlalDQ4PRE/v4aobXdK6MlmV9vbJrshHvmxsUXN7sirt3b7uGBg6WzbW2rgwWZU2WfUU66hUWlea9aQxPxHRZ7MGqB3BHgAAkJatEXHTU7/5bjy394mygU0dt8XnNv117Dr8i3h860NlY0vndcTffvSf4p3ew/H1H/9F1Y0+dMeTMau+IR56+ssxONRfNvbVWx+OK9qujX958cE40LO7bOxTG74Yt1x5Z0xWPcU6quorqSvNetKYn4h4yWYNUDtOngEAAAAAGSTYAwAAAIAMEuwBAAAAQAYJ9gAAAAAgg3KmAMi4uyPisWle42sRsfpifzifzz8TEVvue3RX7Nh3fEY+aCsWz4nH7t8Yh46cjnse2DZjN84v3L467tqyvPDlfblc7uFxXPVgRKya5r/ePRHxLS9BoMeNs8dtjYgbh4aHYjg/VDZWl6uL+rpZMZwfjqHhwfI3LblccubXfORjcGig6nZnj5ywYqDixBCRnDF2VuRydckZY/P58jPC1tfVR12uPrm/wv1OtJ7Zo5w4o7KuNOtJY34iYm8ul7tKjwOoDWfFBQAA0lIfI4FR/bkvq9Tl6qJujIAsF7kxw7O4QLCWvPGpmz12UXWzxqhmYvVcqK5a1DMV82MvMIDaEuwBAABpeT4iOp/c+c14Yf8PygY2rvxwfHbjvbGt65n4zrZHysbaW1fGX33kG9F9sisefvrLVTf6d5/8Xsyqb4iv/fCuGKxYlfaXm78eaxZdHY8+f38cfPflsrE//ODn4+a1t8eTu/45Xtj35ITrKdZRqbSuNOtJY34i4uc2a4DaEewBAABpSfbnHMoPVe0WWty9dDg/XDU2OHxu99J85EfdnbSoMFYZXOVHdiEt3EbldYu7AxfueyrqGa2uWtYzFfNTfEwBqA3LpgEAAAAgg6zYA0o9EhGdKd/nZyOi29TDJac9Ir6T8n1uj4h7Tb0ep8cBehwwUwj2gFKFNzxbUr7PJtMOl6SmGrzeoMfpcYAeB8wogj0AACAtyarJW9beGdcv31w20No4P7lc335jfPXWh8vGGuobk8tFze1VY5GctfXcGV2/dPMDyXHmSi2bvya5vKvzK3FmsK9srK1laUxmPfVjnFm2tK4065nK+ZnbuKD45XU2a4DaEewBAABpSdKptpal50OjSnMbF5SGRmUa6hvjirZrx7zxNW3XjDlWDLBGM1X1XKiuWtQzFfMTEfNs1gC1I9gDAADS8lJEdD6394nY8cbzZQMfaN8UH1v/J7Gn+5fx4z3fLhtb1NIen9v0N/FuX3c8/uKDVTf6pc0PJKvSHn3h/hgaGigb+0znV5LQ6nvb/zEOHz9QNpasRFuxOZ7b90TsODTxeop1VCqtK816pnJ+1rffGL+7/k8LX+60WQPUjmAPAABIy4nCp56+t2J/z+6ygUUjK8JOnT1WNdY3cDK57B86WzVWkM+f2730QM/LMTjUXzZW3L30zeMH4kDFdYu7l/b0Tk49xToqldaVZj1pzE/xMQWgNupMAQAAAABkj2APAAAAADJIsAcAAAAAGeQYewAAQFrWFj5tWHZTtDWXn2V1SevK5HLlwnXxqQ1fLBtrbmhNLuc1LqwaK6irq08u77ju8zE8PFQ2Vjyb6y1X3hmdI8eMO1/MZdfFZNZTrKNSaV1p1jOV89M+Uk9ErLFZA9SOYA8AAEjLihgJjIqhUaX21pWloVGZ5obWJIAay81X3D7mWGVoVWqq6rlQXbWoZyrmJyKW2awBakewBwAApGVvRHT+6s2fxr53dpYNdCxcFzeu/Eh0HX0ltnY9XTY2r2lh3Lbuj+PE2aPxk998t+pG7/jg55NVaU/u/GYM5ctXpN2y9s5kVdpze59IzsZbasOym5LAarLqKdZRqbSuNOtJY34i4oDNGqB2BHsAAEBa3ih82vfOziRIKrWp47YkKOo+2VU1tnReRxJc9fWfrBoruP3aP4u6qI/n9/8gBof6y8auX745Ca62v/F8HOjZXTbW1rw0Ca4mq55iHZVK60qznjTmJyLetFkD1I6TZwAAAABABgn2AAAAACCDBHsAAAAAkEGOsQeU2l6D+zxj2uGSVHjuP3sJvMahx1FuSSQnXrgqNnV8pGxgTds1yWVby9KqsflzLksu58xuqRoryOXOrVfYuHJLDA8Plo3NbVyQXK5vvzHaWtrLixk5u+zKhesmpZ5iHZVK60qznjTmJyIW26z1OKB2cqYAyLi7I+KxaV7jaxGx+mJ/OJ/PPxMRW+57dFfs2Hd8Rj5oKxbPicfu3xiHjpyOex7YNmM3zi/cvjru2rK88OV9uVzu4XFc9WBErJrmv949EfEtL0Ggx42zx70UEZ0e2hllfy6XW6vHAdSGFXsAAEBaugufuo6+mpzdtVRby9JkFVhP71txoOflsrE5s5vj2st/O04P9Mbuw/9ZdaM3rtySrErb1vVsDOeHy8bWt29MVqXt6f5lnDpb/gezjoVXJavSuo6+Et0nD024nmIdlUrrSrOeNOYnIo7YrAFqR7AHAACkZU9E/N7Wrp/Ec3ufKBvY1HFbEhQd6Nkdj299qGxs6byOJLg6fqYnHt/6YNWNdi6/OWbVN8S/bvv7GBzqLxv76q0PJ8HVj/Z8O7ntUp/a8MUkuNra9fSk1FOso1JpXWnWk8b8RMQrNmuA2nHyDAAAAADIIMEeAAAAAGSQYA8AAAAAMsgx9gCmn6bCpyWLGqPj1JwZ+QsuXdh0rgnV56Kjfc6MfSBbW8632WabNcD/ej1sbVwY7a0dZQPzm9rONcHZLVVjbS2Xn+sbdbOrxgpykUsul7SujKGhgbKx2fWNyeWi5vbo6z9ZXkxDa0xmPcU6KpXWlWY9acxPRMyxWQPUTs4UABl3d0Q8Ns1rfC0iVl/sD+fz+aMRscBDO6P8IJfL/eE4fv5gRKya5r/TPRHxLQ8t6HHj7HEvRUSnh3ZG2Z/L5dbqcQC1YcUewPRzpvDp7aNn40z/8MxsPrNysaytKQaH8vHmO2dm7AO5oHV2zGtOWm2fzRog0Vv4dPLs0arVYU2zW5JVYGcGepOzu5b1jbrZyaq0weGB6Ok9XHWjS1pXJqvS3j7ZFfnIl40tam5PVqW929cdA0Nny8ZaGxcmq9Imq55iHZVK60qznjTmR48DqPF7K1MAMO3siYilD/7rq7Fj3/EZ+QuuWDwnHrt/Y7z17pn48we3zdgH8gu3r467tiwvfPmizRogsTUibnrqN9+N5/Y+UTawqeO2+Nymv45dh38Rj299qGxs6byO+NuP/lO803s4vv7jv6i60YfueDJm1TfEQ09/OQaH+svGvnrrw3FF27XxLy8+GAd6dpeNfWrDF+OWK++MyaqnWEdVfSV1pVlPGvMTES/ZrAFqx8kzAAAAACCDBHsAAAAAkEGCPQAAAADIIMEeAAAAAGRQzhQAGXd3RDw2zWt8LSJWX+wP5/P5ZyJiy32P7prxJ884dOR03PPAJXHyjPtyudzD47jqwYhYNc1/vXsi4ltegkCPG2eP2xoRNw4ND8VwfqhsrC5XF/V1s2I4PxxDw4Plb1pyueTMr/nIx+DQQNXtzh45YcVAxYkhIjlj7KzI5eqSM8bm8+VnhK2vq4+6XH1yf4X7nWg9s0c5cUZlXWnWk8b8RMTeXC53lR4HUBvOigsAAKSlPkYCo/pzX1apy9VF3RgBWS5yY4ZncYFgLXnjUzd77KLqZo1RzcTquVBdtahnKubHXmAAtSXYA0o9EhGdKd/nZyOi29TDJac9Ir6T8n1uj4h7Tb0ep8fV1POFx+HJnd+MF/b/oGxg48oPx2c33hvbup6J72x7pPwFo3Vl/NVHvhHdJ7vi4ae/XHWjf/fJ78Ws+ob42g/visGKVWl/ufnrsWbR1fHo8/fHwXdfLhv7ww9+Pm5ee3s8ueuf44V9T064nmIdlUrrSrOeNOYnIn5us9bjgNoR7AGlCm94tqR8n02mHS5JTTV4vUGP0+NqL9mfcyg/VLVbaHH30uH8cNXY4PC53UvzkR91d9KiwlhlcJUf2YW0cBuV1y3uDly476moZ7S6alnPVMxP8TFFjwNqw7JpAAAAAMggwR4AAAAAZJBgDwAAAAAyyDH2AACAtCQnMLll7Z1x/fLNZQOtjfOTy/XtN8ZXb324bKyhvjG5XNTcXjUWyVlbz53R9Us3P5AcZ67Usvlrksu7Or8SZwb7ysbaWpbGZNZTP8aZZUvrSrOeqZyfuY0Lil9eZ7MGqB3BHgAAkJYknWprWXo+NKo0t3FBaWhUpqG+Ma5ou3bMG1/Tds2YY8UAazRTVc+F6qpFPVMxPxExz2YNUDuCPQAAIC0vRUTnc3ufiB1vPF828IH2TfGx9X8Se7p/GT/e8+2ysUUt7fG5TX8T7/Z1x+MvPlh1o1/a/ECyKu3RF+6PoaGBsrHPdH4lCa2+t/0f4/DxA2VjyUq0FZvjuX1PxI5DE6+nWEel0rrSrGcq52d9+43xu+v/tPDlTps1QO0I9gAAgLScKHzq6Xsr9vfsLhtYNLIi7NTZY1VjfQMnk8v+obNVYwX5/LndSw/0vByDQ/1lY8XdS988fiAOVFy3uHtpT+/k1FOso1JpXWnWk8b8FB9TAGrDyTMAAAAAIIMEewAAAACQQYI9AAAAAMggx9gDAADSsrbwacOym6Ktufwsq0taVyaXKxeui09t+GLZWHNDa3I5r3Fh1VhBXV19cnnHdZ+P4eGhsrHi2VxvufLO6Bw5Ztz5Yi67LiaznmIdlUrrSrOeqZyf9pF6ImKNzRqgdgR7AABAWlbESGBUDI0qtbeuLA2NyjQ3tCYB1FhuvuL2MccqQ6tSU1XPheqqRT1TMT8RscxmDVA7gj0AACAteyOi81dv/jT2vbOzbKBj4bq4ceVHouvoK7G16+mysXlNC+O2dX8cJ84ejZ/85rtVN3rHBz+frEp7cuc3YyhfviLtlrV3JqvSntv7RHI23lIblt2UBFaTVU+xjkqldaVZTxrzExEHbNYAtSPYAwAA0vJG4dO+d3YmQVKpTR23JUFR98muqrGl8zqS4Kqv/2TVWMHt1/5Z1EV9PL//BzE41F82dv3yzUlwtf2N5+NAz+6ysbbmpUlwNVn1FOuoVFpXmvWkMT8R8abNGqB2BHtAqe01uM8zph0uSYXn/rOXwGscehygx+lxwJQR7AGl7jUFQEq6I+LDpgE9DtDjAN6/OlMAAAAAANljxR4AAJCWJZGceOGq2NTxkbKBNW3XJJdtLUurxubPuSy5nDO7pWqsIJc7t15h48otMTw8WDY2t3FBcrm+/cZoa2kvL2bk7LIrF66blHqKdVQqrSvNetKYn4hYbLMGqJ2cKQAy7u6IeGya1/haRKy+2B/O5/PPRMSW+x7dFTv2HZ+RD9qKxXPisfs3xqEjp+OeB7bN2I3zC7evjru2LC98eV8ul3t4HFc9GBGrpvmvd09EfMtLEOhx4+xxL0VEp4d2Rtmfy+XW6nEAtWHFHgAAkJbuwqeuo68mZ3ct1dayNFkF1tP7VhzoeblsbM7s5rj28t+O0wO9sfvwf1bd6I0rtySr0rZ1PRvD+eGysfXtG5NVaXu6fxmnzpb/waxj4VXJqrSuo69E98lDE66nWEel0rrSrCeN+YmIIzZrgNoR7AEAAGnZExG/t7XrJ/Hc3ifKBjZ13JYERQd6dsfjWx8qG1s6ryMJro6f6YnHtz5YdaOdy2+OWfUN8a/b/j4Gh/rLxr5668NJcPWjPd9ObrvUpzZ8MQmutnY9PSn1FOuoVFpXmvWkMT8R8YrNGqB2nDwDAAAAADJIsAcAAAAAGSTYAwAAAIAMcow9AAAgLc2FT62NC6O9taNsYH5TW3LZNLulaqyt5fJzb17qZleNFeQil1wuaV0ZQ0MDZWOz6xuTy0XN7dHXf7K8mIbWmMx6inVUKq0rzXrSmJ+ImGOzBqidnCkAMu7uiHhsmtf4WkSsvtgfzufzz0TElvse3RU79h2fkQ/aisVz4rH7N8ahI6fjnge2zdiN8wu3r467tiwvfHlfLpd7eBxXPRgRq6b5r3dPRHzLSxDocePscS9FRKeHdkbZn8vl1upxALVhxR4AAJCW3sKnk2ePVq0Oa5rdkqwCOzPQm5zdtexNS93sZFXa4PBA9PQerrrRJa0rk1Vpb5/sinzky8YWNbcnq9Le7euOgaGzZWOtjQuTVWmTVU+xjkqldaVZTxrzExF9NmuA2hHsAQAAadkaETc99ZvvxnN7nygb2NRxW3xu01/HrsO/iMe3PlQ2tnReR/ztR/8p3uk9HF//8V9U3ehDdzwZs+ob4qGnvxyDQ/1lY1+99eG4ou3a+JcXH4wDPbvLxj614Ytxy5V3xmTVU6yjqr6SutKsJ435iYiXbNYAtePkGQAAAACQQYI9AAAAAMggwR4AAAAAZJBj7AGlHqnBmeo+GxHdph4uOe0R8Z2U73N7RNxr6vU4PQ7Q44CZImcKgBLPRMSWlO9zdUS8NoHr3x0Rj03zeX1t5Pe8KPl8Pnkc7nt0V+zYd3xGbmgrFs+Jx+7fGIeOnI57Htg2Y59QX7h9ddy1ZXnhy/tyudzD47jqwYhYNc1/vXsi4lsTuP6qkd8zTc9GxIe91OtxelxNe9zWiLhxaHgohvNDZWN1ubqor5sVw/nhGBoeLH/TksslZ37NRz4Ghwaqbnf2yAkrBipODBHJGWNnRS5Xl5wxNp8vPyNsfV191OXqk/sr3O9E65k9yokzKutKs5405ici9uZyuav0OD0OqA0r9gAAgLTUx0hgVH/uyyp1ubqoGyMgy0VuzPAsLhCsJW986maPXVTdrDGqmVg9F6qrFvVMxfw4vBNAbQn2AACAtDwfEZ1P7vxmvLD/B2UDG1d+OD678d7Y1vVMfGfbI2Vj7a0r468+8o3oPtkVDz/95aob/btPfi9m1TfE1354VwxWrEr7y81fjzWLro5Hn78/Dr77ctnYH37w83Hz2tvjyV3/HC/se3LC9RTrqFRaV5r1pDE/EfFzmzVA7Qj2AACAtCT7cw7lh6p2Cy3uXjqcH64aGxw+t3tpPvKj7k5aVBirDK7yI7uQFm6j8rrF3YEL9z0V9YxWVy3rmYr5KT6mANSGZdMAAAAAkEGCPQAAAADIIMEeAAAAAGSQY+wBAABp6Sx8umXtnXH98s1lA62N85PL9e03xldvfbhsrKG+Mblc1NxeNRbJWVvPndH1Szc/kBxnrtSy+WuSy7s6vxJnBvvKxtpalsZk1lM/xpllS+tKs56pnJ+5jQuKX15nswaoHcEeAACQliSdamtZej40qjS3cUFpaFSmob4xrmi7dswbX9N2zZhjxQBrNFNVz4XqqkU9UzE/ETHPZg1QO4I9AAAgLS9FROdze5+IHW88XzbwgfZN8bH1fxJ7un8ZP97z7bKxRS3t8blNfxPv9nXH4y8+WHWjX9r8QLIq7dEX7o+hoYGysc90fiUJrb63/R/j8PEDZWPJSrQVm+O5fU/EjkMTr6dYR6XSutKsZyrnZ337jfG76/+08OVOmzVA7Qj2AACAtJwofOrpeyv29+wuG1g0siLs1NljVWN9AyeTy/6hs1VjBfn8ud1LD/S8HIND/WVjxd1L3zx+IA5UXLe4e2lP7+TUU6yjUmldadaTxvwUH1MAasPJMwAAAAAggwR7AAAAAJBBgj0AAAAAyCDH2AOYfpYXPt1x8+Vx03WLZuQvOHfOufazYO7s+NKda2bsA/nBNedPFLjWZg3wv14PNyy7Kdqay8+yuqR1ZXK5cuG6+NSGL5aNNTe0JpfzGhdWjRXU1dUnl3dc9/kYHh4qGyuezfWWK++MzpFjxp0v5rLrYjLrKdZRqbSuNOtJY34iYo3NGqB2cqYAKPFIRHSmfJ+fjYjuCVz/7oh4bJrP62sRsfpifzifzx+NiAU2xxnlB7lc7g/H8fMHI2LVNP+d7omIb03g+u0R8Z2Ua94eEffaHPU4Pa6mPe6lGjwOTK39uVxurR6nxwG1YcUeUMp/BqaHfx5Z0VD4D9rxGfo7zomID0VEX0S8OIMfyysiYmVEfM9mXaU7Ij5sGtDjLjn/Y+S5vzci3qgYa4+I9SOvD3sqxpoj4rciojcito5yuzdHRH1EPB8RwxVj14/8weylUc7gWui3KyaxnmIdlUrrSrOeNObnRZu1HgcA8H7dHRH5af5x0MPEOB3MwHZ9t4cJ9Dg9Dj0OoLacPAMAAAAAMkiwBwAAAAAZJNgDAAAAgAwS7AEAAABABgn2AAAAACCDBHsAAAAAkEGCPQAAAADIIMEeAAAAAGSQYA8AAAAAMkiwBwAAAAAZNMsUAEy5FRFx0DQwzm0GQI9DjwPgggR7AFOvPiJWmQYA9DgAYDLZFRcAAAAAMkiwBwAAAAAZZFdcoNQjEdGZ8n1+NiK6TT1cctoj4jsp3+f2iLjX1OtxehygxwEzhWAPKFV4w7Ml5ftsMu1wSWqqwesNepweB+hxwIxiV1wAAAAAyCDBHgAAAABkkGAPAAAAADJIsAcAAAAAGSTYAwAAAIAMEuwBAAAAQAYJ9gAAAAAggwR7AAAAAJBBgj0AAAAAyCDBHgAAAABkkGAPAAAAADJIsAcAAAAAGSTYAwAAAIAMEuwBAAAAQAbNMgVAie01uM8zph0uSYXn/rOXwGscehygx+lxwJQR7AGl7jUFQEq6I+LDpgE9DtDjAN4/u+ICAAAAQAYJ9gAAAAAggwR7QNblTQF47oHnGeC5B1yKBHtA1jkwOXjugecZ4LkHXJIEe0DWHTcF4LkHnmeA5x5wKRLsAVm3zxSA5x54ngGee8ClKGcKgIyrj4ijEdFqKiA1JyNiYUQMmQrQ40CPA6gdK/aArCv8p+s50wCp+g9veECPAz0OoPYEe8BM8P+aAkjVv5kC0ONAjwOoPbviAjNBS0R0jew2AUytoxGxMiJ6TQXocaDHAdSWFXvATFD4z9c/mAZIxT94wwN6HOhxANODFXvATNEcEb+OiA5TAVPm9Yi4OiL6TAXocaDHAdSeFXvATFH4T9ifR8SwqYApMTzyHPOGB/Q40OMApol6UwDMIPsjYjAibjMVMOn+r4j4f0wD6HGgxwFMH4I9YKZ5PiIWRMRvmwqYNP8w8qYH0ONAjwOYRgR7wEz0PyNiICI+7FiiMCHDI292vOEBPQ70OIBpyH8GgJnsoxHx3x1sHN6X10eON/SUqQA9DvQ4gOnJij1gJtsfEf8UEf0R0RkRc0wJvKejEfFARHwuIn5jOkCPAz0OYPqyYg+4VLRExGci4o8i4taIaDUlcN7JiPiPiPi3iPj3iOg1JaDHgR4HMP0J9oBLUX1EXBERa0cOQt7o9ZBLTD4izkbEsYjYN7LyZ8i0gB4HehwAAAAAAMAUqzMFAAAAAJA9gj0AAAAAyCDBHgAAAABkkGAPAAAAADJIsAcAAAAAGSTYAwAAAIAMEuwBAAAAQAYJ9gAAAAAggwR7AAAAAJBBgj0AAAAAyCDBHgAAAABkkGAPAAAAADJIsAcAAAAAGSTYAwAAAIAMmmUKAKq0R0TTBK5/JiK61aCGGVYDoMd5XVWDHgcAwLT3TETkJ/DxjBrUMANrAPQ4r6tq0OMAphm74gIAAABABgn2AAAAACCDBHsAAAAAkEGCPQAAAADIIMEeAAAAAGSQYA8AAAAAMkiwBwAAAAAZJNgDAAAAgAwS7AEAAABABgn2AAAAACCDBHsAAAAAkEGCPQAAAADIIMEeAAAAAGSQYA8AAAAAMkiwBwAAAAAZJNgDAAAAgAwS7AEAAABABgn2AAAAACCDBHsAAAAAkEGCPQAAAADIIMEeAAAAAGSQYA8AAAAAMkiwBwAAAAAZJNgDAAAAgAwS7AEAAABABgn2AAAAACCDBHsAAAAAkEGzTAFAle01vr4a1DAdawD0OK+ratDjAAAAAAAAJsquuAAAAACQQYI9AAAAAMggwR4AAAAAZJBgDwAAAAAySLAHAAAAABkk2AMAAACADBLsAQAAAEAGCfYAAAAAIIMEewAAAACQQYI9AAAAAMggwR4AAAAAZJBgDwAAAAAySLAHAAAAABkk2AMAAACADBLsAQAAAEAGCfYAAAAAIIMEewAAAACQQYI9AAAAAMggwR4AAAAAZJBgDwAAAAAySLAHAAAAABkk2AMAAACADBLsAQAAAEAGCfYAAAAAIIMEewAAAACQQYI9AAAAAMggwR4AAAAAZJBgDwAAAAAySLAHAAAAABkk2AMAAACADBLsAQAAAEAGCfYAAAAAIIMEewAAAACQQYI9AAAAAMggwR4AAAAAZJBgDwAAAAAySLAHAAAAABkk2AMAAACADBLsAQAAAEAGzTIF8P7l8/mjEbHATAAAAEzIzlwut8E0wPhYsQcAAAAAGWTFHkzMjoi49amnnoq3337bbAAwrTQ1NcWnP/3pOHPmTHz/+983IQBMO+vWrYtNmzYVvnzObMD4WbEHAAAAABkk2AMAAACADBLsAQAAAEAGCfYAAAAAIIMEewAAAACQQYI9AAAAAMggwR4AAAAAZJBgDwAAAAAySLAHAAAAABkk2AMAAACADBLsAQAAAEAGCfYAAAAAIIMEewAAAACQQbNMAQAT0dLSEkuWLImFCxcmH83NzTEwMBCnTp2Kt956Kw4ePBiDg4Pnf74wfsUVV0RDQ0PVbQ0NDUVfX18cPXo03nnnnVHvb8WKFbFs2bKor69Pfv7QoUPx5ptvjlnfddddl9SYy+Wiv78/Xn755Th9+rQHDuASUOg5ixcvjvnz5ycf8+bNi7q6ujh79mycOXMm6TWFHnLs2LGq63Z0dERbW1vSP0oNDw8nfe7kyZPR3d2d3FalQo+75pproqmpKfl3oe/s3r27rB+Wuuyyy2LNmjUxa9as5PYLt1vonwDwXgR7ALxv69evj+uvvz4J2SotWrQoeVN0ww03xC9+8Yvo6upKvr9hw4Yk2Hsvp06dih07dsRrr71W9v0PfOAD0d7efv7fc+bMGTPYK7yxuu6668q+d+TIkXj99dc9eAAzWF1dXVx77bVJuDZaj2ptbU0uV6xYEZ2dnUmQ9tOf/jQJ+2IkELz55pvf836Gh4eT/rZ169aygG/BggXJfZcq/Ny777476u2sWrUqrrrqqvP/vuyyywR7AFxczzMFAIxXY2Nj3HbbbbFx48ZR3zCVmj17dhL+FRXeLF2MuXPnxk033VQVzAHAhbS1tcXHP/7xpH+8V48qam9vj7Vr157/d0tLy8W9maqrS0K53//937/o/gYAk0mwB8C4bdy4sWzV3HsZbbfbi3XttdcmKx8A4GL6za233prsdjuafD6fHMZhrLH3q6WlJemNAJA2u+ICMC5tbW2xevXqqu+//fbbyfHr3n333WSV3uWXX57sqjt37txkV6WxHD58OJ599tnkOosXL45NmzaVrZSoq6uLK6+8MtnNCQAu5IYbbjh/XLtS+/btSz6OHj2aBHsNDQ3J7q6FftbR0ZH0mvf6I9SPf/zjpMc1Nzcnh4VYt25d2XjhdhobG0c95h4ATBXBHgDjsnHjxqoDib/++uvxs5/97HyAd+bMmeSg4oU3UevXrx9zdUSMrJAofPT398cbb7wRvb298YlPfKLsZ+bNm2fiAbigJUuWVB3DdXBwMOlPhw4dKvt+oee8+eabyceOHTuSE1cUetCFFHpcoZ8V+tvWrVuTgG/FihVV/erIkSMeDABSI9gD4KI1NTUlq+oq3zS9+OKLo67KK7wB2r1797juY7QzE1YGiQBQ6YorrqjqFy+//HJVqFept7c3du3aNe77K/SrymBPvwIgbY6xB8BFK55FsNSBAwcmfbejgYGBsn9faMUfABRUHlevr68vfv3rX0/Z/fX391d9T78CIG1W7AFw0UbbJXaydzlas2ZNcry9UsePHzf5AIyrR3V3d5cFbcuXL0+OgTea4eHh6OrquuhgLpfLJcd/LZXP5/UrAFIn2APgoo22Yq+3t3dCt1l4k1W43Tlz5sTSpUvj6quvrvqZnp4ekw/AmFpaWqr+KHTixInzX+dyudi8eXNykoyxbNu2Lfbs2XPBHjg0NJQEiNdcc01VkFi4v8HBQQ8GAKkS7AFw0ebMmVP1vYnudtTW1ha33377mONvvfVWcnIOABhPfyoN2err6y8Y6sXIH5ou5Hd+53fGHMvn8/Ff//VfHggAUucYewBctNOnT1d9r6mpacrur7e3N37+85+beADes19Umjt37vmvBwcHJ/14sEX5fD527tzpbLgA1IQVewBctFOnTl3wjdNk6e/vT85kuGfPnlHPtlvWyGaN3crq6+s9aACXgNOnTye9o6Gh4fz3Kk+m8cMf/rBsd91PfOITF+whF+Ott96Kl156KY4ePfreb7z0KwCmgGAPgIt28uTJqu+tWrUqXnnllfd9m729vclZCwcHB5OvT506lZzJMJ/Pj/rzlWchHO24f0WjhY6jrToEIPtOnDgRl1122fl/t7e3x8KFC8+HbmfPni1btVfoO+MJ9l599dU4duxYnDlzJulVhY/Ks7iP1auK/ertt98e9ecre5leBcDFsisuABdttGBv8eLFyUkvxpLL5S64EuH48eNJMLh///7kDIa9vb1jhnoxyhlym5ubY9GiRaP+7IoVK97z+gDMDMeOHavqP5s2bUouJ0OhT7366qvJ2XOPHj06ZqgXIyFj5Yrz0XpSjBzSorKP6VUAXCzBHgAXra+vL9ntqNLNN99c9Yalrq4u1qxZE3fccUd88pOfnLQaSs9yWPShD32o6sDpS5cujXXr1pV978yZM6OuogAg+15++eWqEzotXrw4Pvaxj1WdwXaqDQ8PVx33b/ny5XHllVeWfW/WrFlJD7vQGX0B4ELsigvAuGzbti0+/vGPl62AaGhoiFtuuSV5I3L8+PEk1Gtrazt/Yo2+vr5Ju//u7u5klUTpm6BFixbFH/zBHySrKM6ePZscV2nZsmVVqzT279/vAQSYoU6dOpWcxKKzs7Ps+4V+9IlPfCJZZVfoUUNDQ8luulN58qeCN954I9avX1/2vQ996EPJH73eeeedJNQr9KqWlpayn+nv70/6GQBcDMEeAONy7Nix2LdvX9Wqg4J58+aNuiqiciXCRJw+fTq2b98ev/Vbv1X2/YaGhli7du2Y1ztx4kT86le/8gACzGC//vWvo6Ojo2rX1uIfnAofadmxY0eymr3yeK+LFy9OPsaybdu2ZIU5AFwMu+ICMG4vvvhiEpK91xlri8Y6WPj79eqrr45r9d2JEyfiZz/72UXXC0A25fP5+NGPfpSs3KvcLfe9jHbm94ko3H+h91zsiTAKPWrPnj1WlwMwLlbsAfC+3jjt2rUr2c3o+uuvT1ZGjLZL07Fjx2Lv3r3JR1HlG5z3e+a/X/ziF8nt3nDDDckKjLq6uqoa+/r6khNzFN4oXeiEHADMHMPDw0mwd/DgwdiwYUNyZty5c+dW9YkYOVPu22+/Ha+//nq89tpr57/f39+fBHPFkz8NDg6+r2O0vvPOO/Hkk0/GNddckxz3tbGxsepnCrd95MiRZKWek2YAMF45UwDvXz6ffzYibn3qqacmfUUSZE3hzcr8+fOTYwYV3iidOnUquRxN4WcKb5YKb5oKb2gm3MxyueQYRa2trcntFu775MmT416tATNNU1NTfPrTn0526/v+979vQrhk1dXVJT1i7ty5yR96BgYGkpNbXOgYsIXeUjyUROHnJ+MPRA0NDUkdzc3NSVB44sSJ9/0HLpgp1q1bl5zBOiK+kcvlvmJGYHys2ANgUhRXPVyMwcHBSQn0igpvtk6dOjXpu1EBMDMMDw8nq+HGsyKu0Fsm+0zqhdvr6elJPgBgMjjGHgAAAABkkGAPAAAAADJIsAcAAAAAGSTYAwAAAIAMEuwBAAAAQAYJ9gAAAAAggwR7AAAAAJBBgj0AAAAAyCDBHgAAAABkkGAPAAAAADJIsAcAAAAAGSTYAwAAAIAMEuwBAAAAQAYJ9gAAAAAggwR7AAAAAJBBgj0AAAAAyCDBHgAAAABkkGAPAAAAADJolimACVlR+HT11VfH6tWrzQYA00p9fX1yOXv27PjQhz5kQgCYdubPn1/88iqzAeOXMwXw/uXz+aMRscBMAAAATMjOXC63wTTA+NgVFwAAAAAySLAHAAAAABkk2AMAAACADBLsAQAAAEAGOSsuTMyhiFhw4sSJGBwcNBsATCt1dXWxYMGCGB4ejmPHjpkQAKadpqamaG5uLnz5qtmA8RPswcT0FD6dPn06zp49azYAmFbq6+uTYC+fz8epU6dMCADTTi6XKwZ7h80GjJ9dcQEAAAAggwR7AAAAAJBBgj2A/5+9+wCPolofP35CIITeQXroVaSjgqAoTcWLqKjwU0EUBUXlKiIKYgdBLFzFgoigiHARC1KkCNIElI6UANJbqEFKSELyf973ZuY/u9lNdrMpu/D9PM/CZHd2duZMOWfeOQUAAAAAgBBEYA8AAAAAAAAIQQT2AAAAAAAAgBBEYA8AAAAAAAAIQQT2AAAAAAAAgBBEYA8AAAAAAAAIQQT2AAAAAAAAgBBEYA8AAAAAAAAIQQT2AIS0FStWmO7du5sePXqYLVu2kCAAgAwbOHCguffee83w4cNJDAAAEBJykwRA8ImLizN//fWX2bx5szl69KgpWbKkqV27tmnatKmJiIgggRy2bdtmli9frtO7d+82devW9fm727dvN/v373d5L1euXKZw4cKmevXqpmjRoiRwJlq5cqX59NNPzYULF8xLL71krr766qBd1/j4eDNv3jxz7tw507BhQ1OrVq005z9+/Lj57bffTHJysmndurUpXbr0FZluuLIkJCSYnTt36kOVHTt2mNy5c5tSpUrpdVjOmzx58oTcNv3yyy8mNjbWnDhxwgwePNjv77/yyiuad7ds2dIMGDAgqLZNriGrVq0yiYmJLu/nzZvXlC1b1lSpUsWEh4dzYGeiYD4ePJWJNmzYYAoUKGDat2+f7vm7YsUKLUOVL1/etGrV6opNNwAIBgT2gCAiNxIDBw40ixYtMklJSak+L1KkiOnZs6d54okntCCOjDt+/Ljp1KmTuXTpktd5pED51FNPmWuvvZYEywRffvml+fXXX3V6zpw5QR2g2rVrl55n4tZbbzUff/xxusGAF198UaeHDBliHn300Ssy3XBlOHr0qBk6dKgelwkJCR7nKVSokLnvvvtM//79Ne+6EuzYscNMmDBBp9esWWP69u1rIiMjg2b93nvvPX1I4E2JEiW0tqLke/ny5eNAv8yPB3ejR4/WvEzMnz/f1KxZM8355Tg5duyYBgIzs8VEqKUbAAQDmuICQWLlypWmY8eOZuHChR6DeiI2NtZ88MEHGjgIFo8//ri5/vrrNeAYSiQt0wrqieXLl2sz32+++YYDNBMUK1bMng72m8bk5OQsnT8z0y1Uz0GEph9++MG0a9dOAwDegnrin3/+MePGjTO9evW6YtKmcOHCLudqsNV+O3ToUJqfnzhxwowdO9bcc8895uTJkxzsl/nxEKz5XnrpJuXl1q1bmxtuuEFrygMAqLEHBIXt27eb+++/3w7olShRwjz55JOmSZMmply5cubgwYNm8eLFZtKkSVrw3rVrV9Cs+19//aXrFx8fH7Lp37RpU/P+++/bN6Pr1q0z48eP13S+dOmSefnll7WZSaVKlThYA/DUU0+ZGjVqaKDq5ptvJkEyKd0uh3MQoeGzzz4zb775pv23XBMfffRR06BBA1OnTh09Bg8cOKA1+b799luzb98+/ftKUaZMGX0QJHm65CvB3BT5448/1tq/CQkJ5vDhw+bnn3+2H2Jt2rTJjBw50owYMYKD/go5HkIp3Q4dOmT27t2r01fS9QUA0kJgDwgCw4cPt4N6NWvWNF988YWpWLGi/XmpUqW0v6KHH37YvP322/Szl8kKFizokt5169bV2pNdu3Y1e/bs0RufiRMnatMzZFzZsmX1GAbphtBz8OBB8+6779p/33rrrZofOWvX5M2bVwN88nrsscfMlClTTHR09BWVTi1bttRXsCtXrpyd71WtWlXXuXr16ua1117T96ZOnap9DF4pzaiv9OOBdAOA0EZgD8hhv//+u/apZ1IGbhg/frxLkMlJbqCctSXcxcbG6pP2zZs3a82z2rVra5CqWrVqHuc/duyYNmmIjIw0t9xyiwkLC9MnoStWrNAO0WvUqKEBRffvJycnazPVS5cumbNnz+p758+fd2kSUaFCBft77r9z4cIFbc61e/duU7x4cXPbbbfZteGOHz+uabJnzx5z+vRpDbrVrFlTm1w4byCzWokSJXSkXSu9t2/f7jXd0toei8wjy9iyZYs+aS5btqwOyCA3wL4M0iH7Rfbrtm3btONzOUbatGmT5iAN/h4PFqsDbdme8PBw7VC9bdu2Lk1CMzL/iRMnNN2ErLvs20CPRXdyHK5atUq/c+rUKd0fUVFRLk/8Jc0k3bNLoNvmKd38PQeBQA0bNkyvY6J169bp9juZO3du88ADD3j8TI59udZfc801pnLlymbjxo3ap1dCQoLWIpNrqJDjWz5bt26diYmJ0fNYrq1yLfPW16ScF3LONG7cWM+BuLg47eJCrp2yTk2aNNHzzXn9SYt8f+3atWb16tUauJTflWXnz5/f4/wy35EjR/S606BBA4/zxMfH29fzffv2aR4g69S8eXMtB7iTdF+2bJnWIpdtk/ypadOm+spMvXr10uCtXFOSkpL0+iTp5c8+czpw4IDZunWrviTfkrxcXtWrV/e4nYGkkbDWWb4XHR2tD0Xr1aunr0KFCnn9LX/T15/50zoe3NNUtlmOdSkD+XKsWWRbJa+XsoXkwVI+kHVyknTLzi4wAt02T+kmx4GUM2T/WuTYsvI9OS6uvfZaakYCILAHIPt9+eWX9nTnzp0z3Nxz8uTJ5tVXXzUXL15M9Vm7du20U2T3J+8zZ87U71iFsI8++kiX465///7m2Wef1YCEkIJzjx49XOY5d+6cefDBB+2/r7vuOm2K5f47P/74oy5LlmGRwuhTTz2lNQV++eUXj30MFi9eXG8su3Tpkm37pkaNGi5BMk/p5m17nE2YfvrpJx1Y4Z9//kn1G5GRkdpnorcbYLlpev/997XfI/d0kZtUuRGTZbvf6GTkeJCblRdeeEGDlO6kIP7pp5+am266KcPzS1pZ6Sbb47wRzOix6DRnzhw9Ro4ePZrmfpVzbOnSpdl2HAW6bZ7Szd9zEAjEli1bNIgj5Ph86aWXAlre448/rtfU7t27603/8OHDU93UL1q0SPuU9dYvXPv27fU66x7A6Nu3ry5bfqNFixZm0KBBGhR0yp8/v/b/l95Inhs2bNDluK9DVFSU+fzzz13yCMsjjzyivy+fLViwINXnmzZt0lE+d+zYkeqz6tWr6zbXr1/ffk/SQa6zR44cSTW/bN+0adMybT9LPlKtWjXdbvd8z5d9VqZMGZ0+ceKEee655+xBfzyt93vvvaejqXribxqJw4cPazlC1sNd4cKFtWlxp06dUn3mb/r6O39ax4MzTe+9915t1u5+rKZ1rJ06dUrzPMkj0iPp3bVr12y7ZgS6bZ7STc73WbNmucz31Vdf6csydepUBjwDcEVi8Awghzn7y/MW3EnP4MGDNbhjBXGqVq2qTzitUcTkhuyOO+7wGOSx9OjRw2OwQfznP/9xKTgVLFjQY2DFvSDtiRTunEEwK0A1atQoDcwkJSXpsqXAX7NmTXsbTp48qUGP7Oxf8Pz58/a0txsQb9tjeeWVVzRgYwX1ZNtKlixpfx4XF6eBPbn59KR3797mww8/tIN6efPmtdMkMTFRb06XLFmSKcfDa6+9ZgfpChUqpM1grrnmGq0BIPOuWbMmoPl95c+xaFm/fr2OYmsF9WrVquU1SF6gQIEcO98zsm2eBHIOAv7aunWrPX3rrbdqjbnMMHPmzFQBInHkyBG9JloBNTln5ZwuW7asPc+8efPMG2+84XXZU6ZM0SbsVjDBOZK8XNt79epl14T1ZMeOHebuu++218F5vu3Zs0fP5bQGD/Hkjz/+0IdTzoCV8wGL5CXOoKn8Tr9+/ewgUp06dTQYadXUXrVqVbqDQGV2vudtn1n5XnR0tHZl4QzqyfXKOaqprHeHDh08NtP2N42s35TlWUE9+T2rxqY4c+aMBprcH3T4m75ZtT+k7NOtWzf7WPX1WJMykRXUk+t9o0aNvHbVklP5Xka3zRNfmoWT7wG4UhHYA3JQUlKSNi2wVK1a1e9lrFu3zu7wWm56pNC9aNEi/X/58uX2k0spQH399ddel7N7924tEL744otasN64caPL091x48bZI6DJ72zatEmDKeXKldP3ihUrpn9brw8//NDj70jhLjw8XPur++2333Q+qxaeFNr+/e9/a+F4xYoVGoCSdbEGDEhMTDQTJkzItv0zdepUe9pb0820tkf2jbW+uXLl0nk2b96sAS/57IknnrCXIzcckqZOsv1WExO5URk/frzWnNm2bZuZMWOG3exH0iXQ40EK1tOnT9fpKlWq6LyynJ9++klvfuWmyGqSlZH5/eHPsWh588037Ruqd999V2/6ly5dqoHHUqVK6ftyYynH1ezZs3PsnM/ItnkSyDkI+MsZZPHWBDYjrAceDRs21HPVqt1q3Zy3bNlSg91y3ZRzWq4tEydOtJvayXXw2LFjHpcdGxur51KLFi30WhodHW3mzp2rAUKT0tQzvXNE5pHvy7Vt586dGpS3ggtHjx7V652vZF1k26zrdceOHTUvkGuAnMuDBg3S4KPzei5pYgXaXn/9dV1/WYfVq1drfnDfffdl6kirsj7WvpbrlKem/N72mdWlhFyLrSBOvXr1NO1l/0ne9f3339tdjchy3n777YDTyPpNq3Zhz549tcah/JbkS5IfWMfL6NGj9WFaRtM3q/bHqVOn9GGYP8ea5GULFy7U6QYNGugDPlm/P//8Ux8IWnr16qUPRDt06JAj146MbJs3r732muZtVj+QJuVBppXnyXFSt25dLtgArkg0xQVy0OHDh+1aU5GRkamaFPnCWTB+//33XfpwKVmypL7XunVrvUGRGyJngc9JCvGfffaZS9NJWfbSpUv1xmnfvn3aX4oVJLH6q7Ge0sv/3vpg87TO99xzj05HRUXZNwBhYWEuT/VNytNXKUBbBdjdu3dn+X6Rgv+oUaPsoJqkza233urX9piUZiOWoUOHugyAULx4cfP888/rTYIV/Hvvvfd04BSLrINFbkhuueUW++8mTZpokx+52XU2O8no8XDgwAF7VFVZtvPJeOnSpbXw7OTv/P7w91hMSkqy+9xp3ry5ueuuu+zvNWrUSGsnyk2X7NeVK1e6fJ7d/N22tARyDgL+cNas8vQA6q233nKp1efUqlUrHUjDm1q1aumNvtXnnXXNkht1T8fzjTfeqA9P/vvf/+rfe/fu9Xq+dOrUSYN31jlSp04dvd62adNGH07IeSfnnLfavTfccIM2FbTyJdmWZ555xm4av2bNGp+vJ3PnzrUf3tStW1f7KLS6UJB8rl+/fprPOLsS+Pvvv+3ptm3b2tOSV0p+4MwTArV27VrdNsvtt9/uUvvcl30m19fFixfrdNmyZfXhj9WHWnh4uNai++677zQPkuvxggULNE2sYHFG0mjVqlX2b0peaO0bi+yfDRs2aH4XExOjNcjuvPPODKVvVu4Pf4+1jRs3ugS3rHNF8uL+/fvr9iYmJmrZ6ZVXXsnR60dmnUd58uTR7XT2lyjT5HsAQI09IEc5++3JSFDv0qVL+nRW1K5d22O/IlK4btiwoU7v378/1ZNuy5AhQ1yCDVYQQgpklvT6LvPFHXfcYQfBnPLly5cqqGcpX7683YzEU782gdq8ebP2BzRgwABdt+bNm2sh1PL888977AMmre2xgkgmpSZV9+7dPX7fGexz1ti7ePGifTMt29++fftU35UbJblxtW6uAjke5H2rpsG8efO0Nlla/J3fH/4eiydPnrRrUXi6wXd2aH7q1KkcPeez6zwDMtOBAwfs6eLFi6f6fM6cOVpjyNPL2Y+spxv1MWPGeBzIIq2bdavWXVp5QpkyZbQvNvfglFxPnaNtuteUtlx11VUuwQiLM3jjz7nq/J2HHnrI4wAQUVFRWrPJ4gw4jho1Ks3uNPz17rvvar732GOP6TZ17drVbkEg13f3AJkv+8wKsJmUmnOeBkaQ/eLsX9WZLhlJo1WrVtnTvXr18rjOHTt2tKedDwf9Td+s2h8ZOdYk/7Y4u/ewzh0rAC/5Y07K7PMIAOAZNfaAHOS8QTp+/Ljf3z948KDdN8mxY8e81pKyCrJJSUkaTPRUO8G9YGhxjrp6+vTpgLfZWcD2ZufOnVpojYmJ0UBMcnKyHYDyNLBGoCTtrdofTkWKFNEbn7T6PvS2Pc4m1o0bN/YatJR9UaFCBb1xlu2Ni4vTeeX7VpPMBg0apDuCYKDHg/ymbMusWbO0P6K7775b/5Zt99TBvL/z+8PfY7FEiRK6PpJ2cmN54cIFl9H/tm3bZk/n9Cix2XWeAZmpbNmy9sjgcm1q1qyZy+dy/jtrEAmrw/u0rtlRUVHp9td3/vx5ffgi10d5Xbx40X6AkdbyCxcu7NKvnlPTpk3tIJS3wGChQoU8Xrczeq7u2bPHnm7UqJFP3+nUqZPWWpP874cfftCHRb169dKHSRl5GOjkHEHb6aabbtIaXt76Kktrn+3du9eedgZP3V1//fVac889r8xIGjkDddOmTfO4Xc5BQJwBMX/TN6v2R0aONav/QJNS07FmzZou23v48OGgyPMy+zwCAHhGYA/IQRUrVtQmHMnJyXqzcuzYMZ+a4HkqRJ84ccLuWy0zeQtIZYXp06frAALOwn12yJcvn10jT9JfblyqVq2qTZGsfoP85dyGq666Ks15nTdQcgzIceHct84CcFYeD2+99ZYGUlesWGHfLFg3DEOGDNHma4HMn1XHopxDrVq10kDCuXPntEPxBx98UAOic+bM0dF5TUrn+c6myb7yVsvVKdCAc3aeZ4C/qlevbgfC3AcLEk8//XSq96pVq+bTueNNTEyMdk/w448/6nmdmZy1zc6cOZMt52pGrun16tUz77zzjj6kuXDhggYhhw8frrXt7r33Xu1zzlPNOV9IPid5T0REhI5yW6VKFe1W4frrr89wuvqa7znzPOdIqYHme1aXHWne+DhqcPqbvlm5P/w91pwP0CZNmqQBtM6dO+u5Ivmv1Rdi8+bNM/TbWZ3vkecBQOYisAfkIClQlytXTmtaie3bt/sV2HN20lyhQgVtFpqWihUreu1LKKd99dVXWhh1bo/cTBYvXlwDN3JzF8hNYlpatGih/dFkFX9GybNqmjm/4+uIcYEeD0WLFtV+k+bOnat90lm1YqKjozVQNnr0aK2Zk9H5s1KzZs3sGkKzZs3Slzs5vnytVeG8OXM2mffGqh1hvDRVBEKZXIst1sijWenkyZPafYE1kEOePHl0xO0yZcpoQECuMd6a0PrCOUBNdgUYMnJNF3feead2q/D5559rzfLY2Fh9EDhp0iTz+++/6+AVzhrKvvrggw/sbhlyMt9zrnug+d5dd92lx4jXm57cue3+9TKavlm1PzJyThYrVkwfrh07dkxrWbr3pSf5u7PfRH/zvbQGooiLi7Ob+QZaexQAEDgCe0AOq1Klih3YGz9+vF/NGJ1BmaioKH1aHIri4+N1gAyr4D1mzBjtIDssLMyeZ8mSJV5HPwxGzn2TXmDI2v9SqLaaajqb2fjar2BmHA+5cuXStJfX1q1btVaepL149dVXtR8mZ7Ngf+fPCmfOnNGbVJPSf5YcJ9bAHiYlgDl48GCXfp3SI+mfN29evWHbs2ePBgKcx6M7Z00VZ5Mo4HJQv359e/rPP//UmrCdOnXKst+bNGmSHdSTPFHOb2cz9smTJwcU2LOuudY1IzvINcUaYESu6b7WSDMpTaGHDh1qBg4cqKO1jxgxQpsoSxpJWjzyyCNBk+9t2bLFzve81dpzpr9zwKmMpJH8phVsvv/++1M1E8+K9A2G/fHRRx9pUE/ypcqVK7vkQZLnSt7rbw1CZ1/CzoFCPHE2ofbWBzEAIPsweAaQw5yDKvz66686eltakpKS7P74ypUrpzUZTEqn05ndXMkXVrDjzJkzGa5Rt3HjRrsT6ttuu01faQVRQkHFihXt6ZUrV3odtGHZsmV2/z9VqlTx+H25aTl79my6v5nZx0OdOnW043trxELZx2kFGf2dP7OsXbvWHjxj9OjRZt26debnn3/Wpt1//vmnprE/QT3rxsjqm0jS3uoPyhPZRjl3Lc7aTaFyDgJpkXO6Q4cO9t+vv/66301Y/eEcjOeNN97w2jdlWmJiYlwG/XCaN2+ePZ1dgT3nNd15vfBHZGSkDioxZswY+z2r78Ng4Hy4NHv2bK/zyfXZ4i3f8zWNKleubE87B9LIjvTNyf2xdOlS/b958+baTF7+njp1qpk/f76ug+SF/gSP3fOub775Js1ak86uPrI7sOcsH544cYILNAAQ2ANy3m233ebSHKZHjx52k0J3Umjt2LGjzmMFH6zR4WJjY80nn3zi9XeSk5Ndmh9lFmvkwosXL9o1LPxlBWWM21Ngy+TJk0Ou8FagQAF7NNb4+Hjtl8c9/c+ePauFb8v9999vTxcuXNjuoFzms/qJc9q9e7cOVmH1cRfI8XDy5Emza9euVPOFh4e7NG2y+ifyd/6sZPUlZFICe3KTI9tWtGhRPS59CYp60rZtW3v67bff9njDJssePHiwNksyKYOpZEczrMw+B4H0DBs2zG62evDgQR2pe9myZR7nTUhICCi/SStPiImJMVOmTEl3GXIN7NatW6rvf/vtty6jv2ak382McI7k+tVXX6UaCVTSa9y4caZfv372e5s2bbKvLU6y3tl5jfWVs1/VadOmebwezZo1y+62oXz58i4jgmckjZx9Ao4fPz7Nmv3uzYP9Td9g2h9Wvidp+eGHH+oDJqvPxNOnT2eo/7smTZrY/R9K+WL48OEeHxb99ttvWqvWKnek1+1HVuV5YvPmzVycAYCmuEBweOmll7TjZSmISWGtd+/eWliVGw4p+B46dEiDN1Ztvnr16rl899Zbb9UC75gxY/SG5Z577tEnr1Igk8LZokWLtI86KXzJzVlmkvVbv369Tg8aNEgL3FKolPVxBqrS4uzHZd26ddrERNZVljN16lQt4IeiF154we5j7uuvv9aalrJdFStW1D6iPvvsMztYVLVqVT0GnAYMGGAee+wxnZZ9K8dBp06dtCC9fPlyTZeLFy9qk5tAjwerOdFtt92mtUjr1Kmj83/33Xd2oFluXqwaAP7On5VatWqlNXokff/44w+X2j6WUqVK6WiP/fv397mfSZl35syZ2jl7TEyMbmuPHj20r6/8+fPrIAKTJ0+2m1oXLFjQvPbaa9l+nGXGOQj4cpwNHjzYvmYcPnxYzwc5/yRPqlWrlj7EkGvaTz/95Fffop7yhLVr1+q09VBEfmPVqlXa3N/ZlDMtMt+dd96pAb5mzZqZNWvW6KimlkcffdSu5ZzVOnTooNfJrVu36rWqc+fOOuiIXPvlOi3X802bNrnUQLvrrrs0iCHr2bZtW73OSd7hzMezsp+8jFyLW7ZsqflTbGysrr9cR2Ud4+LitJuGcePG2fM/99xzLiMXZySNmjZtqg9U5s6dqw+cZPr555/X8pNc92U5st9//vlnrf0ux1WRIkUylL7BtD+6dOmiD7LkPJNzxF1ERIR2C9GzZ09db1+6xChRooSe49aI+uPHj9c0+9e//qU1K48dO6YtEH744Qf7O1JedZZJs0O5cuXs6cWLF+uDN+u4e+ihh9IdsAwACOwByBLNmzfXp9vPPPOM3XRoxYoVdk0sp7CwMJcBCeQGaMCAATp6oNz8SIHLWehy8qfDbl/JulgDFWzYsMEOREkB39egghSOZV6rFsbIkSP15V5IdfabFgrkRvLxxx+3a85Zo8a6q1Spko4G7P6kX25yOnXqpP1ZmZRRg+Xlfjw4my9l9Hiwbq68DTxhUprEZXT+rCQ3Wl27dtVAqTdyQyLn2IIFCzSo6UtwLzIyUtNR9mFMTIym15dfful1HUaNGpVmx+1ZJTPOQcAXPXv21GvMc889Z49GumzZMq8190xKLSB/9e7d28yYMUNr7m3cuFFv1t3PN2/dG7ifw8ePHzdjx471GIRydoWR1eRa/eqrr2r/a2fOnNHaaC+++GKq+Zx9zsl19siRI9r02eqH1qlx48apBoPIaa+88op5+OGHzf79+zW45y0fePTRR1Ote0bSyKQ80Nq2bZv2Myf7+/nnn/e6fs4aaP6mbzDtj/vuu0+D1M7arU5SXtq8ebOeq9HR0ZpGvpA8Y+3atTowiEmppeitP8v27dubf//739l+jNWsWVMfsEl+d/HiRT2/rXO8bdu2BPYAXJFoigsEURBozpw59o2Tey2CEiVKaEFu/vz5Wmh2evrpp7WmVIMGDTw2A7ECZ9YNv/Omxz1Q4+nGKK15pBA1cODAVOvr7HPFl9+Rm4HHH3881efVq1fXJh8PPvig/h0REeH3Nngiy7H6afG36aQ/vzl48GCtrVe7dm2X0ftEmTJl9MZS9ruzc3rnTc4nn3xiXn755VSjJefKlUufUE+fPt1u8hvI8XD33XfruhQoUCDV/PXq1TMTJkwwt9xyS4bnTy/dAjkWFy1aZAf15LeXLVumtQyWLl2qtTQk/az+8k6ePGm++OILn/d1kyZNdPlyo+lp5D9JSzkvZZ527dpl+HgJJG18OQeBzNK8eXPzyy+/6HWmRYsW2uTdXaFChbTm8KeffqoPLdxZx7G3EWmrVq2q133366Jcb7p166bXTKsGkrdlyPE/Y8YMu89PS7FixfR8njhxosdrf3rrlt48aX0m6TVr1iytke9+vsq1RNLU+YDivffe85g3yG/07t1br2XueWJanNvr72jAvqSLFXSZO3eu5g/OJpNWviv7Q/btkCFDPPal628amZSHY3JMSp7maVRyyQclnxw9erTLddzf9M3I/sjosZLWPMnJyaZPnz52UG/48OHa2uH333/XvGjcuHEuQWtJL6sv3/TIPnnnnXe0yfo111yTah/I31JG/fzzz/V38ufPn+HjJZC0kX3hfm7LdcfZLBoAriRhJAGQccnJyYuNMW2OHj1qD/6QWRISErQPM/m/dOnS+vJlQInExEStSXH48GEt5JQpUybNp5enT5/W5VpNUzw5deqUFoxled7ExcXp+kpBs0KFCqkKV778jrWcffv26VP3OnXq2DcGly5d0oKp3Ni5Bzd8XbY7WVf5Pbkx9Xfk1oz8Znx8vI40J9+Vmx9PNyBpkTTZsWOHFnTlxteX3/b3eJD5ZT/Kb0mBXW6YPAW0Mjp/WumW0WPx/vvv19qt4eHh2tTLOaKwZfXq1dok2QpMWLUR/CXruHPnTntwDV/3f6DnmS/fT+8cxJVJzovy5cvrNdTXJqz+iomJ0Wb+ctNfqlQpPf7Syq+svi8LFy6cblNYyV8lT5Brf+3ate1rtRznkj+6nxMNGjTQvKJGjRp2twBy3T106JBen9KrrevLusm5Jr8v87g/PPF122Td5Vpy8uRJvS7L9cRbmsn1Va7j8rtyXkv6+hPQcwaE5Foieai3gExm7DOnY8eO6XVJ8nLZRn/6oPMnjdyvpfKbkj9JPlu5cuU0H8L5m77+zJ9WumX0WHPmZ5L/jRgxwuN377zzTrtJ+5QpU1z6I/SVpKGcf1KGkOtIxYoVUz2kzMnzSK49sn5SLpJz3p8HvAguUvZJKfN/FBYW9iQpAhDYAy6LwB4A31x33XV60160aFHta87TjZ/c3FhNpOT/999/n4TDFSE7AnvBxFNgD7icTJs2TWtpm5TWDr169fI43wMPPKAPu4T87+ybEAg2BPaAwNAUFwAQ0qz+lk6fPq39MW3YsMEeuTAxMVGbr/fv39+ev3Xr1iQaACCk8zwxduxYM3v2bJeg/eHDh7WpsxXUq1SpEkE9ALjMMXgGACCkPfzwwzpSX1JSkvnmm2/0FRYWpk2wTp06pe9b/vWvf7mMIgwAQChp2LCh9v+6Zs0abYrat29ffb9gwYLa3PrcuXP2vJGRkfYAXgCAyxc19gAAIa1du3Zm/Pjx2um6RW5uTpw4YQf1KlWqpKMYjh49mgQDAISsiIgIHaDqkUcecRm85uzZs3ZQL3fu3DrQzLx583RQKQDA5Y0+9oAA0MceEFxiYmK0s3VrsIny5ctrx+b+DlQCXC6utD721qxZowNuVK5cmYAGLnvx8fF6Xkved/z4cR1MRvK8cuXKZWiAFSCn0MceEBia4gIALhvWCNIArkxNmjQhEXDFiIiIMFWqVNEXAODKRVNcAAAAAAAAIAQR2AMAAAAAAABCEIE9AAAAAAAAIAQR2AMAAAAAAABCEIE9AAAAAAAAIAQR2AMAAAAAAABCEIE9AAAAAAAAIAQR2AMAAAAAAABCEIE9AAAAAAAAIAQR2AMAAAAAAABCEIE9AAAAAAAAIAQR2AMAAAAAAABCEIE9AAAAAAAAIAQR2AMAAAAAAABCUG6SAAhIPvknT548Jjk5mdQAAASVXLn+9ww3LCzMREREkCAAgKATHh5uTRYkNQD/hZEEQMYlJyefMsYUJSUAAAAAICCbwsLCGpAMgH+osQcE5oIxpmhSUhI19gAAQcmqCXHp0iUSAwAQdMLCwqwa5mdJDcB/BPaAwEQbY8peuHDBJCYmkhoAgKC7WSpcuLA+fDp7lvslAEDwiYiIMPnyaQ9Ha0kNwH8MngEAAAAAAACEIAJ7AAAAAAAAQAgisAcAAAAAAACEIAJ7AAAAAAAAQAgisAcAAAAAAACEIAJ7AAAAAAAAQAgisAcAAAAAAACEIAJ7AAAAAAAAQAgisAcAAAAAAACEIAJ7AAAAAAAAQAgisAcAAAAAAACEIAJ7AAAAAAAAQAjKTRIAAAAAQPo2bdpkPv74Y7N9+3Zz9uxZU6VKFfPss8+aZs2akTgAgBxBYA8IUjt27DB//vmnSUxMNEWLFjXt2rUzkZGRAS1z69atZvPmzWbXrl3mxIkTpkKFCqZmzZrmpptuCnjZlgsXLmihd8OGDebw4cOmVKlSpl69eubaa681ERER7FgAuAxI3vT9999rXlKrVi3NR3xx6NAhs3r1arNu3TrN2xo3bmwaNWpkChcunKXfZR/k/D64HPbfggULzP33328SEhLs97Zv327Kli2bocDevn37zPr1681ff/1l8uTJo+Wyli1bmooVK3KRAQD4jMAeEISOHj1q2rZta/755x/7va+//trcfvvtGVrenj17zEsvvWRmzZrl8fNy5cqZN954w3Tt2jXD63z8+HHz5JNPmnnz5pmkpKRUn0shvk+fPvpUO2/evOxkAAhR69atM/3799cHRaJhw4bpBpUkX+vWrZs+9PHk1VdfNU8//XSmf5d9kPP74HLaf6+99pod1GvRooUGJ//44w+/g5PTp083L7zwgpadPGnVqpX+liwfAID0ENgDgtCwYcNcgnoiOTk5Q8uKi4sz9913n9m2bZv9XpEiRfSp8K5du/TzQ4cOmUceeUSfOF933XV+/8ayZcv0+0eOHPE6z+nTp83IkSP1tz788EN2MgCEmPPnz5s333xTmyF6eoDjzYEDB8wdd9xh/v77b/u9QoUKmYsXL5r4+Hg73zt79qw+hMqs77IPcn4fXE777/Dhw2bjxo06XadOHTN79mwTHh7u1zIuXLhgBg0aZCZNmpRuuapDhw4aNIyKiuLiAwBIE4NnAEFm1apV5ttvv8205X366ad2UK9BgwZm5syZGtBbvny5Nv3o2LGjfiY3CCNHjvR7+Vu2bNFCuxXUK1mypBk+fLj59ddfTXR0tFm4cKEZPHiwvi/kPQBAaFm7dq0++Pnoo480v/AnoPHYY4/ZgZ1WrVppc8a9e/dq0McZzBk1apQ2a8ys77IPcn4fXE777/Dhw/Z0mzZt/A7qiX79+rkE9bp06WK++uorrXkp+1emb775Zv0sISHB7N69m4sPACBdBPaAICIF9YEDB+p0gQIFtBZcoP744w+XgvMNN9xgcuf+X2XdEiVKmE8++cSEhYXp35s2bfJ7+cOGDbNrDdSpU0cDeX379tXmI6VLlzZNmjTRp9Nr1qwxDz/8sP4NAAgtEyZM0ICM6N69u/n99999+t6ePXv0QZIoW7as+fLLL03Tpk1Nrly5tN9VyfNkeZbp06dnynfZBzm/Dy63/Xfs2DF7unjx4n5/X8pB33//vU5LuevVV1/VNOncubO2oqhatapOf/fdd+a///2vplWlSpW4+AAA0kVTXCCISAHPauYhBV5/mtl4c+DAAXu6dOnSHuexmvn629x36dKlZv78+TotBfUpU6aYypUre5y3SJEi5t133/W6rPPnz+vgHps2bdIn1OXLl9dAYf369U2xYsU8ficmJkabq0RGRppOnTrpMqQwvGvXLg1adunSJVUTltOnT2tH1Rs2bDBnzpzRgT2uvvpqU6NGjTS3dcuWLfo0XZYdHh5uqlevbtq3b5+hwj0AhBrJP5o1a6bNQJs3b67XUl9MnTrVnn788cft2ttOffr0Md98841OT58+3a7JFch3nXnL4sWLdUCq48eP6zKuvfZa7R8to/bt26c1rP766y+tVSV5lbxq1qypeaEnS5Ys0cBQ48aNdRTVdevWaVNO+X7Dhg01v7rc9kGw7j9/9+H+/fu1tYHzQenOnTv1QaYoVaqUtohIz8svv2xPd+/ePc1+Bdu1a6evnDwGpQy6fft2LZdK+UyOP9lOeaXVp2BW7TMAgHcE9oAgcfLkSe0oWVSvXt088cQT5j//+U/Ay61ataoGssR///tf8/zzz7t8Pm3aNHval4Kp02effWZPd+3aNcP9wHz33XdmwIABGmhzly9fPh3Yo3fv3qk+mzFjhnY+Layags6mvrt37zYffPCB/feECRO0WXBcXFyqZd16661m7NixOsiHewFVCt+Sdu7y5s2rg5qkVfgGgMvB0KFDM/S9efPm2dOtW7f2OE/Dhg312nv69Gm9bsv/8ncg3xXz58/X6/ehQ4dSfa9ly5ZeB5Ty5vjx49qU0rle7sv85JNPPI5o+uCDD+q69ezZU4Mqw4YNc/l869atWqvtctoHwbb/MroPR40alapPPCk7WeUnmTe9Fg9//fWXXXsxLCzMPPPMMxnal9l1DB48eNA8+uijZsWKFamWU6RIES2f3nHHHak+y4p9BgBIH01xgSDx2muv2U/fR44cafLkyZMpy7333nvt6bffftuMGzfO/nvhwoVmxIgR9t/PPvusX8vesWOHPe0p8OaLF154Qb9rBfWkwFuqVCn78wsXLuh6PfXUU2kup3v37qn677OaHAspRA8YMMAO6lWvXt00atRIA4di9uzZOhLxxYsXXZbx4osv2kG9woULa786jRs31lp7Mu+qVas4eAHAi6NHj+r/ERERaT48qlatmj196tSpgL/7999/awDDCjDUr1/f3Hjjjeaqq67Sv5cvX24uXbrk83Zs27ZNAxPOgEqhQoXsPMRapszjHKzK3YwZM1IFVERm5fnBtA+Caf8Fsg/TG/G2SJEifpWXWrdunW4rgZw8Bq3fsYJ68hvNmjWzmwXHxsZqkNA92JkV+wwA4BsCe0AQWL9+vZk4caJO33777RpgyiwdOnTQApiQAtXAgQP1N/7973+bu+66S2sKirfeeks7tvZVUlKSS6fOGSmk/vnnn/pk2aQ05X3zzTe1eYkUgHft2qXraJECpFXz0NuNS3h4uC5j7dq15osvvjDdunWzf+fLL7/U6fLly5tFixbpe/L/xo0b7e2WQun48ePtZSYkJNhNhOTGQ+b98ccfdWCQLVu26FNpmpYAgHdWv2RFihRJc7ABuTZbTpw4EfB3//vf/5pz587p9DvvvKPdNvzwww9aK2nKlCmaL/oz+MGQIUPsQFWDBg20fzvJrw4cOKC1lKxuKM6cOaN9p3ljPcRq0qSJDiQh+dDIkSO9djkRyvsgmPZfIPvwlVde0fKBVV4RAwYM0PfkZXVJkhbnqMDVq1fP0H7MrmNQfsd60NynTx8t68nypQwkaWAFAKW8deHCBXu5WbHPAAC+oSkukMOSk5M12Cb/R0ZGakEps33wwQdacJaCVkJCgha25GVSmrp+8cUX2kedPw4ePGjXbpNleOo7Jz1SWLa89dZb2gePpUSJEtofzfnz5+3C9IgRI9IcMXjMmDGmR48eOl21alX7fWcB99NPP9WaepZSpUrZ78XHx2uNxn79+ulnUmCW90SLFi1cmumWKVMmzYIzAFzpzpw5Y+cTBQsWTHNeZ62jkydPBvRd41ZDqn379vZ0WFiY5nf+5HmSXy5YsECnJS+dM2eODnAlwsPDtTbT3LlztTb3hQsX9PP169drM1NP6tatqwGPQoUK6d/OPOly2QfBtP8C3Ye5c+fW/nSdNfNkm/zpY3fXrl32dEYGxMiuY3D58uX277Rq1UoDfk733XefDgIiZaWjR4+amTNn2g9RM3ufAQB8R409IIdNmTLF7pD5mWee8Tr4RCCkUNWyZUuPhVApAEph0CpM+8o5KEdGgnryu1ZwUdbroYce8jifM9i3bt06r8u766677KCe06VLl8zKlSt1ul69eh5rJUohuWnTpjq9d+9ek5iYaL9vPV2eNWuWvRwAQPr++ecfe9qfpqbJyckBfVc4+3x9/fXXU3Wz4A8r0GFSajBZARWnsmXLugw+4K2GuWzLuHHj7IDK5boPgmn/ZfY+zIhAy0zZdQw6+9R77LHHPH6/c+fO9vTOnTvt6czeZwAA31FjD8hBZ86csfs5qVy5sl+dKX/zzTdea681bNjQHohDCslvvPGGGT16tP353Xffrb9t9dMyceJE89tvv2kzCl+b1DoLpjExMX5v+549e+zpZs2auTyxd5KCYqVKlbT23NGjRzUg6GleZ0HTaf/+/VpL0aQ01/WWxlbhNCkpSQvg8ruRkZG63B9++EH7lOnYsaP+3bt3b+03BgDgnbOGk6fBkZycI3nmz58/oO+KO+64w7z//vv6oEbytuXLl2ugokePHn4HVpzdTrRp08brfDfccIM+rHPP45yqVq2qD5ku930QTPsvs/dhRpQoUcKetpooB+Mx6KxZ+PXXX9sj/zo5R2Peu3evPZ3Z+wwA4DsCe0AOGjlypF3Ae+uttzSQ5Ktff/3VLFmyxONnsbGx9vSIESPsoN5VV12lfdU1b95c/168eLGOJHv48GEtAN577736tNaX9ahcubLWBExOTtansjExMaZ06dI+r7+zv5ly5cr5fGMiv+NPrUZnYfj48eN2X3u+eu+997Q2o5XWM2fO1FedOnU0YHrzzTdzIAOABwULFtSBE+Lj49MN7jhreJUqVSqg75qUPsjGjh2rD3POnz+vHfoPGzZM89oHHnhAp32tNedrfuXMq6y+0K7UfRBM+y8Y9qGzexBnMCzY1t/5O7/88ku68ztrY2b2PgMA+I7AHpCDrKeqJiWAJC+n/fv329NDhw7VvvKioqLM559/bu655x6vATirr5QDBw6Yd999V6fz58+vfa5UqVLFnu/GG2/U4N4NN9ygATMp0E2dOtVrs1gnKbBXqFDBXsctW7b4Fdhz8meUNOtpvq+cHTVXqlRJm+ympXLlyi7NSYoVK6Y19mbOnGk+/vhjuznu1q1bdVlSiO3evTsHMwB4ULx4cXPkyBG90Y+Li/OabzmDHVZwJ5Dvim7dumk3FHKdnjx5stY0unjxouahy5Yt0wdk/uYpVlcN6fFWC/1K2gfBuP9yah86y15SfghEVq5/7tz//9bw/vvvt0e09Tbvvffe6/JeVu0zAEA612+SAMg51uhhJmXk1rTs2bNHX5s3b9a/O3TooK+0rF692m6GKoUvZ8HSUqZMGX26+uKLL+rfW7Zs8Xn9q1WrZgf2pBDnT/NUZ/DM2feMJ9ZvFCpUyKXQ7+/vVK1a1W767I9cuXKZf/3rX/qS9H/55Ze1cCoGDx6snUk7mxIBAP5HrtlHjhzR6d9//93cdNNNqeY5f/68iY6Otq/zVn+wgXzXUr58eR2UaujQoearr77SQZsk7922bZuZMGGCeeKJJ3zKRzZt2qTTBw8e9FpjypmXOWtoXan7IFj2XzDsQykvWVauXKmj9zdu3Nivskx2rL/8jtXP3kMPPWSuvfZav5eRWfsMAODH/SpJAOScvn37aq0vb6/atWvb8zZr1kzfs0Zs9YUU/izO5hnunE0jwsLCfF5+z5497el58+ZpQTUtSUlJdtNjZ3PaZcuWeR28Y/HixXZ/Ls6Csa8qVKhgNxVZv369OXv2bED7rH79+tp3jDXSXGxsrDY3AQCk5uyuYP78+R7nkfzD6mi/S5cudj4UyHfdRUZGmkcffVQHDbD4WnPK+YDoxx9/9DrfjBkz7Onq1atf8fsgWPZfMOzD5s2bu/RrN2LECHugEG+kXGQ9nM2u9Xc+AF6+fHlA2xzoPgMA+I7AHpCDhg0bZsaPH+/11a1bN3vep556St97+eWXfV5+3bp17enZs2frk3FP5DPL1Vdf7fPypRDepEkTl7/nzp3rcV4pILZq1coesa1gwYKmRYsWOh0fH6/91bkXcv/55x996mvxpYlwqotcrlzaLMSkdPj8wQcfeJ1Xft+5DidOnDA7duxINV94eLiOPmfxZ8Q/ALiSOLs/mDx5stbacZJ8yRrsSdx3332Z8t3169dr80935cuXt6edzQ7T4gxQff3112b79u2p5vnhhx/MqlWrdLpixYoea6ddafsgWPZfMOxDKYu88sor9t/z5s3Tfuec/Qtazpw5o/PWrFnTLlNl1/q3bt3anh47dmyag6O5d6OS2fsMAOA7rq7AZaxJkyYaQDt79qw2dencubN59tln9alxRESE9qknBbc5c+bo/EWKFPG7IPj666+b22+/XWvjSWFUCuZSMGzUqJEWLA8cOKADT1i1+Ro0aGB/VwqunTp10ukvvvhCa/PJjUDlypX1qe6HH35oNw2uXr26FoIzQtZR1ik5OdmMGjVKmzT36NFDC82JiYk6Ctz8+fO1Jt7dd99thg8frt+zmpB06dJFayfWr19f558yZYqdZlJgLVOmDAcbgMuaXMuXLl1q/+0MSMjNv7PP2Lp165prrrlGp6+++mq9dm7evFlrOMs1/qmnntLPDx48aN5++227w37JH66//np7OYF8t0OHDjoS6RNPPKHTpUqV0sDS888/75JH+uLGG2/UkUh/++03fUAky3vuuef0+3Fxcdo1g+RXliFDhpi8efNe8fsgWPZfsOzDdu3aaRlr0aJF+vfPP/+sZaNWrVrp9kv5QspqP/30k926wOonOLvWv0WLFlpWnDlzpj7cbNmypT5QljKdlHXkOFu9erX5/vvvtcnuzp07TdGiRbNknwEAfBdGEgAZl5ycvNgY0+bcuXM+d2bsj3fffdd+mv3VV19pYctfv/zyiwbb0mvyIb799lvTsWNHv39j5cqVpk+fPmbfvn1pX3DCwnR0tL59+9rvDRs2LM1adCalCcrEiRPtmxTLJ598Yl544QWd/vLLL+3agJ6MHDlSA3bppUPv3r3tUYQ//vhj7UMvLXIjZQUnASDoCnphYaZw4cJ67UtvdNK0vPrqq6kGePJGbuqnTp1q/71//37to9Q54qa7hg0bajNC9z7WMvrdypUru4wQ765Zs2Zm1qxZ+pDLF9u2bdO+atMb0fTJJ5/Uh0nuTUolHzt9+rSpVauWXavqct8HwbT/MmMfzpkzRweUMCkDmj377LN+78O4uDj9rrN5qjdyrPz8889238LZdQzu2bPHdO3aNc19Ztm5c6cpWbJklu0zXDnkuEgZ8OWjsLCwJ0kRwD80xQWCmPNpa0ZHZ5PC/cKFC80dd9zhcYCH3Llza6H7119/zVBQT1x77bVai6BPnz76hN69aaoU+h588EENADqDetaNyvfff6+1CJ0j2IqyZctqTTlZtntQz6T03+Jp2pPnn39eg5yNGjXy2BRECs4PPfSQ1iawdO/eXX+/YMGCqeZv0KCBmTZtGkE9AFcE6+bdF+7XzIoVK2pQpHPnzqkGQKpWrZrmDz/++GOqoFAg3/3000+95hv9+vXToJc/AYbatWtrf7CSJ7j/liynYcOG5rvvvtNuJTz1E2fl54GMtBpq+yCY9l9m7EPnvsvofpT1HzVqlK5/27ZtTenSpV0+l99t0aKFef/993VdnWmWXcdgVFSUdp8i5aESJUp4LDdKuW/s2LEux2RW7DMAgG+osQcEIKtr7JmUzpPDw8PTHPzCVwkJCdr85fDhw7rM8uXLa/Ass0d0ld+Jjo7W/6+66iptvuHLoBzx8fHap92pU6dMnTp1PBYo3cm8smyrKYgvZF/t3r1b06Jw4cK6jt5GmLPml+05duyYKVCggBZ6/bnBAoAcK+hlUo29zLRv3z6tdVSvXj2PwaDM/K5ct+V6f+HCBc3zKlWqlCnBhZiYGM0XZB1q1qyZbt9hFy9e1KazkpcHQ7+s2bkPgnH/ZWQfmpT+7y5dumSKFSuWaftCtnHPnj26HlIekXJGMB2DUg6VspmU6aRcVrVq1TSb+WblPsPlixp7QIDlPZIAyLjsCOwBAJDhgl4QBvYAAHAisAcEhqa4AAAAAAAAQAgisAcAAAAAAACEIAJ7AAAAAAAAQAgisAcAAAAAAACEIAJ7AAAAAAAAQAgisAcAAAAAAACEIAJ7AAAAAAAAQAgisAcAAAAAAACEIAJ7AAAAAAAAQAgisAcAAAAAAACEIAJ7AAAAAAAAQAgisAcAAAAAAACEIAJ7AAAAAAAAQAgisAcAAAAAAACEIAJ7AAAAAAAAQAgisAcAAAAAAACEIAJ7AAAAAAAAQAgisAcAAAAAAACEIAJ7AAAAAAAAQAgisAcAAAAAAACEoNwkARCQmvJPvnz5THJyMqkBAAhKYWFhpmDBgiQEACAo86gUjUkNwH8E9oDA5JN/cuWi8isAILiFh4eTCACAYMYTKCADCOwBgYk2xjQ/efKkiY+PJzUAAEElV65cpnTp0iYpKcnExMSQIACAoJM/f35TuHBhmVxLagD+I7AHBOaC/JOQkEBgDwAQdKxaesnJyeRTAICglDdvXmvyLKkB+I/2gwAAAAAAAEAIIrAHAAAAAAAAhCACewAAAAAAAEAIIrAHAAAAAAAAhCACewAAAAAAAEAIIrAHAAAAAAAAhCACewAAAAAAAEAIIrAHAAAAAAAAhCACewAAAAAAAEAIIrAHAAAAAAAAhCACewAAAAAAAEAIyk0SAAAAIJQNHDjQ7Nu3zzRs2NAMHjyYdWKfAQBwxSCwB+SwhIQEM2/ePHP27Flz9dVXm7p167J9AICgEh0dbdavX2/y5ctn2rdvb/Lmzet13kOHDpkVK1aY8PBw07ZtW1OkSBGXz1955RWzefNm07JlSzNgwIBMWb9ffvnFxMbGmhMnTmRKkGjt2rXm5MmTfn+vfv365qqrrsqSdbrckD4AAGQOAntADtu3b5/p16+fTt94441m4sSJbB8AIKiMGTPGzJw5U6d//PFHrWXlzbfffms++OADnf7Pf/5j7rjjDvuzHTt2mAkTJuj0mjVrTN++fU1kZGTQbW+vXr3M6dOn/f6e5HeDBg3igAEAANmGPvYAXFYef/xxc/3115uePXuSGAAQZAoXLmxP58uXT2v1BaPcuXn2jbStXLnStG7d2txwww3mt99+I0EAADlXbiEJAFxO/vrrL3Pw4EETHx9PYgBAkClTpoz55ptvzPbt203Tpk1Nnjx5gnI9f/zxR3PmzBmX9w4dOmR69+6t0/Xq1TPvvPNOqu9VqlSJnXyFkONh7969On3gwAESBACQYwjsAQAAINu0bNlSX8GsQoUKqd5z1jaUafqMBQAAwYDAHhDiLly4oDUftmzZok+Oy5Yta2rVqmXq1KljihYtmmr+33//3cTExJhSpUppk1V3CQkJ5tdffzUXL17UPpQ81T44deqUdoyelJSkTVA8/U5mOH78uK7vnj17tK+jggULmpo1a+pvOm+wkpOTzfLly82lS5d0kA5x/vx5l6YxcpNWrVq1VL8RGxtrNm3apB25//PPP6Z27dp6s+ZpXnHs2DFtfhMZGWluueUWExYWZncUv3PnTlOjRg1NN2/fd5Lvye9u27bNJCYmmooVK5o2bdqY0qVL6+fy3sKFC3VfyD6VlzeyrbIt8vuy7wEgWK1evdocOXLEREVFmQYNGnicJzo6Wq/Nkq+Fh4fr9bFEiRIu8zRv3lyb83oSFxenA2DIb+XNm1cHb2rcuLHJnz9/jm23v+sk+Yrkg9dcc42pXLmy2bhxo5k/f77m0/Ld2267LdV3Dhw4YLZu3aovyUMkz5RX9erVTa5cnnvgWbp0qebrkm/Vq1fP4zxSLpD8VfJIWV4w7DPJ90+cOKHzSB4v35c8U/LU3LlzmyZNmmh+LGWHzNzuffv2md27d2v+bZH0tsocks7XXntt0NZGBQBcfgjsASHsp59+Mi+++KIGpNxFRkaaIUOGmAceeMDl/YEDB5r9+/fbN1dlypRJVYjt06ePTrdp08ZMmjQp1bI//fRT8/HHH+v0+PHjNcCVmQ4dOmRee+01HTEvKSkp1efFixc3w4YNM126dNG/d+7caXr06OEyz7lz58yDDz5o/33ddddph+5OkydPNq+++qoGzty1a9fOjB49OtVojjNnztTvWDddH330kS7HXf/+/c2zzz6rgT93clP2/vvvm7Fjx6baPrkZ6dWrl+7XgwcP2vuidOnSZtWqVR5vzNavX29v60033WS+/PJLTg4AQeuRRx6xH0QsWLDA5bNTp07p9f3HH39Mdznvvfee6dq1a6r3N2zYoP2tSl7iFBUVZT7//HP93eyWkXWS+SWdunfvroG94cOHu3zuzMNPnDhhnnvuOc3DPWnRooWmV/ny5V3eT05ONv/3f/+n002aNDEzZsxI9V1ZB8mXvOUxObXP+vbtq+sm35PtGzRokD64dMqfP78ZN26cadWqVaZt94gRI8ysWbNc5v3qq6/0ZZk6daoG9wAAyA4MngGEqFdeeUWDR1ZQLywszJQsWdL+PC4uTgN77qPzSeHXsmjRolTLXbp0qT29cuVKrRHozrpxkN+85pprMn3bRo0aZebMmaNBL/kNuRGpWbOmPXLiyZMnNWi2a9cu/btgwYIeA2hOzhp+YvDgwRo8s4J6VatW1Zoj1m/Mnz9fR3L0FPSz9OjRw2NQz6SMBOks5Dv17t3bfPjhh3ZQL2/evPbvJiYm6k3IkiVL9EZO1kvIzcqKFSs8Lu+nn36yp1u3bs3JASBkybXdChDJdbtRo0YmIiLC47wFChRI9d6OHTvM3XffbQeInHnDnj179LqdkJCQrdsU6DrNnDkzVVDPOAb4iI6ONh07dnQJ6km+6BxteNWqVaZDhw46rzfJycl+vR8s+2zKlCnm4YcftoN6kqdazp8/r8E5Kc9k1na7P/DzpcwBAEBWIrAHhKB169aZCRMm/O8kzpXLDB06VJuErFmzRj974okn7Hm//fZbbRpjad++vT3t6cn+smXL7OmLFy+mCiYdPnxYm/6Kxo0ba5PerCAF53//+996MyLrMH/+fPPHH3+Ym2++WT9PTEy006Bs2bK6jevXrzflypXT94oVK6Z/W68PP/zQJf2++eYb+7ty07Ro0SL9f/ny5fZTdrmh+Prrr72u4+7du/Xm5cUXX9R127hxo0tNhHHjxqW6MZDtsJrryI3X+PHjtRn1tm3btMZA06ZN7e0TcrNj+f777z3eeFg1B8LDwzUYCQBZSa5hct3x9tq6dWuGlivX+oULF+p0gwYN9AHHDz/8YP7880970ArRq1cvfbDToUMHj8uJj4/Xh1hynd+5c6c+gLGCMUePHnV5GJJdAlkn6wFew4YNNT2smuNWNxhvvvmmHdSqV6+e5jNSJpC8RfKNihUr2st5++23M3W7gmGfxcbGal4o35dtj46ONnPnzrW7r5BlO8sAgXrttde0XCH/WwYPHmyXN6QsQP+LAIDsRGAPCEEjRoywp4cOHarNmqw+ZIoXL26ef/55u/mISWn6Yrnhhhvsp9nLli1zGT324MGDGqxycq/V5/y7Xbt2WbJ9b731ljYxevrpp12aChcuXNi8/vrr9t/OdS1UqJAG86waDPK//G29nLUHnDc277//vksfTyVLltT3rPknTpzodT1lns8++8w89thj2lRWbkJk2Vawc9++fdo/ktOoUaPs6dGjR2szZlnXsLAwbQ40bdo088knn9jBxa5du9q1F+RGJS4uzmV5f/zxh/ZVZVJq6zlrbQJAVnj33XdNv379vL7mzZuXoeVu3LjRJVAi126T8qCnf//+9vV94cKF9rQnks9NmjRJB+iQ+Vq1amWeeeYZ+/M1a9Zke5oFuk61atXSYFejRo00z+rZs6c+zFm5cqVZvHixzlO2bFkzffp0reEu+YZ83rhxY/Pdd9/ZtfcWLFjg8rAvUMGyzzp16qRBQasfvDp16ujDP6ufu6VLl2qenBlkmbKdUu5wL4PIy5cafQAAZCYCe0CIiYuLs5uUSAGye/fuHud7+OGH7WlnIT5//vx2XzPnzp3TAJrF2QzXklZgz9uT90Dly5fPpQmRU/ny5e2mPFZAyx+XLl3SmgSidu3aHvvAkZujhg0b6vT+/fvt2nPuhgwZov3uOEVEROgNiuXo0aP29MWLF+1mULIdztqTFrkRkxsUK1Ar62KNHnn27Fm7ZoRl5syZ9vSdd97JCQIgZFn9v5qUhyxOkt9ZXROcPHnS6zKuuuoq7ZPNPQ9x9gXrvC5nh0DXKU+ePGbMmDEeB4GwgnqiZ8+eHgeaKFOmjMtAG5kZ2AuGfSbb98EHH6QKHEo+6xx9OTO3GwCAYMLgGUCIcT5xbty4sdcAWKVKlXSUuAMHDmgTnbi4OHvedu3a2QEi+d8K9FnNcOW7rVu31mao8v0dO3Zox9Xx8fH2PNWqVbML7Flp586deuMg23Dq1CltbmMF2jwNrJGegwcP2n31HDt2TFhwemEAAIAASURBVGsYeGLVBpTfOHTokMfRgb3VjrNGtRWnT5922XdW09wGDRp4HaHQ3T333GOn+/fff2/foF26dMnMnj1bpwsUKOAxUAgAmW3EiBFpNjWcOHGi1hLzl+RZlrlz57qMvhobG6tdQVj5jzeFChXymC96uy5nh0DXKSoqSh9EebJ371572hnEcnf99dfb+ySzaq4Fyz4rXLiwS796Tk2bNrWDnxl5GAgAQCggsAeEmD179tjTV111VZrzOjtvPnbsmN3PjtVPnUmpgTds2DANOC1fvlzfu+GGG7QmmtW/nMxTo0YNrd13/vx5fS+rg0jTp0/XASic25sZnDdBJ06csPvay0zegq3O33besKSnY8eOWlPj7NmzeoMiN0tFihQxv//+u93UV+bJly8fJwiALFenTp00B05yBnv84Ry5dNKkSRrw6dy5s9YuHzJkiN3XXPPmzTPtupyTMmOdfC0TOMsD7iPHBiLY95mzluOZM2c4eQEAlyUCe0AIu3Tpks/zOoM+pUuX1n561q1bpzXT5MZACuFWUxkpqLds2VKblcbHx2tgr0+fPi7NcLMysPfVV1/pDYHzJrF69eraf2BYWJiOvueteWx6wsPDXZab3mATFStW9FhbL9D95c+ojHJzc/vtt+tAKPK9WbNmaRPsn3/+2Z7HOWgHAIQiuc4XK1ZMa2cfO3ZMR3+Xl5Ncj519r8H/MkFmPgQK9n3mHMAqGIO7AABkBgJ7QIhxBpkOHTqU5rwHDx7U/wsWLJiq2Wj79u01sGdSRse1BtEICwvToJ4U/K+99lod4W716tVaW8wK7JUqVUoDg1lB1sMaICN37tzar9Ctt95qDyAhZJ3kBiLQ9IuKijKDBg3Ktn3nrMXib5Ogu+++WwN7JqU57j333GM3wy1durQ2swKAUPbRRx9pgEiu95UrV3apjZYrVy59gCHXbE99zV3JZYItW7bYZQJvtfas8oCV91kkrSVtk5KSMlSjLdj3mXO7y5cvn2nbDQBAMCGwB4QYqzmtWLlypRaorVHonJYtW6ZNNkWVKlVSfd6uXTt7dFjngAxXX321PaLbTTfdpEG0xMREM2XKFLNr1y59/5ZbbnEJtGWmjRs36iAT4rbbbnPp8NsX1npJQV3W270z7XLlymlH5AkJCdqR9rlz5+zBOLJz31nBUl9vdpo1a6Y3TXv37tXvTps2zd6/Xbp08bm/PgAIVtYATs2bNzdTp07V/lUPHTqktbWjoqJcRjfH/zgfVs2ePVv73vXEWcPbvUxQsmRJbZ575MgRrfXnrNluUkZfD+Z9Jut+4MABj03AnSM0OwN7gW63s7xhUrr2AAAgp3AnCISYAgUKaGfQJqV22zvvvOPS1MSkjJ46evRo++/7778/1XJq1KihgSKTEgS0Bmdwjujatm1be/qNN96wp9u1a5dl22f14We8dPA9efLkNAvQVpDz4sWLOuhHqoterlymRYsWOh0bG2s++eQTr8uSdHVP20AULlzY7gBd9tGnn36aap7du3ebBx54wKxYsSLVZ3fddZc9/eKLL9rTjIYL4HJg9cf2559/mg8//FADLnLdjIiI0METMjJg0uWuTZs29vS0adM85nuzZs2yR4MvX768Sz5vHH2+Sr40d+5cl88WLlxo+vXrF9T7TPLybt26pSozfPvtt/Z7ZcuW1UGrMmu7neUNsXnzZg5GAECOocYeEESio6N1tEFvBcjHHntMp1944QVtmim+/vprHUDhjjvu0BphsozPPvvMbN++XT+vWrWquffeez0us3379mbcuHEu7zk7wo6KitKXs2lN/vz5XebJ7O1zjrS4bt06beYj2yY3CFOnTtX+99IiNy3r16/X6UGDBmnBXL6bnJxsBzhfeuklbd4r740ZM0YL/vfcc4/2FZSYmKjBtUWLFmlffvLbw4YNy7R9PGDAAHs/ym8fOnTIdOrUSQOOy5cv1+27ePGixz7z7rrrLvPuu++6vFerVq00R6cEgFDRpUsXfSh16dIlfWjlLiIiQkdd7dmzp14Pqan8//vElfwjNjZW06V///6mYcOGOhr+kiVLXPL55557LtUIsh06dLADU/L5iRMnNC/95ZdfzIwZM9LsEzZY9tnBgwf1IVe3bt20hvuaNWvMxx9/bH/+6KOPam39zNpuk9ICwLJ48WJtBWHti4ceeijdAc4AAMgsBPaAIHLo0CGXgqiTFEj79OmjTT+k0Pr444/btc3mzp2b6mmzSWmi85///CdVc1SLe2AvMjLSrg1ouemmm8yECRPsv9u0aZPqpiAzt69kyZIagJsyZYq+P3LkSH253yhYfQK6u/vuu7V2gtiwYYMdRJObHyuwV7duXQ2wvffeexrc++GHH/TliT+DXPhCbiQ6depk5syZo39Pnz5dX06yj53Ndi0VKlQw1113nY6Ga6G2HoDLxX333ad5hLPmtpNc9zdv3qxBmOjoaH1IA6ODVTz88MPaDDY2Ntalhr3To48+6jHPeOCBB8zEiRP1IaGk/dChQ10+b9u2rfnrr7/M0aNHg3afSflF1n/s2LGpPpP8v3v37pm63aJmzZo6OrSUNS5evKi/bf2+fJfAHgAgu/CoE8hhFSpU8GnU1YIFC7r05zJ48GCtrVe7du1U/cKUKVNGC7Fz5swx9evX97rMJk2auPQ5c+ONN6bqD+fWW291ecLeuXPnLN8+uUl5/PHHUwUQq1evbiZNmmQefPBB/dtT3z1SmB44cGCqJ/M1atRw+fvpp5823333nTbN8RT4tAKMVmDQefNg8RbgTGse2cZPPvnEvPzyyzoIicsFOVcufdo/ffr0VAFWi/PmRJbVpUsXTiIAWc45kmp6o4s65/U0Aqt1XXQuJzk5WR/uWAGi4cOHa63t33//XWtQjxs3zuX699lnn9n9jHpbpi+/6w/JV6z8MH/+/OnOH+g6+bq+NWvW1Id7kj7ufe5KPnn11Vdr3jlkyBCP/ePKd2bOnKn5jvNzyaOeeuopM378eHsALmeeFiz7TPL3GTNm6Ha6b9cjjzyiwTtPx2FGt9vpvffeS/W7hQoV0qa/AABklzCSAMi45OTkxcaYNkePHrUHfMgJ8fHx5u+//9Ymp1LAL168uM/fvXTpkha05WalaNGiHueJi4vTQSakYJ1dA01Yv7tv3z59ml6nTh37hsVaZ1kXb4Vt+e6uXbv0hqNChQppFrITExN1UIrDhw9rgbxMmTJpPmmXdJabAGuQEU9OnTqlAUNZXlpk23bs2KFpW7Vq1TSXaVKa+zz00EM6ff3119s1GwHAk/DwcH2AI9dN5wihGcjv9Non11xfglpWvuLpGij55dmzZ7UvNushzOrVq7VLBJPSL6y3bhvuvPNOs3btWp2W6581IrinZXrKFyRPkHm81WT3JV+SZUh+mV6z0kDXyZfve3Ls2DHN/yTPrFatml/bKnn91q1b9TelPOEsZ8i6SB5lPUzM6X3WoEEDPc5q1KhhFixYoO9JWejQoUP6QNGXh4oZ2W5PYmJitLwiebmsT0ZbNgBXKskrUsr5H4WFhT1JigD+oSkucBmIiIiwB2XIyE1feoFAKahmtIZDIOQ3pYDtLGT7s8716tXz7UKYO7fe/MjLF94CoE6eRir2pGTJknaNAF84A3me+uEDgKwQFhbm83VNpPWQIm/evKkCH86+XGvVquX1u86RxJ01zj0tMyvyMn+WEeg6+fJ9T0qVKpWqRrivnAN0uZcz3PPdYNxnVatW1VdWbrcnpUuXtgfjAAAguxHYA4AQERMTY+bPn2/fEHXq1IlEAXBZiIqKsqfHjh2rNaevueYaOxB0+PBhHUxpyZIl+nelSpXskd3BPgMA4EpGYA8AQsT06dO1OZ1JGYTDWQsCAEJZw4YNtd/XNWvW6EOMvn376vtynUtOTtamkpbIyEh78CiwzwAAuNIxeAYAhIjZs2fb0zTDBXA5iYiI0BHYH3nkEZfuDs6ePWsHiHLnzm26detm5s2b53NXC2CfAQBwuWPwDCAAwTJ4Bq4MmzZtMgcOHNCBPRo1akSCAEhXZg2ekZ3i4+N1XWNiYnSAoSJFiuggSOXKlfM4GjquzH22Zs0aI+WvypUrEzQEQhyDZwCBIbAHBIDAHgAgmIViYA8AcGUhsAcEhqa4AAAAAAAAQAgisAcAAAAAAACEIAJ7AAAAAAAAQAgisAcAAAAAAACEIAJ7AAAAAAAAQAgisAcAAAAAAACEIAJ7AAAAAAAAQAgisAcAAAAAAACEIAJ7AAAAAAAAQAgisAcAAAAAAACEIAJ7AAAAAAAAQAgisAcAAAAAAACEIAJ7AAAAAAAAQAgisAcAAAAAAACEIAJ7AAAAAAAAQAjKTRIAASkh/+TLl8/kyZOH1AAABJVcuf73DDcsLMwULFiQBAEABJ28efNak2VJDcB/YSQBkHHJycmnjDFFSQkAAAAACMimsLCwBiQD4B9q7AGBOWGMKZqQkGCSk5NJDQBA0ImIiND/4+PjSQwAQNAJDw/XlzHmMKkB+I/AHhCYA8aYanKzlJiYSGoAAIJKWFiYBvaSk5PNhQsXSBAAQNCRfCpfvnwyuYPUAPzH4BkAAAAAAABACCKwBwAAAAAAAIQgAnsAAAAAAABACCKwBwAAAAAAAIQgAnsAAAAAAABACCKwBwAAAAAAAIQgAnsAAAAAAABACCKwBwAAAAAAAIQgAnsAAAAAAABACCKwBwAAAAAAAIQgAnsAAAAAAABACCKwBwAAAAAAAIQgAnsAstXPP/9s/u///s/07t3bxMTE+PXdxMRE88EHH5hu3bqZ5s2bm7Zt25phw4aZ5ORkEjYHLFmyxPzrX/8yXbp0MZs2bSJBAFwW4uPjzRNPPGF69OhhvvzyS7+/L9fDfv36mZtvvtm0aNHC3HfffeaPP/4gYbPAk08+aW6//XYtC/jzWVb9JgAAOSE3SQAEp5iYGLN582a9QTh27JgpWbKkqVChgmnZsqUpW7ZsyG7XkiVLNLgn5MapdOnSPn0vOTlZg0jLly93eX/t2rV6A1WmTJmg2cakpCTdzujoaLNnzx4TERFhoqKizI033qj/54Rly5aZMWPGmAsXLpjXX3/dNGzYMOBlbtmyxfz22286vWvXLnP11Vf79d29e/e6vBceHm6KFCliatasaYoVK8ZFIMj3P5CQkGC2b9+u+ZT8nzt3br0W169f3zRt2tTkyZMnJLfr3LlzZvLkyTodHx9vevbs6fN3FyxYYO6//35NG4ukjeTbzZo1C4rtO3/+vFmxYoXLOorIyEhTvnx5U61aNb0ehwIpT5w+fVrLSa+++qrPn2XVb15p6R8qBg0aZDZu3Ghat25tBg8eTIIAuOwQ2AOCzLfffqsFxcOHD3udp3nz5ua5554z7du3v2LS5f+xdx7QURXfH5+E3psgoZcQQHpRIKAgIlURqQpIEXuhKR0EAUE6AtJFERDpTTpSpIXee28BAqGGktD+595/5v1m377d7O57m+zC93POnrzsvjLvTrtz586d5cuXa0a9VKlSsdfegwcP2IBGg0lfYf369aw0HjlyxPD3GjVqiEmTJom0adPGa7omTpwoVq1axceLFy9OUMMODYZef/118eTJE4fnVK5cWXTq1ElUqlQJjcJzlv/A/7ly5Qr3QStXrrQzTkiojWvRogWflz59+hdGNn379tVkUq5cOVG6dGn21ovvNt8ZP//8Mxv6HfHSSy+Jjz76iNvglClTosBD/n7NsWPHxIQJE/h427ZtokOHDmxEBQCA5wkY9gDwEa5evcrKxrJly+I8d/v27WzYWrBggXjzzTdfCPnQAFIyevRoUb9+fZ9L48GDB3nJ1cOHD7Xv0qVLJ6KiojQjFr1HWFhYvBtlM2bMqB0n9EDh1q1bTo16xIYNG9jLbNiwYW55ywDfz3/g38yZM4cNDlSPnXHnzh0xZswY7q+kUfl55/Lly+wVRBQuXJj7c1/0vLp48aLT369fvy5GjBgh1q1bJ+bNmycyZcqEgg/5+y2kh6n9H7whAQDPIzDsAeAD3L59m5dpql56rVq1EtWqVROlSpUSWbNm5d8OHjzIHn1Llixhw8j58+dfGBmFh4drx1WrVvXJNNJgVxr1qlevzkapnDlzcmzAzZs3i7Fjx7JhLyE8DCltBQsW5AFCjRo1fEZm5cuX12bS79y5I3bu3MlyOnHiBJdxSndCLmF+XvDV/Af+xejRo0WvXr20/6lefvPNN9xPFS1aVERHR3O/tGrVKvHnn39yKIILFy68MPJR+/DKlSv7hQFh6tSp7MH76NEjcenSJZ4wlHEF9+7dyx6Iv/zyCwo/5O+3kA69aNEiXklRrlw5vw0RAAAAzoBhDwAfoH///tqAIH369GLcuHGiVq1aNufkyJGDPzVr1uTYbSNGjGCPgBeFa9eu8d/AwECfXNb1+PFjjvcnYpegTZkyRaROnfr/G9rEiXmQR5/Tp0+zsS++yZ49u/jyyy99Tm4ko9y5c2v/FytWTLz77rtsGCVZ0WBn0qRJ4qeffkJD8RzmP/AfLly4IAYOHKj9/9577/FyQtUbJlmyZGzgo0/btm3ZaOEoLMHz3E8JnZesL0N6hWyDg4ODuZ8KCQkR3bt35++mTZvG4UFepOXUkP/zh9TBAADgeQWGPQASmL1794rJkydr/8+ePZtj6DmDlL5x48Y5Pef+/fs8oDpw4IA4c+YMD+wLFy7MAy5XNiYwe/3JkyfFrl27+B6krFasWFHkzZvXbfn8999/bNy5ceMG///06VPx77//ar+XK1dOM6B5mu6IiAhe9pk8eXI2qNI95syZwxtCZMqUiXd9jctj7Pz58+ytIgd0appU8uXL5/Q+t27d4jKxb98+9mArUqQIG7sKFChgKu3Xr1/n84i33npLpEmTxnBQunHjRjao3bx5k88pVKgQL/dWB+/e5qWXXhKtW7fWPIMOHz5sKq/MluWLFy9yflA6qCzSIKxatWpON2xxNx8l9Izdu3fz+yRKlIjrTvXq1R0aCVw931n+62UaEBDA7yw3gKEyUKZMmTjTfu/ePQ4If+zYMa6vlB/58+e38Y6QGysA/6NLly5cl0Ss1/TUqVOdK5iJE/Pu53FBbefBgwfFoUOHuH5R3aQP9XOBgYFevf7u3btiz549XIeo/ab+JK7+14gLFy5wXVF3vqU+UPZVmTNnFsWLFzedbqqT1E6XLl2a+1NK+7Jly/j6kiVLcvtnBV988QUbcUk+1OfSu0m5PHnyhJ+7c+dOjrVI9ZvaXGrjHMXudDXdntzbLPR+1Gbt37+f+4ksWbJwXtEnoeIiOpO/J2XATB2JiYnhfoyuPXv2LPeZ1B+EhoY6vNZTmVL7sn79evbYpz6LdIHy5ctzvTR7PvVNly9fZh2sVKlSTssnvTPVZeoXkyVLxnJ99dVXOb6zM44ePcr9PulQ1P6RrkBpUqlQoQLCYQAAYNgD4HlkyJAhvOMrQQqZJ4MKPfPmzeN4fXfu3LH7LUWKFOwh6GzAZeb6hw8f8tKsuXPnGiqrjgKtGxEeHi7q1q1r932DBg20419//VU0a9bMVLrnz58vunbtysc0EPvyyy9ZkZacOXMmzqUwQUFBrOSSQkvKLynCJUqUcCvffv/9d954Q43RJ6lduzYvUdXP2ruadsoPed4ff/xho/xfvHiRvQP++ecfTr+eTJkycbDvRo0axVu9KFSokI2RzNO8MlOWqazSe48YMcJOLqS0U3nu27ev3eDGk3ykAUq7du3YSKmHBhbTp08Xb7/9tsfnO8t/VaYHDhwQw4cP53fQ8/3334sePXqw4U/P4sWL2fDjbNMfEbt0kwY+wL+gciHjv1L+9+vXz/Q9aSD+1VdfOYy/V7FiRTF+/HiHHs5mr9+4cSNvUKCPFZgjRw6nGxs46sf//PNPm+9mz57NH4LSQDI0m+4WLVpwelu1asUGiN69e9v8fuTIEUt2zac2rUCBApoXupQRvePgwYMdxoirU6cOt796Y4Yr6V69erVH9zbDpUuXxKeffspGHz3p0qXjpedGOoi3cSR/d8uA2TpCbTX1c0ePHrX7LSQkhL3p9XqOpzKl/Kc+TQ27oqZz6dKlps5v2rQpy410i7CwMIflk9oEOvfq1as25+TLl0/MnDmTQ1rouXHjhujcubOh3qtnwoQJokmTJuhUAADW9x0QAQAJy6FDh7RjObg2A92jTZs2miGDBmGZM2fWfn/w4IH47rvveJmU1dc/e/ZMvP/++zbKjWoEIAXSyGDgCFeCHEtPMrPvrSp/qqFIGnHiIkWKFOKVV17R/m/YsKGhYuuI9u3bswFKGoOCg4N5VpnuS9CgumrVqppXoJVpp0H64sWL2XhFciMlv3DhwtqzIyMj2YB24sSJeKsX9+7d044dDTriel+zZeKDDz7gOInSqJc8eXJNJo8fP+aNAdauXWtJPnbv3l0z0qVNm5aXDJUuXZrLP527bds2U+e7Sr169RzW0aFDh4rffvvN7vtdu3axh6U06lE9cOTh6siTFfhPP/Xee++xB5UZjh49yoNv1eCQJk0arZ4Qmzdv5nOMjApmr1+9ejX3VarBRPZVFy9edHtzprg8u2Q/ZTbdkvnz59sZdAgrY4epbXCOHDl4woraSml4o7pMdT179uzaeUuXLhU9e/Z0O93Udpi9t6dlUPbTlA+vvvqqyJUrF/9/+/ZtNvjoDbYJ0QeS/N0tA2bL2tatW9kzXf1NnZCivrdjx46WyPT06dNsVJNGuqJFi3Js3axZs2rpVDfccvd8vZ7qCNKDateurRn1VP2Vnkn9o9Hk9FdffaXpvVTXy5YtK5ImTWr4jLi8/gAAAIY9APyQ+/fvs7IsDUNGM4HusHPnTjaeidgZ359++omXYJw4cYKX6qlKGClWes8Zs9cvX76clUGpXE6ePJkVr7CwMPH555+7/T6kRJ45c4YVKunBRYoW/S8/77zzjul0q5BClyhRIr7H7t27OVZe48aNXUpv//79teNr166xgtiyZUv23osr32SwbBrIrFu3jr+jv/v37xeVKlXSFEsjw4rZtJNMSdbdu3fXlqxSPpKSXrNmTc2QJWUcH0ybNk07drR009n7mi0Ty5Yt05bR0eBk5syZPOik8kwDpfLly/NvqpLvaT7SPf766y8+zp8/P5+7aNEiNhoePnyYvRLUpUXunu8OJBsakPTt25eXUlH7pHoXjBkzxm5g1KtXL20QRTKnQR3Jc82aNbwES7ZvVK7+++8/NPx+iDq4t2JJZM+ePbXBc/Hixbm9ofpJdWz16tVazLE7d+5wfDGrr6e2mto0Ebs0ndqPS5cucf31ZKOePn36cL1W28gOHTpo/RSlyYp0S+RkRZkyZbieURszePBgl0ILuML27du5/hPUHoSEhGi/Va5cmY1KlG6q64cOHWKjhjQo/f3337y83510S8OnmXt7UgalYfezzz5jXYPygNpTykf5TOo7Hjx4EK/1zZn8XS0DZsoatfHdunXT6si7777LfSf1B+fOnWODYvLkybXfzcp0zpw5miFz6NChvAR24cKFrI9Q39uiRQubSV53z3eVGzdu8MRYxYoVuU8lPY7uKw2aly9ftvPKoz5txYoVfFyqVCleGk35cfz4cTb4SUgHvn79OuusAADgDbAUF4AERPU2ogG6fonbwYMHWYEymmEkpWrgwIE2Gw/Q4EIyYMAAXkIhyZQpk/jhhx/YmCgHHz///DMrylZdP3r0aO2YFMyGDRvycaFChcSgQYPY2EH3cAfpCZEsWTL+S8qaPn6Y2XTrGTVqlLa8N66YeCpVqlQRI0eO5B1IpcGHlEP61KhRgw0gRkYqVameMGGCTfyXzJkza9/FxMTw0hdVWbQi7cOHD+d0U5lSocHWkCFDNKX11KlTXq8TpOzToFsa1WhQ895777n9vmbLhGqkHTt2rM1mNq+99hp7j9BHGuvM5CMNtug7ERszUvWKePnll+0GXe6e7w4k7xkzZtgs46V6TYNGGlDTwI4GO9Jg9/TpU81wHRoayl6OkrJly3IbQPKjfN28ebPN78B/UDfACA4Otvud6hP1V47aRdUrlgbhNPAVsQbw5cuXa14s1L6/+uqr3OaULl2ayw39vnfvXs2gaPb6DRs2aGU2T548PIkgY17JcBh169blGHkuK9OJE3O/pMYiTZ06tU1fZTbdel555RU2Osh4mfq4YZ6yY8cONspI6tevz+9Hsjp9+rRhvM9q1arxpAq1HSI2JIJsI1xNtxX3dhVqi2ReUBtO+ooKtVO7du3idvrq1atiyZIlLk/weUv+7sjSbFmj95WTXcWKFeN4mjLkBJXxDh06cL+shl4wI1N1NUD16tW1Y9KJqe/Vbybn7vnu8Oabb7JxUOpD1H517dpVW1Gzfft28eGHH2rn79mzx0YHkGWY+uXvv/9eTJw4kQ2gK1euZD0YAAC8BTz2AEhAaIAuMYobc+jQITZwrF271u6zbNkyjhGkGkRkcHxSLFq2bGn4TNXAoSokZq+nAb4MHE4DGqMBPA3urFaOzaZbT4MGDTRDkSe0atWKlVtSBlVIqatcubKN8VPEBguX8V6KFCliYyiSkGJetmxZPj537pzdLLnZtNOgVm/Uk+TMmVNbPmkUy8YsNMD++uuvOX9q167NS4B//fVXG4OBI09WR+9rtkxER0drhgx6/zp16thdS4MjGvzLAZWZfKTvpXfB0qVL7eL/GN3HnfPd4aeffrIx6kljHw12JOpgLjIyUvOcMBpsq56DdC7wTy5cuOC0r1q8eLFhP0UfGtiqyMG/iPXqMVqaFhQUZBMHUvWoNXs9DcwlzZs3twtkny1bNsPYlWYxm26VJEmSsIHEaBMkdxkwYAC3wR999BF7IlevXl1bSUBtjWqMcLbTr7pLv6O+wlm6zd7bHdQwGY5WE7z77rvasTtGXm/K31VZmi1r6vGnn35quElGvnz52LPNCpmqXrL9+vVzGnLEk/Ndheq+atSTyJULxJUrV2x+o75cou8DqUzLTafQ/wEAvA089gBIQNT4MWfOnLH7vWzZsmzsUD32jh49qp2rBvSXiiDx6quv2sRR0StEuXLlYqPi1atX2QhC55q9npQdaaigdDu6Xr9pgFnMptuZ4ukpJUqU4Fn0rVu3sjecXIb15MkT9tojRbxVq1bagFl691G62rdvb3hPqQRTnl+8eNFwuZgVaT9+/DgrqpSfN27c4LIn89VoYw2zXLt2TfPE0JeTnj17Ot3kxdH7WlEXZJ0rVaqUSztzmslHGkTQu1CZuX37Ng8i6H96d72BWMR667pzvjuoMQhVZOwi4ubNmzZGHpIZyY4Gk/fv37cxlKix2YyWkwH/gAa8cndq6n/kUnRJ06ZN7SZMli9fbthuqH1d5cqVHT7z9ddf50G2vk6bvV41UtI58dFPWZFuvVHFbJxDibrLvMrbb7/NRiWjHdHv3bvHkzLU1tHn4cOHNnE9HfUVrqTb03u7g+p9Pn36dEMZqPEXVeON1Xgi/7hkabasnT592kYP9bZM69aty6sGSNeYM2cOe/99/vnnPHFnNJHg7vmuQrqZ0SSnugO+2v8RMn6giPV01G/8denSJT6Oa1d5AACAYQ8AP0bt6M+fP88KrKpU5M+fX4ulJRk2bJjhjoSqIkaDMGeoimJERAQv5zV7vbqTnaoEeRuz6fYmFSpUYKVzw4YN7B0mPZ169OjBcctSpEhho4Bfv35di9EW31A5Gzp0qI0844OUKVNqHnlZsmThMh8cHMyB7T2NF2VlXXC1LJvNxxEjRrAhVcagowECfQoXLszLgt966y1T55vFkXE0ICCAjYnLly8XUVFRvLz4k08+YYMopUd6qFK7ZtVSQRD/UB2VXkD6DWuIzp07231HA2wj72JX66daN9UdKs1erxr2fLGvcpRub5EvXz5+ZrJkyXiXVWqDX3vtNfHGG2/YnUvpGThwIMcZo/puJd68t7O8WLlyZZznW7kpiRn5x1dZU/szdVLHWzItXrw4h2xo3749Tw6Fh4dzGJoBAwawJyMdq56J7p5vZf+nD42jTqZNmjSJw8fUr1+fy/B3332nxUIMDQ1FRwIA8Cow7AGQgJACEBQUxAYfUhbCwsJMe9yIWM8wdwwrVlyvzqLL+F/xjdn39haVK1dmI0fFihV5yci9e/fYk6ls2bI2AZ5z5crFy0udkTt3bo+Cuzvjt99+YwVUTUdISAjHogsMDGTjpKPlv2YhZVcfjDqhy4R6jdEOeEaYzccMGTKwBx6Vk3HjxmnLa48cOcL3okFM06ZNPT7fm5QvX17zzqI00UdP//79TXlSgIRF9baUGyRZgavtiiPDsifXqwPzhOqrzL63lUyaNIk3YIiLyMhIjqsmN1JJkiQJx2gjHYbSSW2Ps42pEurehoMfJWbdhx9+6NR4ReeqGwgllPzjs6x50gealWnjxo1ZR6K+a8aMGeztRvrS5MmTObTG2rVrbfQ2d8/3ZtuYMWNGnmiLiIgQXbp04Y8K9fX67wAAwGpg2AMggSlevLjmydWrVy/27nJl6Z8e1Uiges8ZIT0W0qRJoy29M3u9qsTpY5B4E7Ppji+Cg4N5WaiM/SbjBKnpz5cvH880xyc0sO3evbumbJNSTAMsdSOXf//917KdCP2hTKhLa1yN52RFPlK9J9nT5+DBgxxfkAYnRLdu3Thupdo2uHu+N7h9+7YWJD1nzpzs9aEaS3Lnzs0BxdVYTsD/KFGihHYcFhbGMfXq1q3rcf08cOAAH1+6dMmhR5Fad9WNccxer/ZV1PfG1xJxs+lOaKhvkIa3KlWqsEFK7Ud///13j41v3ry3o7yQMeFatmxpt7Tc3zFb1qgPlJvhUB/oimerFTLNnj07x3klXXjatGm8Cda9e/e4bFAZ+Prrr02d7w2GDx/ORj3SmfLmzWvjuUj9L/XDVnsQAgCA4TgCIgAgYenevbs2+CZFTO7S6S7qstJNmzaxomHE+vXrtTgn+fPnt+x6VXHcsWOHTSwV1YjkbOOKhHjv+OT+/fvacc6cOflvjhw5tCUpNHDx9hIkPZQfMvB0vXr1+KPfndnfsLIubN26Vdy9ezfOZ1qdj0WLFmVPSblL4e3bt50aGd093yqorsvNM8aOHctxlkiuy5cv5yWb+/btg1HvOYDK1TvvvKP936NHDy5jnhodJIsWLXJ43vz587VjdSdes9erfZWj+GZqTDcrjS1m0p3QqJ6aw4YNs3RyzJv3NiJv3rza8ebNm5+7+mq2rKl94KpVq+JdpsmTJ+dNOyZNmqR9p+7MbfZ8K1m3bh3/DQ0N5V1/qf//559/uExfuXKF+8X4XPIPAHhxgWEPgASmRIkSNhsEdO/eneOGODIMOFo6lDp1am0HSjqnf//+drFA7t69y7ObEnW3ULPXJ02aVIsJ8/jxY7vdX6Ojo1nxkjvnWoXZdFvFuHHjRIsWLRwqk8uXLxe7d+/m4yRJkmhBrwMDA7Wd5W7duiV++eUXh8+g99K/m1mkUUY4CNT++++/c8w4f8JsmUiXLp2WP3TeqFGj7J5x6tQpjqMjY9yZycfIyEhx4sQJu/MSJUrES9Ek0nDo7vneRMYPErG7O65Zs4bfLWPGjBwz1BWjKPAPBg4cqC3Xu3DhAg9k169fb3juo0ePHLZVavzH6dOni2PHjtmds3DhQs24ljNnTptdmc1eX61aNe145syZdgbwTZs2iY8//thy+ZlNd0LjrK+4evWqmDp1qk/e2wg1ft3YsWOdeqS7E87BVzBb1tR4cJMnT7ZbhUF1e8yYMdomYGZlunfvXu4v9KgbzKlLfd09Pz76wLCwMDZKU3siYybevHnTK5uOAQCAEViKC4AP0KNHD/YckC78f/zxB8+SkqJUtGhRXjpEysLq1avFxo0bHd6nT58+olatWnw8ZcoU3nG0QYMGPPt65MgRVsTkzobBwcEcZNjK62kwJA0dpOA8ePCAd+wk5Yb+379/v1fkZzbdVkDvtnjxYo55VqVKFVGjRg1+Pslg3bp1NpugfPnll2wIlfTr14/zmpTlIUOG8MCmWbNmvETs8ePHbESivJ8zZ45o2LAhD7CtolixYtrxzp07eVkJyY7ybNq0aRx/zx8xWya6du2qfUd5cunSJd55NlGiRLxcnuRCA4sPPvjAdD7KJUT16tXjgRLVeTp/5syZWuw6GrDIWX93z/cmVNYzZ87M8t26dath/LUsWbKI6tWri++//97y+JAg/qDB/48//qhtlEF1gsoglYHixYvzxi0xMTFcr+bNm+fQIELnV65cmevRrVu3uK2kslGmTBmuU2vXruX6KenZsycPkq26PjQ0lHeuPHr0KJfb+vXri2+++Ybr6bJly/hab8QUNZvuhIb6CjkxJydLKN83b97MYQDUTUl86d5GlCtXjttz6q8jIyN5UoaeU6pUKW43IyIixPbt28WCBQt4eenJkye9slOyN9tlM2XtnXfe4X7l4MGDXEfefPNNrvfUV1K/Rv3f3r17bbz0zMiU0pcpUyZeOkvH1KdQ/VQ35VHjELp7vjdp3LgxTxJSe0dlVw/petQ2fvbZZxx70NvhMQAAMOwBABIQUm42bdok+vbtKyZMmMBKbXh4uPj7778dXpMkSRIbo4yI3YW1Xbt2mreQ3ClTDw2uSTHTz2iavZ6UQanYidhZW/pIkidPznGZZs+eban8zKbbCmgQMnPmTM67devWacsz9JCyrY+/RvnYrVs3NvTQ9XPmzOGPEVYHeyeFuGXLlppHBJVB+ugV04QKMp9QZYLKMpXVxYsX8/9//fWX3Q7VAQEBNkuWPM1HOaBytPEEMXToUI/P9yYZM2Zk46beQ1eFBnTTp09no+O///4L454fQ4NTGvDTgFrunLl+/XqHnnvEa6+9ZvfdoEGDOHj+uXPn2PDQs2dPw2u/+eYbHjhbfT3VDyq3UVFRbBCg8/TtNN3byIvZDGbTnZB89dVXYtasWexdt2fPHp6c0LcFjsIeJOS9HdGvXz/exOr06dNsvPr2228dnuutzaO8iZmyRn0bXd+0aVNecn/58mXRoUMHu2v1MSA9lSnphqTz9ujRgz96Xn31VZvNNtw935u0aNFCjBw50sbrVN/X79u3j9tMamtIRgAA4A0wbQCAj5AyZUrx888/s8dAvXr12HtA3WlT8sorr4hOnTpxLI9SpUrZ/f7jjz/yjGiRIkXsrg8KCmIPn40bN9oEQ7fq+sSJE7O3ISnp6g6YSZMmFZUqVRIrV65kDyb1e1chRU442SXQTLrlvfXH7vDll1+KP//8k9/TyHBICvD48eM5jUb52rlzZ5YP5anR9dIA17ZtW4/S7uw8Knft2rWz8w6hMjhv3jxeQq0alMzKjfJdxvFzd9c6d55ppkxQ+ig/BwwYwB5nNh1nYCAP/FesWKEt+TWTjzR4orSkTp3a7vzixYuzIVx6H3pyflxyc0Wm6vdqOVi9erVm1KNn0wCGBi979+5lYw/Jr0CBAvx7ZGSkxzFEge8QGhrKnlRU1itWrMg7NOtJmzYtb+riyOu3UKFCPJlF5Thjxox27UPJkiW57enfv79hzE+z11M7/c8///B5atuQM2dO0bFjR449Jpe1u9O2qf2TUV9lNt2y7pndLVdtd119v+DgYN7BXN9eUjvUvHlzbkulN5L+nnGl21v3dvZbnjx5uBxTW5wpUyZDfaZ8+fI8Oanf0dtsPngif3efbbasUd3esGEDe6HrwzpQP0b1f/r06ZbIdMKECQ51M2n0VfVFd883U06c6aDPnj1jnVYa9UaOHMme+QcPHuQVEDNmzLBZrkx9pVH8aQAAsIIAiAAAz3n27Nl6IURl6tS9MaMbExPDAehJEaCBUr58+QwH886uP3HiBC+rLFy4sKGi5c3rT58+zfFxSIFUlSF6H1Ik06VL5/K9Hj16xDPH9P5xKcKepJvOpTRZsdwmKiqKZ8mvXbvG98ufP79bO6JRWTpz5gwvdaN8z5o1q8Nd7dxJe1znPXz4kJ9L6S5atKg2GHjy5AnnGcleb9zzVG5UZ+h5GTJkcHtpiifPNFuWSSZHjx7lckyDUFee7W4+0vlU3+lZqVKl4kGSfkBp5nxncnNFpjdu3OCBGb2LpG7durz8PlGiROxpo+4oLNmyZYuoXbu2ZhRatmwZOo/4VPQCAjjPaBCqxkS0EmrnT548yYPpLFmycDlwZxOeiIgILsvU5oSEhLjtVW3memqL9u/fz4Y81ZuU+hySF/VT7tyPrqE208jgaTbd0dHRHLeS0mQmhiaVBarz1J5T2+EuV65c4baN+oQiRYpobTjJkuSmb0fcSbeV93bnudS+UR9Bz6D+gfQtR0uhzeaDGfl7+mwzdYRkcuzYMZ6coXpSoEABl+q3OzKV/Szl/YMHDzicBLUjziaA3TnfbDkhfYXKoNoeqH1by5YtHcbWffvtt7Wl5osXL7aJRwj+B+Vd7Fjh14CAgG8gEQBg2APguTHsAQCAL1O0aFFx8eJFNmKcPn3acLBHAxoa2IjYeEQTJ06E4OJT0YsHwx4AALxoTJ8+XVvGP2jQIPH5558bnle/fn2Oa0js2bPHJjYh+B8w7AFgDizFBQAAAIBHyBhLN2/e5BhMu3fvZu8JEetRuGzZMptdv9XdGgEAAAB/7/+IESNGiEWLFtls9HLp0iXx3XffaUa9PHnywKgHAPAa8NgDwATw2AMAvMgsW7aMY2A9ffr0f4pFQAAvu7px44bN9w0bNhSTJ0+G0OJb0YPHHgAAWE5MTAxvtLV9+3ab79OkScPtbVRUlPZdihQpOP5u8eLFITgHwGMPAHPAYw8AAAAAHlG7dm3evbtixYradzSguX79umbUy5MnD+9COm7cOAgMAADAc0HSpEl5s6qvv/7aJqbm3bt3NaNe4sSJefJry5YtMOoBALwKPPYAMAE89gAA4P+5evUqB1iXG3HkzJmTg5m7u1EJsFjRg8ceAAB4lZiYGF6Ge+XKFW3jNOr/cuTI4XQDEPA/4LEHgDkSQwQAAAAAMMvLL7/MHwAAAOBFImnSpCJ//vz8AQCAhABLcQEAAAAAAAAAAAAA8ENg2AMAAAAAAAAAAAAAwA+BYQ8AAAAAAAAAAAAAAD8Ehj0AAAAAAAAAAAAAAPwQGPYAAAAAAAAAAAAAAPBDYNgDAAAAAAAAAAAAAMAPgWEPAAAAAAAAAAAAAAA/BIY9AAAAAAAAAAAAAAD8EBj2AAAAAAAAAAAAAADwQ2DYAwAAAAAAAAAAAADAD4FhDwAAAAAAAAAAAAAAPwSGPQAAAAAAAAAAAAAA/BAY9gAAAAAAAAAAAAAA8ENg2AMAAAAAAAAAAAAAwA+BYQ8AAAAAAAAAAAAAAD8kACIAwHOePXt2UwiRHpIAAAAAAAAAAFMcCAgIKA4xAOAe8NgDAAAAAAAAAAAAAMAPSQwRAGCKfUKIylevXhXR0dGQBgAAAJ8iUaJEInv27OLJkyfi0qVLEAgAAACfI02aNCJDhgx0+B+kAYD7wGMPAAAAAAAAAAAAAAA/BIY9AAAAAAAAAAAAAAD8EBj2AAAAAAAAAAAAAADwQ2DYAwAAAAAAAAAAAADAD4FhDwAAAAAAAAAAAAAAPwSGPQAAAAAAAAAAAAAA/BAY9gAAAAAAAAAAAAAA8ENg2AMAAAAAAAAAAAAAwA+BYQ8AAAAAAAAAAAAAAD8Ehj0AAAAAAAAAAAAAAPwQGPYAAAAAAAAAAAAAAPBDYNgDAAAAAAAAAAAAAMAPgWEPAOBVtmzZIpo2bSqaNWsmDh8+7PXrAPC1sox0A+DbdOrUSTRp0kQMHDgQ7woAQB0GAPgdiSECAHyPe/fuiaNHj4ojR46IU6dOiZdfflkUKlSIP1mzZvXqs8PCwsSECRPEgwcPRI8ePUSxYsVM3Y/eY/PmzXx85swZ8corr3j1Ok85duyYuHDhgs13gYGBIm3atCI4OFikT58eBdOL3L59W+zYscPt61KmTClCQ0PjJY3xXSatkktCpBs8n/3S9u3bxZMnT2y+T5cunQgKCuK+KXFi/1QrV65cyXUtMjJSdOvWLUHTcvr0abFz506RNGlSUaNGDZEiRYrn7l1Pnjwpdu/eze9WvXp1kSxZsueuvoSHh3N9oTaX5J0pUyZRvHhxUaFCBc5b4JtQubxx44bb1xUtWtTr+rkvtlcAAN8Bhj0AfEwR/O6779jDxhEhISFi1KhRonDhwl5Jwx9//CHWrl3Lx8uXLzdt2PMHrl+/LmrVqmU3YFWpWLGiaNu2rShfvjwKqhdYsGCB6N27t9vXBQQEsOEqefLkkMsLJBcQ/wwbNkz89ttvDn9PkiQJe4Z+8803IkuWLBCYh0ycOFHMnDmTj2fMmCEqVar03L3jyJEjxZIlS/h40aJFomTJks/Nu92/f18MGjSI8+7Ro0d2v2fKlEn069dP1KlTB4XdB2ndurW4deuW29d99dVXokuXLhAgACDBwFJcAHyElStXipo1azo16hHHjx8XdevWFZMmTfJKOjJkyKAdW+0p4Kvcvn3bqVGP2Lx5Mw9a//rrLxRWL+Cvnj6Qi3O++OIL9hxs1aoVMtPPiYiIcPr7o0ePxNSpU0WDBg3E3bt3ITCQYISFhYk33nhDvP7662LDhg3x+uxu3brxBKk06lEbniZNGu33yMhIMX78eGSSj+YhdBEAgN+OGSACABKeTZs2ic8++0z7PyQkhGcNy5QpI/Lnz89Lc/bt28cz+cePHxcxMTGif//+Il++fOKtt96yNC1t27YVBQoUYAOf1ff2B8qWLcveBAQNTvfs2cNeKqdOnWLj3w8//MAeFLly5ULBtZCGDRtyeX/27JnN94MHDxbr1q3j44EDB9p5dqRIkeK59krzd7kcOnRIXLp0idss8Pwwbdo0Dg3x+PFjceXKFZ74GDt2LHsrnT9/nr37+vTpA0GBBCE8PFycO3eOjy9evBhvz6V6sHDhQj6m9pfa6Tp16rCxKCIiQsybN4/1OBiPfDcPFy1aJO7cuWOXljZt2vBxkSJFxNChQ+2ug04IAEho0LMA4AMMGjRIO3711VfZkJQuXTrtu5CQEP5Ur15dfPrpp2Lbtm38/ZAhQ0TVqlV52Z1VBAUFiY8//viFzYvUqVOLnDlzav+/8sor7ElZv359cfbsWc0rpVevXii4FkKDIKPl5ZkyZdKO8+fP/8LFh4NcgC/y0ksvactts2XLJkqXLs1/O3bsyN/JPgqAF4ldu3Zpx19//bV47733tP+pvnz55ZfsvRwZGQlh+Sg5cuSw+y5t2rQ2x+hvAQC+CAx7ACQwK1asEPv37+fjDBkysCeEoyWw6dKlE1OmTGHj3/3793lzjSVLlvDSXMmVK1c42H6iRInEm2++aXiv8+fPi71793IA57feeotjI0lI4QwLC+PjypUrs6HLiPDwcHHw4EGO4/X48WM2htH57sZWonucPn2a00LpdRZEm57z77//iujoaFGwYEH+OGLDhg28xLZAgQKm4xFmypSJdxT96aef+P9jx45pv127do3llTx5clGtWjXedGThwoUcMDtjxow8W6+fyaVz6B6HDx/mGemgoCB+F0qnK5t0eCJ7ksWBAwf4urt377K3DSmn+fPnd/osSue+ffv4fahM5c2bl43J6pJtM+dbyfXr18XWrVvZAHvr1i0uuyEhIbyUR1XMvZXmuMpyQspGz4ULF1hWlF6qIyVLloyzLLgq32fPnrHnypMnT0RUVBR/R+2VupyKBk9xPQ/4F7Vq1dIMe6dOnbL7fcuWLVyGSpQoIXLnzs393urVq3mypFixYnYxx54+fcqbLFC9On78uMicOTN7y9BHXdqoh8od3XvPnj3sJUX9G7XB1OZ5EjP23r177FVP/Q7dg8q8vj2n3+mdqf+k/qJs2bL88TYXL15kPYA+1BfIScDg4GDe/MkVKP1r1qzh/oTaLEo3tQcpU6Z0eo0331lfVmJiYjg/qf2hNFI+li5d2i6NpNtQ+0plRkKykW0PyaR8+fI2Oo+VslTLffbs2Q3PIZ3MyHhkptxTe0v5QDKhez98+JB1JcrTxIkTs9c35akjfc7TeuNqnXbn3p7moafthdV42v5YVad8ub0CAMCwB8BzjRqz7YMPPogzrh0pZvXq1dOuW79+vY1hj77/5Zdf+Hj69Ok86NYzZcoU8fvvv/Px4sWLWSmTLFq0SPz44498PHbsWLvBFilsI0eO5N9IkbJpUBIn5iXE3bt3d0kRpme1a9dOW2ZIiigp0Y64dOmStmQ5S5Ys7BVi9Jy9e/eKFi1a8PGbb77J8W7MUqBAARsjmWTJkiWavOh9vvvuO1YuJefOnRM///yz9j/Jm+RjFIMqefLkomfPnuKjjz4yTIOnsp8xYwankRQ9PW+//TYvm1M9RKXy17VrV21ZkQoNrCZMmMCy9fR8KwkPDxd9+/blOJV6uRAZM2bkDSio3ph5R0/LckLKxqgMkSyM6sS3337L5VfvAeyufKn8N2vWzG6wIeskUaFCBfH333+jA3iOUJdbGxnSv/jiC247mzZtykaAgQMH2vy+fft23gGeuHz5MoeFoO/00L0HDx7MhkQ9VKao/6Mya0T16tW5PVY9XuMaJDdp0oQnRYh33nlH/Prrr9rv69at47p95coVu2vLlSsnZs+e7RVZ04D8+++/1za6Mnr2iBEjHBqX1PR36dJFXL161U7P+O233ww3i4qPd1bLCsn/008/tYvxmCdPHjF58mSbvpnydunSpTbnTZs2jT+SWbNm2byXVbLUG/OWL1/O8SbdwdNy/+WXX7K8SG6UXspTvbxSpkzJsZmNNmPxtN64UqepvLhzb0/y0FO5WY2ncrSqTvlqewUAiB+weQYACYyMIUJQh+wKqoHiwoULDs/Tx+WK63tXaNOmjRgzZow2wE+WLJkWy+vx48esOP73339x3ofO6dixo5aWDh06ODXqEaQ45suXj49JaXW00cjixYu14zfeeMOSfLp//76h8q5Cgw/VqCd0gZj79OnDxhNp1AsICOAlbZKHDx+yYc/RzmqeyL5bt25s7JNGPZJf8eLFtetWr17NhmG90a9v376aISpNmjS8K3CJEiXY04zOVZcceXK+lQwZMoQHUSQXkinlT0hIiPaON27cYIOV3ovIqjTHVZYTUjZ62rVr59DQPXr0aJvBk6fyTZ06dZzhAZx5UAL/RO7kSrz22msOz1uyZImdAUBtK48fPy5q1KihDdKpPElPJOLOnTtsUNAbhs+fP89tpxxUp0qVij2hg4KCtHNWrVrF8WldNVR+9tln2iCZyj21pZKzZ8/yTphykFy4cGE2mkjP6W3btsW5KZMnkHxq1qxpY4giGakxNenZJEM61xEnTpzgsBvSqKdeHxUVxYb4HTt22FwT3+9M7U7jxo01I5XarlBamjVrZrPzrH6CKq62xypZStRJUupbu3btysYWV/PVk3Kvr4OUp1Jeqtc46TCtW7fWVmRYWW8c1WkqJ+7e25M8NCs3K/BUjlbVKV9trwAAMOwB8EJAA2UZFJgG+blz53bpOjUGnDPDntWQoiqXQ8gZ/cOHD/Nyj/nz52uu/I8fP3Z6n3379onPP/9cO699+/b8cYWGDRtqxwsWLDA0WsrZXpKp6s1ohlmzZmnHjpb2kjJNz+zVqxfLacyYMZoRds+ePZqXZGBgIJ9z8OBBNurQb19//bV2H1JApXJmRvZ0X+nZScolKd/r1q3jv5s3b9ZmvEnhmz59unYdDZTmzp3Lx3nz5uVz6T6LFy/mQQEpyWXKlPH4fG9Ag4GOHTuycrplyxaWFw1K5QYwJBcpfyvTHFdZ9gXZ6EmaNCkr/CQfKmf169fXfps0aZKh4d8d+VJZo/vu3buX466J2DAD9L/8UN0A/gsNDmkAS/0XlYkBAwawV4yIXWrYtm1bh9fKiY2SJUuywVt6PcswBD/99JPmFd2qVSuuY9TWU90ZPny4tgRv2LBhPBmip2LFimygpvaVBtJUz6ZOnapdR+3ltWvXnL4f1QEq75s2bdIGydQHqJM6lHY54dOvXz8OqzFjxgw2MFD7/MEHH3B/YDUkH2m4KVKkCNdFelfqD0hOUj8gOavxex3pIKGhodqyzWXLlmkecNHR0WzsV4nvd7558yano1y5ctxunjx5kp8njT9Xr161mcjr27cvty/0V9KtWzet3dm/f79NfDQrZSliPeBVo/bMmTNFlSpVeDLFqKzq89VMuRexqwmo7JK86F2OHz/OeSTDlsTExDhse83UG0d1Whrg3Lm3J3loVm5W4q4crahTvtxeAQDiDyzFBSABuXz5smYQyJw5s8txXFQvLxpgkbJGg3VvM2TIEO2YlKRq1app/5cpU4bd+EmRMVq+Izl16pRo2bKlpmC0b9+ePZxcpX79+pwOUmRIMSGlTp1d37FjhzYj+cYbb9jIyhNIEaTnSaMaybl27doOzyflv1GjRnycJ08e7Xt1OW6vXr1sNijJmDGj6Ny5M8tEGkdGjBjBS6bNyF4diIwcOZI99dQyRN+RjKj8kOIpd32jwbpcVkf3VmfQs2TJwkq2irvnW82AAQPYk0O/CywNKkiBpUErcebMGUvT7EpZTmjZGBn1Jk6caLP0l8rJxo0bebBx/vx5jplE7ZEZ+cqYRtILi/4mRCxB4B1at27t8DdqnwoVKuT0+oIFC/KgUsb8km3Ttm3bOLwEQW2ZDHMgadCgAQ/cqb2KiIhgj67333+ff8uVKxcP/I3KWZUqVXiSZc6cOfz/uXPnbMq4nj59+rBxQh0kqxNqxOnTp7XjqlWrasdUV6h9VttoqwgLC9PkExQUxJMGMs4cDcpLly7NO69Su05915o1a9jI7ii2V506ddh4Jwf0RYoU4X6H2gfSTajfozZBxolNiHd+/fXXecmtbH8qVarEba0sG7t27dKWvCZJkoTzX42pRsdGZcJqWYrYSbsxY8bwZM+ePXv4OyqnvXv3FqNGjeIJvObNm9vFXzVT7vXUqlWL0yDb3sKFC7NeUblyZZ5oorZezVOr6o2jOu3uvd3JQyvlZhZP5WhFnfLV9goAEL/AYw+ABESdtXMW1NhocC559uyZYew0q6FnyKUopDhUr17d7hxShkmpdPQuV69e5fhxN2/e9MioJxXwihUr8nFUVJRmVJBI5YbwRIE7ePAgx9uhdDVq1Ihn32lQIencubNNTB+VunXrakY9vXFQLn8hpa9p06aG16vGPtVjzxPZP3nyROzcuZOPaZBtZGwlWZYsWZKPL1y4oBmZ6Xs50Fu1apXdciyj+7hzvtWkSJHCzugkIXmlSpWKj9W4MmbT7GpZTmjZ6OnZs6ddPD9qT9RYnPp4W57IF7y4fP3112LcuHEOf6eB+6hRowz7CXU3XUfGw5o1a2rHqjFZtq/OjIkSZ2V1zJgx2nJ1R4NkOZCXDBkyJF76YWnEELHeSUYbXLz88ss2sXH13t/qeSNGjLDz0qH3qlChgk2fmFDvnDVrVhujnkQ1Qujbq4SQpf6a2bNn87JMdSInMjKSvdDq16/PhjUry7367F9++cUmBIgsx1JvMnoPs/XGWZ22ok46wiq5WYUn72q2TvlyewUAiF/gsQdAAqLOfN64ccPl69TNGwICAtwyCnoKKaJyiV7x4sVd9i5UUWdT27Rp47ZRT9KoUSNtycGCBQtsdl5btmwZH6dKlcrQABYX169f12ZVVUhB//777x1ubKFXIPWyk5QuXdqhkYQUrxw5crCXV0REBBsE6VxPZH/p0iUt9tC1a9cceoZJRffp06e8tI7SQM+kd1m6dCnHp2nYsCH/T+9uFHjb3fO9ycmTJ9lISfK7efMmy00aLNWNH8ym2dWy7EuyETpvXxV1R+Vbt26Zli94vhk4cKAWR5LKAbU3c+fOFYcOHeIy8fPPP7NRxmhyJU+ePA49+tSB9+zZs212Ujbq/xyForh//z4bpKic0ocGsXKiw1lZPXHihOYdTW2+o0GyiPWMGjduHJf/hQsX8uRN69atuX9ydXMOd1Fj8qqGGj2hoaHsbabvf1TSpk3rcBf61157jT279EaI+H7nNGnSGPaXrrZX8SVLPUmTJuV4Zs2bN+cwF5MmTdJ0PCqX9P3KlSu1zdKsKvfO8rRs2bKaMdOREc3TeuOsTpu9tzOskpvVuPOuZuqUr7dXAAAY9gB4YaCBT2BgIHfypPQ9efLEpRgX6gw1deZxBaq3ekChKtWecvbsWR4AepL2mjVrsjEzKiqKFVVS3EgOW7duZcOcPCeuHYaNoGukR17mzJlZYc2XLx/vLiZjQHnyrmqeO0MNCn3t2jVW0jyRvXpNZGSkze7LrjBgwAAesMsNSlasWMGfkJAQ9vqqXLmyqfOtZu7cubykTJW11e/oaVlOaNm4giNjsxn5gueXkiVL2sS5ErEeM126dNHikQ4fPtxtr2m13dJ7YxsqsTrPJBpEjxgxgnepdnXTAkfQ9XQ/RwPlIkWKiKFDh/KkyYMHD9hYMnDgQH7vJk2asCysnnRztS9R+xH97qiuGtSMDCMJ8c6etFe+Iku69quvvuKJHJLTjBkztHI+ceJE3szIinLvCmq+3Llzx2v1Ro837x0fcvP2u1pVp3yxvQIAxC8w7AGQgCRKlIgVSrmL1uHDh53Gb5GoW/oXLVo0XtKq7pal7kLnDu3btxcTJkxgpYKUsHHjxrHS64lS/8477/AmE5SWpUuX8vLWf/75RztH3RDAHcqVK8fxWOJDjnEhDZOeyF41EOfIkSPOTURIGVSXaqRPn54HIStWrODAynK2+fjx47xb4rBhw2w2MnH3fCuZNm0aG8jU9w0ODubYhQEBAaxkG23oYibN7pTlhJRNQsoXvFhQWfjhhx/Yc+bZs2fs3XTr1i23JkTUdqtBgwa8tNDZIF01HN64cYP7gRMnTvD/SZIk4V1K6R7UZ1B9i2spZYECBdhoOWfOHC7TVKeXLVvm0KOFnl++fHleLkrX3L59m71z/vzzT55oWrJkiUcTTFb2JZ48X91AR29ES8h3Tuh+2dP3SpMmDU/wxMTEaCsC1N3QzZR7s3lqRb1xhDfvHV9yi4939bRO+VN7BQCAYQ+A556cOXNqhr1Zs2a5ZNiTs74idnmFI0VHPytrBhrMSzyNpRUSEsIzhHLX0CFDhrBSEhoa6va9GjZsyIY9Ebsct1GjRtoy3CxZsnh0T2+hGsxkXjvi0qVL/Dd16tTasklPZK8+M0+ePDwb6y6BgYG8UQh9jhw5wgOT//77j3/78ccf2XiqLgt293wroIFSv379NMV91KhR/HzVe47S4Gg3P0/T7G5ZTgjZ+IJ8wYsFtVtp06bVvLzcNexRuyUnrj788EPx6quvunwtDU7loLpSpUoca0xdek79pitGhP79+/N5R48e5fa2bdu2bNx2VD+DgoJ4Q6ROnTpxH/7zzz/zUjxKCz3zk08+cUuGzpYkknwOHz6s9SWOPM1kPyJ0mzi5itrPqDtreuudE6pfjg9Z6vUWadjTx1nztNy7ivoeap5aVW+8WSe90V5Yjdl39bROJXR7BQDwHbB5BgAJTJMmTbTjRYsWxbnUY9WqVZoySoNrvaePGrdPVeQkDx8+9EiRUt37SZGKiory6H3ff/990axZM20A880333gU/JoUuNy5c2vpmT17tjaYrFevnk8ZSVTZhYWFaRsu6Nm0aZP2Dnnz5jUl+2zZsvGMsYgNlG12CUzhwoU5QLM0PN+5c8epkdHd8z1l//79WhDoOnXq8MfTpenuptnTshxfsvEF+cpz6R3h1ff8Q+2XOqGUMWNGt66XbbrQBcZ3BXVjGhrserojevLkycX48eO1TWGoXR4+fLhL17Vs2ZKN35Jjx465/fy7d+9qx/p4aeqEjZzIMkL1Xlf7EhXSNRxNNJGeYWQE8tY7W43aRkVGRjo0ClklS1d58OCBoVzNlHt9nl68eNGtPLWq3lhdJ13JQ6vkltDvaqZOJXR7BQDwHWDYAyCBqVevnqYs0oCoQYMGDnfuWrRokfjyyy+1/9977z27eBpqDLb58+fbzP4/fPiQA/2rS0BcJW3atFpw5KioKF6GqIfS/dFHH2mxxBzRu3dvzahBCttXX33l0aCfZCXp3r27jcHFlyCFS3pWxsTEcJwTdVmMlOmwYcO0/z/88ENTsg8MDORlxXKwTYqfIygtanpu3LghTp06ZXdeokSJbJa6yHg17p5vJffv39eOjQKbz5gxw3BQYFWa4yrLCSmbhJSvRO4SGB0drXkzgOcTatu6deumtSXUZqnxyVxB9Xj97bffnHqC6pdPOiurERERYubMmS6ng/pkGZSeGD16tFi7dq3NOQcOHOA+VU9QUJBb9VrfFxw5csSwPyfUeJyzZ882rFNLly7Vlvtnz57dZsdrFeoXGjVqZCerefPmaTpI1qxZecMmq9/Z26i7k6q7+npLliI2xhnpHlOmTDEMmUH1QzWiqHI1U+71edq4cWO7PP3777+17yiv1GdbWW/c6T/iurcreWiV3LzdVzp7VyvqVHy2VwAA3wU1GIAEhgb4HTt2FN9++62mENStW5dd+Un5ok738OHDYvfu3TYzgnpjlqRChQo8mLpz5w675rdp04bjeJGiTorF8ePHPU5rhw4dxOeff87HpKCGh4fzTluBgYFi8+bN7P5PA/i44tslS5ZMjB07lr1/KJ2kOA8cOJCXB7hr2NPPTBYsWNAuqLsv0LVrV827cvr06bzJB+Vzzpw5OU8mTpyozZbmy5fPxpPTU9n36NGDl03SwJGuobJFA7ng4GA2PlGZWLduHRuMKS29e/fm6+TyDMqfpk2bsocZnU8DvjVr1mjKoBx0unu+lah5vWfPHvHrr7/yu9y6dYvTRXIxwqo0x1WWE1I2CSlfCQ2G9+7dy8ddunRhwyddS2VSNV4D/2L+/PmahwyV50uXLonVq1fbeAt5sut52bJleeOjFStWsFGcjjt37sx9YebMmbnd3LVrF3tRbd++nfvFdOnSaWWV/ifk5EmRIkU4nQMGDDD0YHcG1dnWrVuL33//nf9v3749G3rkZBr1PxkyZBCffvqpqFq1KnvoUFsu21ERu8mIM2igXaJECVGtWjU2NFEdk0Y1ei910C1il/hVrFiR2/zbt29zGkh3oOfQvf777z/egVXy/fffO9wllaD8ev/997lfeO2117iuUh2X0LtJz2+r3jk+yJYtm3a8fv16MWjQIE1uLVu2ZIOl1bK8efMmlz/6UJ9Qr149bu9JXmfPnuWlmjJv06dPb9PHmyn3eqicU542btyYVzbQdePGjXOYp1bXG33/4em9XclDK+VmRV/pybtaVafio70CAMCwBwCIAxook8JICgkNeu/cucNLQ5wtDyGaNWvGSnjBggW171KlSiU+++wzViyItWvX2szcpUyZkgcRixcvdjudNWrUYGPS8uXL+f+5c+fyRyUgIMDhrlwquXLlYqOcjOcxefJkVkJJMXOVHDlysCFz69at2ne+5q0noXf74osvNM85uTOqkVxGjx5tN3PqiexJ0aTB9YgRI1jJXLhwIX+MUD0M5OCFlEL6GNG/f3+Pz7cSUk4//PBDbTZ88ODB/FFJmjQpe0voDXJWpdlZWU5I2SSkfCUNGzbU3nvfvn2acZoG1TDs+S+qwUMPlYcePXq41Zar0LVHjx5lYwgNzKlfdITqHdumTRs2ON6/f5+XkNPgX4UGtY7CIDhLy549e9jgdfv2bfaYX7BgARtGqG5fuXKFY1DKOJQqpUuXjrM/io6OZiPSP//8Y7Pkk2jevDnLUk+fPn3Exx9/LC5cuMBpctR+0ADe2fOpr6D0k4zHjRtnY/wRsZOEMtSA2m6afef4ICQkhA2m1OaQjMeOHcsfomrVqlo8PatkKWLDoNDn2rVr/HFUR6jsjBo1ysZwZabc60mePDlfL99Xhdrdpk2b2nznjXpjxb1dzUOr5GYWT9/Vyjrl7fYKAODbYCkuAD5CjRo1OAZK/fr1Rf78+W02wZBGG1K0SWmRM44nTpxgj6zevXvbxOj69ttv+Tt1GRTdr2zZsmzYUXdI1Q8c1N3S9LPTlIbx48fzzodqLD8Ru/SzYsWKbGxSN/Rwdr+3335bfP3119r/qrHR2XUqqpJK6atXr57bsicZyHgu7u4I5mo6iW7durG3XqFChezy9+WXX+Z3Wb58ueFOx57InmjXrh17hxUvXtxwmYU03EiDizTGUFpkzBaVIkWK8IxwtWrVPD7fHdT80O/OqA50v/jiCzv5BwcHs5dEixYt7Mq6J2n2pCx7SzauyMWdMursHE/kK6EBWKdOnWw8RETsbn7AvyhfvrzD2KXUJxUuXJgnldasWSNatWplOIB1pbzmypVLrFy5ktskoxh91I5ROzds2DCb3R/z5cvH5VHfflLda9y4MbetMv36NDhKG5XbsWPHam3ugQMHNK+rESNGGLbVdC8a5E+ZMsWwTqhQH60uCZXv98knn7AnvyODx4oVK7hdUZcryjpYrFgxlkPPnj0N42HKNJEeQH0DtUP6vGzdujX3Vfr+0Ip3dqX9cqWsxHUOpVW/GVmaNGlsvCDNylKfnqVLl7IcjHZnpfuRfrdu3Tq7PDdT7vXt6vz58+3em96NytTUqVPt8tQb9caKe7uah1bILS6oHZDpTJkypaXv6kmdSqj2CgDg2wRABAB4zrNnz9YLISpfvXpVCzBvFXS/06dP8wxftmzZ+CM73bNnz/IASg10S8rLrFmzbAw7z5494+WXly9f5g49derU2m+3bt1i4xIpSXroN1Ji41qycP36dTYuknJBSo2j8+O63927d9ljjH5XDV6upGP9+vXazGhoaKjH8WDu37/PnhPp06d3e+MNV+WlEhMTw/lL19Lgwt0g867KXuXx48fi3LlzXB4o32nw4WgnQHn+qVOn+FmkzJIC7Uwxdvd8F+sY1wFSPo2MYyqUf1Te6flyCZSIja1z+/Ztvl5vnHI3zZ6WZatl445cXC2jdD9qR4zaBE/lq15L70/1LEeOHHZLDIH3oHKYPXt2ziczy+qs6NOioqLYmKU39DqDyiWVHapD1E7mzp07zkkU6pOprFKZLFSokNamU/mT9dOdtMkyblTfqD5Qu0plnMo1lW93B8hXrlzhe9Dzg4OD3ZLPtWvXWD5UH/Pnzx9nnCxKJ8mBzpfGKuqLwsPDuZy4skGE2Xem9ovaJJKnkaHElbIi34POcfbOERERXBaoryxQoIDTsuOuLJ1x8eJFIXVDau9Jh3NHt3Cn3BcvXpzLJ72fDPEg85SerW4UEp/1xsy9Pc1DT9oLV5DlzRUd0ZN3dadOJXR75S1I94jVK34NCAj4Br03ADDsAfBcGPbigpSDyZMn85b6cqe14cOH22wo8SLw+eefa0tahw4dyrGCAAAA/D++YtgDAHgHI8MeAP4GDHsAmANLcQHwU5IkScLxM8LCwjio82uvvWaz9f+LQEREBAdsF7HLCWrVqoWCAQAAAAAAAADghQGbZwDg56RPn55j6slddV8k5s6dy14oIjZGobrUGAAAAAAAAAAAeN6Bxx4AwG9Rdw2uX78+BAIAAAAAAAAA4IUCHnsAAL9l4MCBHKA6a9asolSpUhAIAAAAAF4ofv/9d96w4UULxwIAAOB/wLAHAPBbihUrxh8AAAAAgBeRMmXKQAgAAPCCg6W4AAAAAAAAAAAAAAD4ITDsAQAAAAAAAAAAAADgh8CwBwAAAAAAAAAAAACAHwLDHgAAAAAAAAAAAAAAfggMewAAAAAAAAAAAAAA+CEw7AEAAAAAAAAAAAAA4IfAsAcAAAAAAAAAAAAAgB8Cwx4AAAAAAAAAAAAAAH5IYogAAAAAAAAAAOKmU6dO4vz586JkyZKiW7duEAjyCQAAEhwY9gDwAQ4dOiQuX75s811AQIBImTKlyJ8/v8iSJctz985hYWFiwoQJ4sGDB6JHjx6iWLFiPpO2x48fi5UrV4qoqChO1yuvvIJC6sflwpfLGgC+zu7du8WNGzfcvq5o0aIia9aslqeH6vG2bdu4nVZJliyZCAoKEnnz5hWJEiVCxsUz4eHhYvv27eLMmTPi9u3bIlOmTKJ48eKiQoUKImnSpHbn9+nTRxw8eFBUrFhRdOjQwa/elfQDesfIyEgYjJBPAADgE8CwB0ACc/XqVVGnTh3x7Nkzh+eUKFFCfPHFF6J27drPzXv/8ccfYu3atXy8fPlynzK2nDt3Tnz11Vd8XKVKFTF16lQUVD8uF75c1gDwdVq3bi1u3brl9nXUhnbp0sXy9IwYMYIN9Y7IlCmTaNKkiWjbtq1IkSIFMtDL3L9/XwwaNEjMmDFDPHr0yDA/+vXrx3qO5MSJE+L333/n4127dokvv/xSJE+eHMIEAAAAPAQx9gBIYKKiopwa9Yh9+/ax4jt06NDn5r0zZMigHb+Ig68vvvhChIaGilatWuGdvVwu4rrni5gXALhK4sS+NQccHh7u9PfIyEgxduxY0ahRI488DYF7dOvWjSdPpFGPykuaNGls8mP8+PE216RNm9amTX6ePCzDwsLEG2+8IV5//XWxYcMGFBAAAADxo69BBAD4DmXLlhUjR45kQ9/Dhw/FgQMHxM8//ywiIiL49zFjxoiaNWvyEid/p23btqJAgQJsdHnrrbdeuLw+dOiQuHTpkoiJicE7e7lcxHXPFzEvAHCVRYsWiTt37th8Fx4eLtq0acPHRYoUMZx0ypUrl9fTNm7cOPbAffToEYez+Oeff8Rff/3Fv1H/OXjwYO5DgXfYvHmzWLhwIR8nT56c5V2nTh027pHeMm/ePDFx4kQ74/DLL7/M+XTs2DHWe5IkSfLcyITqxrlz5/j44sWLKCQAAADiBRj2APAhUqdOLXLmzKn9HxISIqpVqyYaNGjAS1eePXvGSwmfB8NeUFCQ+Pjjj5HpwOvlAmUNAM/JkSOH3XeqxxUdJ1Qc0mzZsml9Zr58+TheW3BwsOjbty9/N2vWLPYoS5cuHTLSC+zatUs7/vrrr8V7772n/Z8lSxZeadCqVSv22tNDeUUfAAAAAJgHhj0AfBwakFSvXp0Ne8Tp06cNz7t9+zZ7KBw8eFDcvXtXFCpUiAdb+fPnj/MZZ86cEXv27BHHjx/nJTRVqlRhL4x79+6J9evX80Yeb731Fgcnl1y5ckXs2LGDl9C8+eabhkscz58/L/bu3cuBs+l6dVaeFP2wsDA+rly5Mhs1JdeuXePfkidPzobNBw8esFcApTNjxozsEaD3BjHz/u6iTx/JJzw8XGzZskWcPHmSvcNKlixp9+xnz56xh8OTJ094CbaIjU+kLtehQbRRmt19P3dkeP36dbF161Zx9uxZjqVFeRESEsJLidQBvBH03pSmo0ePcjB7GmRTfsoNX9x9Z6NyERMTI/7991/2yqH3prQ5gsoryYoG+TKWntE9XU1X7ty5+dnR0dGiYMGC/HEEXUvPpvwvXLgwGi8AYrl48aI4cuQIf6idoDpMn+DgYBEYaG1UmNatW4vhw4dzvX769Cm3yWXKlOHfqI2m9q5EiRJct/fv3y9Wr17NbQu1F2ocOCvSTm2XbB+pP0yfPj33Da+99prDa2Wa6TrqkzNnzsz9MX3UJa56qI3ftGmTOHXqFLd5mTJlYm84+lhxvhF0rSR79uyG55BuYGQc3r59O+sRefLk4U02VPT59PDhQz5/27ZtfD86n/on6nslhw4dEuvWrWO9hWRF7+Fo85aNGzeKmzdvcr9D5xqxdu1aLkNx9TmqvkP9K+WbhMqM7FMov8uXL2+jB1H/Q2WQ9K+IiAj+jfpleqajWLB62VAZo+upDycdja4rXbo0b77mDE/LmZl6YYXczZZbeufDhw+zrEh3NdrYhbh8+TIbrhMnTsznqfovAADAsAcA8Ag1RpiRcjFjxgzx448/svFBz9tvvy2GDRtm6LFA53fp0kUsWLDA5vvBgweLhg0biqpVq2qbSCxevJgVSclff/0lfvnlFz6ePn06K9l6pkyZogXI1l+/aNEiTjMxduxYmwHVkiVLtN/ovO+++46VMcm5c+dslld5+v6eoqaPlOxff/2V06Dn22+/5bTLwQe9Q7NmzWzOoUFIixYttP8rVKgg/v77b9P564oM27Zty54tK1euZCVfT8aMGUXv3r1FvXr17H6jgfDIkSM57/TXkiJMg+vu3buz8u3OOxuVi/DwcI6DR9BALSwszGZAJ9m7d69o2bIlH9euXZuX6Tm6p6t5MWjQIPHZZ5/x/1myZOGBpdGghZ4tr6VBwB9//IGGC7zw0MD7+++/1zav0VOuXDneDMORUcgTqH7mz5+fY9OK2EkRCbUj9H/Tpk3ZKDJw4EA7Y9PLL79sSdoPHDjAu73KSTmV4OBg7j/13veXL1/mdpnSoSdt2rTcN9eqVcvut3Xr1omuXbuyocwonbNnzzZ1viPUd1++fDmvLnCVTz75RJsIWbNmjc1vaj7Vr19ffPrpp2wQUilbtizrF4kSJRI9e/YU8+fPt/mddCXKH72x9tmzZ6J58+Z8XKZMGbvrZJmhPsyd9px0kqVLl9p8N23aNP5IZs2axcY9gvo8KgOOYkZWr16d75kpUyaHsmnSpAnLRoZrkeTJk0dMnjyZZevIaOVJOTNTL6yQuxXldsyYMZrO+9NPP2lp0kPPWb9+vaH+CgAAvgg2zwDAD5DKBaFX1Lp168YGFGn0yZcvH89myx3mVq9eLerWrWtnFJJKlmrUU40lc+fO1Yx6ceFo84+4NgVxBVJaVYOU0AVz9/T9raJZs2aGRj1i9OjRNkp96tSpDQ1SeqXaivx1RYZDhgzhwdjTp085XaSIh4SEaPe+ceMGGwRVrwxJmzZtWEGWRj0aRMnrHj9+LCZNmiT+++8/j95ZDw1SpHeh9BQ1YsmSJTaDPme4mi4a/JPMCRo8bdmyxfBcUvwlb7zxBhot8MJz/PhxjgmrGgCo3qm7n27btk3UqFGDz7WS+/fvGxqf1LZCb9RT+xazaac2ql69ejZGPXXyhdrjHj162MmL7ieNLfS80qVLa95ud+7cYaOOfuLn7Nmz3FdLY0fhwoVFpUqVNK9pSueTJ088Pt8ZqrGD+qKuXbvyBIlVLF26VHz44Yd2Rj1i586dbDht2rSpoZGI+kR6T2dly0rdxZXJQ9nXnT9/nidVpVEvVapU7A0eFBSknbtq1SrRv39/h/eivrtx48aaUU/tzyiPSTcx2qXY03JmZZ32RO5WlduqVatqx/pJbQmVt40bN/JxxowZHXoXAgAADHsAAJcgpY8U102bNmnKX5MmTbTf9+zZowUKJ4WQBivr1q3jv5s3b9Zmhkkhmj59us29//33X02xS5IkiRg1ahQvFyLlXM6Y+gKktCZKlEj06tWLl7SMGTNG8yAz8/5WcebMGV7K0b17dx7M7d+/nz0MJJMmTdKUVUrjgQMH2LsrW7Zs/F2GDBn4f/mh97Mif12VIQ1GOnbsyErxli1bOP/pPeQmE48fP9a8LtUBnFxeREr9b7/9xktbqPzQAEsa1ehad9/ZEe+//76hAU8dEEhvicDAQPHuu+86vZ876WrYsKHTgYD6bJJz3bp10XiBF56ffvpJMzrQwJjajYMHD3JbQfVIxsa7e/cue8Zaxa5duzSDGrXNRuEK6JlEyZIlOUSB9HBOnz696bRTe0D3ovaPqFmzJqeJ+gZqc7p06cITIfJ3VV7Su7BVq1bscUjPorZ++PDh2hLOYcOG8dJUCaVfGjL79esnVqxYwZNN1L9T2/zBBx/Y7Drr7vnOePvtt3lZsWTmzJkcyuOPP/6wSaOnkDwePXrEkyWU7uPHj7PxULJmzRpuqxMnTsx9MB1v3brVZhmrvv/yFn379uXny/iOInZiTvYnlP/6WJQVK1bkyT8qW6tWrWJv9KlTp2p5Tf3ptWvXHBqfoqOj2VON9ISTJ09yPkoD49WrV20mnMyWs4Ss01aW2+rVq2tLjXfu3CkuXLhgaDSVRkLqz31tZ3AAAIBhDwAfhxTSt956iz/FixfnpYByJjpVqlS8tPCll17SzlcVp5EjR9rEqaHz6DsZP4SURZXx48drxzQIee+993jWNSQkRPTp04eVZF+B3vOTTz5hz613331XMxyZeX+roPtPnDhRfP755zxzTEo1pStz5sz8+/nz5zkejoQUygwZMmiKIv2l/+VHjfdi5fsZyXDAgAGsFLdr105bfiZivQpIcVaNlypDhgzRjkn5r1atGr9HQEAAL7GZPXs2ly9peHTnnR2hLgdeunSp3cw8DZwvX76sDZbkLL4zXE1X/fr1NW8IGkzoBzs7duzQvAhoAKrWUQBeRMLCwjRP86CgIPYAp76F6hENvkuXLs07pkpPnzVr1rDRyyy7d+8W7du31/5/5513HA7KCxYsyIaBUqVKcdvaqlUrTpvZtFMbIf9/5ZVXbPptalu/+uorNuL88MMP2jXbtm3TnkntJvXJarobNGjAnmkidqJm+fLl2m9q3F3VG4nSS22z3sDi7vlOBxGBgTwBQjKUUPp69+4tQkND2eBi1lue0kj3oWckS5aMN+RQPbIpTygN1AdTu50tWzabUB179uyJlzKfJEkSfr4an072MfRRPfpy5crFxr6//vqL+ww1vEOVKlVs+ju5w64Rr7/+uvjzzz+5z6PyUqlSJZvyr25uYracJVSdtrrcUvrUib9FixbZnaNOHqoTtQAAAMMeAMAlSAE+efIkf9S4QMHBwTwQqFy5svbdkydPeLaRKFSokGZEUSHlq2TJknx84cIFzUPg6dOnmrKbKlUqw7g4pCSrXlIJRd26dUWjRo3svjfz/lbSs2dPjgWjN/apMQevXr3q9n2tfD9HMkyRIoXNEhqV7Nmzc9kQsctf1TIql9jQOdWrV7e7lpT8WrVq2WyIYha5BFnExvjZunWrze///POPdmx1uSU5y90bo6Ki2NvV0SDAF+oMAAmNGj6iVatWhoH8X375ZZv4Z54YAYYPH87xvqi/osE9DcLPnz+v1VsZW9PICDNq1CjDNsps2tXjli1bGsbkzJMnD3taqQYXiSOP+Zo1a2rH6mSLupHUkCFD4jSkuXt+XJAsZs+ezZ6IqvGK2um+ffva5Im7ZM2alSeJ9JM/VapU0Y7bt29vFw+uaNGiWmxiOeHja6ixk/WomzQZxZOTspk8ebJdH071wJHuYaacxVedjo9yq+q8CxcutPlNbjxG5M2bF7H1AAB+A3yLAfAhaCDyzjvvcGyzvXv3arHNTp48ycskGzdurJ176dIlLX4KKSLdunUzvKdUzJ4+fcpLe0k5ioiI0IxApUqVcmjcsXLDCU9RlUwVM+9vJY68s1SPsVu3brl9Xyvfz5EMVaiMXbhwgcvGzZs3eTmZagiW0ABNLi0uXry45TtaOuP999/n5Uwi1phWqVIlLX1yKSyVZVfe110aNWqkLYlfsGCBNnh58uSJWLZsGR+nSpXK0NAJwIuG6mUkjeJGhIaGspePbFvcRd3FWuXNN99kz3NH8Tvz5MnDEybeSPvZs2e1Y9WTzRmqAWX27NmG76VO9qnLB2vVqsVegdReL1y4kI0SrVu35jZLv/GCJ+e7QtKkSdkTsXnz5hwWYtKkSazHEAcPHuTvV65cabh7vjPSpEljuGGY2r866oPpe+rL1HiLvgilj2REfS99oqOjtUk9ff+rl42R7uZM9zBTzuKrTjvCynJbtmxZbgOorp44cYJ3VJZx9EiXkDLHRB0AwJ+AYQ8AH6JgwYLsASaVueHDh/MGDESvXr1YmZKBwFUlKzIyUovF5qrRyEgJ9NeBo7vvHx84Mpb62vvNnTuXy5g6GHU1XfFddt59911eIkx1Y/ny5RxYPEmSJLwUVsb9qVGjhuZpaCU1a9Zk756oqCj2XKDBT7p06dhzUC61pnPcHbgC8DyitidZs2Z1eJ5qeNPv7OkKNDineyRNmpQ3usmbNy+HAwgNDU2wtHvSRqrX6D2CDZV3ZflkkSJFxNChQ3ny58GDB+zhNXDgQNYfmjRpwp50qmeiu+e7g1xq/NFHH/E95cZS9H4TJ07ksA+WDF5ciHkmY8X5KlRmRowYwUtBrdxwxJnuYaacxVeddoTV5bZhw4Z8PxHrtScNe/DABwD4KzDsAeCjBAYG8hKjffv28e6iDx8+ZMVYLi1SgwTnyJEjzoD9OXPm1Ly51Blgo13T/AEz74/3+3+mTZumGZLlc4KDg3kXuICAAB5w6Jf3qrHt4rvsZM6cmZc4b9iwgQ1rGzdu5Fg73lyGqw6W3nnnHd4pkN576dKlHItIfTZi8QBgj6s7rHpiFP/ll1+0cAS+knZP2ki1vW/QoIFNzFMjY4u+naP/y5cvz0sz58yZw+1jdHQ0x1/bunUrGyvUNLp7vrukSZOGY7jGxMTw/YVBvLcXmRs3bnD/ITd5SZIkCS/5pHynvub48eOWLmO1qpzFR512hpXllvrrYcOG8QoE0nW6devGS5elt2TZsmX9SmcEAAAY9gDwcTp27MiGPRG7dKJTp048K6kqHHny5OHZSldRlTlH8VvcURDv3LkT73Ix8/7+gLffjwZccoMMUuBHjRolateurW0SQVC50+/IlyNHDtNlx6xiL5cPkRJfuXJlbSlspkyZbGIbWk3Dhg3ZsCdil+M2atRIe3aWLFlMeQkB8Ly1X4cPH+bj8PBwhx4+qvc4tXPPQ9qpjTxy5IjWRrritUfPlLvUf/jhh+LVV191O91BQUHs2U86wqxZs3gDifv377PxaMaMGbx5kpnzPW0zpWEvIfoLI6iPCwwM5AnOhNBdiD///FMz6lWqVIkN1OqSYpK/Nwx7ZsqZ2XphldytKrfZs2fnPnvz5s1s0AsLC+MluRJM1AEA/A1sngGAj1OqVClRrFgxPiblZcGCBXycLVs2bakJKYDuLOVQFbI9e/YYKlkxMTFaPDMj5K6vekVO8vDhQ68ophIz7+8rgwsRaxQ12vTC2+9HeSuDT9epU4c/qlHPETlz5tSOaYAQFRVl2Tu7Qo0aNbQZ+VWrVrHxUS6FrVu3rktLtDxNFw2CcufOrb377NmztXhE9erVi9d4gwD4MurEhDR+G6F6vObNm/e5SLvaRq5du9alZ8p2Reg2OPCE5MmT86Ydo0aN0r47duyYZee7w4MHD2wMKb6CNKJduXLF0Ptsx44dpvt2ERtGwwj1/v3794+3ndTNlDMr6rSVcrei3DZs2FA7XrhwobYMl3QvdRMQAADwBzAKAcAP+PDDD7Xj6dOn/3/lDQzUdtW7ffs27xzniGfPnmkbHojYQNfSu+jx48e8xFclOjqaY+Hs3r3b4T1VL4T58+fbLO99+PChaNOmjVeX3ph5f19A7ohHspYz9/H5fmpAcaMA1zNmzDAclKRNm1YLOh8VFSUmTJhgd86ZM2c4xtKWLVvcemdXSJkyJRv35PM7duyo/VavXj2v5IWKupte9+7dtWPE4gHgf6g7uM+ePduwXi1dulRb9pY9e3avetvGZ9rV3W6nTZtmtzMptdWTJk3iWHQS1dv3t99+s/OUVtEbRA4cOMB9rp6goCDtWJ3wcPd8R9y7d4/bvSlTphguOY6JibExushdzX0Bqb9QH7JixQqb3/7991+bvPG0PxGxG4e42/9GRESImTNneuW9zZQzK+q0GblbVW5VatWqpcXknTVrFoe+EbGb76RPnx4NOQDAr8BSXAD8gLp164q+ffuyUnP06FFWnMqWLSt69OjByydpoEAKNCmIjRo14jhpjx8/ZgPLunXrOH4I3aN3797aPZs3b64ZXkaPHs2KZrVq1XgXtTFjxtgsSTCiQoUKbOS5c+cOp6lNmzaiRYsW/ExSSo8fP+51uZh5/4SGlN69e/fycZcuXVihJdnTu0hDrjff75VXXtGO9+zZI3799Ve+B6WBFFwakDqiQ4cO4vPPP+djSld4eDgryIGBgbysha6Njo62W8riyju7Qr169Xh2XcTGKhKxngGextpyJ10NGjTgYN0qBQsWtJEnAC86lSpV4s2eqD24ffs215tvv/2W6yj1Y//99x8btyTff/+94e6n/pj2GjVqiMKFC/Ny3OvXr/OmP+3atRP58uXjNpzaxwMHDth4T1F/XrNmTTZ2UJtGx507d2ZjWObMmfk+u3btYm+o7du386Sb3LWe0pchQwbx6aefcszRl156iftftT9Q20Z3z3fEzZs3OR30GTt2LLfL9N5077Nnz/JyU7kLa/r06XmDA1+B8kga3Sj/IiMjuR9YuXIlT1SaiR+bLVs27Xj9+vVi0KBBWnlq2bIlr5ig/kJOnA4dOpT7miJFirAX3YABAwxXQViBmXJmRZ02I3eryq1KihQp2DNv9uzZNt9jGS4AAIY9AIBXSJMmDQfunzt3Lv//999/s4JGymGHDh14ZzVSDBcuXKgZPPToFSZSsOhDCpWInb2lj9Y4JE7MCp2jpSSpUqUSn332mbar2Nq1a22WHaVMmZINhYsXL/aaXMy8f0LTsGFDnt0m9u3bpxnKSHmWxiRvvh8pxfQc6RkwePBg/qgkTZqUvS6MBkW1atXinWlF7M66smxKAgICbJakufrOrvD6669zPD21bHrqreduunLkyMFG7a1bt2rfwVsPAHv69OkjPv74Y3HhwgU2BPTv39/wPBqo+1odMpN2avt+/PFHjvV1584d9thTvXsl+piCPXr04Emys2fPsoGlc+fODtOnhgxIliwZL23s16+fFjdVpXTp0jZpdPd8R2TOnJk/165d449q1FFJkiQJTwCpBq+E5qOPPhJTp05lOd+/f59jtqlUrVqVJzf13pauEBISwhthUF8SHR3NRk/6yPtmzZqVJ0Lnz5/Pz96/fz8b/FQyZMjAhlNv4Gk5s6JOm5G7VeXWqP9XDXtp06bldAAAgL+BpbgAJDBJkybVYrI4282refPmWgwvOQtOtGvXTsybN49nXI2WIUgDjjRWSOjccePGidatW9ssHSGKFSvGhpp3333Xadq//fZbni0lRUiSKFEiNjouXLjQZidXek+V5MmT2yhsrv6mx9P3N5MnrqQvrnNIcezUqZMWR09SoEABS97PlTSSkv7FF1/Y/R4cHMzeFi1atDDMO5LN+PHjxQ8//GATa1HELiGuWLEilx8qB+6+syvpJjl88MEHNuc5m2G3Ki8kTZs2tZGFGaMiAP4I1RXZH6VMmdKhgWPFihVcX/R9DLUp1M9QO9OzZ0+X4ntK1DZZrduuIOt/XNeZTXu5cuV4siA0NNSuXaE2m9p1fQiMXLly8UQbteUZM2Y0bPeoTR02bBhPbEhGjBghihYtaviubdq04aWyahvu7vnOZEnvSNcY7a5K96B2ed26dTbLOF3Ji7jyyZV+QpYTo3tQni5ZsoTlqeYf9Wdt27blSU4ZD87o/nGlj2QsYyNL0qRJoy0bzZcvH5cffT6kSpVK/B975wEeVfH1/0mAECD0GkIoAUILSAdpQbogVUBEAX15KQI/FClKk15EEAuigErRn6govUgPGDpK772EEAiQ0BICJP/nnDdz/7O7dzdbs7vh+3mehZvd26afOXPOma5du/KimWxfxs+wpg5bOsfeeuaMduFIvttTb63Jq9q1axso2du0aeMx1sMAAGALPsgCAOwnJSUlQggRHhMTo21EYA+PHz9mV4Y8efJYDMAvzyMB0XiyIFJXV69cuSKio6P5HBK2ze1cZszFixf5umLFimkuQuPGjROLFi3i49WrV/MqtJl8YBcjup4Er4CAAO23uLg4VvbR+xhDv5FwJ109rP3NHI6k39Yyseb97t27x0KyXtol9IwLFy7w8yjv1XgxjqbP2jykd6Dyi42N1VypRGqMnfj4eJ5sWBJ06bpz586x8EwTFmueZynN1r73/fv32VKR6ltagrg197S2LCIiIjQLC5q4uyoeEgDOgPrfoKAgbs/OdPGj9kJtJa1xS3L79m1uX9S/lC5d2q6NbuR4Q+2Z2rw5paI5aJx++PAhL0bpjaGueHfqo86fP8+uj9Rn0/XWKDJp/KBnUr+fL18+HpfT6odpfKByob6L+jBLCjpbz0+L69evCykLFS9enC30LNULS2VhTTnJjYvM9emUb3L8sqTYefToEbtN07NCQ0O175OSkvgd6P7UhuypR7du3eKxlZ5ftmxZ3fKjPKNz6D3Lly+v5Rm1Lao7xumz5tmybdI5adVVW+uZs9qFPflua721tpzat2+vheNYtmwZK/tA+kNybar8+Y2Pj88g5AgAUOwB4HWKPU/FWsUeAC8S/fr10wJ/z5w5k+MeAuCpuEqxBwAA3s6pU6c41qBIDbURGRlpkwUxcB5Q7AHgGHDFBQAAAKzk1q1bYvPmzXycNWtWjjUIAAAAAO9Dtbjv2LEjlHoAAK8Fij0AAADASv744w+2fBKpm4iobucAAAAA8A4SExPFihUrtL+xERYAwJuBYg8AYBZ15RKrmAAIsX79eu3Y0oYdAAAAAPBcIiMjOVYvUa1aNY4TCAAA3kpmZAEAwBz9+vXj3f2yZs0qKlasiAwBLzzTpk3jIPFFihThiQAAAAAAvI+XX35ZLFiwgDfWqFq1KjIEAODVQLEHADBLYGCgxV1aAXjRqFy5Mn8AAAAA4L3kyJFDtGjRAhkBAMgQwBUXAAAAAAAAAAAAAAAvBIo9AAAAAAAAAAAAAAC8ECj2AAAAAAAAAAAAAADwQqDYAwAAAAAAAAAAAADAC4FiDwAAAAAAAAAAAAAALwSKPQAAAAAAAAAAAAAAvBAo9gAAAAAAAAAAAAAA8EIyIwsAcIhi9E+uXLnE8+fPkRsAAAA8Ch8fH/7f19dX5MuXDxkCAADA48iSJYs8LIvcAMB2oNgDwDHy0z/ZsmVDTgAAAPBYfHx8REBAADICAACAJxOILADAdqDYA8Axrgsh8jx58kQkJycjNwAAAHgUPj4+wt/fX6SkpIjExERkCAAAAI8jc+bM0mrvHHIDADvaELIAAIe4Q/88e/aMPwAAAIAnIRV7RFJSEjIEAACAR5Kq2ItGTgBgO9g8AwAAAAAAAAAAAAAALwSKPQAAAAAAAAAAAAAAvBAo9gAAAAAAAAAAAAAA8EKg2AMAAAAAAAAAAAAAwAuBYg8AAAAAAAAAAAAAAC8Eij0AAAAAAAAAAAAAALwQKPYAAAAAAAAAAAAAAPBCoNgDAAAAAAAAAAAAAMALgWIPAAAAAAAAAAAAAAAvBIo9AAAAAAAAAAAAAAC8ECj2AAAAAAAAAAAAAADwQqDYAwAAAAAAAAAAAADAC4FiDwBgM2vXrhVvv/226N27t7h16xYyxAp27twp2rdvLzp06CCOHTuGDAEAAJDhSEpKEgMHDhRvvfWWWLRoUbpf/6IyaNAg8dprr4lx48Z5zTuTLDRgwADRtGlTUadOHdGtWzdx4MABFCYAANhBZmQBAO4hLi5O7Nmzx+brcuTIIRo1auTWd9+5cycr9wgSwAsVKqT9FhkZKb766iuRkJAgJk2aJKpWrWrz/Z1xD0/j5MmTYseOHXx84cIFUblyZZuuvXLlisF3mTJlErlz5xahoaEib968aFAZjIzSBi5evMj9XHJysihevLgIDw9H4XopDx8+5LJ89uyZwfdZs2YV+fLl4z6N+qWMxkcffSSOHj3K4+7IkSMzVNpSUlLE+vXrxZ07d7gcmzRpIgoWLOjQPR89eiT++9//8nFSUpJ45513nHq9M8ojI5YpyWQkV96+fVtMmDDBpmuvX7/ObZtkk3v37nEdqFatmmjYsKHw8/Nzyftu2bJFvPnmm+Lp06fad2fOnBGBgYGiVq1a6HBt4MCBAyI2Ntbm61566SVRtGhRZCAAGQQo9gBwE7///rsYMWKEzdf5+PiIGzduiGzZsnlkuubPny82bdrEx6tXr7ZLIeGMe2QUSEgn4fr58+dmzwkPDxfDhw8XDRo0QMPKIGSUNvDuu++KI0eOaH/v37+fldHA+5g6daqYO3eu2d/z5Mkj2rVrx0qFjLLYcObMGTFv3jw+3rdvnxgyZIjw9/fPMGX6119/sWWcpFOnTuLHH3/M0OWR0cvUFh49esTtdeHChQYKNkmBAgXEzJkz2dPA2UycOFF7Zp06dUT16tVZQZUrVy50tjbStWtXVsjaCtV9b7LwBABYBq64ALiJzJnt16v7+Ph4bLry5cunHWfPnt3k9549e7JlR5cuXey+x4tEXFycRaUesWPHDnbzhdtSxiEjtIFTp04ZKPWI3377DYXrpdy8eTPNvmrJkiWifv364urVqxkizblz5zZohxnNItG4Pa5fv17cv3/fa8sjMjKSLc2qVq0qtm7d+kKWqS188MEHvIgkFWwkl6qKtdjYWPHll186/bnR0dFsMUlUqFCB6920adPYik9aG1pTlsDx+QQAIAP1BcgCANxD9+7dRe3atdkVRmXixIli8+bNfPzFF1+IGjVqGPxOgqgnry4PHz5clCtXTuTPn1+0bNnS5HcS5q5duyaePHli9z1eVOrWratZGtDk6+DBg2xBc+7cOVb+Ub41btxYlCxZEpnl5WSENvD777+bfLds2TIxZswYj16cAGmzePFinnBTv0OT/x9//FH8+uuv/NuNGzfEqFGjxM8//+z16SxSpIhYtWoVK6nr1KkjsmTJkmHKMD4+XmzYsMHgu8TERLYQfvvtt72yPKKiosSlS5f42JxyOSOXqS3s2LGD+2MiW7Zs4uuvv2bLvMyZM4uYmBixdOlS/s4VSqPo6GjtODw8XFe5ak1Zgv9j69at3J6N869bt258XKVKFfHNN9+YXAdZEYCMBRR7ALgJf39/ERYWZvK9Gt+mbNmyNsVi8wSCgoLEe++95/Z7ZEQCAgJEiRIltL+pbrRt21a0aNGCY5k9ffpULFiwQEyZMgWZ5eV4extISUnRJo2UFurXDh8+zBO0PXv2iHr16qGQvZhixYppfVFISAgvUtWtW5ctgESq5deTJ084bpu3Ex4eniFjQ65atUpbYHvttde0uLm///67xyr2nFUeGbVMbWH//v3a8Ycffig6d+6s/V24cGFuy3379rUrdlta3L59WztWrdOBfRQvXtzkO9UylY69bS4BALAdKPYA8EJu3brFbgr+/v7i1VdfFY8fP+ZJ9IULF9jCp0OHDtpKHAlQf//9Nyt+7t27J3LmzCnKly8vXnnlFYOBX4/z58+Lf/75h1e2y5Qpwy5WpUqVsngNCYH0bkTTpk35eTTJ37FjB1t3PHjwgH+jd1bdK0gwKVu2rNl76EH3oHc7duwYr+wGBQWxW0dYWJjZGE/Geefj48OBo3fu3CnOnj3LeVOjRg3tXSwJpvbmqzMpUKAAxzEbO3Ys/33y5Em76okjeSp59OiR2L17N8cwunv3Lj+jdOnSBhYRNGGQCm1X1mO9cqb0bNu2jS1Gqb61adOG30dNO0126f0LFSrEMX9q1qypa7Hg6vtbagPOqsO2lpct7Nq1i99JpMbtCgwMZMWeSHX/M6fYs6fOxsXF8b2PHDnClqyVKlXiSUxa6QfOpUuXLmLYsGG8uUZycjK3Veo7VOh7qm9Hjx7lfobaQZUqVfiTVmythw8fin///Zc/VOZUz9u2bcsbSlH5Ux2h76j8VbZv3871m+oDPUePTZs28dhE19I9VKiNREdHswKzWrVqBr9Rm6O+idoyjY2HDh1ipebTp0/ZotE4Npm96ad2EBERwdbZ1DdQv1+3bl22OLMXaVFL7X327NmcTson6mejoqK477cE5Rell8rjyZMn/C61a9e2+vn2Xq9XHpcvX+byV13/jx8/rskYvr6+HINW9m2WylTl6tWrViWjmAAAXTVJREFUfJ8TJ05wmVJ9pk9oaCjfUw/jOpGUlMSx46hfy5o1K9eLWrVqcb01B8lKlDcHDx5kF3h6b+r3qH46K94qjRWS4OBg3XOyZ8+uqzSyN49obKTnqjvfkpwpy6lgwYLcDqwpy/j4eK6rBMmm6iZuktOnT/N7BQQE8AKonqX43r17eawqWrSowbhkTxmkV3/gCuyp6wAAAECGISUlJSIlJSXl4cOHKXFxcU75dO/ePYVuTZ9169bpnjN9+nTtnK1bt6aEhoZqf9OnV69eKcePH09p165diq+vr8Fv8pM/f/6UBQsW6N7/5s2bKZ07d9a9rn///invvvuu9ve2bdvMvtuiRYv4u3379uneS/00bNjQ4j2MPz/88ENKrly5dO+VLVu2lFmzZqWZd8eOHTNIi/oZNmxYyr1790yutzdfrUmT3ufAgQPadc2aNdM9Z9myZdo51apVs6meOCNP6bNkyZKUwMDANMu5ZMmS6VKP1XsfPXo0pVu3bibX+vn5pcyfP5/P//PPP1MKFSpkck54eHjK5cuX3Xp/4/riaB22t7xs+fTo0UO7R0RERMrp06dTfHx8+O88efKkxMTE2N23qefPnj07xd/fX/fdW7durZu3L9onPj6ehqmU5ORkh+7TqVMng7LROycgIEA759ChQwa/nThxIqVevXq6ZZU7d26uk+aevXbt2pS8efOaXFekSJGUlStXcr9Hfzdv3tzgOqr/8tzatWvr3pvqiDzH+Hr6UH2l38qXL2/2t3feeSdlwoQJJu936tQph9NP/XvRokV1r6tfv75dZUn9hrxHq1at+Du1Hxk/frzF69esWaOlXf0UK1YsZfny5Rbz09Hr9cqjQ4cOafZlVIesKVP6nD9/PqVFixZm70X5Tnmod61aJ6idFC5c2OT6kJAQlov0rv/qq684H8w9u02bNvx+5p5brlw5q+rAhx9+aNBX2lqH7Mmjnj17Wiyj4OBgq8vy22+/1f6mvNZ7x7CwMO2cLVu2mPx+9erVlMyZM/PvVatWdVoZuLI/sPZDcomefO3Muu7sz+PHj1NSmYMZJgC2AxU8AF5O9+7dDVZeRWog3UmTJnGsnOTkZF6lDA4O5tU3uZvunTt32NXv3LlzxspK0bFjR/HHH39o36mrnN999x3voGYLAQEBacbUssXK7eOPPxa9e/fWgnzTvVUX5oSEBDF06FAxePBgi/fp0KGD2bTMnDlT/PDDDybf25uvruTRo0fasbmVd3P1xBl5+s8//7DVoIybU7FiRbOxW6gupEc9Vmnfvr0W/0slKSmJr50yZQpbG926dcvknB07dmjuhe66v7PrsDPKyxKJiYlsmShS3TSrVq3Kca0aNmzI38XFxYmNGzfa3bdJKN+GDBnCzyPKlCnD1jeybqxfv140adLEYjxP4Dz27NnDVnUiNdSEaulz+vRptqrZvXs3/50zZ062WpLnxMfH88ZKS5YsMbnvli1buJ6ruz7K8eTmzZvsQnjo0CFrFuJs+t6W85YvX667u6S0ELM3/RcvXhTvvPMOxy0kwsLCOI4qtSeRahmb1uZKeqjj++uvv87/qxta6cXHlGzevJllBGrHxuVx/fp1ttC1hKPX65VHnjx50jxfT8bQK1NZVnJXcllesl+R+U7n0LnmoHGrdevWHK/OWI6icqU6bbwT7eXLl3mMldbO1P9S/6xaT65bt47jlDpK9erVtWPqK99//32t/aaFvXmUlhUalZG1Zala16nvIbl9+zZboFk6JyIigi2MiZo1azqtDFzVHzgbZ9V1AAAUewAAJ0BCY6ZMmVh58O+//3IQ865du7IQSQLSqFGjNNdKmnjR4NyqVSu+lgSa7777zuB+GzZs4POkEPL999/zpGLv3r2iX79+dr0jCURXrlxhYbZYsWL8Xb58+fhv+aH3toaDBw9q7+zr68vpvnr1Kit2Lly4wLFiJCQUSfc/Peh8Pz8/3rDkzJkzLNC98cYb2u9z5swxEfztzVdX8tNPP2nH5twmzdUTZ+Tp2LFjtckl3YeEVTqHJuTSPYYERcqrnTt3pks9Vrl06RI/f+bMmVwP//nnH81Nk977s88+Y8Vh3bp1WWCnCcEXX3yhTcTWrFnDrmnuur8l7KnDzigvS/z111+agliN26QeW7M7blp1Vu4CTf3L9u3b+Tv6/+jRo+yqJSfQespN4Dyo/a1cuZKVxZL+/fsbBMSnSbBU5PTt25fbzObNm7msqA7KCS+VdUJCgsH9J0+erE2+mzZtynWB2guVf8mSJbXf3Ims7zVq1OB2RPVwxowZWvgCe9O/bNkybeGG+pfIyEjOa+oLly5dypN/e3Z1le2P2vmrr77Kxy+//LKmvDh58iS3fz3SKo+0cPR6PaiPpbZO/0smTJigyRfUL1obY4zKSirjqlSpwuMNjYfXr1/nMpOxJanM5Q6uety9e5cXFerXr88LHdTvU9lJxVV0dLSBglUlPDyclUP0XOqfT5w4wefKevLrr7/qLhTZQuvWrQ2UY4sXL2bl1vz5803aoLPyaPz48Vwe6ng9ZMgQrZzoWmvLkp4h5R2SUVUlnkhdNFPRU+zJjeqINm3aOK0MXNUfOBtn1XUAABR7AAAn8dVXX4mBAweydUynTp04Vs3nn3/Oyo8RI0Zoq/sidaVTFZguXLhgcK+vv/5aOyZBhCbjJPyXL19efPrpp6xAsIdcuXKxMk9a3ND/9Lf8+Pn5WXUfEgwlU6dO5XTL+GP58+cXn3zyCU8qJdOnTzd7L3rmf//7X16dLVy4MAvclH6p3CABUg3yTNibr66ABL7Ro0drsWcoPe3bt7epnjiap8nJyVosHJokyF3YROoKuFTm0Lvu2rXLYqwWZ9ZjlaxZs/Ik+H//93/5utKlSxtcKye1f/75J0/CSKh+5513NMWhjLXjrvtbwtY67MzySktpIBRrIKJdu3bahIUmWaoFlq11Vp1kzJs3zyBOVsGCBfk72acsWLAAg4ST6dmzJ8dDe+mll7jeUX2+efOmNkH+6KOPtHOpHtHklmjQoAGPK6rlJdVBul4qc9esWWMwOZcLCSVLluRFDKoL2bNnZ4un9evXs6WmJ1CxYkVW3FA7ovpIE/ZMmTI5lH7VErlFixbasY+PDyvkqH3YCrV/aX3TsmVLzSqX7qm2Vz2rPSoP2X/YUx6OXm8O6ldIjlAtwqTMQR9rrMCIyMhIrayCgoJ4obNChQqcN1SWtWrV4oULadFEv1taPHzllVe43w8PD+cyb9y4MVvHS9QNLGSeXLx4kRWBTZo0Meh/mzVrpi1siNQFJYcmgL6+vFgiLdVEqgUsjbWVK1fmHff1rJ0dySMp96nWk1T/ZDnRNbaUZevWrc0q7rZv327wN72DsSJOKvbo/nIxyFll4Ir+wJk4u64DAKDYAwA4CAnib731lsn3JCj7+/vrXhMcHKwJ89LFR076ZVBj+l2d9EsGDx5sINikJwkJCdqGAiTg9erVS/c8VQllSWEyZcoU0bx5cxNFCQnjEumu6Ei+OguaEA0cOJDTRwItCWHffPON9vsnn3wiypUrZ1M9cTRP79y5o1mU6AWvVoO707npUY+NmTx5Mk+oVGiiJZVMJNQvW7bMJJg5CfUSd97fErbWYWeVlznu3r2rTZbCwsIM6iNNyOS7Pn36lCc99vRtz58/ZwtiolKlStqETIUmKnLCeuXKFY+w6spIREVFsZs05a3qCjp79mxW1qiuXNLdjDBn9d22bVvt+Pz587qKj7fffpv7A5WiRYtquy+7E2rrCxYs0N3oyZH0qxZskyZNcopbuaqwU61ojf/+448/WCZQcbQ8PL08paJDpFpS6W1wERgYaLAJgjllB6Vl6dKlJuOXXNCRijRjLO0Sq25G4wwZo0iRIqxMHTdunIHCLDY2lq3kW7RowYtDrsojR1EVe8bhHSIiIiyW77Fjx7T8p3FJ3TTK0TJwVX/gqXUdAOAZYFdcALwcVQAwh5yAkRBDE++UlBRtoqsK7vS7Gm9EnZypWLv67WxUAbNWrVpm348mQ8WLF2eXgpiYGFZe6Z2rxpAzFnYllqyKrM1XZ3H79m22ztIrjzFjxnCMPFvriaN5WqBAAf6f/iZB8fHjxwaTtRMnTmjHoaGh6VKPrSlnHx8fVmxFRUXx++vFklOvU+MYpvf9LWFrHXZWeZljxYoVWpmo1j+SLl268ERSpLoyqe6b1taJa9euabGpqC6ai1EoJ0RUN65fv263mx8wpWPHjmypR3n8999/awonmsxSuavWNqo17c8//2ywG7pEjbdGbVwta4mM0egp45FKSEiIyW68zkh/u3bt2G2f2tSyZcvY2qdfv36s8Ka2bCvPnz/X3D+pjIwXBapUqcLtnvra6OhodsVXFy0cLQ9PL0/VAis8PNzsefTuS5cuNRlDVXLmzKm7KKXulG5JvqAx4ciRI9zH0ScxMVHs27dP+91ZMoafnx+7w/7P//wPW/DNmTNHW9Sh51Nbp3onxwln5pGjvPTSS6xAvXHjBi9KU37mzZuXLV1leIuJEyfyoqdIterr3r07H1tyw3W0DFzVH3hqXQcAQLEHAHAxv/zyC8fluXjxolXny2DBxsKnp6Cmg4Q5S6iuHrdu3dJihViDOeWWvfnqLEiwlhZQhQoVYpfPMmXKsOAtY7ekd576+PjwxG/Dhg0ceHvAgAHsklqtWjV2IZGu3TTBUd0lXVmPrUVdobfnd3ff35467OryUjcRoWcZW+Wp8YJogkQTBVsVbuqEJDY2Vou1B9KPQYMGcfwokeou2rlzZ56Anjx5ki3LVFd0td1as2mK2i5URZAnjkm29rG2pr9KlSrsEvnBBx+wEv7GjRtsXTV16lTRo0cPPtazCjLHjh07tJhalJ/UDxhTsGBBbdOa3377zaxiz57y8PTytHY8VMdCmZ/29M16m3fQ/aZNm8YKWGs3s3AGlKYhQ4bwAiHVK7kpE/W3c+bMYRfd9Moja5Eu6T/88AMr2bZu3cp9keqG+8Ybb3CsvMOHD/P3z549Y9dX6bpL7a1Zs2bpVgaO9AfeVtcBAOkLFHsAZFBI0Bk6dKj2d/HixXklPn/+/BwzZNmyZSbuaerqY1JSkkenz5adAI3dfdI7X51FvXr1zAbbdmee1q1bV5sgrly5UtfFcvLkyXZZmLgzvzMqriovmgBKV35hFLvRHL///rs2YbQWdbMAqg96loEqJUqUgLWeCylbtixb6skYcIsWLeI2K61G1fhRb775poE1qYlQmjmzweYvquLDeAdRrxG0HUg/0bVrV47NOXfuXLbYjouLYwvJ77//nsMobNu2zeoxTo1/ee7cOS2WlznWrFkjZs2apd1fLQ97ZARHr09PrB1X0loItIU7d+5wnFwZAzFLliy8e21gYCA/59SpUy53h8yVKxe71FP5SA8B1UrN3XlkTOvWrbUNkjZu3MiKPemGW6FCBVYgN2/enPMtPj6e3cErVqyouYU3bNjQwMLY1WXgaH+QUeo6AMAF8gayAICMBwlko0aN0gQDmgCQoCJ34SS2bt1qEkhYFTD0Yr+4G3VyrloX6iEtA3LmzGnWXTG98tWTcTRPSVCeMWMGHwcHB/OKrjphK1GiBG90oMZpeZHz2924srys2enWGHsUe2qdDQkJYesS4F5q167NO5xSe3z69Cm79Mm2S+Ul40r16tWLFcvWoo5JN27c0HabthbqK3x9fXnRiuq+u/pYe9MvCQoK4niaY8eO5RiG48ePZzfB06dPs2XVwIED07wHnb927Vqbnvvw4UN2nZex99TyiI6Ottld39Hr06Os5G7AUVFRZi2Z1LGS+iBnQWOcVCg1btyYFeaq/EJlnV5xzt58801NsafGaXV3HhnTsGFDlkkePHjA4SWePHnC4QFE6uYlInXjGWlFvGnTJpZv5UK2sRuuq8vAGf1BRqjrAADng80zAMiAHDp0SIt5RBN0+qjKEHOoA/uBAwcM4nyoyhZ7d/CUEy2pYLDV0kp1p42MjOQ4a3pERERo7166dGm356sn42ieUj2R8eHmzp3L8WPo3A0bNrA715EjR+xSEmXU/HY3riwvNSj/3r17OSak3ufatWtazMHz58+Lf//916bnFCtWTHNPoglWerqrAfP07dtXO16yZInWv5cqVUr7fteuXTbdUx2T9GJRCQvWRBI5KY+Ojta1St6zZ49L88WR9Bvj7+8v+vTpY7DT86lTp6y6dt26dVrb79ixo9n2SZ/Ro0dr16kKe0fLwxnlaY18IVLd9O1RdkhWrVpl9rzly5drx87clVmti7NmzXLaoqQ9qGETqM9N7zyytiz9/Px4UUGkxiycN28eK/lEqmKOqFGjhrYhxubNmw3i67366qvpWgbO7A8cwd11HQDgfKDYAyADogbi1wt2u3DhQl1BiQSkRo0a8TFNymS8LcmTJ094UqG629mKFK7oXnJV1FoCAgK0XTuTkpLYXdA4Rg0JdFOmTNH+NrfLa3rmqyfjaJ7ev39fO546dSqvmNP1VM6JiYmagI389gxcVV4HDx7UYvaEhYWJ8uXLs/JN75MzZ06DjTHUuHxWCS6+vuyaKFKDjH/55Zdmz6W06cWxAs6nWbNm7K4mUi2+pbu3HFNEqjLZkoWtseJNjX21dOlSk10oIyMjOei/JaSVGNXtNWvWGPy2cePGNN1RHcWR9B8+fJjbpTFBQUHaseraZwlVQff666+bbZ/06dKli3butm3bWNnnjPJwRnlaI1+I1I0fbEUqiETqxgZnzpwxOWflypWa8jE4ONhgB3JXyhgxMTFi8eLFTnnOw4cP2T31u+++03VxJ1lAWnYT1atXT/c8sqUs1d1x5UYZVI/lOEFjhnzvEydOaJtBVK1a1cRSzdVl4Eh/4EzcXdcBAM4Hij0AMiCVK1c2mHB//vnnHNicJglDhw7lAMnmdvNShepZs2axO9XOnTt5RY8EQUsre9ZAwoFk8ODBPNFasmSJ1cKSGrfrxx9/FD179mTh49ChQ7zJQsuWLTXFY5kyZTjAuCfkqyfjSJ42btxYW9Hes2cP73JKwl+dOnU48DuVd2hoKAfbt3VHtYya3+7EVeWlKufSinknUnfHlSxfvtxm691JkyZpFh2fffYZLzhERESwouDq1ascJJ36LkqLdAkFriVTpky8W6tExr2iuiUVuXfu3OHJ9k8//SSOHz/OCiOaaC9cuJB3gC1cuLCBpXi9evVYSSxSdwXv1KkTT0L379/P/VaHDh14UwlLvPbaa9rxwIED2dVu48aN4j//+Y94++23XR7rzZH0U99bvXp18c0337B1a3x8PE+0aeyUyE1MLBETE6NtKJAzZ06T3XCNKVmyJO+SLpULf/75p1PKwxnlaQnVsmzLli0cVoD6BfrfWIlorn+UO4RSOVD+z5kzh/tKyr+xY8ca7OQ9ZswYkTVrVpfIGJMnT+Y03Lp1i3cbb9asmdPccO/evctj+scff8y7t1I6qA/ftGkTK/tefvllbczPmzcvt5P0ziNbyrJFixYGsVdF6i7/OXLkMDjHUt+QXmXgSH/gbFnAnXUdAOB8EGMPgAwITdx79eqlKcsmTpzIHxU/Pz/dCQ0JOiR0SMuGuXPn8kfi7+/PAofqdmcL3bt314L1//vvv5qSiIQMa6zrSOB8//33NSsdek9jKww5MaGJpbXWDK7OV0/GkTzNly+f6Natm4l1pwoJxTR527BhA7tfWbuRQUbNb3fiivJ69uyZgbtOx44d03wPmlBQ+dJEJjY2lq2C9CZelibAI0eO5J0LU1JSeBMV+uiB+pF+vP3227yDtUh137969SpvcDJp0iSesF68eJHL/D//+Y/F+qRC93vjjTe0mHKDBg0y+D00NFTbxVWP3r17i/nz5/Nz6R7Dhg0zUQocO3bMII6Ys7E3/TTe3rhxg11jVfdYVXlhTXB9ap9qTDFrJuhdunTRlDu//fab6N+/v1Ye1Ic8fPhQtzyobV+5csXswoCj11uifPnyrAgl2SIxMZE3gaCPSFWSprXzO/Hpp59yntI7xMXFsUJDD3rvrl27OrWeDBgwgPOa6umhQ4e02IZq/20uXIYtFC5cmHfWp76ePnPmzNE9L0uWLKwIV5Vs6ZVHtpRlnjx5WEG2c+dO7Ttj67KmTZvyYpBqwa1a+qVnGTjSHzoTd9Z1AIDzgcUeAB6GuuuUuR2oSNjXO1aZPn06K2uMBXiaBP35559s4UIY/545c2be1ZCEG3VXTD8/P9GgQQO2dFCtMuh7W96NJlFjx4412cJfruJbc48JEybw6mmlSpVMVmkDAwPZtervv/8WL730kl15p35vnD/25qs1z9WD8ldaJtm6u68tz7Q3Tzdv3qwpiapUqcIuMzRZO3z4ME/sp06dqgW8v3PnDlsDpEc9tqWczbUzNb+N7+HO+ztShx0pL3NER0drE52XX37ZKsUt1TFVIXH8+HGb6+yIESO4P6pWrZquAl8qhlXrJmA/luqrhMqeJt0S6Z5N3+/atYvLIn/+/CbXUfnVrVuXF5GMd2OmcWfNmjXc9/j6+hq8zwcffJCmFTlNxLdv386WMmrcrkKFConhw4ezpZK0YtVLl2w/eu3Y0m/G+WJP+ufNm2d2HJMKCOMxWI+TJ09qx926dbOqvDt27Kili66XChEqj7Vr17IbozpWBAcHiw8//JCViNIlWy8/Hb0+rTynPKN7q+TKlctAEWTpHiSLREZG8pinuoPK8ZjuTWPP5MmTdWO+WlMnzI0NZcqU4Z3vjcs8ICCAleY0Bss2YJw31tZFee7OnTu5Dsm8Nk4n1ZODBw8auGw6K4+skXOtLUuJailO9cp4oYjeU1qoidQdcytWrGhyn/QoA0f6Q1tkR/me5mRHR8sRAOBZoJUC4AApKSkRQojwR48eOW1VjYRnmiSTgCADzOtx7949Hmjz5Mlj8X6JiYni0qVLvCoYFhamDd7Pnz/nFTp6hqXVe5qYxcTE8ACvCit0LT0/d+7cdr0bvdfZs2d5VbR48eIGMYNsSV9SUpI4d+4cn0+Cmp6QZM/7URmQcEVCpLPy1do0GUN5RM/LmzevwcTWGux5pi152q5dO54gkCB96NAhLktjdu/era2M16tXj3dZTI96nNa9KZ3379/nMjY3OY6Pj2dLF8p7W/PWlfe3tw47Wl7moHQ+ffrUpjpKfR2VHf1P6ZDX2VNnqf+l+hEVFcXpLVKkiFXWOS+EoOfjw3lC+azGWLRnbKKyoXamuriZO89S/0l1k/oYqjPUv4SEhFhlRfbw4UNWRtO5NCmnCSs9Swakb968uVnLTXn9iRMneNxSF5OorT548IDrnPHCxpMnT/g3usZ4QcrSb5awNf3U71H9TkhI4LGS2q01Cj2J7Cf9/f0tlp1ev0t5Rvmspxygseno0aOsHFIV+pQuqmuUL5as5u253to8J7nl8uXLnGYqazV/bSm3W7dusaxCY05oaGiaXgDW3JvyldJuKX9u3rzJZU5jW6VKlbT+ka6j/DHuH+2ti8TVq1f5efReVA7FihWzSdawNY/kmEH1Um/ss6UsjesTtRHKM3OLD9RfyDE3rTSmVxnY2x+mBeXF48ePrR6X7SlHZ0J9Wuo84xsfH59BGL0BgGIPAK9W7AHgTYSFhYnr16+z4Hjx4kXdVd0DBw5oMZ26du3KbnEA5QXSSdBzkmLPU7FFsQcAAMAzgWIPAMeAKy4AAAC7CQkJ0SbXQ4YM4Xg4CQkJ/N2zZ8/Y2qt3797a+XpuPQDlBQAAAAAAALAPbJ4BAADAbvr3788xWpKTkzk2I318fHzYneTu3bsGu9Z27tzZqkDvAOUFAAAAAAAAsA5Y7AEAALCb1q1bc/D5+vXra9+lpKTwTqdSSVSyZEneCfHbb79FhqG8AHAqqjs5ArwDAAAA4IWUh5AFANgPYuwB8P+JiYkRZ86c0TY/CA4O5iDv1mxoAlBewEWCXgaPsUdERETwRjRhYWGidOnSKHQAAPAyEGMPAMeAKy4AAACnULhwYf4AlBcA6Unjxo2RCQAAAAB4YYErLgAAAAAAAAAAAAAAXggUewAAAAAAAAAAAAAAeCFQ7AEAAAAAAAAAAAAA4IVAsQcAAAAAAAAAAAAAgBcCxR4AAAAAAAAAAAAAAF4IFHsAAAAAAAAAAAAAAHghUOwBAAAAAAAAAAAAAOCFQLEHAAAAAAAAAAAAAIAXAsUeAAAAADyOnTt3ivbt24sOHTqIY8eOIUMAAAAAAADQITOyAAD3sW/fPnH27FmRNWtW0a5dO+Hv72/23MOHD4vjx4+LLFmyiFdffVXkypXL7Lm3b98WW7ZsEc+fPxdNmjQRRYsWtfqdIiMjxVdffSUSEhLEpEmTRNWqVV+4cjl69KiIioqyeA6VGeWtJ0NleOzYMXHkyBERHR0tChYsKCpVqiTq1q0r/Pz8TM4/efKkuHLlisF3mTJlErlz5xahoaEib968us9JSkoS69atEw8fPhQ1atQQFStWtPheVD+3bt0qkpOTRdOmTUXhwoVtThtdu3PnTm4/ly9f5vSULFlSNG7cmP8H6Ysr+g2qjzt27ODjCxcuiMqVKyOjPYyrV6/y2HTixAkem4oVKybq168vgoODkTleUi6PHz8Wu3fvFk+fPjX4nuSRoKAgUbp0aR4HzLXRf//9VwQEBIg2bdrwsyxBfTaNMfQe1FfbAo0ve/bsEc+ePbN4Ho0/JUqUeCHK+aOPPmJ5pVGjRmLkyJGo+OkAtZMzZ86wbEX/Z86cmWWYsLAwUbNmTbNtwFvaGQDAe4FiDwA3MmXKFB6ACT8/P7ZMMUePHj3EtWvX+HjChAni/fffN3vut99+Kz7//HM+njFjhujbt6/V7zR//nyxadMmPl69evULp9i7efOmCA8PFykpKWmee+rUKREYGOhxaYiNjRWDBg3ickxOTjb5PU+ePFwnhg4dygpKkapsa9iwISuDzUH5Mnz4cNGgQQOD78+ePSveffddPm7fvr1YvHixxfdbu3atGDJkCB9PnjyZ39UWIiIieBJD+a9Hy5YtxYIFCywqv4FzedH7jReNP/74Q3z88cfc1+hBfcTEiRNF9erVkVkeXi7Tp09npbw5ChQowPIH9f3Zs2c3+G3q1KncnxN79uwRFSpUsPh+//u//ytu3brFCorr16/blDZ61ty5c9M8r1evXuLLL7/M8GV95swZMW/ePD7et28fj6mWFoeB47LhsGHDxMaNG02UcxKSOXr27MnnkZyl4i3tDADgvcAVFwA3UqtWLQNlhTkuX76sKfWI7du3W7yvtHIhatasadM75cuXTzs2Fi4IEloqV64sunTpYvE+1p7naTx48MAqpZ6nEhkZyZO3v/76S1epR8TFxbHCd+jQoQbfWVLqyXrVvn17sWjRIoPvbc0vR/L3+PHjolu3bgZKvdy5cxusdJPgvXfvXnQwTsKatpxWvwEyBgkJCWLw4ME8cTSnPJL9UMuWLXnsAmn32dWqVWNl+NatW9O9XNKa+NP9Zs+eLVq3bi3u3Lnjtr7/5s2bqBMKNO6pfa45a68XvW04g2XLlrGnw9q1a80q9Yj79++LOXPmiK5du5r85i3tDADgvcBiDwA30rx5czFr1iw+tqSsUxV1xO7du1mQz5Ytm8m58fHx4tChQ3xcoEABFopsYfjw4aJcuXIif/78PAEw5ujRo6xkfPLkicX7WHueJ1OzZk3xxRdf6P7m5+fncdZ6J0+eZJduqdCj8h86dKioU6cOu2JReWzZsoWt2UiIPHv2rO59SICVlgAkqB48eJAtJc6dO8fKP6oj7nJ5pWcnJibycYsWLbj9BAcHs3vWrl27+D03btzI7jHAOVjTltPqN0DGYMCAAWLFihXa3x06dBCvv/46jzNJSUns+rlo0SKehNME+NKlS3CNT4OoqCjOJ5HqQuvOclm8eDErUegcei+6p1zIOXz4MFv7eYI1HPXzVapU0f2NxroXoU4UKVJErFq1ihe5aIxPyz3zRW0bjvL111+LsWPHan9Tuxk0aBC3rbCwMB4X6d02bdoklixZYrIQr4e3tDMAgHeBmQ8AbqRWrVpsrh8XF8fxMEiAKVWqlMl5f//9t8HfJKjv2rVLNGvWzOTcyMhITbHTtGlT4ePjY9M7BQUFiffeew+Fk+qySoKbtzBu3Dit7CtUqCB+/fVXg1hDhQoV4hh4/fv3Z3du6YZrTEBAgMF1lStXFm3btmVF2sWLF1kYXbBgAbuSpyfPnj3jODMi1eXlxx9/5HflwSxzZnYVpg+9I2J8pS/oNzI+//zzj6Y8onFl/PjxJiEhQkJCuK/YvHmz+PTTT0Xx4sWRcV5ULsWKFdP6/jJlynB/GhoaKkaNGsXf/fTTTzx2GLsZpjflypXzqrHZVcgxD7iGa9euiWnTpml/t2/fnt1pVWtJkqOoLtJn8ODBrLQzFybE29oZAMC7gGIPADeSKVMm8corr2hCeUREhFWKPWLbtm26ij3Vuq958+ba8a1bt1jp5+/vz5tvPH78mN0LLly4wFY2HTp04JXI2NhYPk+kKgZz5szJZv103+fPn7OrqkgNBKy6RtBEgQQUa84rW7asyXvHxcXxSuWRI0fYSqxSpUqsUNI7Vy89NKG5fv26tqFC+fLlWYll7npXQmkmwe7YsWOsrA0KCmJFGwl+5jagsLZ8zEF1hCZthK+vr1i6dKnZAOIklMoYjNZSoEABjqMnV65PnjyZ7vl69epVzWosX758mlLPGJrEWsLWuqZC5XHw4EEu31y5cnEbrFKlCgd237JlC9fDVq1aGShNb9y4wa7B1N6pTeq5ql6+fJkn6H5+fny9OeuL9Gon1rZ5eZ1ev2HM7du3uZ5evHhR3Lt3j8+h51MfqE6UgGfyySefaMfdu3e3GOeV6rk6/ui15ePHj7Ml2dOnT7l/pA9Nbqn/0oPqLNWh6tWr8ziZlJQkDhw4wPWO2lvVqlV5sSxHjhzaNdRP0Sdbtmz8PnqbBolUN7n9+/fzs1u2bGliDZ+cnMwxzY4ePcptv1ChQtzu6WMulqfx+x46dEisX7+e00vvSh/qT6gtSyhPZBujd2nQoEGalljOLBc9+vfvz8oN6gcoH6jfqF27ttfU2+3bt4u7d+9yX2XOym/Tpk2cPupPqU9ytN7pQddRWVOdp/6eZAHqe+vVq6fVefreljqxe/du3hiLxjxL3hnp1d70ZCGSa8+dO8djBMkRdevWZQtDS9iaD46m1RwfffQRp4Fo0qRJmvGDM2fOLHr37m1XPfX2dgYAgGIPgBceErKlYo8EULkJgYQEopiYGD6m3xYuXKgp9vSQij0SYGiCLVm+fDkH1SZIOHrvvfcMXDEvXbrEpv8y+DaxaNEiVijRecYbezx8+JBdfSQNGzYUM2fOtOq8NWvWGJxDaRo5cqTmYqnSunVrdrsxXrlU03Ps2DFWVMm8URk2bJgYPXq0zZaL9vLnn39yEOv79++b/EaTxcmTJ+sKftaWjznmz5+vHXfq1Mkl7m/qhCcuLi7d20pgYCDXaxJ6SfAnof+ll16y6R721DXiyZMn4j//+Y/4/fffDb6fOHEiT6ZbtGgh3nnnHa1tqsHpqR3NmDGDj6mtv/LKKyb3//bbbzX3Z+Pr3dFOrG3zsi3r9Ruq0mTUqFEcn0gv7mP+/Pk5sLi3xeN8kaBJ8q5du/iY6sgHH3xg131ocj9gwABtoxVj6tevL7777jtdi9uePXtyv0PtrEePHtzu5NgoCQkJ4UWNcuXK8d9U36luEl988YXWRo2h9GzZsoWPjYPTR0VFiT59+rASxZjcuXOzq167du0svm+pUqXYolqlVatWHAtV5YcffuCPhNqM8WZFrigXS1CfW7ZsWc1a2h19v72kpKSIjh078nHt2rV16x2lR8ZEI3ls2bJlDtc7Yw4fPsyKm9OnT5v8FhoayhbwNJaNHz9erFy50uo6Qe9C70Zjs15c2fRubyqbN29mJfONGzd0n7tu3Tqz5WZrPjiaVj1ovFy/fr3WtiZNmuTSuurN7QwA4Blg8wwA3Ixqdbdz506Tia/cNZcg4bNSpUp8TAKiscAUHR3NVgVEjRo1zFqHkYBmHF/NUkyygICANBVjNMGx9jzjCdWQIUM0ZUWZMmV45VlaTJBg1aRJE4vxvTp06KCrrCBmzpxpIAy6ko8//piVdlKpR3lRsGBB7feEhASOeTd48GCL97G1fESqAlhi74pxWjx69Eg7doerK9WJihUran937txZd7JtDnvrmpwcqko9tZ7/8ssvZhUGehNNW753Vzuxpy2bgyZEq1ev5r6N7kl1p0KFCtq737lzhxXZah0GnoVaNo0aNbLLEprGLJpcqxPvnDlzGljH7dq1i8/RU4BIqC61bt1aUzKo9fTixYtcz2WAe9U6bfny5br3u3fvnrZ5Vb58+bhtGb+z7GfofWvVqqW5ssbHx7MCZMmSJWbfl55rrNQTqaEe0iKtNuaMcrG17/fWGHb29r321DuVPXv2sJyn1mm17Gms//DDDx2qE3ppcEd7U7+nMVHKqGFhYRyXt0iRItpzLW3WZWs+OCutKidOnNCO27dvr8neriQjtDMAgPuAYg8AN1OoUCF2aRCKm52KdMMlAaVmzZoGVnjGVnuqErBFixZmn0kCWqZMmThG2r///suxyvR28ZIEBQVxDEAS1qSwQRMg+lt+6B7Wnic5ePCgFjCYrt2+fTt/R/8fPXpUW42l6ywp5y5cuMAuVhMnTmTF5uXLl8Ubb7yh/T5nzhyX7xJG7/3dd9/9X8fq68t5e/XqVZ540ftJwZ2gSaBxOTtSPsnJyVqAacJVk7uffvpJO3ZXfKPJkydrx7dv3+YJR69evQxcdsyVj7117a+//tIm9lmyZBHff/+95l7br18/l6fZHe3E1rZsCZoI0kRt1KhRmos6TXZpgtWqVSs+59mzZ1r7AZ4HlbdEVXzZwpgxYzTlQJUqVbgOUB95/fp1tu6RoQPu37/P8aXMcffuXVZg0yR91apV3A+sXLlSUwZER0drVnpt2rTRJveRkZHsmm7MmjVruP4RHTt2NHDvo3eWljN9+/blfpbeldod1Vd5LvXVCQkJuu8rF3pq1KjBVoHUbmfMmMEWhJSvn332mXYupVu2L2qflStXdnm5pMX+/fu1BUPqP0JDQ1/INmBLvVMVbiNHjtTqV9u2bVkmoLKl/nXcuHEcJkH+TnXB0TrhzvYmWbZsmaakmjlzJrc9uob6/6VLl7Iy3NIuvrbmg7PSaqwYlUgZ3ZWgnQEAoNgDIAOgWu2pu+OSUCgVe3Xr1uVJRJMmTcwq9szF19Pjq6++EgMHDmRXik6dOqUZ8yRXrlw8sZeWY/Q//S0/MnaRtedJQU0yb948gxgxBQsW5O/k+QsWLDD7bnTOf//7X7aEK1y4MAucX3/9NStNRWq8FhJGbeXAgQOcN3qf2bNnG5w7fvx47Xjq1KmctzLOWP78+TkOUv/+/bVzpk+f7rTyiYqK0iy1aBJboEABp9ZPmrCOHj1ai29D+d2+fXu3tJXGjRvzhFidfNNkIzw8nJVUx48f173OkbpGZSGhCXnnzp05n8uXL8+B6CdOnOjSNLurndjSli3x+eef8yRpxIgRmsWGSLW4UCduFy5cwGDgoahlY8+GGDSxl66uQUFBYsOGDWy16ePjwxP8WrVqsQJdKuHod0uLH6+88gqHPaB2T/WS+gXpCi4nySLV8rRNmzZ8nJycbOLeJ4ws+VRF965du7R3btCgAbd91XK6W7dumqVuTEyMSYgJlYoVK/Kza9asye23b9++rNChdqTG6JNtjj7WWC05Wi7WjIH0rhIaizxhx/GhQ4fqjsvUN6e1I6kjWFvvJFQnZD2uXLkyx2iTVvzU/w0ZMoQXjUhmEKkLR47WCXe2N4lqSaouMtPzX331VYMxVQ9b8sHZaZWoG2DoKc1JpjMnH6aVPm9pZwAAKPYAADaiKuFUxR4JFnfu3OHjRo0a8f8vv/yyJqBEREQYuO5KxR5N1C3FHnv99dfFW2+95dY0P3/+XIsJU6lSJd04QiSk0USIuHLliraqbcyUKVNMFJl+fn4Gscyio6Ntfsf4+HhWnup91NhICQkJ2sYBJHT26tVL936qYu/QoUNOK5/r169rx85Q6h05coSVivS+rVu3ZiH5m2++MRBozcUSSg9oMk2CPE0uVDZu3MgTj6+//tppdY3aFwndUklAk3ljBg8ebNGiMqO3k7TInj07KzH0CA4O1jZB0YvFBDwDR/sYOfEWqZZvegH3AwMDDWIzmpt8Fy1alK1+jOuUtP4kbt68qR2rbdPYHTc2NlZbPCtZsqRBsHrVzd+cZW7btm214/Pnz5tVUixYsEB3Qxl3l4sxclGqR48evJjYokULVvjLfubTTz/1iPpIdUNvXKZ65qoFAlvrnXEd7tOnj+7mDSEhIWwN50zc2d5kW5JMmjTJYogIT0qriqog1mtbq1evNisfqjGPvbmdAQC8CywHAOAB0KQ8T5487PKzb98+3oWLJsOqa61U7GXNmpUn95s3b2YXiaNHj7KbAE0qoqKi+JymTZtajI+lTkbcBQlNMi5LTEyM2aDfcrKUnJzMkxi9TSHUOHYqqnXQvXv3bH7H3Llz625iQISHh2vHUiAjatWqZbKjoirsFi9enF1EKM0JCQm659paPqrQqedqZiu3b99myy5jqI6OGTPGZTH8bOGll15iC5g9e/awRZjcEfj58+e8cy9NoqU1jSN1jSYsUlFG7dRc2VprSZER24ktnD17lpWPlK/Uf6WkpBgoUYFnkj9/foP+wVbUUAFq32lMw4YNWYlg3K+qUNvWUxQXLlxYtx43adKE3//OnTusJKf2Id3L16xZo8X6MlbOqwqin3/+2WBHaIka4J7qtR4hISEui8/laLkYo5dGkbr4+Omnn3rM7tUk8+jFEJYbELgCW+udMHKVlosv6YE72xvRrl07tqynvn3ZsmVs/dqvXz9esHS2R4Ez06pStGhRbfd/ekbdunUNfu/evbvJAu2GDRusGsu8pZ0BALwLKPYA8AAyZcrEk4/ly5fzJH737t3snistCUiwUmN8NG3aVFNkkIBAv6luuJbi63kKqjAWGxurxRBzJuaUMNZSq1Ytk9gxeqjCOwmDllAFtlu3bmmxXxyB7uHj48NKkidPnvB9pXulPWTPnl2zyKP7lC5dml1ROnbsaHZDFok5azEVZypwXn75ZZ44UP3v37+/ZnE2evRodqujOuBIXVMtYtSJDNqJbfzyyy8ca0ltK8B7CAkJ0Y7NKbCc0Ueq/aPxDpy21GM1pmrmzJnZClpa0axYsYJ3uBYW3HCN33njxo1pPl8ND+At5aJ3PyqDrFmz8k6+1PfXrl1bW1j0lL5/1qxZHLPQEzBX74z7b3UBxdW4s72J1Dh3c+fO5YWox48fszX2uHHj2FKtR48efOwsC1ZXpZVkIGkNaLyZGTFixAiT7woUKGBVO/CWdgYA8C6g2APAQ2jevLk2ydi+fTsr+nbt2sV/16tXzyDQsPEGGkOHDtV29fP19TVwrfNU1PQUL16cJ16WKFGihK4Vkqdhaac3Y7Jnz+6UZ/r5+bEFinQdOXnypEOKPapv1ig0JaqArirCzCEtS4WT3MdE6kr9mjVr2KXpyZMnHLj7xIkTbCXhSF1TBWS9HQ/RTtLmhx9+4D5KTUdoaChbG1F/tWzZMqsmK8B90ORTosaesgdry9qZCueuXbtqij0aZ//zn//wAogMoVC9enWeXBsIyEqMqzfffNOiYobONVYMelu5iNQYnbYozIz7fksbOyQmJmqhRZxtteUN8oA7xg93tTfZ5mg8njt3LnsAxMXF8dj8/fffc7sj2dVZMpAr0qpuXrFnzx6nvifaGQDAFUCxB4CHoCrrtm/fzjtHSjefhg0bGpxbtmxZjk117do1dt29f/++Zt1Xu3Ztl7kFOhNV+RASEsIruN6Kmpa0FFtS+UaCmjnXSHugSam8NwnSxvHnXEnx4sXZVYcEyosXL/LqvSVXcHWFvXz58k57jzJlyrCVpZysy5htjtQ1dTJvb/w5VUEQHx//QrWTpKQk3g1X5gNN6tq3b29QP7Zu3eoUF3LgOlSl1969e3m3bnNhCszVYxrTRKpi35xljdp/qtZojlKzZk1Wgl26dInd5y5fvsxW79LSSE8pR+8s4+z16tXLxBUvI5SLo6ixVs3FGJSo1mvpFaOV+hlfX19eoLG173XW2Cg3dKLxKL2svt3d3iRBQUEc23Xs2LG8q/748eN50e306dNi4cKFHGfOU9OqxqmmtrV69Wp2MXYHnt7OAACeATbPAMBDKFSokOZue/LkSd6BTKJnni8Vgc+ePeONDaQSMK3dcJ0hKEsFhaXV0bTOK1asmOa6dPjwYfHw4UOvLTvVnTYyMpJjh+kRERGhlZOxdYijyHhyxKZNm3iCZwma6DgjJpMwimv04MEDLY6NHjS5ofeTqKvizuDx48facXBwsMN1TZ0kHDhwQHdymJSUZHEzFNV6Um/HxsTERLPBvD2hnVjb5vWgfJGB0zt06MAfS0pf4JnUrl3bIE7c9OnTTdzvjKF+UFopqQrqVatWmb1GdY3V24nSEdQYejS+rlixgo8zZcrEu1Aao1rDSet5V7Yvkepun57l4ihq/71o0SKL91XDCDhzQSct5AJadHS0rkW9s62xzMkG6rjnyjrhKe1Nxd/fnzcPUXdtt8bC1Jp8cFVaSR5/7bXXtL9Hjx7tFuWwt7QzAID7gWIPAA9CVcrJ7fLz5Mmja3bfpEkT7VjdQcvVir18+fLx/zRZP336tN3n+fr6ajvBxcXFiS+//NLsvWiiktZkxZ0EBASIOnXqaEqeyZMnm7zvgwcPeOVaYm7nXHvp0KGDgWsH/a3u3KtCk9QGDRoY7BLnKGpcxwkTJmhBp43z4IMPPuBNQ0TqJiG2uOJ8++23omfPnmYnBBs2bNAUmlmyZNEmvI7UNT8/P02x/uzZM5Mdd6l+04RF7pyrh2ql8dtvvxm491JedOvWTezfv19/kPaAdmJtm9fj0aNH2rFewPKFCxfaNXEF6Sws+vqytY2qpOjRowe3aWPu37/P59JkVPZBqkX6zz//LM6cOWNy3cqVK9kCXaQq5Z0dUkJV7M2ZM0dT6NBz9Kyn1QW1uXPnWrQqtSUEg7n2JVJ3JE/PcnEUGvdk7LILFy6wRbGe8n/r1q1srSvfOa2QAs5EWl1TnqxZs8bgt40bNxosijmbevXqaceUfuPdY6m/prpo/A6O1AlPaG+HDx/mBStjgoKCtGPVkt2RtuHKtE6bNk1z27127RqXpwx7Y8zTp09dJqd6QzsDALgfuOIC4EE0b95cfPbZZwbfNWzYUNfCJTw8nC0N1AkFCbBVqlRx6TuSUPTPP//w8eDBg8WQIUN4RzQSaFRllTXnTZo0iSdP9B2lmyb+b731Fk88SGghAWbz5s0cg6tz584sZHkqNGF69dVX+fjHH39kazgSqkqUKMGKKBLepbKrTJkyPPlyNpSfr732GiuOaBLXrVs3zt9q1apxeVy/fp13WpbKL2fWlWHDhvGK+KVLlzgwNdXPd999l5WN2bNn5+DTCxcu1NxhcubMKWbMmGHTM44ePcruMDQ5a9y4sWjZsiXnb0JCAruv//LLL9q57733Hivl1Lyxt679z//8j7ZD9cyZM9kqsFWrVlyfZ82axe9lCWrDJJTHx8dz3D8qlz59+vAzFy9enKblgrvbibVtXg91UeLgwYO8gzG1C7r+p59+4vh7wHvGJ5oQU1sj1q5dy31JgwYNuC+hukjtnNqotCyVMSKpvVKfsGPHDlZQU9ulPoP6h8TERI63RX2kZMyYMRxY3pmULl2a3VTpndVdPM3FxqPJdNu2bbm/uXPnDivYP/nkE+5PCxcuzIq+/fv3s+Xf7t272UXOnjAYcodeYsuWLbwwIvOK+om0NmRypFwcpUCBAvy+crfuuXPncl5QP0T5LeMYUt8kGTBggMvlFBUaE6VSaODAgbyQQH0a5dOvv/7q0th39OywsDB2xyWZgMppxIgRLANQP0793+HDhw2sQ51RJ9zd3uh5+fPn5/ym44IFC/KikLrhhDUx5qzJB1emleoJPVO+d1RUFC+I0jOpDleoUIEXc6WXjSMKfm9vZwAAKPYAAAokiNDEQLprCp34epLcuXNz3CC5Ckk0a9bM5e/YvXt3Xv0kaPIgFVQk6KiTfGvOo0n/yJEjWRGRkpLCQokqmKiQ8OTJvPzyy+L999/XLKpoMmhsHSBS3UZImLdmtdpW6tWrJ9avXy/69u0rrl69yt/t3LlTU0qp+Pj4cEB4Z5EtWzYxb948tqi7efMmT5ZksHpj8uXLx4J2YGCgTc8gIXXp0qVcV2gSKyeyxpCQbxyLzpG6RpMz+tBEUArV9NEG0syZud2aszwLCAjgYP2TJ0/mvzdt2mTglpUjRw5WFKru98569/Rs83rQhI7OWbx4Mf89ceJE/qj4+fl5fPsG/we1v7Fjx2oudTdu3BC///47f4wpV64cx7yUfPrpp6xEu3LlCo9xNMHWY9CgQQbWdc6Enq+GKaC216ZNG7PnT5o0iZXxFy9eZMWM3E1XD3s3gClfvrymcExMTBSzZ8/mj1SQpKXEcbRcHIXa94EDB3iDBJFqrWUutADlNfVl6Unv3r15LKLye/ToESt9VFq0aMEx2uyNoWoJGmep3lMfGh8fz88YMmSIyXnGMd+cUSfc2d78/f25Do4ePZo/xlD9s2azGWvzwZVpJXkqLCyMlZQyfl1ERIRZyz2R6iLvbDy9nQEA3A9ccQHwIDJlyiQ6duxoMOG1pKxT4wL5+vrqxglSBS29Y1vPIyGYJhAy7pcqgNlz3ogRI9gdplq1arrKLqkYGDx4sM3pUb+3doWWzpMWkrbu2DZhwgS23qhUqZKJRURgYCC72/z9998GQZltLZ+0qFu3Lj+DhNHKlSub5H+BAgVY+bZ37162alPrmr3pVoVZEjxJANbbjY3Kkp598OBB0bp1a5vvT++7ZMkStkTRqys0Ofruu++4DPQsUuyta3Tu4sWLRf/+/Q1cg0RqHJ6//vrLYtsTqRaN06ZN09xpZHuvU6cOW9upLjOqpaEntBNr2rKl50yfPp2V3sb3Dg0NZWVmnz59dJ/trDYBnDth/+yzz9ilvEmTJia7b1MfQnX6iy++YAsS1cWV6gt9R/2gcTuiOk9tierD5MmTda3UZf2wtKOlrCfmzqF2prbBLl26WOzvSpYsyaELqF3lz5/f5Hdqi9Tnzp0716TPs+Z9JfPmzdNi7Epy5cpllQLH0XJR029PO6N7f/PNN7yQVb16dZN+gv6mseiXX35hpUSOHDnsqnvqdba8J9W17du3c/rVekV5NHz4cLbak/mhd19H6139+vXZmqxRo0YmeUPPpb79559/tqtOWHo3d7Y3endzcs6AAQO4nuqNc/a2DUfTmhb16tXjfoDKisozb968JufQO7Vv396sJbq3tDMAgPeCCNYAOEBKSkqEECL80aNHdq/W6xEfH88WTyQopCX8PHz4kFcyAwIC0hQW7t27x8JBWu5C1pxHzzx79iyvgBcvXtwgdoo954lUi4dLly6xuwOlvUiRIhYnNta85927d3nyRfezFnpXem8S3nx97Vv/SEpKEufOneN3rFChgu6k0N7ysQWqR5T/9D/lZ+HChc0Kts5It3F66Nlycw1npovq/ZUrV9gKg+5bunRpdu+1Flvrmsr58+f5OqrP0oWKBH5pobht2zazO1OmpKSwCxZdTxMf9Z0pvzJlypRmXXVXO0mrLaf1HLqe3pvKLCwsTJuAPX/+nK0sqA8zVu65ok28cIKejw+XK9W9+/fvO/3+VJ5Up6k8qS5aO6G8desW1ye6LjQ0NE0r5idPnnCctNy5c5tMatU6RvWTzjF3P2o/NMZSW7O1XlE7oX6d+lPq00NCQswuGlnzvsbExMRwXtJYXr58eYfcI60tF6oX1M7oWc5QBlD+yj4uODiYwyU4w/XXGe9J48aJEye4TNSFCRqvqayoPhi/q7PqnRyPz5w5w67dgYGBPC6mpWiyVCdsqWPuaG9UB6nPT0hI4PGCxg1rFXqOtA1b02rv+5AsQOkpVKgQp81SWXpLO3MnlJepSuJvfHx8BmH0BgCKPQC8XrEHAPAurFXsAZDugp6LFXsAAACAo0CxB4BjwBUXAAAAAAAAAAAAAAAvBIo9AAAAAAAAAAAAAAC8ECj2AAAAAAdRY+vYE5wbAAAAAAAAAOwhM7IAAAAAcIzBgwfzbnn+/v68Mx0AAAAAAAAApAdQ7AEAAAAOEhQUZHHHZwAAAAAAAABwBXDFBQAAAAAAAAAAAADAC4FiDwAAAAAAAAAAAAAALwSKPQAAAAAAAAAAAAAAvBAo9gAAAAAAAAAAAAAA8EKg2AMAAAAAAAAAAAAAwAuBYg8AAAAAAAAAAAAAAC8Eij0AAAAAAAAAAAAAALwQKPYAAAAAAAAAAAAAAPBCoNgDAAAAAAAA6HLs2DExYMAA0bRpU1GnTh3RrVs3ceDAAWSMCxg0aJB47bXXxLhx42z6zVXPBAAA4B34IAsAsJ+UlJQIIUT4o0ePxLNnz+y+z9GjR0VUVFSa54WFhYng4GBkvBGRkZHiq6++EgkJCWLSpEmiatWqyBQAACBBz8dH5MqVi8Yrcf/+fbvv8/DhQ7Fnz540x7qKFSuKEiVKvBB5+9FHH/H43ahRIzFy5MgMmcYtW7aIN998Uzx9+tTg+3fffVfMnj3bI97x8ePHYvfu3Sbv6O/vL4KCgkTp0qVFpkyZvCK/S5YsKeLi4kS5cuXEvn37rP7NVc90Zt9A5fHKK6+gU35B+5K08PPzE9myZaPDb3x8fAahVgBgG5mRBQC4l5s3b4rw8HCedKXFO++8I7744gtkmhHz588XmzZt4uPVq1dDsQcAAE5m6tSpYu7cuWme16tXL/Hll19m+Pw4c+aMmDdvHh/v27dPDBkyhBUXGY2JEydqCrM6deqI6tWrs7Verly5POYdp0+fzot75ihQoIDo0aOHGD58uMiePTsas5v6BuLs2bOiUKFCyLQXsC8BALgWuOIC4GYePHhglVJPpK5mvWj07NlTVK5cWXTp0sXsOfny5dOOIbQDAIDzuXnz5guT1sjISFGtWjVeJNq6davuOblz5zYYd7zFIswWoqOj2YqIqFChgli/fr2YNm0aW/FNmDDBY97z+vXrFn+PjY1l68LWrVuLO3fuoDG7sW/InPnFsilBXwIASC9gsQeAB1GnTh3x3Xffmf39RVzlpEnFtWvXxJMnT8yeM3z4cHYhyZ8/v2jZsiUqEgAAuJC5c+eKKlWq6P5WrFgxr09fVFSUuHTpEh9fvXpV95wiRYqIVatWiVOnTvHYnSVLlgxXztHR0dpxeHi4VygcFi9ezEqUp0+fcjmuWLFCLFq0iH87fPgwWyC+CBal7mLhwoVmvSaojagLsS8C6EsAAOkFFHsAeBA5c+YUpUqVQkbYSFBQkHjvvfeQEQAAkA6UK1eOY76+6ISHh/Mno3L79m3t2FsUMsWKFdNiPJYpU4bLJzQ0VIwaNYq/++mnn9jaME+ePGjILqB48eKQY9GXAADcABR7AHgpBw4c4NW/rFmzimbNmunG49i+fTu7nQQHB/MqoEpcXByvXh85coQDqleqVIldXsuWLZvms69fv87XnTx5klfFSYimdyhcuLDBeTdu3BB79+7lVf7mzZvruslevnxZ/PPPP+xm3KpVK16pTElJETt27BDPnz9nV2WRGhxbdWMg4VG+a2xsLLs7EE2bNmUFqR50j1OnTvEOf5cuXWKFYIUKFXiCmjdvXt1rbt26xfem/H311Vc5ED2lf+fOnRwrpnz58qJGjRpW5RsAALxo0Dh09+5d7iPNWflt2rSJ+3oah6hPVaG+9vbt2xzbrVSpUiIpKYnHP+qXafyrWrWqqFWrlsiRI4fF96DraNw6ceIEjzvU51PfXa9ePeHr66uNRxcuXODzJMePH9fGHjqvQYMGmkXN7t272aotJCSE3e3MQWM13YeeTWMmjTv0CQ0N1Z5tjDPSTWNeRESEOHfuHI+TBQoUEHXr1jWRB4y5du0aj2/qzrfnz5/X8qFgwYImZemMNB46dIjdfel6Sl+HDh2cUgf79+/PLsRUx5KTkzlttWvX5t9IzqDnHjx4kF1KqWxLlizJddGc5Zm1723PvR2F0nfmzBn2diB5p1ChQlxW9PGkuIgkd1Lf8OzZM27zlCfGUNsiGZLkrsaNGxsoYx1JpzV9gaP9V0brSwAAUOwBAFzEuHHjWBAgBg4cKKZMmWLw+8qVK3mzDaJhw4ZizZo12m8LFy7kXbcSExNN7tu6dWt2s9JbzSYhYvr06RyrhoQqg84kc2YWnidOnKgJF4sWLRIzZszg4xUrVujuhvbtt99qQYO3bdvGggcJ3cYC/cOHD8Xrr7+u/a2m6Y8//hAff/yx9ky9ycCff/7JAYn1doXMli2bmDx5sujdu7fJb8uXL9fufezYMfH5559z/hkzbNgwMXr0aBZAAQAA8M7xomPHjnxcu3ZtbZMjlbi4ONG1a1c+bt68uVi2bJnB7z179uRzaDzr0aOH6N69u4iJiTE4hybDS5cuZUtCPQ4fPszj0+nTp01+ownxggULxEsvvSTGjx/PY6fKDz/8wB/J2rVreUJO0LvQu9Fkfu/evSb3jo2NFQMGDNBNN1G/fn0Ov6G3272j6d68ebN4//33eYFN77nr1q0zW26fffaZWLJkicF3v//+O38Iel8aD52ZxlKlSrFco3Lq1CkRGBjocD0kmaRs2bLi33//1eocQWkkGcVcjL42bdqw226BAgVsfm/Kf3vu7QhRUVGiT58+mmyokjt3bvH111+Ldu3aeUTfQG2yV69efBwQEMCKJrWsnz17xrGVjx8/zn9TfaW65Gg6re0LHO2/MlJfAgDwDrB5BgBeyieffKId02AuhR+RuiGHVEb5+PgYBLn+4IMPWMEllXplypTh1cHULeZ51blJkya6Me26desmZs2apSn1/P39tetICJszZw4r58xN8Kz9noS8tBRkarDhtKC86N27t6bUo3sXLFhQ+z0hIUEMHTpUDB482OJ9OnTooKvUI2bOnGkgsAEAALBvDNBj9erVvPAkJ6TqGHHx4kXun+XurSp79uxhi3J1Iq8uXJ09e1Z8+OGHJt/bMvbopYGeR5NtdSKeM2dObcwkdu3axefoKRkcSTd9T5N4qdQLCwtji6ciRYpoz33+/LnZZ6Zl8STzwFlpXL58uYlyTKTGZHMWjx490o6LFSvGFlU05kvFG8kdFStWZEt+ybp168SYMWNsfu/o6GiH720rsiyksovKoVatWuzdQMTHx7OCx1hh6y4aNWqkLfY+fPiQF5tVVLm2ZcuWmlLPkXTa0hc42n9llL4EAOA9QLEHgAdx+/ZtdkHV+8TGxhqcW7duXc0ijwR0EkakQDB58mRtl7I+ffqwFRxx8OBBLYg0CZjbt2/n7+j/o0ePaiuHNMAbK6nWr1+vuRCQQLF06VIWWmniQMIGvY9ItepzFHq3K1eu8HvIQOz58uXjv+Xnxx9/tOpelD65IYmvry9bNl69epVdky5cuGAgxJEgePjwYbP3ovP9/PzYKvHMmTM8MXjjjTe03+fMmWP1JBUAAID13L17lxecaPK6atUqHi9XrlypTaCjo6PZett4kjxy5EheeCLatm3LfT/13TTGjBs3jheo5O+fffYZjy/0v2TChAnauEPXVa5c2ar3HTNmjDaBrlKlCisVaOyhcXPz5s1aHLj79+9b3GHWnnQvW7ZMU2TNnDmTXe7omlOnTvHY3bNnT4sbYYwfP57Tq27mNWTIEC0f6P2dmUa56FajRg3ecZdkkhkzZpgNkWEr+/fv5zGboDE8NDRU+y08PJwVdPTeu3fvZhdHyk+pVPz11185JIct7y0VNo7c21aoLKQlYt++fTncCJUByXZUjvKZJAMlJCS4rJ1SXuvJsP/884/JubNnz9bCyFD9lAvDVH+mTp3Kxzly5OA67Gg6be0LHCWj9CUAAO8BrrgAeBBHjhwR7du31/3t/fffNxmwSfhet24dD84kTP3000886M+fP59/L1q0qBg7dqyBUCGZN2+eQRyPggULat8lJSWxO8KAAQO03ydPnqwdz507l+PNSWrXrs3vQR+pHHQUaTGQOXNm7X97gndTHklIUOzfv7/2d/78+dny8fHjx9oEZvr06Sxs60ETgv/+97/sbiH5+uuvWZgn4ZwENSqLF3H3YgDAi8PQoUN1+2NfX1+erOu5gzmDV155hRVTUhnQuHFjtsiWFuo0Dr755pva+WvWrNEWa2gSvXjxYi1URO7cuVlZRWOu3P1V7tqpWqzRsa1jT2RkJCt6ROpC1YYNG7T4VZkyZWILo7/++osX3RISEvh3ek9zcddsTfe5c+e04xYtWmjHPj4+PHar47fu5CB1vFUtigICAgzywdlprFixIisZZIxcS3HGbOHAgQOsAJJ06tSJ01eyZElWsOiVbbNmzdi9ksZ74tKlS2bHdXPv7Yx7W8uuXbu0siAZTIZAkXTr1o0VayTXxcTEcLuQ7qPOxtjyTuXGjRsGsZapDD766CNNNqV+Ze/evWLEiBEslxGjRo3S+hNH0mlrX+AoGaUvAQB4D7DYA8BL0Ftdz5MnDyuiJJ988ol49913NasxEnqksPn8+XMtbkelSpV0FXAkNNSsWZOPr1y5oq1cPnnyhFf6RWpsnTZt2ui+X7t27cxuXOEOSMiRm2qQMCXjuRijKvsOHTpk9n5TpkwxUOqJVGWfGjvQWUIhAAB4KjRx3LZtm8mHJqAXLlxwyTOLFi1qMCGVtGrVSjuWlurqe0r69OmjG1w+JCREc/NzFnIiLlKtivSC0gcGBhrEgzVnLW5PukuWLKkdT5o0STe0hielMUuWLKyMcYb8MHXqVI473KNHD/YkaNGiBS+6SRnn008/1c61pGSpUKGCgULK1vd29N62oMaa69evn+45bdu21Y7Pnz+f/hNOX1/dECuDBg3S8uPSpUusdF6/fj3/XbVqVQP5zJF0uqsv8Pa+BADgPcBiDwAPgoRQaW1njLkV3ddff1388ssv7CYbFxenuSi0adNGvPbaa9p5165d09xkY2JiONaeHlIQSk5OZjN/miCQUCyVhdWqVTO785anIYV5olatWgbxSIwnQcWLF2fXBsqbhIQE3XPVuHwqMm4Rce/ePVRkAECGhibcem6ScpMCV5AzZ07d3d/V3diN+9+LFy9qx3LRKj24dOmSdhweHm72vIYNG/JE23i8cjTd7dq1E1988QUvzi1btowtnfr16yfeeustp23W4Mw0hoSE6O6Kag/q7vkqzZs3Z6WeXlyzR48esccEjf/0SUxMFPv27dN+N94szJb3tvfetqAq03/++WfdPJCyoUhduHUVS5Ys0bUWy5o1q65clSVLFt5ERFqWyg1OqC+hOqwuajuSTnf1Bd7elwAAvAco9gDwIAICArQAwLYwc+ZME7eVadOmmRUOYmNjtVh71qAKRKoA4Omo7120aFGL56rC/q1bt7SYJdZgTmEIAAAZkVmzZnFcMU9A7X+NY5yq4566AOMpY4867hjvUulIuqtUqcIhMz744AN2abxx4wbHEJs6dSpbstGxo9Zx6ZFGewgJCeFnZs2alXesLV26NIcLadSokcm59D4kK/3xxx+8gYMzceW9LZXFxo0b0zzfmZuSGBMUFGSzHEvl8/rrr4s///xT+65z584mCkJH0umuvsDb+xIAgPcAxR4AGQC9VcsVK1ZwXD6JuupJQhcJUZYoUaKE5s6j7p7nrTtmWdoB0Bg1BgwAAADh9f2+u8Yua4PxO3uBqGvXruxWOHfuXI7nFhcXxy6533//PYeo2LZtm9PGOnelUY8FCxZYpXS+c+cOx1STu4hmyZKF45QFBgbye546dcriZlruurfuZC7z/5/OvfnmmxYVV3SuuumXJ/Do0SOOhaiyY8cO3gxCjVHnSDozghzrSe0MAOB5QLEHgJdz48YN3V2wpk+fzjE3pOWZGnMnJCSEV+ytRV19tSUejCqExcfHp3veqGm+fv26xXOvXbvG/+fMmdOsyy0AAADr8fHxYZe65ORkt4wBNHYdP35cG7vSy+Kcxp5jx47xcVRUlFlLG3VconHZ2QQFBXFs2LFjx/LmWuPHj2clyunTp8XChQs5Fp23p9Fevv/+e03x1rhxY1YIqmM/5Y+9yjdX3ttcWcj4c7169eKwLt7E1KlTORSKSkxMDMu2s2bNcko67ekL3N1/ZYR2BgBIP7B5BgBezrBhw8SDBw/4mAR4uUKZkJDAv0mKFSumuSWQQGmLa4jqlrpnzx7teWmhxgWUijOVxMTENIVbGWyZhCprVyv13jsyMpK3+tcjIiJCi8tSunRpVCoAAHASUqERHR2tazlNY4qrUMeATZs2WX2dGuQ/NjbWrsm4ZNWqVWbPW758uXZcpkwZl+WDv78/bxiwYMEC7Tu5IZYjCgdPSqOtqPVu1qxZTl3Qc+W99ShVqpR2vGvXLq/qHw4dOiS+/fZbPg4MDGRLUrko/OOPP4qDBw86JZ329gWO9l8ZrS8BAHguUOwB4MXQIC93D6tYsSIHx540aZLmurB582axcuXK/2vsvr7abl9xcXEcrNgcKSkpBnE2cufOrQWIfvDggfjqq69Mrrlw4YLo1KmT2Llzp/aduiL622+/GQSJTkhIEN26deOt9S0hd5Z78uSJtgJuLQEBAaJOnTp8nJSUJCZPnmwSP4TSM2XKFO1vczvnAgAAsB3pLkd97Zo1awx+27hxo3jnnXdc9ux69eppx99//73Jjo80HsyZM8fkHdQdTY8cOWLzc5s2baod//zzz+LMmTMm59DYLDdRCA4ONthd3VEOHz7MC2fGBAUFaceqRb09uDuNjvLo0SPt2HizgZiYGLF48WKPvLceavzAuXPncpxgc9gSlsTVPHv2TAwePFiTDadOncouy4MGDdLa5/vvv68t6jqSTnv7Akf7L2/vSwAA3gNccQHwIC5cuCC++eYbs79XrVrVQDk3YsQI7beZM2eyoF6oUCExevRo8dFHH/H39D8N8rn/H3v3EhpF1gVw/JSR4IeteRnIKoLEoKiRIGLER1z5AA0EBEVFAupG4yOLiIJP3CiCrr6Fgi5EgwtFUBdCREdUcOMDBl0YMYRBogkaombAONLDOdNVU92pdHe6Oibl/H/gTM90p1527jn33Lq3ioqs6KeJkSYwp0+ftoRz8+bNUl1dbYmT7r+9vd2eord+/fqkB3AcOHDAFt1W+rPv3r2TdevW2dp9Dx48kAsXLlhHYuPGjd7PLFu2zPbb398vL1++tPd27Nhh+9HENps7BjRJefr0qb3WBLClpcWe2qXnkE0R7tixY7JmzRp7ffHiRent7bX1BadPn27710Tu1atX9n5VVZV3jgCA8NauXet1aHft2mV3rWi7fvv2bbl69eqornel+547d65NwdO2X2Ohxk1t6zX+adx68eJF0p1AkrjD3XX37l2bElhfX2+xTmNYpocxrVixwvu8xupVq1bZHfQLFiywOHnv3j2LPa5Dhw7Zwx7yRfdXVlZm11tfl5eX28CYP2cI+/CTsT7HsObNm+et6+YO+tXU1NidYEeOHAmcZTAeth1k0aJFlo/dunXL1vfTPFH3U1tbawOsPT09Noh648YNm8r65s0bKS4uHpXrqr/TT548CXxP88Wmpibvyaz6/XCnmep3qbGx0V63trZaHqp5puaO+rl9+/aFOs9c24Kw7VfU2xIA0UFhDxhHOjs7rSg3nNWrV3uFvaNHj3pPvtqwYUPSaOT27dttZE8TJnedkjNnzliyefDgQSvYaaKpiZP+CTI4ODgkuWloaJCbN2/af7e1tdkfP8dxkqY7xGIx2b17tyW2kpj+4J8CMXnyZDsn/5PQUm3atMm76/DZs2de4U2TnWwKe4sXL7YRX/cORU0IU0ddJTHdQRO7sHcxAAD+tW3bNjl//rx1pgcGBpKWiFArV660WNXd3Z33fWtMOnXqlMWR/v5+20dLS8uQz6WuSTVr1iy7c0hjjnaez549a3/colmmzrjS/Wps7urqsg65driDNDc324Mu8mnSpEm2jpjmE0E5xcKFC/PyAIWxPMewdu7caTMJ9Dv5/PlzG8z0Ky0tHXb5jrHc9nBOnDhhRbC3b9/a75rmXsMZ6bImI+Gf7h2krq7OBqk13z158uQ/ndGJE23A2J8bap66detW73vW2Nho+WWu55lrWxC2/Yp6WwIgOpiKC4yxysrKpDU00pkyZYr9W5ODy5cv2+uSkhJLdPwKCgqskOcWqdra2rypDvv377fpA7W1tYFFrPLyciuY7dmzZ0gH6dKlSzZVwr92niSm+dbX18udO3e8qa8uTYI0QfM/il+PTz/X3t6e9HTewsLCIcejSdPhw4e99QH9yZK/ExP02nX8+HEbwZ0zZ07S04ElsaZLU1OTPHz4UObPnx/YQUq37dT/z0gpgF+RdrYztYVBSktL5f79+9bm+9eb0jjS2tpqd72461gFbddtU9M96dH9uaDPLFmyxO52Wb58+ZA4ovvVmOjGU79z585ZAcJv6tSpSR3xdMemMerRo0cWX/zT8dxYp9u+fv26DXz5r0s+zluPfbh45hadguJtKv92x+ocs+F/um+2382qqiq5du3akOsUi8Vky5YtlhNobhO0zUzHPVrbTvee5pGPHz+23K2srGzI+5rv1dXV2RTWadOm5fXvYenSpd75pKPfAbcduXLlijddfO/evTZzxK+hocEGfiWxdIvmcGHPM5e2IGz7FfW2BEB0OFwCIHfxePw3EakfGBgY1RHQILpPTXY0ORguQdf39XOaSAUFaz3mzs5Om+6g26moqMhq9FD19vba1B7driaxmaZ1xONxm+6g+9Jk1y1Sqr6+Piu4uWsDBtEE8PXr13Y+lZWVSWsFudvQhCbTcQwODkpHR4d9fvbs2YGJYapstv3p0ydLKNOdAwD89ETPcaxd0jb48+fPYeKdtYXaSfQX+Ubi69evdrdNUVFR0uCMtstfvnyxNjZ18OXbt2/2nv5MamfcHx80Nuhn0t11/f37d1uj6uPHjzaoM3PmzMCOsN+HDx8sdmnHV4/ZP3iTzbG5enp6LIZpx7y6ujrj3eH5OG+N0xrjNRfQmKmxM5uCnp9+Z378+GGDiJmMxjn+jO/m+/fv7TrFYjEbAHSLVHpt9TuTGvtHctz53PZI9qs5ieY6ug/Nc2bMmDHswGO+/h5y+TvT33f/wG9Q/iWJQeyw5xm2Lcil/fpV2pKfQdumRF/l/47jNBO9gRHme1wCIFRiMmaFPQAAMiZ6eSrsAQAwWijsAeEwFRcAAAAAAACIIAp7AAAAAAAAQARR2AMAAAAAAAAiiMIeAAAAAAAAEEEU9gAAAAAAAIAIorAHAAAAAAAARBCFPQAAAAAAACCCKOwBAAAAAAAAEURhDwAAAAAAAIggCnsAAAAAAABABFHYAwAAAAAAACJoIpcACOV/+o8JEyZIQUEBVwMAMK44juO9Jk4BAMYj7UslxLgaQA75HpcAyF08Hu8TkWKuBAAAAACE8rvjODVcBmBkuGMPCKdbRApFpEtE/uRyAADGmQIRqRaRv0Skg8sBABiHSkSkQkT+4FIAAAAAAAAAAP4TeHgGAAAAAAAAEEEU9gAAAAAAAIAIorAHAAAAAAAARBCFPQAAAAAAACCCKOwBAAAAAAAAEURhDwAAAAAAAIggCnsAAAAAAABABFHYAwAAAAAAACKIwh4AAAAAAAAQQX8HAAD//8WKEsuneFkWAAAAAElFTkSuQmCC)"
      ],
      "metadata": {
        "id": "iuuKjyEZzUnU"
      }
    },
    {
      "cell_type": "markdown",
      "source": [
        "L'entrainement d'un réseau de neurones se constitue autour d'opérations mises en parallèle (beaucoup d'opérations similaires). Ainsi, le GPU est un bon candidat comme support de calcul à l'entrainement d'un réseau de neurones. "
      ],
      "metadata": {
        "id": "0ZOUtsUr0HZ1"
      }
    },
    {
      "cell_type": "markdown",
      "source": [
        "# Rappel\n",
        "\n",
        "Les listes sont des type de données permettant de regrouper des données"
      ],
      "metadata": {
        "id": "Mxc35spbiTtE"
      }
    },
    {
      "cell_type": "code",
      "source": [
        "my_list = []\n",
        "\n",
        "my_list.append('Luca')\n",
        "my_list.append('Antoine')\n",
        "\n",
        "print(my_list)"
      ],
      "metadata": {
        "colab": {
          "base_uri": "https://localhost:8080/"
        },
        "id": "sPORb_txid0K",
        "outputId": "ce6ea6a8-42c4-46ad-a1d5-7f7c28d159a5"
      },
      "execution_count": null,
      "outputs": [
        {
          "output_type": "stream",
          "name": "stdout",
          "text": [
            "['Luca', 'Antoine']\n"
          ]
        }
      ]
    },
    {
      "cell_type": "markdown",
      "source": [
        "# Les fonctions dans Python\n",
        "Les fonctions sont des modules de code qui peuvent être appelés et utilisés pour réaliser une fonctionnalité donnée. Par exemple, print() est une fonction de Python permettant d'afficher la valeur d'une variabe. Il est tout à fait possible de créer des fonctions et de les utiliser.\n",
        "\n",
        "/!\\ Aux indentations /!\\"
      ],
      "metadata": {
        "id": "pLMs3GsUt6lu"
      }
    },
    {
      "cell_type": "code",
      "source": [
        "import numpy as np"
      ],
      "metadata": {
        "id": "Z71Lq6Xss8nh"
      },
      "execution_count": null,
      "outputs": []
    },
    {
      "cell_type": "code",
      "source": [
        "#Réalise une tâche donnée\n",
        "def say_hello():\n",
        "  print('hello!')"
      ],
      "metadata": {
        "id": "pO2GozF9vcx2"
      },
      "execution_count": null,
      "outputs": []
    },
    {
      "cell_type": "code",
      "source": [
        "say_hello()"
      ],
      "metadata": {
        "colab": {
          "base_uri": "https://localhost:8080/"
        },
        "id": "q8kUHI2XvgsO",
        "outputId": "07002b64-59a1-466e-e54e-8781452c202a"
      },
      "execution_count": null,
      "outputs": [
        {
          "output_type": "stream",
          "name": "stdout",
          "text": [
            "hello!\n"
          ]
        }
      ]
    },
    {
      "cell_type": "code",
      "source": [
        "#Retourne une valeur\n",
        "def add(a, b):\n",
        "  return a+b"
      ],
      "metadata": {
        "id": "hSAH1JLtrPqq"
      },
      "execution_count": null,
      "outputs": []
    },
    {
      "cell_type": "code",
      "source": [
        "a = 3\n",
        "b = 4\n",
        "res = add(a,b)\n",
        "print(f'Le résultat de l addition de {a} et {b} vaut : {res}')"
      ],
      "metadata": {
        "colab": {
          "base_uri": "https://localhost:8080/"
        },
        "id": "pvpe6mR5s51z",
        "outputId": "3a4b6e36-aea5-45fd-fc21-9d68941238c2"
      },
      "execution_count": null,
      "outputs": [
        {
          "output_type": "stream",
          "name": "stdout",
          "text": [
            "Le résultat de l addition de 3 et 4 vaut : 7\n"
          ]
        }
      ]
    },
    {
      "cell_type": "markdown",
      "source": [
        "Il est possible de fixer certaines valeurs par défaut  à des arguments de la fonction "
      ],
      "metadata": {
        "id": "ChNLLvZbwQJ7"
      }
    },
    {
      "cell_type": "code",
      "source": [
        "def mult(a, b=1):\n",
        "  return a*b\n",
        "\n",
        "def mult_abc(a, b, c):\n",
        "  return np.prod([a, b, c])\n",
        "\n",
        "a = 4\n",
        "b = 3\n",
        "\n",
        "res = mult(a, b)\n",
        "print(f'Le résultat de la multiplication de {a} par {b} vaut : {res}')\n",
        "res = mult(a)\n",
        "print(f'Le résultat de la multiplication de {a} par {b} vaut : {res} :(')\n",
        "\n",
        "c=2\n",
        "print(f'{mult_abc(a,b,c)}')"
      ],
      "metadata": {
        "colab": {
          "base_uri": "https://localhost:8080/"
        },
        "id": "sTxKs_q7uxED",
        "outputId": "d78e994f-e05d-4e52-c7d9-330fb0d0554a"
      },
      "execution_count": null,
      "outputs": [
        {
          "output_type": "stream",
          "name": "stdout",
          "text": [
            "Le résultat de la multiplication de 4 par 3 vaut : 12\n",
            "Le résultat de la multiplication de 4 par 3 vaut : 4 :(\n",
            "24\n"
          ]
        }
      ]
    },
    {
      "cell_type": "markdown",
      "source": [
        "Une fonctionnalité très intéressante de Python est de permettre à la fonction de prendre n'importe quelle nombre d'arguments"
      ],
      "metadata": {
        "id": "BvZqinc6xQYL"
      }
    },
    {
      "cell_type": "code",
      "source": [
        "# * permet de mettre autant d'argument dans args que je veux\n",
        "def print_all_values(*args): #SANS 'keywords' \n",
        "\n",
        "  print(args)\n",
        "\n",
        "print_all_values(2, 3, 4, 5)\n",
        "print_all_values(2, 3, 4, 5, 6, 7, 8)"
      ],
      "metadata": {
        "colab": {
          "base_uri": "https://localhost:8080/"
        },
        "id": "SkyIhcQJw2xB",
        "outputId": "c92d7b2c-dbd0-4a04-9a8f-d4e40e9e7556"
      },
      "execution_count": null,
      "outputs": [
        {
          "output_type": "stream",
          "name": "stdout",
          "text": [
            "(2, 3, 4, 5)\n",
            "(2, 3, 4, 5, 6, 7, 8)\n"
          ]
        }
      ]
    },
    {
      "cell_type": "code",
      "source": [
        "# ** permet de mettre autant d'argument dans kwargs que je veux\n",
        "def return_data_from_user(**kwargs): #AVEC 'keywords'\n",
        "  return kwargs\n",
        "\n",
        "print(return_data_from_user(name=\"Luca\", affiliation=\"UMONS\", gender=\"M\"))\n",
        "data_luca = return_data_from_user(name=\"Luca\", affiliation=\"UMONS\", gender=\"M\", cool_dude=True)\n",
        "\n",
        "print(data_luca)\n",
        "print(data_luca['name'])"
      ],
      "metadata": {
        "colab": {
          "base_uri": "https://localhost:8080/"
        },
        "id": "5XxyT31Sya55",
        "outputId": "be5483fc-2502-49fa-dde9-adca772e7e6d"
      },
      "execution_count": null,
      "outputs": [
        {
          "output_type": "stream",
          "name": "stdout",
          "text": [
            "{'name': 'Luca', 'affiliation': 'UMONS', 'gender': 'M'}\n",
            "{'name': 'Luca', 'affiliation': 'UMONS', 'gender': 'M', 'cool_dude': True}\n",
            "Luca\n"
          ]
        }
      ]
    },
    {
      "cell_type": "markdown",
      "source": [
        "Attention aux variables à l'intérieur d'une fonction ! Elles ne sont pas accessible en dehors de cette fonction si elle n'est pas instancée en dehors de celle-ci."
      ],
      "metadata": {
        "id": "7evjg8vCUrRV"
      }
    },
    {
      "cell_type": "code",
      "source": [
        "def get_message():\n",
        "  message = 'Goodbye!'\n",
        "\n",
        "get_message()\n",
        "print(message) #Erreur"
      ],
      "metadata": {
        "colab": {
          "base_uri": "https://localhost:8080/"
        },
        "id": "Ahf8SdRFUq0X",
        "outputId": "6846b521-dc27-4b7e-8b30-75ae584a8ec6"
      },
      "execution_count": null,
      "outputs": [
        {
          "output_type": "stream",
          "name": "stdout",
          "text": [
            "Hello!\n"
          ]
        }
      ]
    },
    {
      "cell_type": "code",
      "source": [
        "message = \"Hello!\"\n",
        "\n",
        "print(message)\n",
        "get_message()\n",
        "print(message) #La variable locale n'est pas modifiée!"
      ],
      "metadata": {
        "colab": {
          "base_uri": "https://localhost:8080/"
        },
        "id": "jCbz1TbrboAg",
        "outputId": "ea75ead2-1f08-4697-c75c-67f9ba83a44f"
      },
      "execution_count": null,
      "outputs": [
        {
          "output_type": "stream",
          "name": "stdout",
          "text": [
            "Hello!\n",
            "Hello!\n"
          ]
        }
      ]
    },
    {
      "cell_type": "code",
      "source": [
        "message = \"Hello!\"\n",
        "\n",
        "def get_message():\n",
        "  global message\n",
        "  message = 'Goodbye!'\n",
        "\n",
        "print(message)\n",
        "get_message()\n",
        "print(message)"
      ],
      "metadata": {
        "colab": {
          "base_uri": "https://localhost:8080/"
        },
        "id": "pM0ku2Ipcqor",
        "outputId": "b8ee3323-c015-4639-8e80-a1876c2362ee"
      },
      "execution_count": null,
      "outputs": [
        {
          "output_type": "stream",
          "name": "stdout",
          "text": [
            "Hello!\n",
            "Goodbye!\n"
          ]
        }
      ]
    },
    {
      "cell_type": "markdown",
      "source": [
        "## Exercice \n",
        "\n",
        "1. Créez une fonction qui permet d'additioner 4 nombres. Retournez le résultat\n",
        "2. Créez une fonction qui permet de multiplier autant de nombre que l'on veut. Retournez le résultat\n",
        "3. Créez une fonction qui affiche le résultat divisé par 2 de la fonction en créée en 2.\n"
      ],
      "metadata": {
        "id": "rRfsGHkXogH7"
      }
    },
    {
      "cell_type": "code",
      "source": [
        "#Votre code ici"
      ],
      "metadata": {
        "id": "bWt-NyFEpFcY"
      },
      "execution_count": null,
      "outputs": []
    },
    {
      "cell_type": "markdown",
      "source": [
        "# Les boucles dans Python\n",
        "Une boucle dans un programme d’ordinateur est une instruction qui se répète jusqu’à ce qu’une condition spécifiée soit atteinte.\n",
        "\n",
        "/!\\ Aux indentations /!\\\n",
        "\n",
        "La boucle 'for' permet d'itérer un processus n fois"
      ],
      "metadata": {
        "id": "3-E36Vibc7-L"
      }
    },
    {
      "cell_type": "code",
      "source": [
        "n = 5\n",
        "for i in range(n):\n",
        "  print(i)"
      ],
      "metadata": {
        "colab": {
          "base_uri": "https://localhost:8080/"
        },
        "id": "eWK50CwHdJuY",
        "outputId": "0310cbb7-763a-458c-ea22-01e0145c961d"
      },
      "execution_count": null,
      "outputs": [
        {
          "output_type": "stream",
          "name": "stdout",
          "text": [
            "0\n",
            "1\n",
            "2\n",
            "3\n",
            "4\n"
          ]
        }
      ]
    },
    {
      "cell_type": "code",
      "source": [
        "list_name = ['Luca', 'Antoine']\n",
        "for i,name in enumerate(list_name):\n",
        "  print(i, name)"
      ],
      "metadata": {
        "colab": {
          "base_uri": "https://localhost:8080/"
        },
        "id": "aWAiu5_SdRKv",
        "outputId": "42415f3c-d2e0-43d3-e972-201d2128df14"
      },
      "execution_count": null,
      "outputs": [
        {
          "output_type": "stream",
          "name": "stdout",
          "text": [
            "0 Luca\n",
            "1 Antoine\n"
          ]
        }
      ]
    },
    {
      "cell_type": "markdown",
      "source": [
        "La boucle 'if' permet de tester une condition spécifique et de choisir le processus à éxecuter"
      ],
      "metadata": {
        "id": "UMDzfHVFeGXj"
      }
    },
    {
      "cell_type": "code",
      "source": [
        "list_name = ['Luca', 'Antoine', 'Victor', 'Bastien', 'Nathan']\n",
        "for i,name in enumerate(list_name):\n",
        "  if name == 'Luca':\n",
        "    print(f'{name} = Cool dude!')\n",
        "  elif name == 'Antoine':\n",
        "    print(f'{name} = Very cool dude!')"
      ],
      "metadata": {
        "colab": {
          "base_uri": "https://localhost:8080/"
        },
        "id": "8RupOO13doa7",
        "outputId": "2a4976e7-93dd-4bdb-ca25-a948d618cb44"
      },
      "execution_count": null,
      "outputs": [
        {
          "output_type": "stream",
          "name": "stdout",
          "text": [
            "Luca = Cool dude!\n",
            "Antoine = Very cool dude!\n"
          ]
        }
      ]
    },
    {
      "cell_type": "markdown",
      "source": [
        "La \"comprehensive list\" permet de regrouper les loops 'for ... if' sur une ligne de code"
      ],
      "metadata": {
        "id": "kZi1hM6a1uI4"
      }
    },
    {
      "cell_type": "code",
      "source": [
        "my_list = [i for i in range(11) if i % 2 == 0]\n",
        "print(my_list)\n",
        "\n",
        "#Remarque: L'opération %2 est une opération qui permet de déterminer sur un nombre est pair ou non (=0 si pair)"
      ],
      "metadata": {
        "colab": {
          "base_uri": "https://localhost:8080/"
        },
        "id": "3gjqFEWi1el_",
        "outputId": "ed97b9d1-3573-4c1c-d878-5dd00e17a780"
      },
      "execution_count": null,
      "outputs": [
        {
          "output_type": "stream",
          "name": "stdout",
          "text": [
            "[0, 2, 4, 6, 8, 10]\n"
          ]
        }
      ]
    },
    {
      "cell_type": "code",
      "source": [
        "a = 5\n",
        "b = 3 \n",
        "if a == b:\n",
        "  print('a=b')\n",
        "elif a < b:\n",
        "  print('a<b')\n",
        "else:\n",
        "  print('a>b')"
      ],
      "metadata": {
        "colab": {
          "base_uri": "https://localhost:8080/"
        },
        "id": "4fy5giOEfrJI",
        "outputId": "d9ccd3b1-051f-4082-91b3-7fee082abe35"
      },
      "execution_count": null,
      "outputs": [
        {
          "output_type": "stream",
          "name": "stdout",
          "text": [
            "a>b\n"
          ]
        }
      ]
    },
    {
      "cell_type": "markdown",
      "source": [
        "La boucle while permet de faire tourner un processus jusqu'à ce qu'une condition soit atteinte"
      ],
      "metadata": {
        "id": "tLadsXMrmtIJ"
      }
    },
    {
      "cell_type": "code",
      "source": [
        "i=0\n",
        "while i <= 4:\n",
        "  print(i)\n",
        "  i += 1"
      ],
      "metadata": {
        "colab": {
          "base_uri": "https://localhost:8080/"
        },
        "id": "CU5cyB8Sm2IN",
        "outputId": "bbd85146-700b-4acb-f899-f2d8f9988674"
      },
      "execution_count": null,
      "outputs": [
        {
          "output_type": "stream",
          "name": "stdout",
          "text": [
            "0\n",
            "1\n",
            "2\n",
            "3\n",
            "4\n"
          ]
        }
      ]
    },
    {
      "cell_type": "code",
      "source": [
        "def test_flag(i):\n",
        "  if i == 10:\n",
        "    return False\n",
        "  else:\n",
        "    return True\n",
        "\n",
        "flag = True\n",
        "i = 0\n",
        "\n",
        "while flag == True:\n",
        "  flag=test_flag(i)\n",
        "  print(i, flag)\n",
        "  i += 1"
      ],
      "metadata": {
        "id": "aq6BohqjzKZv",
        "colab": {
          "base_uri": "https://localhost:8080/"
        },
        "outputId": "51566119-b3f9-4658-93ed-7797266dc6d5"
      },
      "execution_count": null,
      "outputs": [
        {
          "output_type": "stream",
          "name": "stdout",
          "text": [
            "0 True\n",
            "1 True\n",
            "2 True\n",
            "3 True\n",
            "4 True\n",
            "5 True\n",
            "6 True\n",
            "7 True\n",
            "8 True\n",
            "9 True\n",
            "10 False\n"
          ]
        }
      ]
    },
    {
      "cell_type": "markdown",
      "source": [
        "## Exercice\n",
        "\n",
        "1. Remplissez deux liste avec des float. Ces listes doivent être de même taille.\n",
        "2. Indiquez si les valeurs de la liste 1 sont plus petites que celles de la liste 2 (élément par élément). Mettez une valueur à True à chaque fois que c'est le cas.\n",
        "3. Faites-en une fonction qui prend comme argument liste 1 et liste 2 et retournez la liste de bool.\n",
        "4. Comptez le nombre d'élément à True dans cette liste de bool."
      ],
      "metadata": {
        "id": "jeuKaK2y4Pfx"
      }
    },
    {
      "cell_type": "code",
      "source": [
        "#Votre code ici"
      ],
      "metadata": {
        "colab": {
          "base_uri": "https://localhost:8080/"
        },
        "id": "bKnCYHzV4O-Z",
        "outputId": "5d1a8f8c-377f-4d1c-9ebf-32e53af46bcb"
      },
      "execution_count": null,
      "outputs": [
        {
          "output_type": "stream",
          "name": "stdout",
          "text": [
            "1\n"
          ]
        }
      ]
    },
    {
      "cell_type": "markdown",
      "source": [
        "# Les classes  dans Python\n",
        "\n",
        "Les classes sont un moyen de réunir des données et des fonctionnalités. Créer une nouvelle classe crée un nouveau type d'objet et ainsi de nouvelles instances de ce type peuvent être construites. Chaque instance peut avoir ses propres attributs, ce qui définit son état. Une instance peut aussi avoir des méthodes (définies par la classe de l'instance) pour modifier son état.\n",
        "\n",
        "/!\\ Aux indentations /!\\\n"
      ],
      "metadata": {
        "id": "LME-bUX0qPjw"
      }
    },
    {
      "cell_type": "code",
      "source": [
        "class School:\n",
        "  pass"
      ],
      "metadata": {
        "id": "AzizM1Pgo3Wf"
      },
      "execution_count": null,
      "outputs": []
    },
    {
      "cell_type": "code",
      "source": [
        "my_school = School()\n",
        "print(my_school)"
      ],
      "metadata": {
        "colab": {
          "base_uri": "https://localhost:8080/"
        },
        "id": "eHl6zR4BsEkS",
        "outputId": "ab670f8f-f291-4540-cc38-b7d1c54f0824"
      },
      "execution_count": null,
      "outputs": [
        {
          "output_type": "stream",
          "name": "stdout",
          "text": [
            "<__main__.School object at 0x7f3107e36990>\n"
          ]
        }
      ]
    },
    {
      "cell_type": "code",
      "source": [
        "class School:\n",
        "  def __init__(self, teachers, students):\n",
        "    self.teachers = teachers\n",
        "    self.students = students"
      ],
      "metadata": {
        "id": "zb262-J5sHdD"
      },
      "execution_count": null,
      "outputs": []
    },
    {
      "cell_type": "code",
      "source": [
        "teachers = ['Antoine', 'Luca']\n",
        "students = ['john', 'doe', 'jane', 'foo']\n",
        "fastAI=School(teachers, students)"
      ],
      "metadata": {
        "id": "QCnya_Kft52w"
      },
      "execution_count": null,
      "outputs": []
    },
    {
      "cell_type": "code",
      "source": [
        "print(fastAI.teachers, fastAI.students)"
      ],
      "metadata": {
        "colab": {
          "base_uri": "https://localhost:8080/"
        },
        "id": "mY4oODYvuLfw",
        "outputId": "5c3e15f1-d218-4fef-cbfd-04d35b791a7c"
      },
      "execution_count": null,
      "outputs": [
        {
          "output_type": "stream",
          "name": "stdout",
          "text": [
            "['Antoine', 'Luca'] ['john', 'doe', 'jane', 'foo']\n"
          ]
        }
      ]
    },
    {
      "cell_type": "code",
      "source": [
        "teachers = ['François', 'Vincent']\n",
        "students = ['john', 'doe', 'jane', 'foo']\n",
        "arduino=School(teachers, students)"
      ],
      "metadata": {
        "id": "9jV_7_S8uNe_"
      },
      "execution_count": null,
      "outputs": []
    },
    {
      "cell_type": "code",
      "source": [
        "print(arduino.teachers, arduino.students)"
      ],
      "metadata": {
        "colab": {
          "base_uri": "https://localhost:8080/"
        },
        "id": "sNxyeX2bup5o",
        "outputId": "b3a9d9b4-5574-4154-9adc-ec8612374bfc"
      },
      "execution_count": null,
      "outputs": [
        {
          "output_type": "stream",
          "name": "stdout",
          "text": [
            "['François', 'Vincent'] ['john', 'doe', 'jane', 'foo']\n"
          ]
        }
      ]
    },
    {
      "cell_type": "markdown",
      "source": [
        "'fastAI' et 'arduino' sont 2 objets School différents"
      ],
      "metadata": {
        "id": "UopQSKWIu2gZ"
      }
    },
    {
      "cell_type": "code",
      "source": [
        "print(fastAI, arduino) "
      ],
      "metadata": {
        "colab": {
          "base_uri": "https://localhost:8080/"
        },
        "id": "yajeLfvburhJ",
        "outputId": "d2b1dc96-5fbb-4681-cfd8-233ff3590d66"
      },
      "execution_count": null,
      "outputs": [
        {
          "output_type": "stream",
          "name": "stdout",
          "text": [
            "<__main__.School object at 0x7f3107d6e950> <__main__.School object at 0x7f3107e3a9d0>\n"
          ]
        }
      ]
    },
    {
      "cell_type": "markdown",
      "source": [
        "Nous pouvons modifier les attributs directement à partir de l'instance de la classe"
      ],
      "metadata": {
        "id": "3h16FPDavJ5J"
      }
    },
    {
      "cell_type": "code",
      "source": [
        "fastAI.students.append('guillaume') #students étant une liste, on ajoute 'guillaume' à la liste des students\n",
        "print(fastAI.students)"
      ],
      "metadata": {
        "colab": {
          "base_uri": "https://localhost:8080/"
        },
        "id": "rWH8-q7svQGD",
        "outputId": "b0348547-4aea-48ef-e567-999999457c2e"
      },
      "execution_count": null,
      "outputs": [
        {
          "output_type": "stream",
          "name": "stdout",
          "text": [
            "['john', 'doe', 'jane', 'foo', 'guillaume']\n"
          ]
        }
      ]
    },
    {
      "cell_type": "code",
      "source": [
        "class School:\n",
        "  def __init__(self, teachers, students):\n",
        "    self.teachers = teachers\n",
        "    self.students = students\n",
        "\n",
        "  def count_teachers(self):\n",
        "    print(len(self.teachers))\n",
        "  \n",
        "  def count_students(self):\n",
        "    print(len(self.students))\n",
        "\n",
        "  def count_people(self):\n",
        "    print(len(self.teachers+self.students)) #concatenation de list avec l'opérande '+'\n",
        "  \n",
        "\n",
        "teachers = ['Antoine', 'Luca']\n",
        "students = ['john', 'doe', 'jane', 'foo']\n",
        "fastAI=School(teachers, students)"
      ],
      "metadata": {
        "id": "oeHzsLFcuvTK"
      },
      "execution_count": null,
      "outputs": []
    },
    {
      "cell_type": "code",
      "source": [
        "fastAI.count_teachers()\n",
        "fastAI.count_students()\n",
        "fastAI.count_people()"
      ],
      "metadata": {
        "colab": {
          "base_uri": "https://localhost:8080/"
        },
        "id": "pgZIID-8v4yI",
        "outputId": "2726d590-156e-401a-de6b-81f35081f08b"
      },
      "execution_count": null,
      "outputs": [
        {
          "output_type": "stream",
          "name": "stdout",
          "text": [
            "2\n",
            "4\n",
            "6\n"
          ]
        }
      ]
    },
    {
      "cell_type": "code",
      "source": [
        "class MyClasse(School):\n",
        "  def __init__(self,teachers, students, year):\n",
        "    super().__init__(teachers, students)\n",
        "    self.year = year\n",
        "  \n",
        "  def get_people(self):\n",
        "    print(f'teachers and students in {self.year} : {self.teachers[0]} , {self.students[0]}')"
      ],
      "metadata": {
        "id": "cdYa-mXKv6oN"
      },
      "execution_count": null,
      "outputs": []
    },
    {
      "cell_type": "code",
      "source": [
        "my_class = MyClasse(teachers, students, 2021)\n",
        "print(my_class.teachers, my_class.students, my_class.year)\n",
        "\n",
        "my_class.get_people()"
      ],
      "metadata": {
        "colab": {
          "base_uri": "https://localhost:8080/"
        },
        "id": "uQ901YXqwVLx",
        "outputId": "0372939d-c13d-4f42-db0a-392b498c9d7c"
      },
      "execution_count": null,
      "outputs": [
        {
          "output_type": "stream",
          "name": "stdout",
          "text": [
            "['Antoine', 'Luca'] ['john', 'doe', 'jane', 'foo'] 2021\n",
            "teachers and students in 2021 : Antoine , john\n"
          ]
        }
      ]
    },
    {
      "cell_type": "markdown",
      "source": [
        "# Exercice\n",
        "\n",
        "1. Créez une classe Maison avec les arguments suivants : Chambre, Cuisine, Salon, Grenier. Ces arguments représentent les pièces de la maison. Les valeurs des arguments sont les tailles de ces pièces (float)\n",
        "2. Créez une fonction attachée à la classe qui permet de compter le nombre de pièce dnas la maison.\n",
        "3. Créez une fonction attachée à la classe qui permet de retourner la taille de chaque pièce.\n",
        "4. Créez une fonction attachée à la classe qui permet de calculer la taille complète de la maison.\n"
      ],
      "metadata": {
        "id": "QAOrODr2mI2C"
      }
    },
    {
      "cell_type": "code",
      "source": [
        "#Votre code ici"
      ],
      "metadata": {
        "id": "MhCKOV3WtDe_"
      },
      "execution_count": null,
      "outputs": []
    }
  ]
}