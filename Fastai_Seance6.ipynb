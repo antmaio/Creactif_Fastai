{
  "cells": [
    {
      "cell_type": "markdown",
      "metadata": {
        "id": "view-in-github"
      },
      "source": [
        "<a href=\"https://colab.research.google.com/github/antmaio/Creactif_Fastai/blob/main/Fastai_Seance6.ipynb\" target=\"_parent\"><img src=\"https://colab.research.google.com/assets/colab-badge.svg\" alt=\"Open In Colab\"/></a>"
      ]
    },
    {
      "cell_type": "markdown",
      "source": [
        "# Données en Tableau"
      ],
      "metadata": {
        "id": "t3Isrcclps82"
      }
    },
    {
      "cell_type": "code",
      "source": [
        "import torch.nn as nn\n",
        "import pandas as pd\n",
        "from fastai.tabular.all import *\n",
        "torch.cuda.empty_cache()"
      ],
      "metadata": {
        "id": "ccjf9ktfvdVK"
      },
      "execution_count": 3,
      "outputs": []
    },
    {
      "cell_type": "code",
      "source": [
        "path = untar_data(URLs.ADULT_SAMPLE)\n",
        "path.ls()"
      ],
      "metadata": {
        "colab": {
          "base_uri": "https://localhost:8080/",
          "height": 94
        },
        "id": "-HthPEFVvhcJ",
        "outputId": "a7358d0d-df97-4e2e-971d-4dc81d737b70"
      },
      "execution_count": 4,
      "outputs": [
        {
          "output_type": "display_data",
          "data": {
            "text/plain": [
              "<IPython.core.display.HTML object>"
            ],
            "text/html": [
              "\n",
              "<style>\n",
              "    /* Turns off some styling */\n",
              "    progress {\n",
              "        /* gets rid of default border in Firefox and Opera. */\n",
              "        border: none;\n",
              "        /* Needs to be in here for Safari polyfill so background images work as expected. */\n",
              "        background-size: auto;\n",
              "    }\n",
              "    progress:not([value]), progress:not([value])::-webkit-progress-bar {\n",
              "        background: repeating-linear-gradient(45deg, #7e7e7e, #7e7e7e 10px, #5c5c5c 10px, #5c5c5c 20px);\n",
              "    }\n",
              "    .progress-bar-interrupted, .progress-bar-interrupted::-webkit-progress-bar {\n",
              "        background: #F44336;\n",
              "    }\n",
              "</style>\n"
            ]
          },
          "metadata": {}
        },
        {
          "output_type": "display_data",
          "data": {
            "text/plain": [
              "<IPython.core.display.HTML object>"
            ],
            "text/html": [
              "\n",
              "    <div>\n",
              "      <progress value='974848' class='' max='968212' style='width:300px; height:20px; vertical-align: middle;'></progress>\n",
              "      100.69% [974848/968212 00:00&lt;00:00]\n",
              "    </div>\n",
              "    "
            ]
          },
          "metadata": {}
        },
        {
          "output_type": "execute_result",
          "data": {
            "text/plain": [
              "(#3) [Path('/root/.fastai/data/adult_sample/export.pkl'),Path('/root/.fastai/data/adult_sample/adult.csv'),Path('/root/.fastai/data/adult_sample/models')]"
            ]
          },
          "metadata": {},
          "execution_count": 4
        }
      ]
    },
    {
      "cell_type": "markdown",
      "source": [
        "Visualisation du tableau (DataFrame) :"
      ],
      "metadata": {
        "id": "oUliruOtwSK8"
      }
    },
    {
      "cell_type": "code",
      "source": [
        "df = pd.read_csv(path/'adult.csv')\n",
        "df.head(5)"
      ],
      "metadata": {
        "colab": {
          "base_uri": "https://localhost:8080/",
          "height": 444
        },
        "id": "vjjjE1LuvjHV",
        "outputId": "ab4dd373-6ee3-45ef-f7ae-364dbccc6f1b"
      },
      "execution_count": 5,
      "outputs": [
        {
          "output_type": "execute_result",
          "data": {
            "text/plain": [
              "   age          workclass  fnlwgt     education  education-num  \\\n",
              "0   49            Private  101320    Assoc-acdm           12.0   \n",
              "1   44            Private  236746       Masters           14.0   \n",
              "2   38            Private   96185       HS-grad            NaN   \n",
              "3   38       Self-emp-inc  112847   Prof-school           15.0   \n",
              "4   42   Self-emp-not-inc   82297       7th-8th            NaN   \n",
              "\n",
              "        marital-status        occupation    relationship                 race  \\\n",
              "0   Married-civ-spouse               NaN            Wife                White   \n",
              "1             Divorced   Exec-managerial   Not-in-family                White   \n",
              "2             Divorced               NaN       Unmarried                Black   \n",
              "3   Married-civ-spouse    Prof-specialty         Husband   Asian-Pac-Islander   \n",
              "4   Married-civ-spouse     Other-service            Wife                Black   \n",
              "\n",
              "       sex  capital-gain  capital-loss  hours-per-week  native-country salary  \n",
              "0   Female             0          1902              40   United-States  >=50k  \n",
              "1     Male         10520             0              45   United-States  >=50k  \n",
              "2   Female             0             0              32   United-States   <50k  \n",
              "3     Male             0             0              40   United-States  >=50k  \n",
              "4   Female             0             0              50   United-States   <50k  "
            ],
            "text/html": [
              "\n",
              "  <div id=\"df-90cff6ef-cc1b-4075-9652-8723eb3c0a90\">\n",
              "    <div class=\"colab-df-container\">\n",
              "      <div>\n",
              "<style scoped>\n",
              "    .dataframe tbody tr th:only-of-type {\n",
              "        vertical-align: middle;\n",
              "    }\n",
              "\n",
              "    .dataframe tbody tr th {\n",
              "        vertical-align: top;\n",
              "    }\n",
              "\n",
              "    .dataframe thead th {\n",
              "        text-align: right;\n",
              "    }\n",
              "</style>\n",
              "<table border=\"1\" class=\"dataframe\">\n",
              "  <thead>\n",
              "    <tr style=\"text-align: right;\">\n",
              "      <th></th>\n",
              "      <th>age</th>\n",
              "      <th>workclass</th>\n",
              "      <th>fnlwgt</th>\n",
              "      <th>education</th>\n",
              "      <th>education-num</th>\n",
              "      <th>marital-status</th>\n",
              "      <th>occupation</th>\n",
              "      <th>relationship</th>\n",
              "      <th>race</th>\n",
              "      <th>sex</th>\n",
              "      <th>capital-gain</th>\n",
              "      <th>capital-loss</th>\n",
              "      <th>hours-per-week</th>\n",
              "      <th>native-country</th>\n",
              "      <th>salary</th>\n",
              "    </tr>\n",
              "  </thead>\n",
              "  <tbody>\n",
              "    <tr>\n",
              "      <th>0</th>\n",
              "      <td>49</td>\n",
              "      <td>Private</td>\n",
              "      <td>101320</td>\n",
              "      <td>Assoc-acdm</td>\n",
              "      <td>12.0</td>\n",
              "      <td>Married-civ-spouse</td>\n",
              "      <td>NaN</td>\n",
              "      <td>Wife</td>\n",
              "      <td>White</td>\n",
              "      <td>Female</td>\n",
              "      <td>0</td>\n",
              "      <td>1902</td>\n",
              "      <td>40</td>\n",
              "      <td>United-States</td>\n",
              "      <td>&gt;=50k</td>\n",
              "    </tr>\n",
              "    <tr>\n",
              "      <th>1</th>\n",
              "      <td>44</td>\n",
              "      <td>Private</td>\n",
              "      <td>236746</td>\n",
              "      <td>Masters</td>\n",
              "      <td>14.0</td>\n",
              "      <td>Divorced</td>\n",
              "      <td>Exec-managerial</td>\n",
              "      <td>Not-in-family</td>\n",
              "      <td>White</td>\n",
              "      <td>Male</td>\n",
              "      <td>10520</td>\n",
              "      <td>0</td>\n",
              "      <td>45</td>\n",
              "      <td>United-States</td>\n",
              "      <td>&gt;=50k</td>\n",
              "    </tr>\n",
              "    <tr>\n",
              "      <th>2</th>\n",
              "      <td>38</td>\n",
              "      <td>Private</td>\n",
              "      <td>96185</td>\n",
              "      <td>HS-grad</td>\n",
              "      <td>NaN</td>\n",
              "      <td>Divorced</td>\n",
              "      <td>NaN</td>\n",
              "      <td>Unmarried</td>\n",
              "      <td>Black</td>\n",
              "      <td>Female</td>\n",
              "      <td>0</td>\n",
              "      <td>0</td>\n",
              "      <td>32</td>\n",
              "      <td>United-States</td>\n",
              "      <td>&lt;50k</td>\n",
              "    </tr>\n",
              "    <tr>\n",
              "      <th>3</th>\n",
              "      <td>38</td>\n",
              "      <td>Self-emp-inc</td>\n",
              "      <td>112847</td>\n",
              "      <td>Prof-school</td>\n",
              "      <td>15.0</td>\n",
              "      <td>Married-civ-spouse</td>\n",
              "      <td>Prof-specialty</td>\n",
              "      <td>Husband</td>\n",
              "      <td>Asian-Pac-Islander</td>\n",
              "      <td>Male</td>\n",
              "      <td>0</td>\n",
              "      <td>0</td>\n",
              "      <td>40</td>\n",
              "      <td>United-States</td>\n",
              "      <td>&gt;=50k</td>\n",
              "    </tr>\n",
              "    <tr>\n",
              "      <th>4</th>\n",
              "      <td>42</td>\n",
              "      <td>Self-emp-not-inc</td>\n",
              "      <td>82297</td>\n",
              "      <td>7th-8th</td>\n",
              "      <td>NaN</td>\n",
              "      <td>Married-civ-spouse</td>\n",
              "      <td>Other-service</td>\n",
              "      <td>Wife</td>\n",
              "      <td>Black</td>\n",
              "      <td>Female</td>\n",
              "      <td>0</td>\n",
              "      <td>0</td>\n",
              "      <td>50</td>\n",
              "      <td>United-States</td>\n",
              "      <td>&lt;50k</td>\n",
              "    </tr>\n",
              "  </tbody>\n",
              "</table>\n",
              "</div>\n",
              "      <button class=\"colab-df-convert\" onclick=\"convertToInteractive('df-90cff6ef-cc1b-4075-9652-8723eb3c0a90')\"\n",
              "              title=\"Convert this dataframe to an interactive table.\"\n",
              "              style=\"display:none;\">\n",
              "        \n",
              "  <svg xmlns=\"http://www.w3.org/2000/svg\" height=\"24px\"viewBox=\"0 0 24 24\"\n",
              "       width=\"24px\">\n",
              "    <path d=\"M0 0h24v24H0V0z\" fill=\"none\"/>\n",
              "    <path d=\"M18.56 5.44l.94 2.06.94-2.06 2.06-.94-2.06-.94-.94-2.06-.94 2.06-2.06.94zm-11 1L8.5 8.5l.94-2.06 2.06-.94-2.06-.94L8.5 2.5l-.94 2.06-2.06.94zm10 10l.94 2.06.94-2.06 2.06-.94-2.06-.94-.94-2.06-.94 2.06-2.06.94z\"/><path d=\"M17.41 7.96l-1.37-1.37c-.4-.4-.92-.59-1.43-.59-.52 0-1.04.2-1.43.59L10.3 9.45l-7.72 7.72c-.78.78-.78 2.05 0 2.83L4 21.41c.39.39.9.59 1.41.59.51 0 1.02-.2 1.41-.59l7.78-7.78 2.81-2.81c.8-.78.8-2.07 0-2.86zM5.41 20L4 18.59l7.72-7.72 1.47 1.35L5.41 20z\"/>\n",
              "  </svg>\n",
              "      </button>\n",
              "      \n",
              "  <style>\n",
              "    .colab-df-container {\n",
              "      display:flex;\n",
              "      flex-wrap:wrap;\n",
              "      gap: 12px;\n",
              "    }\n",
              "\n",
              "    .colab-df-convert {\n",
              "      background-color: #E8F0FE;\n",
              "      border: none;\n",
              "      border-radius: 50%;\n",
              "      cursor: pointer;\n",
              "      display: none;\n",
              "      fill: #1967D2;\n",
              "      height: 32px;\n",
              "      padding: 0 0 0 0;\n",
              "      width: 32px;\n",
              "    }\n",
              "\n",
              "    .colab-df-convert:hover {\n",
              "      background-color: #E2EBFA;\n",
              "      box-shadow: 0px 1px 2px rgba(60, 64, 67, 0.3), 0px 1px 3px 1px rgba(60, 64, 67, 0.15);\n",
              "      fill: #174EA6;\n",
              "    }\n",
              "\n",
              "    [theme=dark] .colab-df-convert {\n",
              "      background-color: #3B4455;\n",
              "      fill: #D2E3FC;\n",
              "    }\n",
              "\n",
              "    [theme=dark] .colab-df-convert:hover {\n",
              "      background-color: #434B5C;\n",
              "      box-shadow: 0px 1px 3px 1px rgba(0, 0, 0, 0.15);\n",
              "      filter: drop-shadow(0px 1px 2px rgba(0, 0, 0, 0.3));\n",
              "      fill: #FFFFFF;\n",
              "    }\n",
              "  </style>\n",
              "\n",
              "      <script>\n",
              "        const buttonEl =\n",
              "          document.querySelector('#df-90cff6ef-cc1b-4075-9652-8723eb3c0a90 button.colab-df-convert');\n",
              "        buttonEl.style.display =\n",
              "          google.colab.kernel.accessAllowed ? 'block' : 'none';\n",
              "\n",
              "        async function convertToInteractive(key) {\n",
              "          const element = document.querySelector('#df-90cff6ef-cc1b-4075-9652-8723eb3c0a90');\n",
              "          const dataTable =\n",
              "            await google.colab.kernel.invokeFunction('convertToInteractive',\n",
              "                                                     [key], {});\n",
              "          if (!dataTable) return;\n",
              "\n",
              "          const docLinkHtml = 'Like what you see? Visit the ' +\n",
              "            '<a target=\"_blank\" href=https://colab.research.google.com/notebooks/data_table.ipynb>data table notebook</a>'\n",
              "            + ' to learn more about interactive tables.';\n",
              "          element.innerHTML = '';\n",
              "          dataTable['output_type'] = 'display_data';\n",
              "          await google.colab.output.renderOutput(dataTable, element);\n",
              "          const docLink = document.createElement('div');\n",
              "          docLink.innerHTML = docLinkHtml;\n",
              "          element.appendChild(docLink);\n",
              "        }\n",
              "      </script>\n",
              "    </div>\n",
              "  </div>\n",
              "  "
            ]
          },
          "metadata": {},
          "execution_count": 5
        }
      ]
    },
    {
      "cell_type": "code",
      "source": [
        "df.nunique() #Nombre de classe unique dans chaque colonne"
      ],
      "metadata": {
        "colab": {
          "base_uri": "https://localhost:8080/"
        },
        "id": "XXcNTA4Sj2CS",
        "outputId": "763b99c1-3d4c-4213-f585-d95dfa910f4a"
      },
      "execution_count": 6,
      "outputs": [
        {
          "output_type": "execute_result",
          "data": {
            "text/plain": [
              "age                  73\n",
              "workclass             9\n",
              "fnlwgt            21648\n",
              "education            16\n",
              "education-num        16\n",
              "marital-status        7\n",
              "occupation           15\n",
              "relationship          6\n",
              "race                  5\n",
              "sex                   2\n",
              "capital-gain        119\n",
              "capital-loss         92\n",
              "hours-per-week       94\n",
              "native-country       42\n",
              "salary                2\n",
              "dtype: int64"
            ]
          },
          "metadata": {},
          "execution_count": 6
        }
      ]
    },
    {
      "cell_type": "markdown",
      "source": [
        "NaN = Not a Number ⇒ Donnée non récoltée"
      ],
      "metadata": {
        "id": "qL5YoJ2ZwHHA"
      }
    },
    {
      "cell_type": "markdown",
      "source": [
        "## Exercice 1:\n",
        "Afficher les 10 derniers éléments du tableau"
      ],
      "metadata": {
        "id": "zS7GM0969Cyi"
      }
    },
    {
      "cell_type": "code",
      "source": [
        "# Votre code"
      ],
      "metadata": {
        "id": "IYwT34U_9L39"
      },
      "execution_count": 7,
      "outputs": []
    },
    {
      "cell_type": "markdown",
      "source": [
        "## Création du DataLoader"
      ],
      "metadata": {
        "id": "nVzV-qim9Rvu"
      }
    },
    {
      "cell_type": "markdown",
      "source": [
        "y_names : ce que l'on veut estimer (sortie du réseau de neurones)\n",
        "\n",
        "cat_names : les entrées que l'on peut diviser en catégories (discrètes), ex: chat / chien\n",
        "\n",
        "cont_names : les entrées qui peuvent prendre des valeurs continues, ex: valeur des pixels dans une image"
      ],
      "metadata": {
        "id": "ZxTrPR2Ww8rP"
      }
    },
    {
      "cell_type": "code",
      "source": [
        "cat_names = ['workclass', 'education', 'marital-status', 'occupation', 'relationship', 'race']\n",
        "cont_names = ['age', 'fnlwgt', 'education-num']\n",
        "\n",
        "dls = TabularDataLoaders.from_csv(path/'adult.csv', path=path, y_names=\"salary\",\n",
        "                                   cat_names=cat_names, cont_names=cont_names)"
      ],
      "metadata": {
        "id": "5jNZe5R8vlNT"
      },
      "execution_count": null,
      "outputs": []
    },
    {
      "cell_type": "markdown",
      "source": [
        "Erreur car la fonction dataloaders ne comprend pas les données non numériques (idem que chat/chien)\n",
        "\n",
        "⇒ On utilise la Transform \"Categorify\":"
      ],
      "metadata": {
        "id": "1ZC2uD7D9-z_"
      }
    },
    {
      "cell_type": "code",
      "source": [
        "dls = TabularDataLoaders.from_csv(path/'adult.csv', path=path, y_names=\"salary\",\n",
        "                                  cat_names=cat_names, cont_names=cont_names,\n",
        "                                  procs = Categorify)\n",
        "\n",
        "test = pd.DataFrame(dls.train_ds[['occupation','education-num']])\n",
        "test = test.sort_index()\n",
        "print(test[:5])"
      ],
      "metadata": {
        "id": "ysUsQv0Zzdrr"
      },
      "execution_count": null,
      "outputs": []
    },
    {
      "cell_type": "markdown",
      "source": [
        "## Exercice 2:\n",
        "Pourquoi nous n'avons pas les mêmes indices que dans df.head(5) ? Comment les catégories sont-elles définies dans Categorify ?"
      ],
      "metadata": {
        "id": "2qELNU-w6w7V"
      }
    },
    {
      "cell_type": "markdown",
      "source": [
        "Composition d'un batch : [entrées catégorielles, entrées continues, sorties]"
      ],
      "metadata": {
        "id": "Q3zzr1yh0DFP"
      }
    },
    {
      "cell_type": "code",
      "source": [
        "print(f'length: {len(dls.one_batch())}')\n",
        "print(dls.one_batch()[0][:5])\n",
        "print(dls.one_batch()[1][:5])\n",
        "print(dls.one_batch()[2][:5])"
      ],
      "metadata": {
        "id": "EXzREICX-TSl"
      },
      "execution_count": null,
      "outputs": []
    },
    {
      "cell_type": "markdown",
      "source": [
        "Pour gérer les éléments manquants, on utilise la Transform \"FillMissing\"\n",
        "\n",
        "Note : les éléments manquants vont être remplacés par la valeur médiane"
      ],
      "metadata": {
        "id": "w7p8Eu7HAFx-"
      }
    },
    {
      "cell_type": "code",
      "source": [
        "dls = TabularDataLoaders.from_csv(path/'adult.csv', path=path, y_names=\"salary\",\n",
        "                                  cat_names=cat_names, cont_names=cont_names,\n",
        "                                  procs = [Categorify, FillMissing])\n",
        "test = pd.DataFrame(dls.train_ds[['occupation','education-num']])\n",
        "test = test.sort_index()\n",
        "print(test[:5])"
      ],
      "metadata": {
        "id": "iqCIw_K9AQyC"
      },
      "execution_count": null,
      "outputs": []
    },
    {
      "cell_type": "markdown",
      "source": [
        "Pour optimiser le traitement des entrées continues, on utilise la Transform \"Normalize\""
      ],
      "metadata": {
        "id": "8v5EGc0OAoKM"
      }
    },
    {
      "cell_type": "code",
      "source": [
        "dls = TabularDataLoaders.from_csv(path/'adult.csv', path=path, y_names=\"salary\",\n",
        "                                  cat_names=cat_names, cont_names=cont_names,\n",
        "                                  procs = [Categorify, FillMissing, Normalize])\n",
        "test = pd.DataFrame(dls.train_ds[['occupation','education-num']])\n",
        "test = test.sort_index()\n",
        "print(test[:5])"
      ],
      "metadata": {
        "id": "I_nHp79mAyWa",
        "outputId": "0aec7cca-346a-4efc-d505-8163af5e8c1b",
        "colab": {
          "base_uri": "https://localhost:8080/"
        }
      },
      "execution_count": 9,
      "outputs": [
        {
          "output_type": "stream",
          "name": "stdout",
          "text": [
            "   occupation  education-num\n",
            "1           5       1.529290\n",
            "2           0      -0.034703\n",
            "3          11       1.920289\n",
            "4           9      -0.034703\n",
            "5           7      -0.425702\n"
          ]
        }
      ]
    },
    {
      "cell_type": "markdown",
      "source": [
        "## Learner"
      ],
      "metadata": {
        "id": "7fI2-7jg-RPp"
      }
    },
    {
      "cell_type": "markdown",
      "source": [
        "\n",
        "Il y a deux manières de procéder pour pouvoir créer notre Learner : \n",
        "1. Soit nous utilisons un Learner relatif aux données tabulaire tabular_learner\n",
        "2. Soit nous utilisons le learner général de fastai mais cela implique de définir nos paramètres nous-mêmes. Cependant, nous pouvons facilement modifier les paramètres de l'architecture du modèle à utiliser."
      ],
      "metadata": {
        "id": "X_fKgNVR-64G"
      }
    },
    {
      "cell_type": "code",
      "source": [
        "\"\"\"Méthode 1)\"\"\"\n",
        "from fastai.tabular.model import TabularModel\n",
        "\n",
        "dls = TabularDataLoaders.from_csv(path/'adult.csv', path=path, y_names=\"salary\",\n",
        "                                  cat_names=cat_names, cont_names=cont_names,\n",
        "                                  procs = [Categorify, FillMissing, Normalize])\n",
        "\n",
        "tab_learn = tabular_learner(dls, metrics=accuracy)\n",
        "tab_learn.model"
      ],
      "metadata": {
        "colab": {
          "base_uri": "https://localhost:8080/"
        },
        "id": "XBY7D8fFzZq6",
        "outputId": "79492b5c-6383-4b86-dd87-c3de9e02b935"
      },
      "execution_count": 10,
      "outputs": [
        {
          "output_type": "execute_result",
          "data": {
            "text/plain": [
              "TabularModel(\n",
              "  (embeds): ModuleList(\n",
              "    (0): Embedding(10, 6)\n",
              "    (1): Embedding(17, 8)\n",
              "    (2): Embedding(8, 5)\n",
              "    (3): Embedding(16, 8)\n",
              "    (4): Embedding(7, 5)\n",
              "    (5): Embedding(6, 4)\n",
              "    (6): Embedding(3, 3)\n",
              "  )\n",
              "  (emb_drop): Dropout(p=0.0, inplace=False)\n",
              "  (bn_cont): BatchNorm1d(3, eps=1e-05, momentum=0.1, affine=True, track_running_stats=True)\n",
              "  (layers): Sequential(\n",
              "    (0): LinBnDrop(\n",
              "      (0): Linear(in_features=42, out_features=200, bias=False)\n",
              "      (1): ReLU(inplace=True)\n",
              "      (2): BatchNorm1d(200, eps=1e-05, momentum=0.1, affine=True, track_running_stats=True)\n",
              "    )\n",
              "    (1): LinBnDrop(\n",
              "      (0): Linear(in_features=200, out_features=100, bias=False)\n",
              "      (1): ReLU(inplace=True)\n",
              "      (2): BatchNorm1d(100, eps=1e-05, momentum=0.1, affine=True, track_running_stats=True)\n",
              "    )\n",
              "    (2): LinBnDrop(\n",
              "      (0): Linear(in_features=100, out_features=2, bias=True)\n",
              "    )\n",
              "  )\n",
              ")"
            ]
          },
          "metadata": {},
          "execution_count": 10
        }
      ]
    },
    {
      "cell_type": "markdown",
      "source": [
        "Analyse du réseau :      \n",
        "1. Embeddings : Les couches d'embeddings permettent de convertir des indices en vecteur de données. A chaque indice (provenant du Categorify) va être associé un vecteur d'information et nous pouvons donc retrouver ce vecteur à partir de cet indice. En informatique, nous appelons ça une look-up table.\n",
        "2. Linear : Couche de neurones dont la taille du vecteur d'entrée et celle de celui de sortie est fixe."
      ],
      "metadata": {
        "id": "CKuWxXpOEJ06"
      }
    },
    {
      "cell_type": "code",
      "source": [
        "#Embeddings\n",
        "nombre_de_mots, taille_du_vecteur = 3, 5\n",
        "embedding = nn.Embedding(nombre_de_mots, taille_du_vecteur)\n",
        "print('Look Up table size : ', embedding)\n",
        "\n",
        "idx=torch.LongTensor([0,0,1,1,2,2])\n",
        "embedding(idx)"
      ],
      "metadata": {
        "colab": {
          "base_uri": "https://localhost:8080/"
        },
        "id": "B0l55YusIr3p",
        "outputId": "130b7fc9-bc97-4fac-f1fe-58dd756994bb"
      },
      "execution_count": 11,
      "outputs": [
        {
          "output_type": "stream",
          "name": "stdout",
          "text": [
            "Look Up table size :  Embedding(3, 5)\n"
          ]
        },
        {
          "output_type": "execute_result",
          "data": {
            "text/plain": [
              "tensor([[-0.7003,  0.4197,  0.6222, -0.1447, -1.3347],\n",
              "        [-0.7003,  0.4197,  0.6222, -0.1447, -1.3347],\n",
              "        [-0.0112, -1.0629,  0.4426, -0.7759, -0.2942],\n",
              "        [-0.0112, -1.0629,  0.4426, -0.7759, -0.2942],\n",
              "        [ 2.1101,  2.0026, -0.2100,  0.0350,  1.9787],\n",
              "        [ 2.1101,  2.0026, -0.2100,  0.0350,  1.9787]],\n",
              "       grad_fn=<EmbeddingBackward0>)"
            ]
          },
          "metadata": {},
          "execution_count": 11
        }
      ]
    },
    {
      "cell_type": "code",
      "source": [
        "idx=torch.LongTensor([3])\n",
        "embedding(idx)\n",
        "#throw an error because idx>len(vocabalury)"
      ],
      "metadata": {
        "id": "ChB7_wSQiu-7"
      },
      "execution_count": null,
      "outputs": []
    },
    {
      "cell_type": "code",
      "source": [
        "tab_learn.model.embeds"
      ],
      "metadata": {
        "colab": {
          "base_uri": "https://localhost:8080/"
        },
        "id": "I06uxmHpi-ME",
        "outputId": "ac718763-be92-47a1-86ac-47cdc74784e9"
      },
      "execution_count": 14,
      "outputs": [
        {
          "output_type": "execute_result",
          "data": {
            "text/plain": [
              "ModuleList(\n",
              "  (0): Embedding(10, 6)\n",
              "  (1): Embedding(17, 8)\n",
              "  (2): Embedding(8, 5)\n",
              "  (3): Embedding(16, 8)\n",
              "  (4): Embedding(7, 5)\n",
              "  (5): Embedding(6, 4)\n",
              "  (6): Embedding(3, 3)\n",
              ")"
            ]
          },
          "metadata": {},
          "execution_count": 14
        }
      ]
    },
    {
      "cell_type": "markdown",
      "source": [
        "Une couche linéaire est une couche qui opère une opération matricielle sur le vecteur d'entrée. Elle est définie par un nombre de neurone d'entrée et un nombre de neurone de sortie\n",
        "![nn(6).svg](data:image/svg+xml;base64,PHN2ZyB4bWxucz0iaHR0cDovL3d3dy53My5vcmcvMjAwMC9zdmciIHN0eWxlPSJjdXJzb3I6IG1vdmU7IiB3aWR0aD0iMTkyMCIgaGVpZ2h0PSIxMDY3Ij48ZyB0cmFuc2Zvcm09InRyYW5zbGF0ZSgtNzk3Ljg2NDU1NjQ3NDMyODUsLTYyNS44NDc1MTY5MTM1MTkpIHNjYWxlKDIuMzMzNzA2ODQyMzAwMjMzNCkiPjxwYXRoIGNsYXNzPSJsaW5rIiBzdHlsZT0ic3Ryb2tlLXdpZHRoOiAwLjM3cHg7IHN0cm9rZS1vcGFjaXR5OiAxOyBzdHJva2U6IHJnYigyNTUsIDI1NSwgMjU1KTsgb3BhY2l0eTogMTsiIG1hcmtlci1lbmQ9IiIgZD0iTTYyOS4zMzMzMzMzMzMzMzM0LDI5MywgODA5LjMzMzMzMzMzMzMzMzQsMzc4Ij48L3BhdGg+PHBhdGggY2xhc3M9ImxpbmsiIHN0eWxlPSJzdHJva2Utd2lkdGg6IDAuMzdweDsgc3Ryb2tlLW9wYWNpdHk6IDE7IHN0cm9rZTogcmdiKDI1NSwgMjU1LCAyNTUpOyBvcGFjaXR5OiAxOyIgbWFya2VyLWVuZD0iIiBkPSJNNjI5LjMzMzMzMzMzMzMzMzQsMjkzLCA4MDkuMzMzMzMzMzMzMzMzNCw0MjAiPjwvcGF0aD48cGF0aCBjbGFzcz0ibGluayIgc3R5bGU9InN0cm9rZS13aWR0aDogMC4zN3B4OyBzdHJva2Utb3BhY2l0eTogMTsgc3Ryb2tlOiByZ2IoMjU1LCAyNTUsIDI1NSk7IG9wYWNpdHk6IDE7IiBtYXJrZXItZW5kPSIiIGQ9Ik02MjkuMzMzMzMzMzMzMzMzNCwzNDYsIDgwOS4zMzMzMzMzMzMzMzM0LDM3OCI+PC9wYXRoPjxwYXRoIGNsYXNzPSJsaW5rIiBzdHlsZT0ic3Ryb2tlLXdpZHRoOiAwLjM3cHg7IHN0cm9rZS1vcGFjaXR5OiAxOyBzdHJva2U6IHJnYigyNTUsIDI1NSwgMjU1KTsgb3BhY2l0eTogMTsiIG1hcmtlci1lbmQ9IiIgZD0iTTYyOS4zMzMzMzMzMzMzMzM0LDM0NiwgODA5LjMzMzMzMzMzMzMzMzQsNDIwIj48L3BhdGg+PHBhdGggY2xhc3M9ImxpbmsiIHN0eWxlPSJzdHJva2Utd2lkdGg6IDAuMzdweDsgc3Ryb2tlLW9wYWNpdHk6IDE7IHN0cm9rZTogcmdiKDI1NSwgMjU1LCAyNTUpOyBvcGFjaXR5OiAxOyIgbWFya2VyLWVuZD0iIiBkPSJNNjI5LjMzMzMzMzMzMzMzMzQsMzk5LCA4MDkuMzMzMzMzMzMzMzMzNCwzNzgiPjwvcGF0aD48cGF0aCBjbGFzcz0ibGluayIgc3R5bGU9InN0cm9rZS13aWR0aDogMC4zN3B4OyBzdHJva2Utb3BhY2l0eTogMTsgc3Ryb2tlOiByZ2IoMjU1LCAyNTUsIDI1NSk7IG9wYWNpdHk6IDE7IiBtYXJrZXItZW5kPSIiIGQ9Ik02MjkuMzMzMzMzMzMzMzMzNCwzOTksIDgwOS4zMzMzMzMzMzMzMzM0LDQyMCI+PC9wYXRoPjxwYXRoIGNsYXNzPSJsaW5rIiBzdHlsZT0ic3Ryb2tlLXdpZHRoOiAwLjM3cHg7IHN0cm9rZS1vcGFjaXR5OiAxOyBzdHJva2U6IHJnYigyNTUsIDI1NSwgMjU1KTsgb3BhY2l0eTogMTsiIG1hcmtlci1lbmQ9IiIgZD0iTTYyOS4zMzMzMzMzMzMzMzM0LDQ1MiwgODA5LjMzMzMzMzMzMzMzMzQsMzc4Ij48L3BhdGg+PHBhdGggY2xhc3M9ImxpbmsiIHN0eWxlPSJzdHJva2Utd2lkdGg6IDAuMzdweDsgc3Ryb2tlLW9wYWNpdHk6IDE7IHN0cm9rZTogcmdiKDI1NSwgMjU1LCAyNTUpOyBvcGFjaXR5OiAxOyIgbWFya2VyLWVuZD0iIiBkPSJNNjI5LjMzMzMzMzMzMzMzMzQsNDUyLCA4MDkuMzMzMzMzMzMzMzMzNCw0MjAiPjwvcGF0aD48cGF0aCBjbGFzcz0ibGluayIgc3R5bGU9InN0cm9rZS13aWR0aDogMC4zN3B4OyBzdHJva2Utb3BhY2l0eTogMTsgc3Ryb2tlOiByZ2IoMjU1LCAyNTUsIDI1NSk7IG9wYWNpdHk6IDE7IiBtYXJrZXItZW5kPSIiIGQ9Ik02MjkuMzMzMzMzMzMzMzMzNCw1MDUsIDgwOS4zMzMzMzMzMzMzMzM0LDM3OCI+PC9wYXRoPjxwYXRoIGNsYXNzPSJsaW5rIiBzdHlsZT0ic3Ryb2tlLXdpZHRoOiAwLjM3cHg7IHN0cm9rZS1vcGFjaXR5OiAxOyBzdHJva2U6IHJnYigyNTUsIDI1NSwgMjU1KTsgb3BhY2l0eTogMTsiIG1hcmtlci1lbmQ9IiIgZD0iTTYyOS4zMzMzMzMzMzMzMzM0LDUwNSwgODA5LjMzMzMzMzMzMzMzMzQsNDIwIj48L3BhdGg+PGNpcmNsZSByPSIxMCIgY2xhc3M9Im5vZGUiIGlkPSIwXzAiIHN0eWxlPSJmaWxsOiByZ2IoMjU1LCAyNTUsIDI1NSk7IHN0cm9rZTogcmdiKDUxLCA1MSwgNTEpOyBvcGFjaXR5OiAxOyIgY3g9IjYyOS4zMzMzMzMzMzMzMzM0IiBjeT0iMjkzIj48L2NpcmNsZT48dGV4dCBjbGFzcz0idGV4dCIgZHk9Ii4zNWVtIiBzdHlsZT0iZm9udC1zaXplOiAxMnB4OyIgeD0iNTk0LjMzMzMzMzMzMzMzMzQiIHk9IjU0NSI+SW5wdXQgTGF5ZXIg4oiIIOKEneKBtTwvdGV4dD48Y2lyY2xlIHI9IjEwIiBjbGFzcz0ibm9kZSIgaWQ9IjBfMSIgc3R5bGU9ImZpbGw6IHJnYigyNTUsIDI1NSwgMjU1KTsgc3Ryb2tlOiByZ2IoNTEsIDUxLCA1MSk7IG9wYWNpdHk6IDE7IiBjeD0iNjI5LjMzMzMzMzMzMzMzMzQiIGN5PSIzNDYiPjwvY2lyY2xlPjxjaXJjbGUgcj0iMTAiIGNsYXNzPSJub2RlIiBpZD0iMF8yIiBzdHlsZT0iZmlsbDogcmdiKDI1NSwgMjU1LCAyNTUpOyBzdHJva2U6IHJnYig1MSwgNTEsIDUxKTsgb3BhY2l0eTogMTsiIGN4PSI2MjkuMzMzMzMzMzMzMzMzNCIgY3k9IjM5OSI+PC9jaXJjbGU+PGNpcmNsZSByPSIxMCIgY2xhc3M9Im5vZGUiIGlkPSIwXzMiIHN0eWxlPSJmaWxsOiByZ2IoMjU1LCAyNTUsIDI1NSk7IHN0cm9rZTogcmdiKDUxLCA1MSwgNTEpOyBvcGFjaXR5OiAxOyIgY3g9IjYyOS4zMzMzMzMzMzMzMzM0IiBjeT0iNDUyIj48L2NpcmNsZT48Y2lyY2xlIHI9IjEwIiBjbGFzcz0ibm9kZSIgaWQ9IjBfNCIgc3R5bGU9ImZpbGw6IHJnYigyNTUsIDI1NSwgMjU1KTsgc3Ryb2tlOiByZ2IoNTEsIDUxLCA1MSk7IG9wYWNpdHk6IDE7IiBjeD0iNjI5LjMzMzMzMzMzMzMzMzQiIGN5PSI1MDUiPjwvY2lyY2xlPjxjaXJjbGUgcj0iMTAiIGNsYXNzPSJub2RlIiBpZD0iMV8wIiBzdHlsZT0iZmlsbDogcmdiKDI1NSwgMjU1LCAyNTUpOyBzdHJva2U6IHJnYig1MSwgNTEsIDUxKTsgb3BhY2l0eTogMTsiIGN4PSI4MDkuMzMzMzMzMzMzMzMzNCIgY3k9IjM3OCI+PC9jaXJjbGU+PGNpcmNsZSByPSIxMCIgY2xhc3M9Im5vZGUiIGlkPSIxXzEiIHN0eWxlPSJmaWxsOiByZ2IoMjU1LCAyNTUsIDI1NSk7IHN0cm9rZTogcmdiKDUxLCA1MSwgNTEpOyBvcGFjaXR5OiAxOyIgY3g9IjgwOS4zMzMzMzMzMzMzMzM0IiBjeT0iNDIwIj48L2NpcmNsZT48dGV4dCBjbGFzcz0idGV4dCIgZHk9Ii4zNWVtIiBzdHlsZT0iZm9udC1zaXplOiAxMnB4OyIgeD0iNzc0LjMzMzMzMzMzMzMzMzQiIHk9IjU0NSI+T3V0cHV0IExheWVyIOKIiCDihJ3CsjwvdGV4dD48L2c+PGRlZnM+PG1hcmtlciBpZD0iYXJyb3ciIHZpZXdCb3g9IjAgLTUgMTAgMTAiIG1hcmtlcldpZHRoPSI3IiBtYXJrZXJIZWlnaHQ9IjciIG9yaWVudD0iYXV0byIgcmVmWD0iNDAiPjxwYXRoIGQ9Ik0wLC01TDEwLDBMMCw1IiBzdHlsZT0ic3Ryb2tlOiByZ2IoODAsIDgwLCA4MCk7IGZpbGw6IG5vbmU7Ij48L3BhdGg+PC9tYXJrZXI+PC9kZWZzPjwvc3ZnPg==)"
      ],
      "metadata": {
        "id": "EiZibiu7EBam"
      }
    },
    {
      "cell_type": "code",
      "source": [
        "#Linear\n",
        "#perform the operation linear.weight @ x + b\n",
        "in_size=5\n",
        "out_size=2\n",
        "linear=nn.Linear(in_size, out_size)\n",
        "\n",
        "print('Shape')\n",
        "print(linear.weight.shape)\n",
        "print(linear.bias.shape)\n",
        "\n",
        "x = torch.rand(in_size)\n",
        "\n",
        "res = linear.weight @  x + linear.bias\n",
        "\n",
        "print(f'Shape of Linear operation : {linear.weight.shape}  @  {x.shape}  + {linear.bias.shape} = {res.shape}')"
      ],
      "metadata": {
        "colab": {
          "base_uri": "https://localhost:8080/"
        },
        "id": "PxSNjAiPIu9Q",
        "outputId": "ccbef7b3-f7dd-473f-c7e5-2ca6e669693e"
      },
      "execution_count": 16,
      "outputs": [
        {
          "output_type": "stream",
          "name": "stdout",
          "text": [
            "Shape\n",
            "torch.Size([2, 5])\n",
            "torch.Size([2])\n",
            "Shape of Linear operation : torch.Size([2, 5])  @  torch.Size([5])  + torch.Size([2]) = torch.Size([2])\n"
          ]
        }
      ]
    },
    {
      "cell_type": "markdown",
      "source": [
        "Entrainement de notre modèle"
      ],
      "metadata": {
        "id": "OReWVMbXqsH4"
      }
    },
    {
      "cell_type": "code",
      "source": [
        "tab_learn.fit(1)"
      ],
      "metadata": {
        "id": "5E31BoA9HQm6",
        "outputId": "55fd0f1e-8f68-428c-c306-25814a2d898f",
        "colab": {
          "base_uri": "https://localhost:8080/",
          "height": 81
        }
      },
      "execution_count": 17,
      "outputs": [
        {
          "output_type": "display_data",
          "data": {
            "text/plain": [
              "<IPython.core.display.HTML object>"
            ],
            "text/html": [
              "\n",
              "<style>\n",
              "    /* Turns off some styling */\n",
              "    progress {\n",
              "        /* gets rid of default border in Firefox and Opera. */\n",
              "        border: none;\n",
              "        /* Needs to be in here for Safari polyfill so background images work as expected. */\n",
              "        background-size: auto;\n",
              "    }\n",
              "    progress:not([value]), progress:not([value])::-webkit-progress-bar {\n",
              "        background: repeating-linear-gradient(45deg, #7e7e7e, #7e7e7e 10px, #5c5c5c 10px, #5c5c5c 20px);\n",
              "    }\n",
              "    .progress-bar-interrupted, .progress-bar-interrupted::-webkit-progress-bar {\n",
              "        background: #F44336;\n",
              "    }\n",
              "</style>\n"
            ]
          },
          "metadata": {}
        },
        {
          "output_type": "display_data",
          "data": {
            "text/plain": [
              "<IPython.core.display.HTML object>"
            ],
            "text/html": [
              "<table border=\"1\" class=\"dataframe\">\n",
              "  <thead>\n",
              "    <tr style=\"text-align: left;\">\n",
              "      <th>epoch</th>\n",
              "      <th>train_loss</th>\n",
              "      <th>valid_loss</th>\n",
              "      <th>accuracy</th>\n",
              "      <th>time</th>\n",
              "    </tr>\n",
              "  </thead>\n",
              "  <tbody>\n",
              "    <tr>\n",
              "      <td>0</td>\n",
              "      <td>0.374574</td>\n",
              "      <td>0.362748</td>\n",
              "      <td>0.832310</td>\n",
              "      <td>00:06</td>\n",
              "    </tr>\n",
              "  </tbody>\n",
              "</table>"
            ]
          },
          "metadata": {}
        }
      ]
    },
    {
      "cell_type": "code",
      "source": [
        "\"\"\"\n",
        "Méthode 2)\n",
        "\"\"\"\n",
        "\n",
        "emb_szs = get_emb_sz(dls.train_ds, {}) #infer the size of embeddings from our data\n",
        "n_cont = len(dls.cont_names) #number of continous var\n",
        "n_out = get_c(dls) #infer the number of classes from our dataloader\n",
        "\n",
        "mymodel = TabularModel(emb_szs=emb_szs, n_cont=n_cont, out_sz=n_out, layers=[200,100])\n",
        "learn = Learner(dls, mymodel, metrics=accuracy)\n",
        "\n",
        "print('Model from Learner : ', learn.model)\n",
        "print('Model from tabular_learner : ', tab_learn.model)\n",
        "\n",
        "#tab_learn.model"
      ],
      "metadata": {
        "id": "wuASexPpCBx2"
      },
      "execution_count": null,
      "outputs": []
    },
    {
      "cell_type": "markdown",
      "source": [
        "## Exercice 3\n",
        "\n",
        "Entrainer le modèle défini par le Learner général"
      ],
      "metadata": {
        "id": "9WPzpoi2-cOY"
      }
    },
    {
      "cell_type": "code",
      "source": [
        "#Votre code ici"
      ],
      "metadata": {
        "id": "qj_w7OgT5BT_"
      },
      "execution_count": null,
      "outputs": []
    },
    {
      "cell_type": "markdown",
      "source": [
        "# Création de son propre réseau de neurones"
      ],
      "metadata": {
        "id": "sK1RQUknBs8O"
      }
    },
    {
      "cell_type": "markdown",
      "source": [
        "Il est possible de créer sa propre architecture de réseau de neurone grâce à la classe nn.Module de Pytorch qui regroupe des fonctionnalités sur lesquelles se base FastAI pour la définition du réseau\n",
        "\n",
        "Vous pouvez avoir la liste des couches spécifiques existantes dans la documentation de Pytorch https://pytorch.org/docs/stable/nn.html "
      ],
      "metadata": {
        "id": "rzqoC8IyBy5S"
      }
    },
    {
      "cell_type": "code",
      "source": [
        "class NeuralNetwork(nn.Module):\n",
        "  def __init__(self):\n",
        "    #Définition des opérations et couches du réseau\n",
        "    super(NeuralNetwork, self).__init__()\n",
        "    self.linear1 = nn.Linear(3, 10)\n",
        "    self.linear2 = nn.Linear(10, 2)\n",
        "  def forward(self, x):\n",
        "    #Application des opérations définies dans __init__ \n",
        "    x = self.linear1(x)\n",
        "    x = self.linear2(x)\n",
        "    return x"
      ],
      "metadata": {
        "id": "SltLST27Bre1"
      },
      "execution_count": 19,
      "outputs": []
    },
    {
      "cell_type": "code",
      "source": [
        "my_first_model = NeuralNetwork()\n",
        "\n",
        "x = torch.rand(3)\n",
        "out = my_first_model(x)\n",
        "\n",
        "print(out.shape)"
      ],
      "metadata": {
        "colab": {
          "base_uri": "https://localhost:8080/"
        },
        "id": "B5WrakZ7-maF",
        "outputId": "8769a950-f9b7-479a-fdc4-2709b12f6491"
      },
      "execution_count": 20,
      "outputs": [
        {
          "output_type": "stream",
          "name": "stdout",
          "text": [
            "torch.Size([2])\n"
          ]
        }
      ]
    },
    {
      "cell_type": "markdown",
      "source": [
        "## Exercice 4 \n",
        "\n",
        "Créez un réseau de neurones composées de 4 couches linéaires. Ce réseau permet de de classifier la classe (parmis 2) d'une modalité à partir de 10 données d'entrée. La taille des couches cachées et de 100 neurones.\n",
        "\n",
        "Testez si votre modèle fonctionne (pas d'erreur invoquée) à partir d'un vecteur random"
      ],
      "metadata": {
        "id": "hdJh-44nFL6H"
      }
    },
    {
      "cell_type": "code",
      "source": [
        "# Votre code"
      ],
      "metadata": {
        "id": "UijgY9k7F-1Y"
      },
      "execution_count": null,
      "outputs": []
    },
    {
      "cell_type": "markdown",
      "source": [
        "# Exercice 5\n",
        "Entraîner notre réseau à partir de données créées au sein de l'environnement"
      ],
      "metadata": {
        "id": "14kIUgS9KxHO"
      }
    },
    {
      "cell_type": "markdown",
      "source": [
        "1) Créer une matrice de nombres aléatoires de 1000 lignes, 10 colonnes\n",
        "\n",
        "Tips: fonction random.rand de numpy"
      ],
      "metadata": {
        "id": "mSyADQ4MW1UC"
      }
    },
    {
      "cell_type": "code",
      "source": [
        "# votre code"
      ],
      "metadata": {
        "id": "39wQvan2Ku5C"
      },
      "execution_count": null,
      "outputs": []
    },
    {
      "cell_type": "markdown",
      "source": [
        "2) Transformer notre matrice en dataframe et ajouter une colonne \"category\" contenant des booléens aléatoires\n",
        "\n",
        "Tips: fonction random.choice de numpy"
      ],
      "metadata": {
        "id": "d9-6FEhHZFcZ"
      }
    },
    {
      "cell_type": "code",
      "source": [
        "# votre code"
      ],
      "metadata": {
        "id": "uwpSer95Mm1z"
      },
      "execution_count": null,
      "outputs": []
    },
    {
      "cell_type": "markdown",
      "source": [
        "3) Créer un dls adapté à notre réseau \"Linear\"\n",
        "\n",
        "Tips: réflechir à l'utilité des embeddings"
      ],
      "metadata": {
        "id": "4vpB81JtZqek"
      }
    },
    {
      "cell_type": "code",
      "source": [
        "# votre code"
      ],
      "metadata": {
        "id": "Wn8mSECDPRFR"
      },
      "execution_count": null,
      "outputs": []
    },
    {
      "cell_type": "markdown",
      "source": [
        "4) Créer un modèle MLP contenant 1 couche cachée de 42 neurones\n",
        "\n",
        "Tips: l'entrée est composée des cat et des cont"
      ],
      "metadata": {
        "id": "yxDKHxw-Z-wu"
      }
    },
    {
      "cell_type": "code",
      "source": [
        "# votre code"
      ],
      "metadata": {
        "id": "U_NoeDp_P_pd"
      },
      "execution_count": 109,
      "outputs": []
    },
    {
      "cell_type": "markdown",
      "source": [
        "5) Entraîner le modèle sur 1 epoch"
      ],
      "metadata": {
        "id": "nGS-w5hGabLa"
      }
    },
    {
      "cell_type": "code",
      "source": [
        "# votre code"
      ],
      "metadata": {
        "id": "SW8R6cKWPZLW"
      },
      "execution_count": 110,
      "outputs": []
    }
  ],
  "metadata": {
    "colab": {
      "provenance": []
    },
    "kernelspec": {
      "display_name": "Python 3",
      "name": "python3"
    },
    "language_info": {
      "name": "python"
    },
    "gpuClass": "standard"
  },
  "nbformat": 4,
  "nbformat_minor": 0
}